{
 "cells": [
  {
   "cell_type": "code",
   "execution_count": 317,
   "metadata": {
    "colab": {
     "base_uri": "https://localhost:8080/",
     "height": 391
    },
    "id": "41VPUFha7aiq",
    "outputId": "1d475a10-530a-497a-85eb-b059de5e3771"
   },
   "outputs": [
    {
     "data": {
      "text/html": [
       "<div>\n",
       "<style scoped>\n",
       "    .dataframe tbody tr th:only-of-type {\n",
       "        vertical-align: middle;\n",
       "    }\n",
       "\n",
       "    .dataframe tbody tr th {\n",
       "        vertical-align: top;\n",
       "    }\n",
       "\n",
       "    .dataframe thead th {\n",
       "        text-align: right;\n",
       "    }\n",
       "</style>\n",
       "<table border=\"1\" class=\"dataframe\">\n",
       "  <thead>\n",
       "    <tr style=\"text-align: right;\">\n",
       "      <th></th>\n",
       "      <th>id</th>\n",
       "      <th>original_title</th>\n",
       "      <th>https://api.themoviedb.org/3/movie/popular?api_key=&lt;&lt;api_key&gt;&gt;&amp;language=en-US&amp;page=1</th>\n",
       "      <th>original_language</th>\n",
       "      <th>release_date</th>\n",
       "      <th>genre_ids</th>\n",
       "      <th>poster_path</th>\n",
       "      <th>vote_average</th>\n",
       "      <th>vote_count</th>\n",
       "    </tr>\n",
       "  </thead>\n",
       "  <tbody>\n",
       "    <tr>\n",
       "      <th>0</th>\n",
       "      <td>527774</td>\n",
       "      <td>Raya and the Last Dragon</td>\n",
       "      <td>Raya and the Last Dragon</td>\n",
       "      <td>en</td>\n",
       "      <td>2021-03-03</td>\n",
       "      <td>[16, 12, 14, 10751, 28, 18]</td>\n",
       "      <td>/lPsD10PP4rgUGiGR4CCXA6iY0QQ.jpg</td>\n",
       "      <td>8.6</td>\n",
       "      <td>823</td>\n",
       "    </tr>\n",
       "    <tr>\n",
       "      <th>1</th>\n",
       "      <td>587807</td>\n",
       "      <td>Tom &amp; Jerry</td>\n",
       "      <td>Tom &amp; Jerry</td>\n",
       "      <td>en</td>\n",
       "      <td>2021-02-11</td>\n",
       "      <td>[28, 35, 10751, 16, 12]</td>\n",
       "      <td>/6KErczPBROQty7QoIsaa6wJYXZi.jpg</td>\n",
       "      <td>7.7</td>\n",
       "      <td>738</td>\n",
       "    </tr>\n",
       "    <tr>\n",
       "      <th>2</th>\n",
       "      <td>484718</td>\n",
       "      <td>Coming 2 America</td>\n",
       "      <td>Coming 2 America</td>\n",
       "      <td>en</td>\n",
       "      <td>2021-03-05</td>\n",
       "      <td>[35]</td>\n",
       "      <td>/nWBPLkqNApY5pgrJFMiI9joSI30.jpg</td>\n",
       "      <td>7.1</td>\n",
       "      <td>592</td>\n",
       "    </tr>\n",
       "    <tr>\n",
       "      <th>3</th>\n",
       "      <td>458576</td>\n",
       "      <td>Monster Hunter</td>\n",
       "      <td>Monster Hunter</td>\n",
       "      <td>en</td>\n",
       "      <td>2020-12-03</td>\n",
       "      <td>[14, 28, 12]</td>\n",
       "      <td>/1UCOF11QCw8kcqvce8LKOO6pimh.jpg</td>\n",
       "      <td>7.3</td>\n",
       "      <td>1045</td>\n",
       "    </tr>\n",
       "    <tr>\n",
       "      <th>4</th>\n",
       "      <td>464052</td>\n",
       "      <td>Wonder Woman 1984</td>\n",
       "      <td>Wonder Woman 1984</td>\n",
       "      <td>en</td>\n",
       "      <td>2020-12-16</td>\n",
       "      <td>[14, 28, 12]</td>\n",
       "      <td>/8UlWHLMpgZm9bx6QYh0NFoq67TZ.jpg</td>\n",
       "      <td>6.9</td>\n",
       "      <td>4149</td>\n",
       "    </tr>\n",
       "    <tr>\n",
       "      <th>...</th>\n",
       "      <td>...</td>\n",
       "      <td>...</td>\n",
       "      <td>...</td>\n",
       "      <td>...</td>\n",
       "      <td>...</td>\n",
       "      <td>...</td>\n",
       "      <td>...</td>\n",
       "      <td>...</td>\n",
       "      <td>...</td>\n",
       "    </tr>\n",
       "    <tr>\n",
       "      <th>9995</th>\n",
       "      <td>66150</td>\n",
       "      <td>Life in a Day</td>\n",
       "      <td>Life in a Day</td>\n",
       "      <td>en</td>\n",
       "      <td>2011-01-27</td>\n",
       "      <td>[99, 18]</td>\n",
       "      <td>/kI2n9GnDhXaJfLHdcZvo69ZI1Nt.jpg</td>\n",
       "      <td>7.2</td>\n",
       "      <td>148</td>\n",
       "    </tr>\n",
       "    <tr>\n",
       "      <th>9996</th>\n",
       "      <td>14849</td>\n",
       "      <td>Dead Like Me: Life After Death</td>\n",
       "      <td>Dead Like Me: Life After Death</td>\n",
       "      <td>en</td>\n",
       "      <td>2009-02-17</td>\n",
       "      <td>[18, 14, 35]</td>\n",
       "      <td>/Ar7uTVlawrZRmLad0TrgkhxsTGP.jpg</td>\n",
       "      <td>6.1</td>\n",
       "      <td>135</td>\n",
       "    </tr>\n",
       "    <tr>\n",
       "      <th>9997</th>\n",
       "      <td>9442</td>\n",
       "      <td>Dead Men Don't Wear Plaid</td>\n",
       "      <td>Dead Men Don't Wear Plaid</td>\n",
       "      <td>en</td>\n",
       "      <td>1982-05-21</td>\n",
       "      <td>[35, 9648]</td>\n",
       "      <td>/pjqnVq8DevXTrjplhWOqNS7y75v.jpg</td>\n",
       "      <td>6.6</td>\n",
       "      <td>226</td>\n",
       "    </tr>\n",
       "    <tr>\n",
       "      <th>9998</th>\n",
       "      <td>135403</td>\n",
       "      <td>Freddie Mercury: The Great Pretender</td>\n",
       "      <td>Freddie Mercury: The Great Pretender</td>\n",
       "      <td>en</td>\n",
       "      <td>2012-09-25</td>\n",
       "      <td>[99, 10402]</td>\n",
       "      <td>/gsLxEqwSaMWMaZtOSw0ff5kB9kq.jpg</td>\n",
       "      <td>7.4</td>\n",
       "      <td>48</td>\n",
       "    </tr>\n",
       "    <tr>\n",
       "      <th>9999</th>\n",
       "      <td>38442</td>\n",
       "      <td>Hoří, má panenko</td>\n",
       "      <td>The Firemen's Ball</td>\n",
       "      <td>cs</td>\n",
       "      <td>1967-12-15</td>\n",
       "      <td>[35, 18]</td>\n",
       "      <td>/pWlRoLuwciGbCQ2hTtDoGDUoOUO.jpg</td>\n",
       "      <td>7.0</td>\n",
       "      <td>122</td>\n",
       "    </tr>\n",
       "  </tbody>\n",
       "</table>\n",
       "<p>10000 rows × 9 columns</p>\n",
       "</div>"
      ],
      "text/plain": [
       "          id                        original_title  ... vote_average vote_count\n",
       "0     527774              Raya and the Last Dragon  ...          8.6        823\n",
       "1     587807                           Tom & Jerry  ...          7.7        738\n",
       "2     484718                      Coming 2 America  ...          7.1        592\n",
       "3     458576                        Monster Hunter  ...          7.3       1045\n",
       "4     464052                     Wonder Woman 1984  ...          6.9       4149\n",
       "...      ...                                   ...  ...          ...        ...\n",
       "9995   66150                         Life in a Day  ...          7.2        148\n",
       "9996   14849        Dead Like Me: Life After Death  ...          6.1        135\n",
       "9997    9442             Dead Men Don't Wear Plaid  ...          6.6        226\n",
       "9998  135403  Freddie Mercury: The Great Pretender  ...          7.4         48\n",
       "9999   38442                      Hoří, má panenko  ...          7.0        122\n",
       "\n",
       "[10000 rows x 9 columns]"
      ]
     },
     "execution_count": 317,
     "metadata": {
      "tags": []
     },
     "output_type": "execute_result"
    }
   ],
   "source": [
    "import pandas as pd\n",
    "import numpy as np\n",
    "import matplotlib.pyplot as plt\n",
    "import seaborn as sns\n",
    "from ast import literal_eval\n",
    "\n",
    "#Movies DataFrame\n",
    "movies= pd.read_csv('movies - movies.csv')\n",
    "movies\n",
    "\n",
    "\n",
    "\n",
    "\n"
   ]
  },
  {
   "cell_type": "markdown",
   "metadata": {
    "id": "DLJYp3DX_mau"
   },
   "source": [
    "### Check null values"
   ]
  },
  {
   "cell_type": "code",
   "execution_count": 318,
   "metadata": {
    "colab": {
     "base_uri": "https://localhost:8080/"
    },
    "id": "gXw6l_k1_4Lm",
    "outputId": "7f738ec3-b75d-4037-900b-59903b529fd6"
   },
   "outputs": [
    {
     "data": {
      "text/plain": [
       "id                                                                                       0\n",
       "original_title                                                                           0\n",
       "https://api.themoviedb.org/3/movie/popular?api_key=<<api_key>>&language=en-US&page=1     0\n",
       "original_language                                                                        0\n",
       "release_date                                                                            26\n",
       "genre_ids                                                                                0\n",
       "poster_path                                                                             46\n",
       "vote_average                                                                             0\n",
       "vote_count                                                                               0\n",
       "dtype: int64"
      ]
     },
     "execution_count": 318,
     "metadata": {
      "tags": []
     },
     "output_type": "execute_result"
    }
   ],
   "source": [
    "\n",
    "movies.isnull().sum()"
   ]
  },
  {
   "cell_type": "code",
   "execution_count": 319,
   "metadata": {
    "id": "6MwTpAV0L9AL"
   },
   "outputs": [],
   "source": [
    "# there are movies without gender \n",
    "movies = movies.drop(movies[movies['genre_ids']=='[]'].index)\n"
   ]
  },
  {
   "cell_type": "code",
   "execution_count": 320,
   "metadata": {
    "colab": {
     "base_uri": "https://localhost:8080/",
     "height": 47
    },
    "id": "UWCq93QHNcv4",
    "outputId": "e0f49614-de69-41b4-882e-cac3a53da2df"
   },
   "outputs": [
    {
     "data": {
      "text/html": [
       "<div>\n",
       "<style scoped>\n",
       "    .dataframe tbody tr th:only-of-type {\n",
       "        vertical-align: middle;\n",
       "    }\n",
       "\n",
       "    .dataframe tbody tr th {\n",
       "        vertical-align: top;\n",
       "    }\n",
       "\n",
       "    .dataframe thead th {\n",
       "        text-align: right;\n",
       "    }\n",
       "</style>\n",
       "<table border=\"1\" class=\"dataframe\">\n",
       "  <thead>\n",
       "    <tr style=\"text-align: right;\">\n",
       "      <th></th>\n",
       "      <th>id</th>\n",
       "      <th>original_title</th>\n",
       "      <th>https://api.themoviedb.org/3/movie/popular?api_key=&lt;&lt;api_key&gt;&gt;&amp;language=en-US&amp;page=1</th>\n",
       "      <th>original_language</th>\n",
       "      <th>release_date</th>\n",
       "      <th>genre_ids</th>\n",
       "      <th>poster_path</th>\n",
       "      <th>vote_average</th>\n",
       "      <th>vote_count</th>\n",
       "    </tr>\n",
       "  </thead>\n",
       "  <tbody>\n",
       "  </tbody>\n",
       "</table>\n",
       "</div>"
      ],
      "text/plain": [
       "Empty DataFrame\n",
       "Columns: [id, original_title, https://api.themoviedb.org/3/movie/popular?api_key=<<api_key>>&language=en-US&page=1, original_language, release_date, genre_ids, poster_path, vote_average, vote_count]\n",
       "Index: []"
      ]
     },
     "execution_count": 320,
     "metadata": {
      "tags": []
     },
     "output_type": "execute_result"
    }
   ],
   "source": [
    "movies[movies['genre_ids']=='[]']"
   ]
  },
  {
   "cell_type": "code",
   "execution_count": 321,
   "metadata": {
    "id": "Bo9su9fUN8OX"
   },
   "outputs": [],
   "source": [
    "# The list is a list of integers  , reason why a I made this function .\n",
    "\n",
    "map_gender={\"28\":\"Action\",\n",
    "\"12\":\"Adventure\",\n",
    "\"16\":\"Animation\",\n",
    "\"35\":\"Comedy\",\n",
    "\"80\":\"Crime\",\n",
    "\"99\":\"Documentary\",\n",
    "\"18\":\"Drama\",\n",
    "\"10751\":\"Family\",\n",
    "\"14\":\"Fantasy\",\n",
    "\"36\":\t\"History\",\n",
    "\"27\":\"Horror\",\n",
    "\"10402\"\t:\"Music\",\n",
    "\"9648\":\"Mystery\",\n",
    "\"10749\":\"Romance\",\n",
    "\"878\"\t:\"Science Fiction\",\n",
    "\"10770\":\"TV Movie\",\n",
    "\"53\":\"Thriller\",\n",
    "\"10752\":\"War\",\n",
    "\"37\":\"Western\" }\n",
    "\n",
    "def map_multiclass(x):\n",
    "  \n",
    "  tmp=[]  \n",
    "  \n",
    "\n",
    "  for y in x.split(\",\"):\n",
    "   \n",
    "    y=y.replace('[', '') \n",
    "    y=y.replace(']', '') \n",
    "    y=y.replace(' ', '') \n",
    " \n",
    "    if y in map_gender:\n",
    "     tmp.append(map_gender[y])\n",
    " \n",
    "\n",
    "\n",
    "  return ','.join(tmp)\n",
    "\n",
    "\n",
    "#movies['genre_ids'].apply(lambda x: [ y for y in x])#ReOrg2021\n",
    "#movies['genre_ids'].apply(lambda x: [map_gender.get(y) for y in x.split(\",\")] )\n",
    "movies['genre_ids2']=movies['genre_ids'].apply(lambda x: map_multiclass(x))\n",
    "\n"
   ]
  },
  {
   "cell_type": "code",
   "execution_count": 322,
   "metadata": {
    "colab": {
     "base_uri": "https://localhost:8080/",
     "height": 472
    },
    "id": "QZx-viuwel-b",
    "outputId": "f1b5610e-1c11-41aa-9754-d48f4294cc92"
   },
   "outputs": [
    {
     "data": {
      "text/html": [
       "<div>\n",
       "<style scoped>\n",
       "    .dataframe tbody tr th:only-of-type {\n",
       "        vertical-align: middle;\n",
       "    }\n",
       "\n",
       "    .dataframe tbody tr th {\n",
       "        vertical-align: top;\n",
       "    }\n",
       "\n",
       "    .dataframe thead th {\n",
       "        text-align: right;\n",
       "    }\n",
       "</style>\n",
       "<table border=\"1\" class=\"dataframe\">\n",
       "  <thead>\n",
       "    <tr style=\"text-align: right;\">\n",
       "      <th></th>\n",
       "      <th>id</th>\n",
       "      <th>original_title</th>\n",
       "      <th>https://api.themoviedb.org/3/movie/popular?api_key=&lt;&lt;api_key&gt;&gt;&amp;language=en-US&amp;page=1</th>\n",
       "      <th>original_language</th>\n",
       "      <th>release_date</th>\n",
       "      <th>genre_ids</th>\n",
       "      <th>poster_path</th>\n",
       "      <th>vote_average</th>\n",
       "      <th>vote_count</th>\n",
       "      <th>genre_ids2</th>\n",
       "    </tr>\n",
       "  </thead>\n",
       "  <tbody>\n",
       "    <tr>\n",
       "      <th>0</th>\n",
       "      <td>527774</td>\n",
       "      <td>Raya and the Last Dragon</td>\n",
       "      <td>Raya and the Last Dragon</td>\n",
       "      <td>en</td>\n",
       "      <td>2021-03-03</td>\n",
       "      <td>[16, 12, 14, 10751, 28, 18]</td>\n",
       "      <td>/lPsD10PP4rgUGiGR4CCXA6iY0QQ.jpg</td>\n",
       "      <td>8.6</td>\n",
       "      <td>823</td>\n",
       "      <td>Animation,Adventure,Fantasy,Family,Action,Drama</td>\n",
       "    </tr>\n",
       "    <tr>\n",
       "      <th>1</th>\n",
       "      <td>587807</td>\n",
       "      <td>Tom &amp; Jerry</td>\n",
       "      <td>Tom &amp; Jerry</td>\n",
       "      <td>en</td>\n",
       "      <td>2021-02-11</td>\n",
       "      <td>[28, 35, 10751, 16, 12]</td>\n",
       "      <td>/6KErczPBROQty7QoIsaa6wJYXZi.jpg</td>\n",
       "      <td>7.7</td>\n",
       "      <td>738</td>\n",
       "      <td>Action,Comedy,Family,Animation,Adventure</td>\n",
       "    </tr>\n",
       "    <tr>\n",
       "      <th>2</th>\n",
       "      <td>484718</td>\n",
       "      <td>Coming 2 America</td>\n",
       "      <td>Coming 2 America</td>\n",
       "      <td>en</td>\n",
       "      <td>2021-03-05</td>\n",
       "      <td>[35]</td>\n",
       "      <td>/nWBPLkqNApY5pgrJFMiI9joSI30.jpg</td>\n",
       "      <td>7.1</td>\n",
       "      <td>592</td>\n",
       "      <td>Comedy</td>\n",
       "    </tr>\n",
       "    <tr>\n",
       "      <th>3</th>\n",
       "      <td>458576</td>\n",
       "      <td>Monster Hunter</td>\n",
       "      <td>Monster Hunter</td>\n",
       "      <td>en</td>\n",
       "      <td>2020-12-03</td>\n",
       "      <td>[14, 28, 12]</td>\n",
       "      <td>/1UCOF11QCw8kcqvce8LKOO6pimh.jpg</td>\n",
       "      <td>7.3</td>\n",
       "      <td>1045</td>\n",
       "      <td>Fantasy,Action,Adventure</td>\n",
       "    </tr>\n",
       "    <tr>\n",
       "      <th>4</th>\n",
       "      <td>464052</td>\n",
       "      <td>Wonder Woman 1984</td>\n",
       "      <td>Wonder Woman 1984</td>\n",
       "      <td>en</td>\n",
       "      <td>2020-12-16</td>\n",
       "      <td>[14, 28, 12]</td>\n",
       "      <td>/8UlWHLMpgZm9bx6QYh0NFoq67TZ.jpg</td>\n",
       "      <td>6.9</td>\n",
       "      <td>4149</td>\n",
       "      <td>Fantasy,Action,Adventure</td>\n",
       "    </tr>\n",
       "    <tr>\n",
       "      <th>...</th>\n",
       "      <td>...</td>\n",
       "      <td>...</td>\n",
       "      <td>...</td>\n",
       "      <td>...</td>\n",
       "      <td>...</td>\n",
       "      <td>...</td>\n",
       "      <td>...</td>\n",
       "      <td>...</td>\n",
       "      <td>...</td>\n",
       "      <td>...</td>\n",
       "    </tr>\n",
       "    <tr>\n",
       "      <th>9995</th>\n",
       "      <td>66150</td>\n",
       "      <td>Life in a Day</td>\n",
       "      <td>Life in a Day</td>\n",
       "      <td>en</td>\n",
       "      <td>2011-01-27</td>\n",
       "      <td>[99, 18]</td>\n",
       "      <td>/kI2n9GnDhXaJfLHdcZvo69ZI1Nt.jpg</td>\n",
       "      <td>7.2</td>\n",
       "      <td>148</td>\n",
       "      <td>Documentary,Drama</td>\n",
       "    </tr>\n",
       "    <tr>\n",
       "      <th>9996</th>\n",
       "      <td>14849</td>\n",
       "      <td>Dead Like Me: Life After Death</td>\n",
       "      <td>Dead Like Me: Life After Death</td>\n",
       "      <td>en</td>\n",
       "      <td>2009-02-17</td>\n",
       "      <td>[18, 14, 35]</td>\n",
       "      <td>/Ar7uTVlawrZRmLad0TrgkhxsTGP.jpg</td>\n",
       "      <td>6.1</td>\n",
       "      <td>135</td>\n",
       "      <td>Drama,Fantasy,Comedy</td>\n",
       "    </tr>\n",
       "    <tr>\n",
       "      <th>9997</th>\n",
       "      <td>9442</td>\n",
       "      <td>Dead Men Don't Wear Plaid</td>\n",
       "      <td>Dead Men Don't Wear Plaid</td>\n",
       "      <td>en</td>\n",
       "      <td>1982-05-21</td>\n",
       "      <td>[35, 9648]</td>\n",
       "      <td>/pjqnVq8DevXTrjplhWOqNS7y75v.jpg</td>\n",
       "      <td>6.6</td>\n",
       "      <td>226</td>\n",
       "      <td>Comedy,Mystery</td>\n",
       "    </tr>\n",
       "    <tr>\n",
       "      <th>9998</th>\n",
       "      <td>135403</td>\n",
       "      <td>Freddie Mercury: The Great Pretender</td>\n",
       "      <td>Freddie Mercury: The Great Pretender</td>\n",
       "      <td>en</td>\n",
       "      <td>2012-09-25</td>\n",
       "      <td>[99, 10402]</td>\n",
       "      <td>/gsLxEqwSaMWMaZtOSw0ff5kB9kq.jpg</td>\n",
       "      <td>7.4</td>\n",
       "      <td>48</td>\n",
       "      <td>Documentary,Music</td>\n",
       "    </tr>\n",
       "    <tr>\n",
       "      <th>9999</th>\n",
       "      <td>38442</td>\n",
       "      <td>Hoří, má panenko</td>\n",
       "      <td>The Firemen's Ball</td>\n",
       "      <td>cs</td>\n",
       "      <td>1967-12-15</td>\n",
       "      <td>[35, 18]</td>\n",
       "      <td>/pWlRoLuwciGbCQ2hTtDoGDUoOUO.jpg</td>\n",
       "      <td>7.0</td>\n",
       "      <td>122</td>\n",
       "      <td>Comedy,Drama</td>\n",
       "    </tr>\n",
       "  </tbody>\n",
       "</table>\n",
       "<p>9928 rows × 10 columns</p>\n",
       "</div>"
      ],
      "text/plain": [
       "          id  ...                                       genre_ids2\n",
       "0     527774  ...  Animation,Adventure,Fantasy,Family,Action,Drama\n",
       "1     587807  ...         Action,Comedy,Family,Animation,Adventure\n",
       "2     484718  ...                                           Comedy\n",
       "3     458576  ...                         Fantasy,Action,Adventure\n",
       "4     464052  ...                         Fantasy,Action,Adventure\n",
       "...      ...  ...                                              ...\n",
       "9995   66150  ...                                Documentary,Drama\n",
       "9996   14849  ...                             Drama,Fantasy,Comedy\n",
       "9997    9442  ...                                   Comedy,Mystery\n",
       "9998  135403  ...                                Documentary,Music\n",
       "9999   38442  ...                                     Comedy,Drama\n",
       "\n",
       "[9928 rows x 10 columns]"
      ]
     },
     "execution_count": 322,
     "metadata": {
      "tags": []
     },
     "output_type": "execute_result"
    }
   ],
   "source": [
    "movies"
   ]
  },
  {
   "cell_type": "markdown",
   "metadata": {
    "id": "pJBbYhPM_q7d"
   },
   "source": [
    "## Dist of genders"
   ]
  },
  {
   "cell_type": "markdown",
   "metadata": {
    "id": "793IeKCECYe6"
   },
   "source": [
    "## Toop 30 multiclasses"
   ]
  },
  {
   "cell_type": "code",
   "execution_count": 323,
   "metadata": {
    "colab": {
     "base_uri": "https://localhost:8080/",
     "height": 910
    },
    "id": "6k9OO8qRIh7C",
    "outputId": "386487dc-c0fb-426e-959b-a757d90c7273"
   },
   "outputs": [
    {
     "data": {
      "text/html": [
       "<div>\n",
       "<style scoped>\n",
       "    .dataframe tbody tr th:only-of-type {\n",
       "        vertical-align: middle;\n",
       "    }\n",
       "\n",
       "    .dataframe tbody tr th {\n",
       "        vertical-align: top;\n",
       "    }\n",
       "\n",
       "    .dataframe thead th {\n",
       "        text-align: right;\n",
       "    }\n",
       "</style>\n",
       "<table border=\"1\" class=\"dataframe\">\n",
       "  <thead>\n",
       "    <tr style=\"text-align: right;\">\n",
       "      <th></th>\n",
       "      <th>Multiclass</th>\n",
       "      <th>genre_ids2</th>\n",
       "    </tr>\n",
       "  </thead>\n",
       "  <tbody>\n",
       "    <tr>\n",
       "      <th>0</th>\n",
       "      <td>Drama</td>\n",
       "      <td>0.051974</td>\n",
       "    </tr>\n",
       "    <tr>\n",
       "      <th>1</th>\n",
       "      <td>Comedy</td>\n",
       "      <td>0.046938</td>\n",
       "    </tr>\n",
       "    <tr>\n",
       "      <th>2</th>\n",
       "      <td>Horror</td>\n",
       "      <td>0.025886</td>\n",
       "    </tr>\n",
       "    <tr>\n",
       "      <th>3</th>\n",
       "      <td>Drama,Romance</td>\n",
       "      <td>0.023872</td>\n",
       "    </tr>\n",
       "    <tr>\n",
       "      <th>4</th>\n",
       "      <td>Horror,Thriller</td>\n",
       "      <td>0.021757</td>\n",
       "    </tr>\n",
       "    <tr>\n",
       "      <th>5</th>\n",
       "      <td>Comedy,Romance</td>\n",
       "      <td>0.020850</td>\n",
       "    </tr>\n",
       "    <tr>\n",
       "      <th>6</th>\n",
       "      <td>Documentary</td>\n",
       "      <td>0.019541</td>\n",
       "    </tr>\n",
       "    <tr>\n",
       "      <th>7</th>\n",
       "      <td>Comedy,Drama</td>\n",
       "      <td>0.016418</td>\n",
       "    </tr>\n",
       "    <tr>\n",
       "      <th>8</th>\n",
       "      <td>Comedy,Drama,Romance</td>\n",
       "      <td>0.013799</td>\n",
       "    </tr>\n",
       "    <tr>\n",
       "      <th>9</th>\n",
       "      <td>Action,Thriller</td>\n",
       "      <td>0.012994</td>\n",
       "    </tr>\n",
       "    <tr>\n",
       "      <th>10</th>\n",
       "      <td>Action</td>\n",
       "      <td>0.011281</td>\n",
       "    </tr>\n",
       "    <tr>\n",
       "      <th>11</th>\n",
       "      <td>Drama,Thriller</td>\n",
       "      <td>0.011180</td>\n",
       "    </tr>\n",
       "    <tr>\n",
       "      <th>12</th>\n",
       "      <td>Thriller</td>\n",
       "      <td>0.010274</td>\n",
       "    </tr>\n",
       "    <tr>\n",
       "      <th>13</th>\n",
       "      <td>Animation,Family</td>\n",
       "      <td>0.007957</td>\n",
       "    </tr>\n",
       "    <tr>\n",
       "      <th>14</th>\n",
       "      <td>Comedy,Family</td>\n",
       "      <td>0.007454</td>\n",
       "    </tr>\n",
       "    <tr>\n",
       "      <th>15</th>\n",
       "      <td>Drama,History</td>\n",
       "      <td>0.007051</td>\n",
       "    </tr>\n",
       "    <tr>\n",
       "      <th>16</th>\n",
       "      <td>Action,Crime,Thriller</td>\n",
       "      <td>0.006950</td>\n",
       "    </tr>\n",
       "    <tr>\n",
       "      <th>17</th>\n",
       "      <td>Action,Comedy</td>\n",
       "      <td>0.006446</td>\n",
       "    </tr>\n",
       "    <tr>\n",
       "      <th>18</th>\n",
       "      <td>Crime,Drama,Thriller</td>\n",
       "      <td>0.006245</td>\n",
       "    </tr>\n",
       "    <tr>\n",
       "      <th>19</th>\n",
       "      <td>Drama,Comedy</td>\n",
       "      <td>0.006044</td>\n",
       "    </tr>\n",
       "    <tr>\n",
       "      <th>20</th>\n",
       "      <td>Romance,Drama</td>\n",
       "      <td>0.006044</td>\n",
       "    </tr>\n",
       "    <tr>\n",
       "      <th>21</th>\n",
       "      <td>Romance,Comedy</td>\n",
       "      <td>0.005741</td>\n",
       "    </tr>\n",
       "    <tr>\n",
       "      <th>22</th>\n",
       "      <td>Comedy,Horror</td>\n",
       "      <td>0.005439</td>\n",
       "    </tr>\n",
       "    <tr>\n",
       "      <th>23</th>\n",
       "      <td>Thriller,Horror</td>\n",
       "      <td>0.005439</td>\n",
       "    </tr>\n",
       "    <tr>\n",
       "      <th>24</th>\n",
       "      <td>Crime,Drama</td>\n",
       "      <td>0.005338</td>\n",
       "    </tr>\n",
       "    <tr>\n",
       "      <th>25</th>\n",
       "      <td>Comedy,Crime</td>\n",
       "      <td>0.005137</td>\n",
       "    </tr>\n",
       "    <tr>\n",
       "      <th>26</th>\n",
       "      <td>Horror,Mystery,Thriller</td>\n",
       "      <td>0.005036</td>\n",
       "    </tr>\n",
       "    <tr>\n",
       "      <th>27</th>\n",
       "      <td>Action,Crime,Drama,Thriller</td>\n",
       "      <td>0.004230</td>\n",
       "    </tr>\n",
       "    <tr>\n",
       "      <th>28</th>\n",
       "      <td>Action,Adventure,Science Fiction</td>\n",
       "      <td>0.004230</td>\n",
       "    </tr>\n",
       "    <tr>\n",
       "      <th>29</th>\n",
       "      <td>Animation,Comedy,Family</td>\n",
       "      <td>0.004130</td>\n",
       "    </tr>\n",
       "  </tbody>\n",
       "</table>\n",
       "</div>"
      ],
      "text/plain": [
       "                          Multiclass  genre_ids2\n",
       "0                              Drama    0.051974\n",
       "1                             Comedy    0.046938\n",
       "2                             Horror    0.025886\n",
       "3                      Drama,Romance    0.023872\n",
       "4                    Horror,Thriller    0.021757\n",
       "5                     Comedy,Romance    0.020850\n",
       "6                        Documentary    0.019541\n",
       "7                       Comedy,Drama    0.016418\n",
       "8               Comedy,Drama,Romance    0.013799\n",
       "9                    Action,Thriller    0.012994\n",
       "10                            Action    0.011281\n",
       "11                    Drama,Thriller    0.011180\n",
       "12                          Thriller    0.010274\n",
       "13                  Animation,Family    0.007957\n",
       "14                     Comedy,Family    0.007454\n",
       "15                     Drama,History    0.007051\n",
       "16             Action,Crime,Thriller    0.006950\n",
       "17                     Action,Comedy    0.006446\n",
       "18              Crime,Drama,Thriller    0.006245\n",
       "19                      Drama,Comedy    0.006044\n",
       "20                     Romance,Drama    0.006044\n",
       "21                    Romance,Comedy    0.005741\n",
       "22                     Comedy,Horror    0.005439\n",
       "23                   Thriller,Horror    0.005439\n",
       "24                       Crime,Drama    0.005338\n",
       "25                      Comedy,Crime    0.005137\n",
       "26           Horror,Mystery,Thriller    0.005036\n",
       "27       Action,Crime,Drama,Thriller    0.004230\n",
       "28  Action,Adventure,Science Fiction    0.004230\n",
       "29           Animation,Comedy,Family    0.004130"
      ]
     },
     "execution_count": 323,
     "metadata": {
      "tags": []
     },
     "output_type": "execute_result"
    }
   ],
   "source": [
    "top30=pd.DataFrame(movies.genre_ids2.value_counts(normalize=True).sort_values(ascending=False)[0:30]).reset_index().rename(columns={'index': 'Multiclass'})\n",
    "top30"
   ]
  },
  {
   "cell_type": "code",
   "execution_count": 324,
   "metadata": {
    "colab": {
     "base_uri": "https://localhost:8080/",
     "height": 1000
    },
    "id": "dNoI2SnKGkmv",
    "outputId": "aa82e6f1-2e13-47a0-ca5d-f5de511fefe8"
   },
   "outputs": [
    {
     "data": {
      "text/plain": [
       "([0,\n",
       "  1,\n",
       "  2,\n",
       "  3,\n",
       "  4,\n",
       "  5,\n",
       "  6,\n",
       "  7,\n",
       "  8,\n",
       "  9,\n",
       "  10,\n",
       "  11,\n",
       "  12,\n",
       "  13,\n",
       "  14,\n",
       "  15,\n",
       "  16,\n",
       "  17,\n",
       "  18,\n",
       "  19,\n",
       "  20,\n",
       "  21,\n",
       "  22,\n",
       "  23,\n",
       "  24,\n",
       "  25,\n",
       "  26,\n",
       "  27,\n",
       "  28,\n",
       "  29],\n",
       " <a list of 30 Text major ticklabel objects>)"
      ]
     },
     "execution_count": 324,
     "metadata": {
      "tags": []
     },
     "output_type": "execute_result"
    },
    {
     "data": {
      "image/png": "[encoded data removed]",
      "text/plain": [
       "<Figure size 2160x720 with 1 Axes>"
      ]
     },
     "metadata": {
      "needs_background": "light",
      "tags": []
     },
     "output_type": "display_data"
    }
   ],
   "source": [
    "\n",
    "plt.figure(figsize=(30,10)) \n",
    "plt.bar(top30.Multiclass,top30.genre_ids2)\n",
    "plt.xticks(rotation=45) "
   ]
  },
  {
   "cell_type": "markdown",
   "metadata": {
    "id": "GiiF_TIDK5hf"
   },
   "source": [
    "## Review gender name  Explode the gender list in x rows to make a class and not multiclass"
   ]
  },
  {
   "cell_type": "code",
   "execution_count": 325,
   "metadata": {
    "colab": {
     "base_uri": "https://localhost:8080/",
     "height": 220
    },
    "id": "jlynNast-KOr",
    "outputId": "8b7f7f41-3a84-42e8-bbd2-d04ff3c09879"
   },
   "outputs": [
    {
     "data": {
      "text/html": [
       "<div>\n",
       "<style scoped>\n",
       "    .dataframe tbody tr th:only-of-type {\n",
       "        vertical-align: middle;\n",
       "    }\n",
       "\n",
       "    .dataframe tbody tr th {\n",
       "        vertical-align: top;\n",
       "    }\n",
       "\n",
       "    .dataframe thead th {\n",
       "        text-align: right;\n",
       "    }\n",
       "</style>\n",
       "<table border=\"1\" class=\"dataframe\">\n",
       "  <thead>\n",
       "    <tr style=\"text-align: right;\">\n",
       "      <th></th>\n",
       "      <th>id</th>\n",
       "      <th>original_title</th>\n",
       "      <th>https://api.themoviedb.org/3/movie/popular?api_key=&lt;&lt;api_key&gt;&gt;&amp;language=en-US&amp;page=1</th>\n",
       "      <th>original_language</th>\n",
       "      <th>release_date</th>\n",
       "      <th>genre_ids</th>\n",
       "      <th>poster_path</th>\n",
       "      <th>vote_average</th>\n",
       "      <th>vote_count</th>\n",
       "    </tr>\n",
       "  </thead>\n",
       "  <tbody>\n",
       "    <tr>\n",
       "      <th>0</th>\n",
       "      <td>527774</td>\n",
       "      <td>Raya and the Last Dragon</td>\n",
       "      <td>Raya and the Last Dragon</td>\n",
       "      <td>en</td>\n",
       "      <td>2021-03-03</td>\n",
       "      <td>16</td>\n",
       "      <td>/lPsD10PP4rgUGiGR4CCXA6iY0QQ.jpg</td>\n",
       "      <td>8.6</td>\n",
       "      <td>823</td>\n",
       "    </tr>\n",
       "    <tr>\n",
       "      <th>0</th>\n",
       "      <td>527774</td>\n",
       "      <td>Raya and the Last Dragon</td>\n",
       "      <td>Raya and the Last Dragon</td>\n",
       "      <td>en</td>\n",
       "      <td>2021-03-03</td>\n",
       "      <td>12</td>\n",
       "      <td>/lPsD10PP4rgUGiGR4CCXA6iY0QQ.jpg</td>\n",
       "      <td>8.6</td>\n",
       "      <td>823</td>\n",
       "    </tr>\n",
       "    <tr>\n",
       "      <th>0</th>\n",
       "      <td>527774</td>\n",
       "      <td>Raya and the Last Dragon</td>\n",
       "      <td>Raya and the Last Dragon</td>\n",
       "      <td>en</td>\n",
       "      <td>2021-03-03</td>\n",
       "      <td>14</td>\n",
       "      <td>/lPsD10PP4rgUGiGR4CCXA6iY0QQ.jpg</td>\n",
       "      <td>8.6</td>\n",
       "      <td>823</td>\n",
       "    </tr>\n",
       "    <tr>\n",
       "      <th>0</th>\n",
       "      <td>527774</td>\n",
       "      <td>Raya and the Last Dragon</td>\n",
       "      <td>Raya and the Last Dragon</td>\n",
       "      <td>en</td>\n",
       "      <td>2021-03-03</td>\n",
       "      <td>10751</td>\n",
       "      <td>/lPsD10PP4rgUGiGR4CCXA6iY0QQ.jpg</td>\n",
       "      <td>8.6</td>\n",
       "      <td>823</td>\n",
       "    </tr>\n",
       "    <tr>\n",
       "      <th>0</th>\n",
       "      <td>527774</td>\n",
       "      <td>Raya and the Last Dragon</td>\n",
       "      <td>Raya and the Last Dragon</td>\n",
       "      <td>en</td>\n",
       "      <td>2021-03-03</td>\n",
       "      <td>28</td>\n",
       "      <td>/lPsD10PP4rgUGiGR4CCXA6iY0QQ.jpg</td>\n",
       "      <td>8.6</td>\n",
       "      <td>823</td>\n",
       "    </tr>\n",
       "    <tr>\n",
       "      <th>0</th>\n",
       "      <td>527774</td>\n",
       "      <td>Raya and the Last Dragon</td>\n",
       "      <td>Raya and the Last Dragon</td>\n",
       "      <td>en</td>\n",
       "      <td>2021-03-03</td>\n",
       "      <td>18</td>\n",
       "      <td>/lPsD10PP4rgUGiGR4CCXA6iY0QQ.jpg</td>\n",
       "      <td>8.6</td>\n",
       "      <td>823</td>\n",
       "    </tr>\n",
       "  </tbody>\n",
       "</table>\n",
       "</div>"
      ],
      "text/plain": [
       "       id            original_title  ... vote_average vote_count\n",
       "0  527774  Raya and the Last Dragon  ...          8.6        823\n",
       "0  527774  Raya and the Last Dragon  ...          8.6        823\n",
       "0  527774  Raya and the Last Dragon  ...          8.6        823\n",
       "0  527774  Raya and the Last Dragon  ...          8.6        823\n",
       "0  527774  Raya and the Last Dragon  ...          8.6        823\n",
       "0  527774  Raya and the Last Dragon  ...          8.6        823\n",
       "\n",
       "[6 rows x 9 columns]"
      ]
     },
     "execution_count": 325,
     "metadata": {
      "tags": []
     },
     "output_type": "execute_result"
    }
   ],
   "source": [
    "movies= pd.read_csv('movies - movies.csv')\n",
    "\n",
    "movies['genre_ids'] = movies['genre_ids'].apply(literal_eval) #convert to list type type was extrange in the excel\n",
    "movie_gender=movies.explode('genre_ids')\n",
    "\n",
    "movie_gender[movie_gender.original_title=='Raya and the Last Dragon']\n",
    "\n",
    "# the movie is x times depend on the gender "
   ]
  },
  {
   "cell_type": "code",
   "execution_count": 326,
   "metadata": {
    "colab": {
     "base_uri": "https://localhost:8080/"
    },
    "id": "7-ekEwLtHrX9",
    "outputId": "c8b8d1a7-5e12-4f07-89b0-266f6b3cb5c7"
   },
   "outputs": [
    {
     "data": {
      "text/plain": [
       "(25830, 9)"
      ]
     },
     "execution_count": 326,
     "metadata": {
      "tags": []
     },
     "output_type": "execute_result"
    }
   ],
   "source": [
    "movie_gender.shape"
   ]
  },
  {
   "cell_type": "markdown",
   "metadata": {
    "id": "bV1TPHXVG_NU"
   },
   "source": [
    "## merge both datasets"
   ]
  },
  {
   "cell_type": "code",
   "execution_count": 327,
   "metadata": {
    "id": "L_T8PJgd_D61"
   },
   "outputs": [],
   "source": [
    "gender_list= pd.read_csv('movie_genres - movie_genres.csv')"
   ]
  },
  {
   "cell_type": "code",
   "execution_count": 328,
   "metadata": {
    "id": "-g3j3aFV_Tlq"
   },
   "outputs": [],
   "source": [
    "movie_gender_name=pd.merge(movie_gender,gender_list,left_on='genre_ids', right_on='id')"
   ]
  },
  {
   "cell_type": "code",
   "execution_count": 329,
   "metadata": {
    "colab": {
     "base_uri": "https://localhost:8080/",
     "height": 220
    },
    "id": "TAIX73tnHWBX",
    "outputId": "69e55d9a-08bc-4c76-fa17-584d6b8565c0"
   },
   "outputs": [
    {
     "data": {
      "text/html": [
       "<div>\n",
       "<style scoped>\n",
       "    .dataframe tbody tr th:only-of-type {\n",
       "        vertical-align: middle;\n",
       "    }\n",
       "\n",
       "    .dataframe tbody tr th {\n",
       "        vertical-align: top;\n",
       "    }\n",
       "\n",
       "    .dataframe thead th {\n",
       "        text-align: right;\n",
       "    }\n",
       "</style>\n",
       "<table border=\"1\" class=\"dataframe\">\n",
       "  <thead>\n",
       "    <tr style=\"text-align: right;\">\n",
       "      <th></th>\n",
       "      <th>id_x</th>\n",
       "      <th>original_title</th>\n",
       "      <th>https://api.themoviedb.org/3/movie/popular?api_key=&lt;&lt;api_key&gt;&gt;&amp;language=en-US&amp;page=1</th>\n",
       "      <th>original_language</th>\n",
       "      <th>release_date</th>\n",
       "      <th>genre_ids</th>\n",
       "      <th>poster_path</th>\n",
       "      <th>vote_average</th>\n",
       "      <th>vote_count</th>\n",
       "      <th>id_y</th>\n",
       "      <th>name</th>\n",
       "    </tr>\n",
       "  </thead>\n",
       "  <tbody>\n",
       "    <tr>\n",
       "      <th>0</th>\n",
       "      <td>527774</td>\n",
       "      <td>Raya and the Last Dragon</td>\n",
       "      <td>Raya and the Last Dragon</td>\n",
       "      <td>en</td>\n",
       "      <td>2021-03-03</td>\n",
       "      <td>16</td>\n",
       "      <td>/lPsD10PP4rgUGiGR4CCXA6iY0QQ.jpg</td>\n",
       "      <td>8.6</td>\n",
       "      <td>823</td>\n",
       "      <td>16</td>\n",
       "      <td>Animation</td>\n",
       "    </tr>\n",
       "    <tr>\n",
       "      <th>1259</th>\n",
       "      <td>527774</td>\n",
       "      <td>Raya and the Last Dragon</td>\n",
       "      <td>Raya and the Last Dragon</td>\n",
       "      <td>en</td>\n",
       "      <td>2021-03-03</td>\n",
       "      <td>12</td>\n",
       "      <td>/lPsD10PP4rgUGiGR4CCXA6iY0QQ.jpg</td>\n",
       "      <td>8.6</td>\n",
       "      <td>823</td>\n",
       "      <td>12</td>\n",
       "      <td>Adventure</td>\n",
       "    </tr>\n",
       "    <tr>\n",
       "      <th>2963</th>\n",
       "      <td>527774</td>\n",
       "      <td>Raya and the Last Dragon</td>\n",
       "      <td>Raya and the Last Dragon</td>\n",
       "      <td>en</td>\n",
       "      <td>2021-03-03</td>\n",
       "      <td>14</td>\n",
       "      <td>/lPsD10PP4rgUGiGR4CCXA6iY0QQ.jpg</td>\n",
       "      <td>8.6</td>\n",
       "      <td>823</td>\n",
       "      <td>14</td>\n",
       "      <td>Fantasy</td>\n",
       "    </tr>\n",
       "    <tr>\n",
       "      <th>4189</th>\n",
       "      <td>527774</td>\n",
       "      <td>Raya and the Last Dragon</td>\n",
       "      <td>Raya and the Last Dragon</td>\n",
       "      <td>en</td>\n",
       "      <td>2021-03-03</td>\n",
       "      <td>10751</td>\n",
       "      <td>/lPsD10PP4rgUGiGR4CCXA6iY0QQ.jpg</td>\n",
       "      <td>8.6</td>\n",
       "      <td>823</td>\n",
       "      <td>10751</td>\n",
       "      <td>Family</td>\n",
       "    </tr>\n",
       "    <tr>\n",
       "      <th>5556</th>\n",
       "      <td>527774</td>\n",
       "      <td>Raya and the Last Dragon</td>\n",
       "      <td>Raya and the Last Dragon</td>\n",
       "      <td>en</td>\n",
       "      <td>2021-03-03</td>\n",
       "      <td>28</td>\n",
       "      <td>/lPsD10PP4rgUGiGR4CCXA6iY0QQ.jpg</td>\n",
       "      <td>8.6</td>\n",
       "      <td>823</td>\n",
       "      <td>28</td>\n",
       "      <td>Action</td>\n",
       "    </tr>\n",
       "    <tr>\n",
       "      <th>8158</th>\n",
       "      <td>527774</td>\n",
       "      <td>Raya and the Last Dragon</td>\n",
       "      <td>Raya and the Last Dragon</td>\n",
       "      <td>en</td>\n",
       "      <td>2021-03-03</td>\n",
       "      <td>18</td>\n",
       "      <td>/lPsD10PP4rgUGiGR4CCXA6iY0QQ.jpg</td>\n",
       "      <td>8.6</td>\n",
       "      <td>823</td>\n",
       "      <td>18</td>\n",
       "      <td>Drama</td>\n",
       "    </tr>\n",
       "  </tbody>\n",
       "</table>\n",
       "</div>"
      ],
      "text/plain": [
       "        id_x            original_title  ...   id_y       name\n",
       "0     527774  Raya and the Last Dragon  ...     16  Animation\n",
       "1259  527774  Raya and the Last Dragon  ...     12  Adventure\n",
       "2963  527774  Raya and the Last Dragon  ...     14    Fantasy\n",
       "4189  527774  Raya and the Last Dragon  ...  10751     Family\n",
       "5556  527774  Raya and the Last Dragon  ...     28     Action\n",
       "8158  527774  Raya and the Last Dragon  ...     18      Drama\n",
       "\n",
       "[6 rows x 11 columns]"
      ]
     },
     "execution_count": 329,
     "metadata": {
      "tags": []
     },
     "output_type": "execute_result"
    }
   ],
   "source": [
    "movie_gender_name[movie_gender_name.original_title=='Raya and the Last Dragon']"
   ]
  },
  {
   "cell_type": "markdown",
   "metadata": {
    "id": "RAWWu775HE7T"
   },
   "source": [
    "## Check nulls  note poster can have null values but not the gender"
   ]
  },
  {
   "cell_type": "code",
   "execution_count": 330,
   "metadata": {
    "colab": {
     "base_uri": "https://localhost:8080/"
    },
    "id": "jjO4jYs__w9A",
    "outputId": "a680a6f6-eaa0-4d67-edbf-7e81aceace42"
   },
   "outputs": [
    {
     "data": {
      "text/plain": [
       "id_x                                                                                     0\n",
       "original_title                                                                           0\n",
       "https://api.themoviedb.org/3/movie/popular?api_key=<<api_key>>&language=en-US&page=1     0\n",
       "original_language                                                                        0\n",
       "release_date                                                                            59\n",
       "genre_ids                                                                                0\n",
       "poster_path                                                                             62\n",
       "vote_average                                                                             0\n",
       "vote_count                                                                               0\n",
       "id_y                                                                                     0\n",
       "name                                                                                     0\n",
       "dtype: int64"
      ]
     },
     "execution_count": 330,
     "metadata": {
      "tags": []
     },
     "output_type": "execute_result"
    }
   ],
   "source": [
    "movie_gender_name.isnull().sum()"
   ]
  },
  {
   "cell_type": "code",
   "execution_count": 331,
   "metadata": {
    "colab": {
     "base_uri": "https://localhost:8080/",
     "height": 593
    },
    "id": "_PkrMkxRALHk",
    "outputId": "aee305e5-0ba9-46e0-f302-0f8e8772996b"
   },
   "outputs": [
    {
     "data": {
      "text/html": [
       "<div>\n",
       "<style scoped>\n",
       "    .dataframe tbody tr th:only-of-type {\n",
       "        vertical-align: middle;\n",
       "    }\n",
       "\n",
       "    .dataframe tbody tr th {\n",
       "        vertical-align: top;\n",
       "    }\n",
       "\n",
       "    .dataframe thead th {\n",
       "        text-align: right;\n",
       "    }\n",
       "</style>\n",
       "<table border=\"1\" class=\"dataframe\">\n",
       "  <thead>\n",
       "    <tr style=\"text-align: right;\">\n",
       "      <th></th>\n",
       "      <th>class_</th>\n",
       "      <th>name</th>\n",
       "    </tr>\n",
       "  </thead>\n",
       "  <tbody>\n",
       "    <tr>\n",
       "      <th>0</th>\n",
       "      <td>Drama</td>\n",
       "      <td>3806</td>\n",
       "    </tr>\n",
       "    <tr>\n",
       "      <th>1</th>\n",
       "      <td>Comedy</td>\n",
       "      <td>3114</td>\n",
       "    </tr>\n",
       "    <tr>\n",
       "      <th>2</th>\n",
       "      <td>Thriller</td>\n",
       "      <td>2623</td>\n",
       "    </tr>\n",
       "    <tr>\n",
       "      <th>3</th>\n",
       "      <td>Action</td>\n",
       "      <td>2602</td>\n",
       "    </tr>\n",
       "    <tr>\n",
       "      <th>4</th>\n",
       "      <td>Adventure</td>\n",
       "      <td>1704</td>\n",
       "    </tr>\n",
       "    <tr>\n",
       "      <th>5</th>\n",
       "      <td>Horror</td>\n",
       "      <td>1571</td>\n",
       "    </tr>\n",
       "    <tr>\n",
       "      <th>6</th>\n",
       "      <td>Romance</td>\n",
       "      <td>1436</td>\n",
       "    </tr>\n",
       "    <tr>\n",
       "      <th>7</th>\n",
       "      <td>Family</td>\n",
       "      <td>1367</td>\n",
       "    </tr>\n",
       "    <tr>\n",
       "      <th>8</th>\n",
       "      <td>Science Fiction</td>\n",
       "      <td>1292</td>\n",
       "    </tr>\n",
       "    <tr>\n",
       "      <th>9</th>\n",
       "      <td>Animation</td>\n",
       "      <td>1259</td>\n",
       "    </tr>\n",
       "    <tr>\n",
       "      <th>10</th>\n",
       "      <td>Crime</td>\n",
       "      <td>1241</td>\n",
       "    </tr>\n",
       "    <tr>\n",
       "      <th>11</th>\n",
       "      <td>Fantasy</td>\n",
       "      <td>1226</td>\n",
       "    </tr>\n",
       "    <tr>\n",
       "      <th>12</th>\n",
       "      <td>Mystery</td>\n",
       "      <td>807</td>\n",
       "    </tr>\n",
       "    <tr>\n",
       "      <th>13</th>\n",
       "      <td>Music</td>\n",
       "      <td>364</td>\n",
       "    </tr>\n",
       "    <tr>\n",
       "      <th>14</th>\n",
       "      <td>History</td>\n",
       "      <td>359</td>\n",
       "    </tr>\n",
       "    <tr>\n",
       "      <th>15</th>\n",
       "      <td>TV Movie</td>\n",
       "      <td>320</td>\n",
       "    </tr>\n",
       "    <tr>\n",
       "      <th>16</th>\n",
       "      <td>Documentary</td>\n",
       "      <td>290</td>\n",
       "    </tr>\n",
       "    <tr>\n",
       "      <th>17</th>\n",
       "      <td>War</td>\n",
       "      <td>248</td>\n",
       "    </tr>\n",
       "    <tr>\n",
       "      <th>18</th>\n",
       "      <td>Western</td>\n",
       "      <td>129</td>\n",
       "    </tr>\n",
       "  </tbody>\n",
       "</table>\n",
       "</div>"
      ],
      "text/plain": [
       "             class_  name\n",
       "0             Drama  3806\n",
       "1            Comedy  3114\n",
       "2          Thriller  2623\n",
       "3            Action  2602\n",
       "4         Adventure  1704\n",
       "5            Horror  1571\n",
       "6           Romance  1436\n",
       "7            Family  1367\n",
       "8   Science Fiction  1292\n",
       "9         Animation  1259\n",
       "10            Crime  1241\n",
       "11          Fantasy  1226\n",
       "12          Mystery   807\n",
       "13            Music   364\n",
       "14          History   359\n",
       "15         TV Movie   320\n",
       "16      Documentary   290\n",
       "17              War   248\n",
       "18          Western   129"
      ]
     },
     "execution_count": 331,
     "metadata": {
      "tags": []
     },
     "output_type": "execute_result"
    }
   ],
   "source": [
    "top30_separateClass=pd.DataFrame(movie_gender_name.name.value_counts()).reset_index().rename(columns={'index': 'class_'})\n",
    "top30_separateClass"
   ]
  },
  {
   "cell_type": "code",
   "execution_count": 332,
   "metadata": {
    "colab": {
     "base_uri": "https://localhost:8080/",
     "height": 673
    },
    "id": "ljAdoSh5HRR2",
    "outputId": "27cfa3f5-7217-470a-a65f-6f779e013334"
   },
   "outputs": [
    {
     "data": {
      "text/plain": [
       "([0, 1, 2, 3, 4, 5, 6, 7, 8, 9, 10, 11, 12, 13, 14, 15, 16, 17, 18],\n",
       " <a list of 19 Text major ticklabel objects>)"
      ]
     },
     "execution_count": 332,
     "metadata": {
      "tags": []
     },
     "output_type": "execute_result"
    },
    {
     "data": {
      "image/png": "[encoded data removed]",
      "text/plain": [
       "<Figure size 2160x720 with 1 Axes>"
      ]
     },
     "metadata": {
      "needs_background": "light",
      "tags": []
     },
     "output_type": "display_data"
    }
   ],
   "source": [
    "\n",
    "plt.figure(figsize=(30,10)) \n",
    "plt.bar(top30_separateClass.class_,top30_separateClass.name)\n",
    "plt.xticks(rotation=45) "
   ]
  },
  {
   "cell_type": "code",
   "execution_count": 333,
   "metadata": {
    "id": "cXoNkdEqntNQ"
   },
   "outputs": [],
   "source": [
    "#df.to_parquet(DATA_DIR + 'df.parquet.gzip', compression='gzip')"
   ]
  },
  {
   "cell_type": "code",
   "execution_count": 334,
   "metadata": {
    "colab": {
     "base_uri": "https://localhost:8080/"
    },
    "id": "v8PfXypizTL-",
    "outputId": "a3091a6c-0c59-4690-c90d-fed19dcb2c8f"
   },
   "outputs": [
    {
     "name": "stdout",
     "output_type": "stream",
     "text": [
      "Drive already mounted at /content/gdrive; to attempt to forcibly remount, call drive.mount(\"/content/gdrive\", force_remount=True).\n",
      "[Errno 2] No such file or directory: '/content/gdrive/My Drive/Github_rainer'\n",
      "/content\n"
     ]
    }
   ],
   "source": [
    "from google.colab import drive\n",
    "drive.mount(\"/content/gdrive\")\n",
    "%cd /content/gdrive/My Drive/Github_rainer\n"
   ]
  }
 ],
 "metadata": {
  "colab": {
   "collapsed_sections": [],
   "name": "movies.ipynb",
   "provenance": []
  },
  "kernelspec": {
   "display_name": "Python 3",
   "language": "python",
   "name": "python3"
  },
  "language_info": {
   "codemirror_mode": {
    "name": "ipython",
    "version": 3
   },
   "file_extension": ".py",
   "mimetype": "text/x-python",
   "name": "python",
   "nbconvert_exporter": "python",
   "pygments_lexer": "ipython3",
   "version": "3.7.9"
  }
 },
 "nbformat": 4,
 "nbformat_minor": 4
}
