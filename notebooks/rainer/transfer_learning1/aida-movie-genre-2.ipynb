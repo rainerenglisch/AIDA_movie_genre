{
 "cells": [
  {
   "cell_type": "markdown",
   "metadata": {
    "id": "kJCMwRx9_4rN"
   },
   "source": [
    "> # AIDA with Transfer Learning"
   ]
  },
  {
   "cell_type": "code",
   "execution_count": 6,
   "metadata": {},
   "outputs": [
    {
     "name": "stdout",
     "output_type": "stream",
     "text": [
      "Fri Mar 19 10:02:30 2021       \n",
      "+-----------------------------------------------------------------------------+\n",
      "| NVIDIA-SMI 450.102.04   Driver Version: 450.102.04   CUDA Version: 11.0     |\n",
      "|-------------------------------+----------------------+----------------------+\n",
      "| GPU  Name        Persistence-M| Bus-Id        Disp.A | Volatile Uncorr. ECC |\n",
      "| Fan  Temp  Perf  Pwr:Usage/Cap|         Memory-Usage | GPU-Util  Compute M. |\n",
      "|                               |                      |               MIG M. |\n",
      "|===============================+======================+======================|\n",
      "|   0  GeForce GTX 105...  Off  | 00000000:01:00.0 Off |                  N/A |\n",
      "| N/A   71C    P0    N/A /  N/A |    623MiB /  4040MiB |      5%      Default |\n",
      "|                               |                      |                  N/A |\n",
      "+-------------------------------+----------------------+----------------------+\n",
      "                                                                               \n",
      "+-----------------------------------------------------------------------------+\n",
      "| Processes:                                                                  |\n",
      "|  GPU   GI   CI        PID   Type   Process name                  GPU Memory |\n",
      "|        ID   ID                                                   Usage      |\n",
      "|=============================================================================|\n",
      "|    0   N/A  N/A      2134      G   /usr/lib/xorg/Xorg                 55MiB |\n",
      "|    0   N/A  N/A      3418      G   /usr/lib/xorg/Xorg                180MiB |\n",
      "|    0   N/A  N/A      3727      G   /usr/bin/gnome-shell              163MiB |\n",
      "|    0   N/A  N/A     52407      G   ...gAAAAAAAAA --shared-files      212MiB |\n",
      "+-----------------------------------------------------------------------------+\n"
     ]
    }
   ],
   "source": [
    "!nvidia-smi"
   ]
  },
  {
   "cell_type": "markdown",
   "metadata": {
    "id": "M7yzKetZAK3s"
   },
   "source": [
    "# Imports"
   ]
  },
  {
   "cell_type": "code",
   "execution_count": 7,
   "metadata": {},
   "outputs": [
    {
     "name": "stdout",
     "output_type": "stream",
     "text": [
      "Requirement already satisfied: gdown in /home/rainer/miniconda3/envs/AIDA2/lib/python3.8/site-packages (3.12.2)\n",
      "Requirement already satisfied: requests[socks] in /home/rainer/miniconda3/envs/AIDA2/lib/python3.8/site-packages (from gdown) (2.25.1)\n",
      "Requirement already satisfied: filelock in /home/rainer/miniconda3/envs/AIDA2/lib/python3.8/site-packages (from gdown) (3.0.12)\n",
      "Requirement already satisfied: tqdm in /home/rainer/miniconda3/envs/AIDA2/lib/python3.8/site-packages (from gdown) (4.50.2)\n",
      "Requirement already satisfied: six in /home/rainer/miniconda3/envs/AIDA2/lib/python3.8/site-packages (from gdown) (1.15.0)\n",
      "Requirement already satisfied: idna<3,>=2.5 in /home/rainer/miniconda3/envs/AIDA2/lib/python3.8/site-packages (from requests[socks]->gdown) (2.10)\n",
      "Requirement already satisfied: urllib3<1.27,>=1.21.1 in /home/rainer/miniconda3/envs/AIDA2/lib/python3.8/site-packages (from requests[socks]->gdown) (1.24.3)\n",
      "Requirement already satisfied: chardet<5,>=3.0.2 in /home/rainer/miniconda3/envs/AIDA2/lib/python3.8/site-packages (from requests[socks]->gdown) (4.0.0)\n",
      "Requirement already satisfied: certifi>=2017.4.17 in /home/rainer/miniconda3/envs/AIDA2/lib/python3.8/site-packages (from requests[socks]->gdown) (2020.6.20)\n",
      "Requirement already satisfied: PySocks!=1.5.7,>=1.5.6 in /home/rainer/miniconda3/envs/AIDA2/lib/python3.8/site-packages (from requests[socks]->gdown) (1.7.1)\n"
     ]
    }
   ],
   "source": [
    "!pip install gdown"
   ]
  },
  {
   "cell_type": "code",
   "execution_count": 8,
   "metadata": {},
   "outputs": [],
   "source": [
    "#os.environ['CUDA_VISIBLE_DEVICES']='-1' "
   ]
  },
  {
   "cell_type": "code",
   "execution_count": 9,
   "metadata": {
    "id": "iLciMje9AOmB"
   },
   "outputs": [],
   "source": [
    "import pandas as pd\n",
    "import numpy as np\n",
    "import os\n",
    "import gdown\n",
    "import math\n",
    "\n",
    "import tensorflow as tf\n",
    "\n",
    "from tensorflow import keras\n",
    "from tensorflow.keras import layers\n",
    "from tensorflow.keras.preprocessing.image import ImageDataGenerator\n",
    "import tensorflow_addons as tfa\n",
    "\n",
    "\n",
    "#from wcs.google import google_drive_share\n",
    "import pandas as pd\n",
    "import urllib.request\n",
    "from urllib.parse import urlparse\n",
    "\n",
    "#from google.colab import drive\n",
    "\n",
    "\n",
    "import warnings\n",
    "warnings.simplefilter(action='ignore')\n",
    "from PIL import ImageFile\n",
    "ImageFile.LOAD_TRUNCATED_IMAGES = True"
   ]
  },
  {
   "cell_type": "markdown",
   "metadata": {
    "id": "YcfsOKfzC2N6"
   },
   "source": [
    "# Load Data"
   ]
  },
  {
   "cell_type": "code",
   "execution_count": 10,
   "metadata": {
    "id": "SRMNiJ9oMGY2"
   },
   "outputs": [],
   "source": [
    "BASE_DIR =\"./\"\n",
    "#IMAGES_DIR = \"/kaggle/input/movie-poster-genre-2021/images/\"\n",
    "IMAGES_DIR = \"/kaggle/input/moviepostergenre20212/images/\"\n",
    "IMAGES_DIR = \"/kaggle/input/moviepostergenre20212/images/images/\"\n",
    "IMAGES_DIR = \"../../../../../rainerenglisch-AIDA_movie_genre_cdn2/images/\""
   ]
  },
  {
   "cell_type": "code",
   "execution_count": 11,
   "metadata": {},
   "outputs": [],
   "source": [
    "#!ls $IMAGES_DIR"
   ]
  },
  {
   "cell_type": "code",
   "execution_count": 12,
   "metadata": {},
   "outputs": [
    {
     "name": "stdout",
     "output_type": "stream",
     "text": [
      "../../../../../rainerenglisch-AIDA_movie_genre_cdn2/images/8Y0aOxqSetK3hXKPFDTrHwu6dWa.jpg\n",
      "True\n",
      "False\n"
     ]
    }
   ],
   "source": [
    "fname = IMAGES_DIR + \"8Y0aOxqSetK3hXKPFDTrHwu6dWa.jpg\"\n",
    "print(fname)\n",
    "print(os.path.exists(fname))\n",
    "print(os.path.exists(\"/kaggle/input/moviepostergenre20212/images/images/8Y0aOxqSetK3hXKPFDTrHwu6dWa.jpg\"))"
   ]
  },
  {
   "cell_type": "markdown",
   "metadata": {
    "id": "eA1fV-j_KX0L"
   },
   "source": [
    "# Preproc"
   ]
  },
  {
   "cell_type": "code",
   "execution_count": 13,
   "metadata": {},
   "outputs": [],
   "source": [
    "#https://drive.google.com/file/d/1VGMVj1keT6FWxlC0SWr0BHpvYcmaQgrV/view?usp=sharing\n",
    "url = 'https://drive.google.com/uc?id=1MlXZKtRUP7pOehDR9j5MMvBNXF4UNNUx'\n",
    "url = 'https://drive.google.com/uc?id=1VGMVj1keT6FWxlC0SWr0BHpvYcmaQgrV'\n",
    "holdout_fname = \"df_holdout.csv\"\n",
    "if not os.path.exists(holdout_fname):\n",
    "    gdown.download(url, holdout_fname, quiet=False)\n",
    "    df_holdout = pd.read_csv(holdout_fname,sep=\";\")\n",
    "    df_holdout.head()\n",
    "\n",
    "#Bitte diese 1000 Movie IDs vom Training und vom gesamten Model Engineering ausschließen und \n",
    "#nur für die Einträge im Leaderboard verwenden."
   ]
  },
  {
   "cell_type": "code",
   "execution_count": 14,
   "metadata": {
    "id": "oE24fz77duaZ"
   },
   "outputs": [],
   "source": [
    "def retrieve_filename(url):\n",
    "    a = urlparse(url)\n",
    "    picfilename = os.path.basename(a.path)\n",
    "    return picfilename\n"
   ]
  },
  {
   "cell_type": "code",
   "execution_count": 15,
   "metadata": {
    "id": "acVfQ8KqKlaI"
   },
   "outputs": [],
   "source": [
    "parquet_fname = \"df.parquet.gzip\"\n",
    "#!rm $parquet_fname"
   ]
  },
  {
   "cell_type": "code",
   "execution_count": 16,
   "metadata": {},
   "outputs": [
    {
     "name": "stderr",
     "output_type": "stream",
     "text": [
      "Downloading...\n",
      "From: https://drive.google.com/uc?id=1ynvEZMYRonM2SuJ9mQ4kCkznMW6dsqcA\n",
      "To: /home/rainer/dev/AIDA2/movie_genre/github/notebooks/rainer/transfer_learning1/df.parquet.gzip\n",
      "18.5MB [00:01, 12.1MB/s]\n"
     ]
    },
    {
     "data": {
      "text/html": [
       "<div>\n",
       "<style scoped>\n",
       "    .dataframe tbody tr th:only-of-type {\n",
       "        vertical-align: middle;\n",
       "    }\n",
       "\n",
       "    .dataframe tbody tr th {\n",
       "        vertical-align: top;\n",
       "    }\n",
       "\n",
       "    .dataframe thead th {\n",
       "        text-align: right;\n",
       "    }\n",
       "</style>\n",
       "<table border=\"1\" class=\"dataframe\">\n",
       "  <thead>\n",
       "    <tr style=\"text-align: right;\">\n",
       "      <th></th>\n",
       "      <th>adult</th>\n",
       "      <th>id</th>\n",
       "      <th>original_title</th>\n",
       "      <th>popularity</th>\n",
       "      <th>video</th>\n",
       "      <th>url</th>\n",
       "      <th>poster_url</th>\n",
       "      <th>genre_id</th>\n",
       "      <th>filename</th>\n",
       "      <th>file_exists</th>\n",
       "      <th>is_holdout</th>\n",
       "    </tr>\n",
       "  </thead>\n",
       "  <tbody>\n",
       "    <tr>\n",
       "      <th>380003</th>\n",
       "      <td>False</td>\n",
       "      <td>537250</td>\n",
       "      <td>¿Por qué ya no me quieres?</td>\n",
       "      <td>1.40</td>\n",
       "      <td>False</td>\n",
       "      <td>https://www.themoviedb.org/movie/537250</td>\n",
       "      <td>https://www.themoviedb.org/t/p/w500//8Y0aOxqSe...</td>\n",
       "      <td>[80, 18]</td>\n",
       "      <td>8Y0aOxqSetK3hXKPFDTrHwu6dWa.jpg</td>\n",
       "      <td>True</td>\n",
       "      <td>False</td>\n",
       "    </tr>\n",
       "    <tr>\n",
       "      <th>380010</th>\n",
       "      <td>False</td>\n",
       "      <td>537266</td>\n",
       "      <td>Success</td>\n",
       "      <td>0.60</td>\n",
       "      <td>False</td>\n",
       "      <td>https://www.themoviedb.org/movie/537266</td>\n",
       "      <td>https://www.themoviedb.org/t/p/w500//tJMm1JJUe...</td>\n",
       "      <td>[18]</td>\n",
       "      <td>tJMm1JJUeWOLb4nPDBD6sZvFYU3.jpg</td>\n",
       "      <td>True</td>\n",
       "      <td>False</td>\n",
       "    </tr>\n",
       "    <tr>\n",
       "      <th>380017</th>\n",
       "      <td>False</td>\n",
       "      <td>537274</td>\n",
       "      <td>Предел возможного</td>\n",
       "      <td>0.62</td>\n",
       "      <td>False</td>\n",
       "      <td>https://www.themoviedb.org/movie/537274</td>\n",
       "      <td>https://www.themoviedb.org/t/p/w500//h9aXCUZ6g...</td>\n",
       "      <td>[18]</td>\n",
       "      <td>h9aXCUZ6gj6V5NFv8a31J1OiDjq.jpg</td>\n",
       "      <td>True</td>\n",
       "      <td>False</td>\n",
       "    </tr>\n",
       "    <tr>\n",
       "      <th>380020</th>\n",
       "      <td>False</td>\n",
       "      <td>537277</td>\n",
       "      <td>母親</td>\n",
       "      <td>0.60</td>\n",
       "      <td>False</td>\n",
       "      <td>https://www.themoviedb.org/movie/537277</td>\n",
       "      <td>https://www.themoviedb.org/t/p/w500//3Ogn8SWj2...</td>\n",
       "      <td>[18]</td>\n",
       "      <td>3Ogn8SWj29GpGHNSIkMYiKZdeBL.jpg</td>\n",
       "      <td>True</td>\n",
       "      <td>False</td>\n",
       "    </tr>\n",
       "    <tr>\n",
       "      <th>380022</th>\n",
       "      <td>False</td>\n",
       "      <td>537281</td>\n",
       "      <td>1+1=3 Ora Tinjon</td>\n",
       "      <td>0.60</td>\n",
       "      <td>False</td>\n",
       "      <td>https://www.themoviedb.org/movie/537281</td>\n",
       "      <td>https://www.themoviedb.org/t/p/w500//47yYJPL2q...</td>\n",
       "      <td>[18]</td>\n",
       "      <td>47yYJPL2qU9LNQ2rTMs7p3RtfR7.jpg</td>\n",
       "      <td>True</td>\n",
       "      <td>False</td>\n",
       "    </tr>\n",
       "  </tbody>\n",
       "</table>\n",
       "</div>"
      ],
      "text/plain": [
       "        adult      id              original_title  popularity  video  \\\n",
       "380003  False  537250  ¿Por qué ya no me quieres?        1.40  False   \n",
       "380010  False  537266                     Success        0.60  False   \n",
       "380017  False  537274           Предел возможного        0.62  False   \n",
       "380020  False  537277                          母親        0.60  False   \n",
       "380022  False  537281            1+1=3 Ora Tinjon        0.60  False   \n",
       "\n",
       "                                            url  \\\n",
       "380003  https://www.themoviedb.org/movie/537250   \n",
       "380010  https://www.themoviedb.org/movie/537266   \n",
       "380017  https://www.themoviedb.org/movie/537274   \n",
       "380020  https://www.themoviedb.org/movie/537277   \n",
       "380022  https://www.themoviedb.org/movie/537281   \n",
       "\n",
       "                                               poster_url  genre_id  \\\n",
       "380003  https://www.themoviedb.org/t/p/w500//8Y0aOxqSe...  [80, 18]   \n",
       "380010  https://www.themoviedb.org/t/p/w500//tJMm1JJUe...      [18]   \n",
       "380017  https://www.themoviedb.org/t/p/w500//h9aXCUZ6g...      [18]   \n",
       "380020  https://www.themoviedb.org/t/p/w500//3Ogn8SWj2...      [18]   \n",
       "380022  https://www.themoviedb.org/t/p/w500//47yYJPL2q...      [18]   \n",
       "\n",
       "                               filename  file_exists  is_holdout  \n",
       "380003  8Y0aOxqSetK3hXKPFDTrHwu6dWa.jpg         True       False  \n",
       "380010  tJMm1JJUeWOLb4nPDBD6sZvFYU3.jpg         True       False  \n",
       "380017  h9aXCUZ6gj6V5NFv8a31J1OiDjq.jpg         True       False  \n",
       "380020  3Ogn8SWj29GpGHNSIkMYiKZdeBL.jpg         True       False  \n",
       "380022  47yYJPL2qU9LNQ2rTMs7p3RtfR7.jpg         True       False  "
      ]
     },
     "execution_count": 16,
     "metadata": {},
     "output_type": "execute_result"
    }
   ],
   "source": [
    "url = 'https://drive.google.com/uc?id=1ynvEZMYRonM2SuJ9mQ4kCkznMW6dsqcA'\n",
    "gdown.download(url, parquet_fname, quiet=False)\n",
    "df = pd.read_parquet(parquet_fname)\n",
    "df['genre_id'] = df['genre_id'].apply(lambda x: list(x))\n",
    "\n",
    "df.head()"
   ]
  },
  {
   "cell_type": "code",
   "execution_count": 17,
   "metadata": {},
   "outputs": [
    {
     "data": {
      "text/plain": [
       "list"
      ]
     },
     "execution_count": 17,
     "metadata": {},
     "output_type": "execute_result"
    }
   ],
   "source": [
    "type(df['genre_id'].head().iloc[1])\n"
   ]
  },
  {
   "cell_type": "code",
   "execution_count": 18,
   "metadata": {},
   "outputs": [
    {
     "name": "stdout",
     "output_type": "stream",
     "text": [
      "CPU times: user 647 ms, sys: 125 ms, total: 771 ms\n",
      "Wall time: 524 ms\n"
     ]
    }
   ],
   "source": [
    "%%time\n",
    "if not os.path.exists(parquet_fname):\n",
    "    url = 'https://drive.google.com/uc?id=178mXeXUC1400lj-LrWyhD3yfW5_KsVYw'\n",
    "    gdown.download(url, parquet_fname, quiet=False)\n",
    "    df = pd.read_parquet(parquet_fname)\n",
    "    \n",
    "    df[\"filename\"] = df.loc[~df[\"poster_url\"].isnull(),\"poster_url\"].apply(retrieve_filename)\n",
    "    \n",
    "    \n",
    "     # set data path to basename of the file\n",
    "    #df['data_path'] = df['poster_path'].apply(lambda x: x.split('/')[-1])\n",
    "       # use only mot null rows\n",
    "    df = df.dropna()\n",
    "\n",
    "    # remove rows with empty genre_id list and set correct list type\n",
    "    df['genre_id'] = df['genre_id'].apply(lambda x: np.nan if len(eval(x)) == 0 else x)\n",
    "    df = df.dropna()\n",
    "    df['genre_id'] = df['genre_id'].apply(lambda x: eval(x))\n",
    "    print(f'len of df: {len(df)}')\n",
    "    print(\"Checking existence of images\")\n",
    "    df[\"file_exists\"] = df[\"filename\"].apply(lambda x: os.path.exists(IMAGES_DIR + x))\n",
    "    print(\"Flagging hold out images\")\n",
    "    df[\"is_holdout\"] = False\n",
    "    df.loc[df[\"id\"].isin(df_holdout[\"id\"]),\"is_holdout\"] = True\n",
    "\n",
    "    df.to_parquet(parquet_fname,compression='gzip')\n",
    "else:\n",
    "    df = pd.read_parquet(parquet_fname)\n",
    "\n",
    "\n",
    "    "
   ]
  },
  {
   "cell_type": "code",
   "execution_count": 19,
   "metadata": {},
   "outputs": [
    {
     "data": {
      "text/html": [
       "<div>\n",
       "<style scoped>\n",
       "    .dataframe tbody tr th:only-of-type {\n",
       "        vertical-align: middle;\n",
       "    }\n",
       "\n",
       "    .dataframe tbody tr th {\n",
       "        vertical-align: top;\n",
       "    }\n",
       "\n",
       "    .dataframe thead th {\n",
       "        text-align: right;\n",
       "    }\n",
       "</style>\n",
       "<table border=\"1\" class=\"dataframe\">\n",
       "  <thead>\n",
       "    <tr style=\"text-align: right;\">\n",
       "      <th></th>\n",
       "      <th>adult</th>\n",
       "      <th>id</th>\n",
       "      <th>original_title</th>\n",
       "      <th>popularity</th>\n",
       "      <th>video</th>\n",
       "      <th>url</th>\n",
       "      <th>poster_url</th>\n",
       "      <th>genre_id</th>\n",
       "      <th>filename</th>\n",
       "      <th>file_exists</th>\n",
       "      <th>is_holdout</th>\n",
       "    </tr>\n",
       "  </thead>\n",
       "  <tbody>\n",
       "    <tr>\n",
       "      <th>380003</th>\n",
       "      <td>False</td>\n",
       "      <td>537250</td>\n",
       "      <td>¿Por qué ya no me quieres?</td>\n",
       "      <td>1.40</td>\n",
       "      <td>False</td>\n",
       "      <td>https://www.themoviedb.org/movie/537250</td>\n",
       "      <td>https://www.themoviedb.org/t/p/w500//8Y0aOxqSe...</td>\n",
       "      <td>[80, 18]</td>\n",
       "      <td>8Y0aOxqSetK3hXKPFDTrHwu6dWa.jpg</td>\n",
       "      <td>True</td>\n",
       "      <td>False</td>\n",
       "    </tr>\n",
       "    <tr>\n",
       "      <th>380010</th>\n",
       "      <td>False</td>\n",
       "      <td>537266</td>\n",
       "      <td>Success</td>\n",
       "      <td>0.60</td>\n",
       "      <td>False</td>\n",
       "      <td>https://www.themoviedb.org/movie/537266</td>\n",
       "      <td>https://www.themoviedb.org/t/p/w500//tJMm1JJUe...</td>\n",
       "      <td>[18]</td>\n",
       "      <td>tJMm1JJUeWOLb4nPDBD6sZvFYU3.jpg</td>\n",
       "      <td>True</td>\n",
       "      <td>False</td>\n",
       "    </tr>\n",
       "    <tr>\n",
       "      <th>380017</th>\n",
       "      <td>False</td>\n",
       "      <td>537274</td>\n",
       "      <td>Предел возможного</td>\n",
       "      <td>0.62</td>\n",
       "      <td>False</td>\n",
       "      <td>https://www.themoviedb.org/movie/537274</td>\n",
       "      <td>https://www.themoviedb.org/t/p/w500//h9aXCUZ6g...</td>\n",
       "      <td>[18]</td>\n",
       "      <td>h9aXCUZ6gj6V5NFv8a31J1OiDjq.jpg</td>\n",
       "      <td>True</td>\n",
       "      <td>False</td>\n",
       "    </tr>\n",
       "    <tr>\n",
       "      <th>380020</th>\n",
       "      <td>False</td>\n",
       "      <td>537277</td>\n",
       "      <td>母親</td>\n",
       "      <td>0.60</td>\n",
       "      <td>False</td>\n",
       "      <td>https://www.themoviedb.org/movie/537277</td>\n",
       "      <td>https://www.themoviedb.org/t/p/w500//3Ogn8SWj2...</td>\n",
       "      <td>[18]</td>\n",
       "      <td>3Ogn8SWj29GpGHNSIkMYiKZdeBL.jpg</td>\n",
       "      <td>True</td>\n",
       "      <td>False</td>\n",
       "    </tr>\n",
       "    <tr>\n",
       "      <th>380022</th>\n",
       "      <td>False</td>\n",
       "      <td>537281</td>\n",
       "      <td>1+1=3 Ora Tinjon</td>\n",
       "      <td>0.60</td>\n",
       "      <td>False</td>\n",
       "      <td>https://www.themoviedb.org/movie/537281</td>\n",
       "      <td>https://www.themoviedb.org/t/p/w500//47yYJPL2q...</td>\n",
       "      <td>[18]</td>\n",
       "      <td>47yYJPL2qU9LNQ2rTMs7p3RtfR7.jpg</td>\n",
       "      <td>True</td>\n",
       "      <td>False</td>\n",
       "    </tr>\n",
       "  </tbody>\n",
       "</table>\n",
       "</div>"
      ],
      "text/plain": [
       "        adult      id              original_title  popularity  video  \\\n",
       "380003  False  537250  ¿Por qué ya no me quieres?        1.40  False   \n",
       "380010  False  537266                     Success        0.60  False   \n",
       "380017  False  537274           Предел возможного        0.62  False   \n",
       "380020  False  537277                          母親        0.60  False   \n",
       "380022  False  537281            1+1=3 Ora Tinjon        0.60  False   \n",
       "\n",
       "                                            url  \\\n",
       "380003  https://www.themoviedb.org/movie/537250   \n",
       "380010  https://www.themoviedb.org/movie/537266   \n",
       "380017  https://www.themoviedb.org/movie/537274   \n",
       "380020  https://www.themoviedb.org/movie/537277   \n",
       "380022  https://www.themoviedb.org/movie/537281   \n",
       "\n",
       "                                               poster_url  genre_id  \\\n",
       "380003  https://www.themoviedb.org/t/p/w500//8Y0aOxqSe...  [80, 18]   \n",
       "380010  https://www.themoviedb.org/t/p/w500//tJMm1JJUe...      [18]   \n",
       "380017  https://www.themoviedb.org/t/p/w500//h9aXCUZ6g...      [18]   \n",
       "380020  https://www.themoviedb.org/t/p/w500//3Ogn8SWj2...      [18]   \n",
       "380022  https://www.themoviedb.org/t/p/w500//47yYJPL2q...      [18]   \n",
       "\n",
       "                               filename  file_exists  is_holdout  \n",
       "380003  8Y0aOxqSetK3hXKPFDTrHwu6dWa.jpg         True       False  \n",
       "380010  tJMm1JJUeWOLb4nPDBD6sZvFYU3.jpg         True       False  \n",
       "380017  h9aXCUZ6gj6V5NFv8a31J1OiDjq.jpg         True       False  \n",
       "380020  3Ogn8SWj29GpGHNSIkMYiKZdeBL.jpg         True       False  \n",
       "380022  47yYJPL2qU9LNQ2rTMs7p3RtfR7.jpg         True       False  "
      ]
     },
     "execution_count": 19,
     "metadata": {},
     "output_type": "execute_result"
    }
   ],
   "source": [
    "df.head()"
   ]
  },
  {
   "cell_type": "code",
   "execution_count": 20,
   "metadata": {},
   "outputs": [
    {
     "name": "stdout",
     "output_type": "stream",
     "text": [
      "<class 'pandas.core.frame.DataFrame'>\n",
      "Int64Index: 267974 entries, 380003 to 19999\n",
      "Data columns (total 11 columns):\n",
      " #   Column          Non-Null Count   Dtype  \n",
      "---  ------          --------------   -----  \n",
      " 0   adult           267974 non-null  bool   \n",
      " 1   id              267974 non-null  int64  \n",
      " 2   original_title  267974 non-null  object \n",
      " 3   popularity      267974 non-null  float64\n",
      " 4   video           267974 non-null  bool   \n",
      " 5   url             267974 non-null  object \n",
      " 6   poster_url      267974 non-null  object \n",
      " 7   genre_id        267974 non-null  object \n",
      " 8   filename        267974 non-null  object \n",
      " 9   file_exists     267974 non-null  bool   \n",
      " 10  is_holdout      267974 non-null  bool   \n",
      "dtypes: bool(4), float64(1), int64(1), object(5)\n",
      "memory usage: 17.4+ MB\n"
     ]
    }
   ],
   "source": [
    "df.info()"
   ]
  },
  {
   "cell_type": "code",
   "execution_count": 21,
   "metadata": {},
   "outputs": [
    {
     "data": {
      "text/plain": [
       "False    266994\n",
       "True        980\n",
       "Name: is_holdout, dtype: int64"
      ]
     },
     "execution_count": 21,
     "metadata": {},
     "output_type": "execute_result"
    }
   ],
   "source": [
    "df.is_holdout.value_counts()"
   ]
  },
  {
   "cell_type": "code",
   "execution_count": 22,
   "metadata": {},
   "outputs": [
    {
     "data": {
      "text/plain": [
       "True     267937\n",
       "False        37\n",
       "Name: file_exists, dtype: int64"
      ]
     },
     "execution_count": 22,
     "metadata": {},
     "output_type": "execute_result"
    }
   ],
   "source": [
    "df.file_exists.value_counts()\n",
    "#print(df.shape)"
   ]
  },
  {
   "cell_type": "code",
   "execution_count": 23,
   "metadata": {},
   "outputs": [],
   "source": [
    "#keep only rows where file exists in data set\n",
    "df = df.loc[df[\"file_exists\"]]"
   ]
  },
  {
   "cell_type": "code",
   "execution_count": 24,
   "metadata": {},
   "outputs": [
    {
     "data": {
      "text/plain": [
       "(266957, 11)"
      ]
     },
     "execution_count": 24,
     "metadata": {},
     "output_type": "execute_result"
    }
   ],
   "source": [
    "df.loc[~df.is_holdout].shape"
   ]
  },
  {
   "cell_type": "code",
   "execution_count": 25,
   "metadata": {},
   "outputs": [
    {
     "data": {
      "text/plain": [
       "(980, 11)"
      ]
     },
     "execution_count": 25,
     "metadata": {},
     "output_type": "execute_result"
    }
   ],
   "source": [
    "df.loc[df.is_holdout].shape"
   ]
  },
  {
   "cell_type": "code",
   "execution_count": 26,
   "metadata": {},
   "outputs": [
    {
     "data": {
      "text/html": [
       "<div>\n",
       "<style scoped>\n",
       "    .dataframe tbody tr th:only-of-type {\n",
       "        vertical-align: middle;\n",
       "    }\n",
       "\n",
       "    .dataframe tbody tr th {\n",
       "        vertical-align: top;\n",
       "    }\n",
       "\n",
       "    .dataframe thead th {\n",
       "        text-align: right;\n",
       "    }\n",
       "</style>\n",
       "<table border=\"1\" class=\"dataframe\">\n",
       "  <thead>\n",
       "    <tr style=\"text-align: right;\">\n",
       "      <th></th>\n",
       "      <th>adult</th>\n",
       "      <th>id</th>\n",
       "      <th>original_title</th>\n",
       "      <th>popularity</th>\n",
       "      <th>video</th>\n",
       "      <th>url</th>\n",
       "      <th>poster_url</th>\n",
       "      <th>genre_id</th>\n",
       "      <th>filename</th>\n",
       "      <th>file_exists</th>\n",
       "      <th>is_holdout</th>\n",
       "    </tr>\n",
       "  </thead>\n",
       "  <tbody>\n",
       "    <tr>\n",
       "      <th>6</th>\n",
       "      <td>False</td>\n",
       "      <td>3</td>\n",
       "      <td>Varjoja paratiisissa</td>\n",
       "      <td>7.863</td>\n",
       "      <td>False</td>\n",
       "      <td>https://www.themoviedb.org/movie/3</td>\n",
       "      <td>https://www.themoviedb.org/t/p/w500//nj01hspaw...</td>\n",
       "      <td>[18, 35]</td>\n",
       "      <td>nj01hspawPof0mJmlgfjuLyJuRN.jpg</td>\n",
       "      <td>True</td>\n",
       "      <td>True</td>\n",
       "    </tr>\n",
       "    <tr>\n",
       "      <th>26</th>\n",
       "      <td>False</td>\n",
       "      <td>27</td>\n",
       "      <td>9 Songs</td>\n",
       "      <td>20.807</td>\n",
       "      <td>False</td>\n",
       "      <td>https://www.themoviedb.org/movie/27</td>\n",
       "      <td>https://www.themoviedb.org/t/p/w500//91O7z0vo7...</td>\n",
       "      <td>[18, 10402, 10749]</td>\n",
       "      <td>91O7z0vo7MiNWd5xD2BoivwbQsb.jpg</td>\n",
       "      <td>True</td>\n",
       "      <td>True</td>\n",
       "    </tr>\n",
       "    <tr>\n",
       "      <th>27</th>\n",
       "      <td>False</td>\n",
       "      <td>28</td>\n",
       "      <td>Apocalypse Now</td>\n",
       "      <td>21.502</td>\n",
       "      <td>False</td>\n",
       "      <td>https://www.themoviedb.org/movie/28</td>\n",
       "      <td>https://www.themoviedb.org/t/p/w500//gQB8Y5RCM...</td>\n",
       "      <td>[18, 10752]</td>\n",
       "      <td>gQB8Y5RCMkv2zwzFHbUJX3kAhvA.jpg</td>\n",
       "      <td>True</td>\n",
       "      <td>True</td>\n",
       "    </tr>\n",
       "    <tr>\n",
       "      <th>30</th>\n",
       "      <td>False</td>\n",
       "      <td>32</td>\n",
       "      <td>大砲の街</td>\n",
       "      <td>4.836</td>\n",
       "      <td>False</td>\n",
       "      <td>https://www.themoviedb.org/movie/32</td>\n",
       "      <td>https://www.themoviedb.org/t/p/w500//uqAB40iXw...</td>\n",
       "      <td>[16, 36]</td>\n",
       "      <td>uqAB40iXwb0yGRHfI9xDqYR2A2p.jpg</td>\n",
       "      <td>True</td>\n",
       "      <td>True</td>\n",
       "    </tr>\n",
       "    <tr>\n",
       "      <th>48</th>\n",
       "      <td>False</td>\n",
       "      <td>74</td>\n",
       "      <td>War of the Worlds</td>\n",
       "      <td>22.601</td>\n",
       "      <td>False</td>\n",
       "      <td>https://www.themoviedb.org/movie/74</td>\n",
       "      <td>https://www.themoviedb.org/t/p/w500//6Biy7R9Lf...</td>\n",
       "      <td>[12, 53, 878]</td>\n",
       "      <td>6Biy7R9LfumYshur3YKhpj56MpB.jpg</td>\n",
       "      <td>True</td>\n",
       "      <td>True</td>\n",
       "    </tr>\n",
       "  </tbody>\n",
       "</table>\n",
       "</div>"
      ],
      "text/plain": [
       "    adult  id        original_title  popularity  video  \\\n",
       "6   False   3  Varjoja paratiisissa       7.863  False   \n",
       "26  False  27               9 Songs      20.807  False   \n",
       "27  False  28        Apocalypse Now      21.502  False   \n",
       "30  False  32                  大砲の街       4.836  False   \n",
       "48  False  74     War of the Worlds      22.601  False   \n",
       "\n",
       "                                    url  \\\n",
       "6    https://www.themoviedb.org/movie/3   \n",
       "26  https://www.themoviedb.org/movie/27   \n",
       "27  https://www.themoviedb.org/movie/28   \n",
       "30  https://www.themoviedb.org/movie/32   \n",
       "48  https://www.themoviedb.org/movie/74   \n",
       "\n",
       "                                           poster_url            genre_id  \\\n",
       "6   https://www.themoviedb.org/t/p/w500//nj01hspaw...            [18, 35]   \n",
       "26  https://www.themoviedb.org/t/p/w500//91O7z0vo7...  [18, 10402, 10749]   \n",
       "27  https://www.themoviedb.org/t/p/w500//gQB8Y5RCM...         [18, 10752]   \n",
       "30  https://www.themoviedb.org/t/p/w500//uqAB40iXw...            [16, 36]   \n",
       "48  https://www.themoviedb.org/t/p/w500//6Biy7R9Lf...       [12, 53, 878]   \n",
       "\n",
       "                           filename  file_exists  is_holdout  \n",
       "6   nj01hspawPof0mJmlgfjuLyJuRN.jpg         True        True  \n",
       "26  91O7z0vo7MiNWd5xD2BoivwbQsb.jpg         True        True  \n",
       "27  gQB8Y5RCMkv2zwzFHbUJX3kAhvA.jpg         True        True  \n",
       "30  uqAB40iXwb0yGRHfI9xDqYR2A2p.jpg         True        True  \n",
       "48  6Biy7R9LfumYshur3YKhpj56MpB.jpg         True        True  "
      ]
     },
     "execution_count": 26,
     "metadata": {},
     "output_type": "execute_result"
    }
   ],
   "source": [
    "df.loc[df.is_holdout].head()"
   ]
  },
  {
   "cell_type": "markdown",
   "metadata": {
    "id": "v1ChqgNRK0py"
   },
   "source": [
    " Create ImageGenerators"
   ]
  },
  {
   "cell_type": "code",
   "execution_count": 27,
   "metadata": {},
   "outputs": [],
   "source": [
    "df['genre_id'] = df['genre_id'].apply(lambda x: list(x))\n"
   ]
  },
  {
   "cell_type": "code",
   "execution_count": 28,
   "metadata": {},
   "outputs": [
    {
     "name": "stdout",
     "output_type": "stream",
     "text": [
      "Found 266957 non-validated image filenames belonging to 19 classes.\n",
      "CPU times: user 968 ms, sys: 56.4 ms, total: 1.02 s\n",
      "Wall time: 1.03 s\n"
     ]
    }
   ],
   "source": [
    "%%time\n",
    "datagen = ImageDataGenerator(rescale=1 / 255.)#, validation_split=0.1)\n",
    "BATCH_SIZE = 64\n",
    "train_generator = datagen.flow_from_dataframe(\n",
    "    dataframe=df.loc[~df.is_holdout],\n",
    "    directory=IMAGES_DIR,\n",
    "    x_col=\"filename\",\n",
    "    y_col=\"genre_id\",\n",
    "    batch_size=BATCH_SIZE,\n",
    "    seed=42,\n",
    "    shuffle=True,\n",
    "    class_mode=\"categorical\",    \n",
    "    target_size=(299, 299),\n",
    "    subset='training',\n",
    "    validate_filenames=False\n",
    ")\n"
   ]
  },
  {
   "cell_type": "code",
   "execution_count": 29,
   "metadata": {},
   "outputs": [
    {
     "name": "stdout",
     "output_type": "stream",
     "text": [
      "Found 980 non-validated image filenames belonging to 19 classes.\n",
      "CPU times: user 18.8 ms, sys: 550 µs, total: 19.4 ms\n",
      "Wall time: 17.6 ms\n"
     ]
    }
   ],
   "source": [
    "%%time\n",
    "#datagen = ImageDataGenerator(rescale=1 / 255.)#, validation_split=0.1)\n",
    "valid_generator = datagen.flow_from_dataframe(\n",
    "    dataframe=df.loc[df.is_holdout],\n",
    "    directory=IMAGES_DIR,\n",
    "    x_col=\"filename\",\n",
    "    y_col=\"genre_id\",\n",
    "    batch_size=BATCH_SIZE,\n",
    "    seed=42,\n",
    "    shuffle=False,\n",
    "    class_mode=\"categorical\",\n",
    "    target_size=(299, 299),\n",
    "    subset='training',\n",
    "    validate_filenames=False,\n",
    ")"
   ]
  },
  {
   "cell_type": "markdown",
   "metadata": {
    "id": "tz11Ruq2KyQs"
   },
   "source": [
    "%%time\n",
    "datagen = ImageDataGenerator(rescale=1 / 255., validation_split=0.1)\n",
    "BATCH_SIZE = 64\n",
    "train_generator = datagen.flow_from_dataframe(\n",
    "    dataframe=df,\n",
    "    directory=IMAGES_DIR,\n",
    "    x_col=\"filename\",\n",
    "    y_col=\"genre_id\",\n",
    "    batch_size=BATCH_SIZE,\n",
    "    seed=42,\n",
    "    shuffle=True,\n",
    "    class_mode=\"categorical\",    \n",
    "    target_size=(299, 299),\n",
    "    subset='training',\n",
    "    validate_filenames=True\n",
    ")\n",
    "\n",
    "valid_generator = datagen.flow_from_dataframe(\n",
    "    dataframe=df,\n",
    "    directory=IMAGES_DIR,\n",
    "    x_col=\"filename\",\n",
    "    y_col=\"genre_id\",\n",
    "    batch_size=BATCH_SIZE,\n",
    "    seed=42,\n",
    "    shuffle=True,\n",
    "    class_mode=\"categorical\",\n",
    "    target_size=(299, 299),\n",
    "    subset='validation',\n",
    "    validate_filenames=True\n",
    ")"
   ]
  },
  {
   "cell_type": "code",
   "execution_count": 30,
   "metadata": {
    "id": "1a6YhAuOLWFC"
   },
   "outputs": [
    {
     "name": "stdout",
     "output_type": "stream",
     "text": [
      "{12: 0, 14: 1, 16: 2, 18: 3, 27: 4, 28: 5, 35: 6, 36: 7, 37: 8, 53: 9, 80: 10, 99: 11, 878: 12, 9648: 13, 10402: 14, 10749: 15, 10751: 16, 10752: 17, 10770: 18}\n",
      "length: 19\n"
     ]
    }
   ],
   "source": [
    "# show class indicies\n",
    "print(train_generator.class_indices)\n",
    "print('length:', len(train_generator.class_indices))\n"
   ]
  },
  {
   "cell_type": "code",
   "execution_count": 31,
   "metadata": {
    "id": "irTOneeqduah"
   },
   "outputs": [
    {
     "data": {
      "text/plain": [
       "[12,\n",
       " 14,\n",
       " 16,\n",
       " 18,\n",
       " 27,\n",
       " 28,\n",
       " 35,\n",
       " 36,\n",
       " 37,\n",
       " 53,\n",
       " 80,\n",
       " 99,\n",
       " 878,\n",
       " 9648,\n",
       " 10402,\n",
       " 10749,\n",
       " 10751,\n",
       " 10752,\n",
       " 10770]"
      ]
     },
     "execution_count": 31,
     "metadata": {},
     "output_type": "execute_result"
    }
   ],
   "source": [
    "list(train_generator.class_indices.keys())"
   ]
  },
  {
   "cell_type": "code",
   "execution_count": 32,
   "metadata": {
    "id": "SIVWsXqFduai"
   },
   "outputs": [
    {
     "data": {
      "text/plain": [
       "{12: 1.8200993419517049,\n",
       " 14: 2.387359612420172,\n",
       " 16: 1.2594883623401132,\n",
       " 18: 0.23874570695921116,\n",
       " 27: 1.0940343657160017,\n",
       " 28: 0.9769371436609564,\n",
       " 35: 0.36242949853758133,\n",
       " 36: 3.341485051007751,\n",
       " 37: 5.326442814686991,\n",
       " 53: 0.99210079907147,\n",
       " 80: 1.4068035866321043,\n",
       " 99: 0.46450244906191573,\n",
       " 878: 2.2659566875344113,\n",
       " 9648: 2.5898081304223695,\n",
       " 10402: 1.1858740225125597,\n",
       " 10749: 0.9049801486307645,\n",
       " 10751: 1.6559592866217359,\n",
       " 10752: 4.401455661731941,\n",
       " 10770: 2.5843721654999188}"
      ]
     },
     "metadata": {},
     "output_type": "display_data"
    },
    {
     "data": {
      "text/plain": [
       "{0: 1.8200993419517049,\n",
       " 1: 2.387359612420172,\n",
       " 2: 1.2594883623401132,\n",
       " 3: 0.23874570695921116,\n",
       " 4: 1.0940343657160017,\n",
       " 5: 0.9769371436609564,\n",
       " 6: 0.36242949853758133,\n",
       " 7: 3.341485051007751,\n",
       " 8: 5.326442814686991,\n",
       " 9: 0.99210079907147,\n",
       " 10: 1.4068035866321043,\n",
       " 11: 0.46450244906191573,\n",
       " 12: 2.2659566875344113,\n",
       " 13: 2.5898081304223695,\n",
       " 14: 1.1858740225125597,\n",
       " 15: 0.9049801486307645,\n",
       " 16: 1.6559592866217359,\n",
       " 17: 4.401455661731941,\n",
       " 18: 2.5843721654999188}"
      ]
     },
     "execution_count": 32,
     "metadata": {},
     "output_type": "execute_result"
    }
   ],
   "source": [
    "#https://datascience.stackexchange.com/questions/13490/how-to-set-class-weights-for-imbalanced-classes-in-keras\n",
    "from sklearn.utils import class_weight\n",
    "#In order to calculate the class weight do the following\n",
    "\n",
    "class_weights = class_weight.compute_class_weight('balanced',\n",
    "                                                  np.array(list(train_generator.class_indices.keys()),dtype=\"int\"), \n",
    "                                                  np.array(df.genre_id.explode(),dtype=\"int\"))\n",
    "\n",
    "class_weights_genre_id = dict(zip(list(train_generator.class_indices), class_weights))\n",
    "display(class_weights_genre_id)\n",
    "class_weights = dict(zip(list(range(len(class_weights))), class_weights))\n",
    "class_weights"
   ]
  },
  {
   "cell_type": "code",
   "execution_count": 33,
   "metadata": {
    "id": "MXYlHNqVduaj"
   },
   "outputs": [
    {
     "data": {
      "text/html": [
       "<div>\n",
       "<style scoped>\n",
       "    .dataframe tbody tr th:only-of-type {\n",
       "        vertical-align: middle;\n",
       "    }\n",
       "\n",
       "    .dataframe tbody tr th {\n",
       "        vertical-align: top;\n",
       "    }\n",
       "\n",
       "    .dataframe thead th {\n",
       "        text-align: right;\n",
       "    }\n",
       "</style>\n",
       "<table border=\"1\" class=\"dataframe\">\n",
       "  <thead>\n",
       "    <tr style=\"text-align: right;\">\n",
       "      <th></th>\n",
       "      <th>count</th>\n",
       "      <th>id</th>\n",
       "      <th>name</th>\n",
       "      <th>weight</th>\n",
       "    </tr>\n",
       "  </thead>\n",
       "  <tbody>\n",
       "    <tr>\n",
       "      <th>37</th>\n",
       "      <td>4392</td>\n",
       "      <td>37</td>\n",
       "      <td>Western</td>\n",
       "      <td>5.326443</td>\n",
       "    </tr>\n",
       "    <tr>\n",
       "      <th>10752</th>\n",
       "      <td>5315</td>\n",
       "      <td>10752</td>\n",
       "      <td>War</td>\n",
       "      <td>4.401456</td>\n",
       "    </tr>\n",
       "    <tr>\n",
       "      <th>36</th>\n",
       "      <td>7001</td>\n",
       "      <td>36</td>\n",
       "      <td>History</td>\n",
       "      <td>3.341485</td>\n",
       "    </tr>\n",
       "    <tr>\n",
       "      <th>9648</th>\n",
       "      <td>9033</td>\n",
       "      <td>9648</td>\n",
       "      <td>Mystery</td>\n",
       "      <td>2.589808</td>\n",
       "    </tr>\n",
       "    <tr>\n",
       "      <th>10770</th>\n",
       "      <td>9052</td>\n",
       "      <td>10770</td>\n",
       "      <td>TV Movie</td>\n",
       "      <td>2.584372</td>\n",
       "    </tr>\n",
       "    <tr>\n",
       "      <th>14</th>\n",
       "      <td>9799</td>\n",
       "      <td>14</td>\n",
       "      <td>Fantasy</td>\n",
       "      <td>2.387360</td>\n",
       "    </tr>\n",
       "    <tr>\n",
       "      <th>878</th>\n",
       "      <td>10324</td>\n",
       "      <td>878</td>\n",
       "      <td>Science Fiction</td>\n",
       "      <td>2.265957</td>\n",
       "    </tr>\n",
       "    <tr>\n",
       "      <th>12</th>\n",
       "      <td>12853</td>\n",
       "      <td>12</td>\n",
       "      <td>Adventure</td>\n",
       "      <td>1.820099</td>\n",
       "    </tr>\n",
       "    <tr>\n",
       "      <th>10751</th>\n",
       "      <td>14127</td>\n",
       "      <td>10751</td>\n",
       "      <td>Family</td>\n",
       "      <td>1.655959</td>\n",
       "    </tr>\n",
       "    <tr>\n",
       "      <th>80</th>\n",
       "      <td>16629</td>\n",
       "      <td>80</td>\n",
       "      <td>Crime</td>\n",
       "      <td>1.406804</td>\n",
       "    </tr>\n",
       "    <tr>\n",
       "      <th>16</th>\n",
       "      <td>18574</td>\n",
       "      <td>16</td>\n",
       "      <td>Animation</td>\n",
       "      <td>1.259488</td>\n",
       "    </tr>\n",
       "    <tr>\n",
       "      <th>10402</th>\n",
       "      <td>19727</td>\n",
       "      <td>10402</td>\n",
       "      <td>Music</td>\n",
       "      <td>1.185874</td>\n",
       "    </tr>\n",
       "    <tr>\n",
       "      <th>27</th>\n",
       "      <td>21383</td>\n",
       "      <td>27</td>\n",
       "      <td>Horror</td>\n",
       "      <td>1.094034</td>\n",
       "    </tr>\n",
       "    <tr>\n",
       "      <th>53</th>\n",
       "      <td>23580</td>\n",
       "      <td>53</td>\n",
       "      <td>Thriller</td>\n",
       "      <td>0.992101</td>\n",
       "    </tr>\n",
       "    <tr>\n",
       "      <th>28</th>\n",
       "      <td>23946</td>\n",
       "      <td>28</td>\n",
       "      <td>Action</td>\n",
       "      <td>0.976937</td>\n",
       "    </tr>\n",
       "    <tr>\n",
       "      <th>10749</th>\n",
       "      <td>25850</td>\n",
       "      <td>10749</td>\n",
       "      <td>Romance</td>\n",
       "      <td>0.904980</td>\n",
       "    </tr>\n",
       "    <tr>\n",
       "      <th>99</th>\n",
       "      <td>50363</td>\n",
       "      <td>99</td>\n",
       "      <td>Documentary</td>\n",
       "      <td>0.464502</td>\n",
       "    </tr>\n",
       "    <tr>\n",
       "      <th>35</th>\n",
       "      <td>64547</td>\n",
       "      <td>35</td>\n",
       "      <td>Comedy</td>\n",
       "      <td>0.362429</td>\n",
       "    </tr>\n",
       "    <tr>\n",
       "      <th>18</th>\n",
       "      <td>97986</td>\n",
       "      <td>18</td>\n",
       "      <td>Drama</td>\n",
       "      <td>0.238746</td>\n",
       "    </tr>\n",
       "  </tbody>\n",
       "</table>\n",
       "</div>"
      ],
      "text/plain": [
       "       count     id             name    weight\n",
       "37      4392     37          Western  5.326443\n",
       "10752   5315  10752              War  4.401456\n",
       "36      7001     36          History  3.341485\n",
       "9648    9033   9648          Mystery  2.589808\n",
       "10770   9052  10770         TV Movie  2.584372\n",
       "14      9799     14          Fantasy  2.387360\n",
       "878    10324    878  Science Fiction  2.265957\n",
       "12     12853     12        Adventure  1.820099\n",
       "10751  14127  10751           Family  1.655959\n",
       "80     16629     80            Crime  1.406804\n",
       "16     18574     16        Animation  1.259488\n",
       "10402  19727  10402            Music  1.185874\n",
       "27     21383     27           Horror  1.094034\n",
       "53     23580     53         Thriller  0.992101\n",
       "28     23946     28           Action  0.976937\n",
       "10749  25850  10749          Romance  0.904980\n",
       "99     50363     99      Documentary  0.464502\n",
       "35     64547     35           Comedy  0.362429\n",
       "18     97986     18            Drama  0.238746"
      ]
     },
     "execution_count": 33,
     "metadata": {},
     "output_type": "execute_result"
    }
   ],
   "source": [
    "map_gender={\"28\":\"Action\",\n",
    "\"12\":\"Adventure\",\n",
    "\"16\":\"Animation\",\n",
    "\"35\":\"Comedy\",\n",
    "\"80\":\"Crime\",\n",
    "\"99\":\"Documentary\",\n",
    "\"18\":\"Drama\",\n",
    "\"10751\":\"Family\",\n",
    "\"14\":\"Fantasy\",\n",
    "\"36\":\t\"History\",\n",
    "\"27\":\"Horror\",\n",
    "\"10402\"\t:\"Music\",\n",
    "\"9648\":\"Mystery\",\n",
    "\"10749\":\"Romance\",\n",
    "\"878\"\t:\"Science Fiction\",\n",
    "\"10770\":\"TV Movie\",\n",
    "\"53\":\"Thriller\",\n",
    "\"10752\":\"War\",\n",
    "\"37\":\"Western\"}\n",
    "\n",
    "series_genre_id_counts = df.genre_id.explode().value_counts()\n",
    "series_genre_id_counts\n",
    "df_genre = pd.DataFrame(series_genre_id_counts)\n",
    "df_genre[\"id\"] = df_genre.index\n",
    "df_genre.rename(columns={\"genre_id\" : \"count\"},inplace=True)\n",
    "df_genre[\"name\"] = df_genre[\"id\"].apply(lambda x : map_gender[str(x)])\n",
    "df_genre[\"weight\"] = df_genre[\"id\"].apply(lambda x : class_weights_genre_id[x])\n",
    "df_genre.sort_values(by=\"count\")"
   ]
  },
  {
   "cell_type": "code",
   "execution_count": null,
   "metadata": {
    "id": "4Uc9-PAmduar"
   },
   "outputs": [],
   "source": []
  },
  {
   "cell_type": "markdown",
   "metadata": {
    "id": "cPXBrisCLgl2"
   },
   "source": [
    "# Simple Model"
   ]
  },
  {
   "cell_type": "code",
   "execution_count": 34,
   "metadata": {
    "id": "hwX1XsBiduav"
   },
   "outputs": [],
   "source": [
    "#https://machinelearningmastery.com/how-to-use-transfer-learning-when-developing-convolutional-neural-network-models/\n",
    "from keras.applications.inception_v3 import InceptionV3\n",
    "from keras.applications.vgg16 import VGG16\n",
    "from keras.applications.densenet import DenseNet169\n",
    "\n",
    "from keras.models import Model\n",
    "\n",
    "def model_create():\n",
    "    # load model\n",
    "    #model = VGG16(include_top=False,  input_shape=(299,299, 3))\n",
    "    model = DenseNet169(include_top=False,  input_shape=(299,299, 3))\n",
    "\n",
    "    # summarize the model\n",
    "    #display(model.summary())\n",
    "    # try global average pooling instead flatten\n",
    "    \n",
    "    #x= layers.Flatten()(model.layers[-1].output)\n",
    "    x=layers.GlobalMaxPool2D()(model.layers[-1].output)\n",
    "    \n",
    "    #x= layers.Dense(128, activation='relu')(x)\n",
    "    x= layers.Dense(1024, activation='relu')(x)\n",
    "    x= layers.Dense(128, activation='relu')(x)\n",
    "    \n",
    "    #x= layers.Dropout(0.5)(x)\n",
    "    classifications = layers.Dense(len(train_generator.class_indices), activation='sigmoid')(x)\n",
    "    \n",
    "    model = Model(inputs=model.inputs, outputs=classifications)\n",
    "\n",
    "    return model\n",
    "\n"
   ]
  },
  {
   "cell_type": "markdown",
   "metadata": {},
   "source": [
    "Finally, we implemented a standard DenseNet-169 architecture with similar modifications. The final\n",
    "fully-connected layer of 1000 units was once again replaced by 3 sequential fully-connected layers of\n",
    "3\n",
    "1024, 128, and 7 units with ReLU, ReLU, and sigmoid activations respectively. The entire model\n",
    "consists of 14,479,943 parameters, out of which, 14,321,543 were trainable."
   ]
  },
  {
   "cell_type": "code",
   "execution_count": 35,
   "metadata": {},
   "outputs": [],
   "source": [
    "fname_model = BASE_DIR + \"DenseNet169_1\""
   ]
  },
  {
   "cell_type": "markdown",
   "metadata": {
    "id": "PALSOI_Sjd45"
   },
   "source": [
    "import os.path\n",
    "\n",
    "fname_model = BASE_DIR + \"DenseNet169_1\"\n",
    "\n",
    "if  os.path.exists(fname_model) :\n",
    "    print(\"Load model\")\n",
    "    model = keras.models.load_model(fname_model, custom_objects={'_tf_keras_metric':f1_micro})\n"
   ]
  },
  {
   "cell_type": "code",
   "execution_count": 36,
   "metadata": {},
   "outputs": [
    {
     "name": "stdout",
     "output_type": "stream",
     "text": [
      "mkdir: das Verzeichnis »model_checkpoints“ kann nicht angelegt werden: Die Datei existiert bereits\n"
     ]
    }
   ],
   "source": [
    "!mkdir model_checkpoints"
   ]
  },
  {
   "cell_type": "code",
   "execution_count": 37,
   "metadata": {},
   "outputs": [
    {
     "name": "stdout",
     "output_type": "stream",
     "text": [
      "create model\n",
      "compile model\n"
     ]
    }
   ],
   "source": [
    "print(\"create model\")\n",
    "model = model_create()\n",
    "print(\"compile model\")"
   ]
  },
  {
   "cell_type": "code",
   "execution_count": 38,
   "metadata": {},
   "outputs": [],
   "source": [
    "checkpoint_path =  \"model_checkpoints/saved-model-06-0.46.hdf5\"\n",
    "model.load_weights(checkpoint_path)"
   ]
  },
  {
   "cell_type": "code",
   "execution_count": 39,
   "metadata": {},
   "outputs": [
    {
     "name": "stdout",
     "output_type": "stream",
     "text": [
      "599\n",
      "stopping at 594\n"
     ]
    }
   ],
   "source": [
    " # mark loaded layers as not trainable\n",
    "    # except last layer\n",
    "\n",
    "leng = len(model.layers)\n",
    "print(leng)\n",
    "for i,layer in enumerate(model.layers):\n",
    "    if leng-i == 5:\n",
    "      print(\"stopping at\",i)\n",
    "      break\n",
    "    layer.trainable = False"
   ]
  },
  {
   "cell_type": "code",
   "execution_count": 53,
   "metadata": {},
   "outputs": [],
   "source": [
    "from keras import metrics\n",
    "threshold = 0.35\n",
    "f1_micro = tfa.metrics.F1Score(num_classes=19, average='micro', name='f1_micro',threshold=threshold), \n",
    "f1_macro = tfa.metrics.F1Score(num_classes=19, average='macro', name='f1_macro',threshold=threshold)\n",
    "f1_weighted = tfa.metrics.F1Score(num_classes=19,  average='weighted', name='f1_score_weighted',threshold=threshold)\n"
   ]
  },
  {
   "cell_type": "code",
   "execution_count": 96,
   "metadata": {
    "id": "c0lPlJz1dubT"
   },
   "outputs": [
    {
     "name": "stdout",
     "output_type": "stream",
     "text": [
      "create callbacks\n"
     ]
    }
   ],
   "source": [
    "\n",
    "\n",
    "#https://neptune.ai/blog/keras-metrics\n",
    "# detect and init the TPU\n",
    "#tpu = tf.distribute.cluster_resolver.TPUClusterResolver.connect()\n",
    "\n",
    "# instantiate a distribution strategy\n",
    "#tpu_strategy = tf.distribute.experimental.TPUStrategy(tpu)\n",
    "\n",
    "# instantiating the model in the strategy scope creates the model on the TPU\n",
    "#with tpu_strategy.scope():\n",
    "\n",
    "model.compile(optimizer='adam', loss=\"binary_crossentropy\", \n",
    "          metrics=[\"categorical_accuracy\",\n",
    "                   tf.keras.metrics.AUC(multi_label = True),#,label_weights=class_weights),\n",
    "                    f1_micro,\n",
    "                    f1_macro,\n",
    "                    f1_weighted,\n",
    "                  ])\n",
    "print(\"create callbacks\")\n",
    "from keras.callbacks import ModelCheckpoint\n",
    "\n",
    "filepath = \"model_checkpoints/saved-model-{epoch:02d}-{val_f1_score_weighted:.2f}.hdf5\"\n",
    "checkpoint = ModelCheckpoint(filepath, monitor='val_f1_score_weighted', verbose=1, save_best_only=True, mode='max')\n",
    "callbacks_list = [checkpoint]\n",
    "\n"
   ]
  },
  {
   "cell_type": "code",
   "execution_count": 106,
   "metadata": {},
   "outputs": [
    {
     "name": "stdout",
     "output_type": "stream",
     "text": [
      "model fit\n",
      "4172/4172 [==============================] - 3529s 846ms/step - loss: 0.2106 - categorical_accuracy: 0.4605 - auc_1: 0.7965 - f1_micro: 0.4713 - f1_macro: 0.3092 - f1_score_weighted: 0.4270 - val_loss: 0.2866 - val_categorical_accuracy: 0.4071 - val_auc_1: 0.7952 - val_f1_micro: 0.4695 - val_f1_macro: 0.3100 - val_f1_score_weighted: 0.4202\n",
      "\n",
      "Epoch 00001: val_f1_score_weighted did not improve from 0.45863\n"
     ]
    }
   ],
   "source": [
    "print(\"model fit\")\n",
    "history = model.fit(\n",
    "    train_generator,\n",
    "    validation_data=valid_generator,\n",
    "    epochs=1,# 5,\n",
    "    # reduce steps per epochs for faster epochs\n",
    "    #steps_per_epoch = math.ceil(266957 / BATCH_SIZE /8),\n",
    "    #class_weight = class_weights,\n",
    "    callbacks=callbacks_list,\n",
    "    #use_multiprocessing=True\n",
    ")"
   ]
  },
  {
   "cell_type": "code",
   "execution_count": null,
   "metadata": {},
   "outputs": [],
   "source": []
  },
  {
   "cell_type": "code",
   "execution_count": 107,
   "metadata": {
    "id": "eL6vW2zjji4o"
   },
   "outputs": [
    {
     "name": "stdout",
     "output_type": "stream",
     "text": [
      "mkdir: das Verzeichnis »final_model“ kann nicht angelegt werden: Die Datei existiert bereits\n",
      "mkdir: das Verzeichnis »final_model_weights“ kann nicht angelegt werden: Die Datei existiert bereits\n"
     ]
    }
   ],
   "source": [
    "!mkdir final_model\n",
    "!mkdir final_model_weights"
   ]
  },
  {
   "cell_type": "code",
   "execution_count": 108,
   "metadata": {
    "id": "eQJFXU5DdubU"
   },
   "outputs": [
    {
     "name": "stdout",
     "output_type": "stream",
     "text": [
      "Saving final model\n",
      "INFO:tensorflow:Assets written to: final_model/./DenseNet169_1/assets\n",
      "Saving final model weights\n"
     ]
    }
   ],
   "source": [
    "print(\"Saving final model\")\n",
    "\n",
    "model.save(\"final_model/\" + fname_model)\n",
    "print(\"Saving final model weights\")\n",
    "\n",
    "model.save_weights(\"final_model_weights/\" + fname_model + \".ckpt\")\n",
    "#load_status = sequential_model.load_weights(\"ckpt\")"
   ]
  },
  {
   "cell_type": "code",
   "execution_count": 154,
   "metadata": {},
   "outputs": [],
   "source": [
    "y_pred = model.predict(valid_generator)"
   ]
  },
  {
   "cell_type": "code",
   "execution_count": 155,
   "metadata": {},
   "outputs": [
    {
     "data": {
      "text/plain": [
       "(980, 19)"
      ]
     },
     "execution_count": 155,
     "metadata": {},
     "output_type": "execute_result"
    }
   ],
   "source": [
    "y_pred.shape"
   ]
  },
  {
   "cell_type": "code",
   "execution_count": 158,
   "metadata": {},
   "outputs": [],
   "source": [
    "y_true = [ [1 if i in e else 0 for i in range(19)] for e in valid_generator.labels]\n",
    "y_true = np.array(y_true)"
   ]
  },
  {
   "cell_type": "code",
   "execution_count": 163,
   "metadata": {},
   "outputs": [
    {
     "data": {
      "text/html": [
       "<div>\n",
       "<style scoped>\n",
       "    .dataframe tbody tr th:only-of-type {\n",
       "        vertical-align: middle;\n",
       "    }\n",
       "\n",
       "    .dataframe tbody tr th {\n",
       "        vertical-align: top;\n",
       "    }\n",
       "\n",
       "    .dataframe thead th {\n",
       "        text-align: right;\n",
       "    }\n",
       "</style>\n",
       "<table border=\"1\" class=\"dataframe\">\n",
       "  <thead>\n",
       "    <tr style=\"text-align: right;\">\n",
       "      <th></th>\n",
       "      <th>threshold</th>\n",
       "      <th>f1-micro</th>\n",
       "      <th>f1-weighted</th>\n",
       "      <th>class</th>\n",
       "    </tr>\n",
       "  </thead>\n",
       "  <tbody>\n",
       "    <tr>\n",
       "      <th>0</th>\n",
       "      <td>0.100000</td>\n",
       "      <td>0.467956</td>\n",
       "      <td>0.475777</td>\n",
       "      <td>all</td>\n",
       "    </tr>\n",
       "    <tr>\n",
       "      <th>1</th>\n",
       "      <td>0.144444</td>\n",
       "      <td>0.503044</td>\n",
       "      <td>0.489854</td>\n",
       "      <td>all</td>\n",
       "    </tr>\n",
       "    <tr>\n",
       "      <th>2</th>\n",
       "      <td>0.188889</td>\n",
       "      <td>0.517184</td>\n",
       "      <td>0.488811</td>\n",
       "      <td>all</td>\n",
       "    </tr>\n",
       "    <tr>\n",
       "      <th>3</th>\n",
       "      <td>0.233333</td>\n",
       "      <td>0.520643</td>\n",
       "      <td>0.483615</td>\n",
       "      <td>all</td>\n",
       "    </tr>\n",
       "    <tr>\n",
       "      <th>4</th>\n",
       "      <td>0.277778</td>\n",
       "      <td>0.511047</td>\n",
       "      <td>0.466600</td>\n",
       "      <td>all</td>\n",
       "    </tr>\n",
       "    <tr>\n",
       "      <th>5</th>\n",
       "      <td>0.322222</td>\n",
       "      <td>0.494681</td>\n",
       "      <td>0.443013</td>\n",
       "      <td>all</td>\n",
       "    </tr>\n",
       "    <tr>\n",
       "      <th>6</th>\n",
       "      <td>0.366667</td>\n",
       "      <td>0.481085</td>\n",
       "      <td>0.427526</td>\n",
       "      <td>all</td>\n",
       "    </tr>\n",
       "    <tr>\n",
       "      <th>7</th>\n",
       "      <td>0.411111</td>\n",
       "      <td>0.450195</td>\n",
       "      <td>0.395599</td>\n",
       "      <td>all</td>\n",
       "    </tr>\n",
       "    <tr>\n",
       "      <th>8</th>\n",
       "      <td>0.455556</td>\n",
       "      <td>0.404662</td>\n",
       "      <td>0.355617</td>\n",
       "      <td>all</td>\n",
       "    </tr>\n",
       "    <tr>\n",
       "      <th>9</th>\n",
       "      <td>0.500000</td>\n",
       "      <td>0.363463</td>\n",
       "      <td>0.317105</td>\n",
       "      <td>all</td>\n",
       "    </tr>\n",
       "  </tbody>\n",
       "</table>\n",
       "</div>"
      ],
      "text/plain": [
       "   threshold  f1-micro  f1-weighted class\n",
       "0   0.100000  0.467956     0.475777   all\n",
       "1   0.144444  0.503044     0.489854   all\n",
       "2   0.188889  0.517184     0.488811   all\n",
       "3   0.233333  0.520643     0.483615   all\n",
       "4   0.277778  0.511047     0.466600   all\n",
       "5   0.322222  0.494681     0.443013   all\n",
       "6   0.366667  0.481085     0.427526   all\n",
       "7   0.411111  0.450195     0.395599   all\n",
       "8   0.455556  0.404662     0.355617   all\n",
       "9   0.500000  0.363463     0.317105   all"
      ]
     },
     "execution_count": 163,
     "metadata": {},
     "output_type": "execute_result"
    }
   ],
   "source": [
    "from sklearn.metrics import f1_score\n",
    "\n",
    "ths = np.linspace(0.1, 0.5, 10)\n",
    "\n",
    "pd.DataFrame({\n",
    "    'threshold': ths, \n",
    "    'f1-micro': [f1_score(y_true, (y_pred > th)*1., average=\"micro\") for th in ths],\n",
    "    'f1-weighted': [f1_score(y_true, (y_pred > th)*1., average=\"weighted\") for th in ths],\n",
    "    'class' : \"all\"\n",
    "    }\n",
    ")"
   ]
  },
  {
   "cell_type": "code",
   "execution_count": 181,
   "metadata": {},
   "outputs": [
    {
     "data": {
      "text/html": [
       "<div>\n",
       "<style scoped>\n",
       "    .dataframe tbody tr th:only-of-type {\n",
       "        vertical-align: middle;\n",
       "    }\n",
       "\n",
       "    .dataframe tbody tr th {\n",
       "        vertical-align: top;\n",
       "    }\n",
       "\n",
       "    .dataframe thead th {\n",
       "        text-align: right;\n",
       "    }\n",
       "</style>\n",
       "<table border=\"1\" class=\"dataframe\">\n",
       "  <thead>\n",
       "    <tr style=\"text-align: right;\">\n",
       "      <th></th>\n",
       "      <th>threshold</th>\n",
       "      <th>f1-class_0</th>\n",
       "      <th>f1-class_1</th>\n",
       "      <th>f1-class_2</th>\n",
       "      <th>f1-class_3</th>\n",
       "      <th>f1-class_4</th>\n",
       "      <th>f1-class_5</th>\n",
       "      <th>f1-class_6</th>\n",
       "      <th>f1-class_7</th>\n",
       "      <th>f1-class_8</th>\n",
       "      <th>f1-class_9</th>\n",
       "      <th>f1-class_10</th>\n",
       "      <th>f1-class_11</th>\n",
       "      <th>f1-class_12</th>\n",
       "      <th>f1-class_13</th>\n",
       "      <th>f1-class_14</th>\n",
       "      <th>f1-class_15</th>\n",
       "      <th>f1-class_16</th>\n",
       "      <th>f1-class_17</th>\n",
       "      <th>f1-class_18</th>\n",
       "    </tr>\n",
       "  </thead>\n",
       "  <tbody>\n",
       "    <tr>\n",
       "      <th>0</th>\n",
       "      <td>0.10</td>\n",
       "      <td>0.406877</td>\n",
       "      <td>0.352381</td>\n",
       "      <td>0.580311</td>\n",
       "      <td>0.627393</td>\n",
       "      <td>0.482143</td>\n",
       "      <td>0.456395</td>\n",
       "      <td>0.630189</td>\n",
       "      <td>0.121212</td>\n",
       "      <td>0.400000</td>\n",
       "      <td>0.511696</td>\n",
       "      <td>0.318725</td>\n",
       "      <td>0.181250</td>\n",
       "      <td>0.421053</td>\n",
       "      <td>0.190476</td>\n",
       "      <td>0.168675</td>\n",
       "      <td>0.430177</td>\n",
       "      <td>0.448179</td>\n",
       "      <td>0.303797</td>\n",
       "      <td>0.081081</td>\n",
       "    </tr>\n",
       "    <tr>\n",
       "      <th>1</th>\n",
       "      <td>0.15</td>\n",
       "      <td>0.359375</td>\n",
       "      <td>0.362416</td>\n",
       "      <td>0.650307</td>\n",
       "      <td>0.634294</td>\n",
       "      <td>0.527132</td>\n",
       "      <td>0.487633</td>\n",
       "      <td>0.678840</td>\n",
       "      <td>0.036364</td>\n",
       "      <td>0.400000</td>\n",
       "      <td>0.537906</td>\n",
       "      <td>0.329545</td>\n",
       "      <td>0.233333</td>\n",
       "      <td>0.422535</td>\n",
       "      <td>0.054054</td>\n",
       "      <td>0.161616</td>\n",
       "      <td>0.422175</td>\n",
       "      <td>0.538182</td>\n",
       "      <td>0.285714</td>\n",
       "      <td>0.112676</td>\n",
       "    </tr>\n",
       "    <tr>\n",
       "      <th>2</th>\n",
       "      <td>0.20</td>\n",
       "      <td>0.317949</td>\n",
       "      <td>0.260870</td>\n",
       "      <td>0.662252</td>\n",
       "      <td>0.649206</td>\n",
       "      <td>0.529148</td>\n",
       "      <td>0.495902</td>\n",
       "      <td>0.694935</td>\n",
       "      <td>0.000000</td>\n",
       "      <td>0.363636</td>\n",
       "      <td>0.502128</td>\n",
       "      <td>0.335766</td>\n",
       "      <td>0.282486</td>\n",
       "      <td>0.422222</td>\n",
       "      <td>0.000000</td>\n",
       "      <td>0.136986</td>\n",
       "      <td>0.435028</td>\n",
       "      <td>0.578723</td>\n",
       "      <td>0.313725</td>\n",
       "      <td>0.156863</td>\n",
       "    </tr>\n",
       "    <tr>\n",
       "      <th>3</th>\n",
       "      <td>0.25</td>\n",
       "      <td>0.231707</td>\n",
       "      <td>0.202020</td>\n",
       "      <td>0.661972</td>\n",
       "      <td>0.663851</td>\n",
       "      <td>0.463054</td>\n",
       "      <td>0.508314</td>\n",
       "      <td>0.706179</td>\n",
       "      <td>0.000000</td>\n",
       "      <td>0.380952</td>\n",
       "      <td>0.459658</td>\n",
       "      <td>0.346667</td>\n",
       "      <td>0.302158</td>\n",
       "      <td>0.346154</td>\n",
       "      <td>0.000000</td>\n",
       "      <td>0.147059</td>\n",
       "      <td>0.388158</td>\n",
       "      <td>0.606635</td>\n",
       "      <td>0.260870</td>\n",
       "      <td>0.200000</td>\n",
       "    </tr>\n",
       "    <tr>\n",
       "      <th>4</th>\n",
       "      <td>0.30</td>\n",
       "      <td>0.225166</td>\n",
       "      <td>0.152174</td>\n",
       "      <td>0.671642</td>\n",
       "      <td>0.675651</td>\n",
       "      <td>0.417582</td>\n",
       "      <td>0.502762</td>\n",
       "      <td>0.700549</td>\n",
       "      <td>0.000000</td>\n",
       "      <td>0.400000</td>\n",
       "      <td>0.425068</td>\n",
       "      <td>0.297436</td>\n",
       "      <td>0.317757</td>\n",
       "      <td>0.321678</td>\n",
       "      <td>0.000000</td>\n",
       "      <td>0.098361</td>\n",
       "      <td>0.332046</td>\n",
       "      <td>0.571429</td>\n",
       "      <td>0.100000</td>\n",
       "      <td>0.242424</td>\n",
       "    </tr>\n",
       "    <tr>\n",
       "      <th>5</th>\n",
       "      <td>0.35</td>\n",
       "      <td>0.142857</td>\n",
       "      <td>0.046512</td>\n",
       "      <td>0.666667</td>\n",
       "      <td>0.681382</td>\n",
       "      <td>0.400000</td>\n",
       "      <td>0.510769</td>\n",
       "      <td>0.672646</td>\n",
       "      <td>0.000000</td>\n",
       "      <td>0.400000</td>\n",
       "      <td>0.409496</td>\n",
       "      <td>0.200000</td>\n",
       "      <td>0.333333</td>\n",
       "      <td>0.287879</td>\n",
       "      <td>0.000000</td>\n",
       "      <td>0.101695</td>\n",
       "      <td>0.294372</td>\n",
       "      <td>0.563218</td>\n",
       "      <td>0.054054</td>\n",
       "      <td>0.206897</td>\n",
       "    </tr>\n",
       "    <tr>\n",
       "      <th>6</th>\n",
       "      <td>0.40</td>\n",
       "      <td>0.122137</td>\n",
       "      <td>0.023529</td>\n",
       "      <td>0.689076</td>\n",
       "      <td>0.660317</td>\n",
       "      <td>0.387500</td>\n",
       "      <td>0.478689</td>\n",
       "      <td>0.662441</td>\n",
       "      <td>0.000000</td>\n",
       "      <td>0.333333</td>\n",
       "      <td>0.343234</td>\n",
       "      <td>0.133333</td>\n",
       "      <td>0.268657</td>\n",
       "      <td>0.274809</td>\n",
       "      <td>0.000000</td>\n",
       "      <td>0.071429</td>\n",
       "      <td>0.214634</td>\n",
       "      <td>0.545455</td>\n",
       "      <td>0.000000</td>\n",
       "      <td>0.230769</td>\n",
       "    </tr>\n",
       "    <tr>\n",
       "      <th>7</th>\n",
       "      <td>0.45</td>\n",
       "      <td>0.109375</td>\n",
       "      <td>0.023529</td>\n",
       "      <td>0.689076</td>\n",
       "      <td>0.611046</td>\n",
       "      <td>0.337838</td>\n",
       "      <td>0.427046</td>\n",
       "      <td>0.602041</td>\n",
       "      <td>0.000000</td>\n",
       "      <td>0.352941</td>\n",
       "      <td>0.249084</td>\n",
       "      <td>0.083916</td>\n",
       "      <td>0.275862</td>\n",
       "      <td>0.198347</td>\n",
       "      <td>0.000000</td>\n",
       "      <td>0.072727</td>\n",
       "      <td>0.149733</td>\n",
       "      <td>0.520000</td>\n",
       "      <td>0.000000</td>\n",
       "      <td>0.160000</td>\n",
       "    </tr>\n",
       "    <tr>\n",
       "      <th>8</th>\n",
       "      <td>0.50</td>\n",
       "      <td>0.065041</td>\n",
       "      <td>0.023529</td>\n",
       "      <td>0.695652</td>\n",
       "      <td>0.575916</td>\n",
       "      <td>0.300000</td>\n",
       "      <td>0.393822</td>\n",
       "      <td>0.555354</td>\n",
       "      <td>0.000000</td>\n",
       "      <td>0.250000</td>\n",
       "      <td>0.158103</td>\n",
       "      <td>0.057971</td>\n",
       "      <td>0.250000</td>\n",
       "      <td>0.121739</td>\n",
       "      <td>0.000000</td>\n",
       "      <td>0.074074</td>\n",
       "      <td>0.069364</td>\n",
       "      <td>0.468085</td>\n",
       "      <td>0.000000</td>\n",
       "      <td>0.173913</td>\n",
       "    </tr>\n",
       "  </tbody>\n",
       "</table>\n",
       "</div>"
      ],
      "text/plain": [
       "   threshold  f1-class_0  f1-class_1  f1-class_2  f1-class_3  f1-class_4  \\\n",
       "0       0.10    0.406877    0.352381    0.580311    0.627393    0.482143   \n",
       "1       0.15    0.359375    0.362416    0.650307    0.634294    0.527132   \n",
       "2       0.20    0.317949    0.260870    0.662252    0.649206    0.529148   \n",
       "3       0.25    0.231707    0.202020    0.661972    0.663851    0.463054   \n",
       "4       0.30    0.225166    0.152174    0.671642    0.675651    0.417582   \n",
       "5       0.35    0.142857    0.046512    0.666667    0.681382    0.400000   \n",
       "6       0.40    0.122137    0.023529    0.689076    0.660317    0.387500   \n",
       "7       0.45    0.109375    0.023529    0.689076    0.611046    0.337838   \n",
       "8       0.50    0.065041    0.023529    0.695652    0.575916    0.300000   \n",
       "\n",
       "   f1-class_5  f1-class_6  f1-class_7  f1-class_8  f1-class_9  f1-class_10  \\\n",
       "0    0.456395    0.630189    0.121212    0.400000    0.511696     0.318725   \n",
       "1    0.487633    0.678840    0.036364    0.400000    0.537906     0.329545   \n",
       "2    0.495902    0.694935    0.000000    0.363636    0.502128     0.335766   \n",
       "3    0.508314    0.706179    0.000000    0.380952    0.459658     0.346667   \n",
       "4    0.502762    0.700549    0.000000    0.400000    0.425068     0.297436   \n",
       "5    0.510769    0.672646    0.000000    0.400000    0.409496     0.200000   \n",
       "6    0.478689    0.662441    0.000000    0.333333    0.343234     0.133333   \n",
       "7    0.427046    0.602041    0.000000    0.352941    0.249084     0.083916   \n",
       "8    0.393822    0.555354    0.000000    0.250000    0.158103     0.057971   \n",
       "\n",
       "   f1-class_11  f1-class_12  f1-class_13  f1-class_14  f1-class_15  \\\n",
       "0     0.181250     0.421053     0.190476     0.168675     0.430177   \n",
       "1     0.233333     0.422535     0.054054     0.161616     0.422175   \n",
       "2     0.282486     0.422222     0.000000     0.136986     0.435028   \n",
       "3     0.302158     0.346154     0.000000     0.147059     0.388158   \n",
       "4     0.317757     0.321678     0.000000     0.098361     0.332046   \n",
       "5     0.333333     0.287879     0.000000     0.101695     0.294372   \n",
       "6     0.268657     0.274809     0.000000     0.071429     0.214634   \n",
       "7     0.275862     0.198347     0.000000     0.072727     0.149733   \n",
       "8     0.250000     0.121739     0.000000     0.074074     0.069364   \n",
       "\n",
       "   f1-class_16  f1-class_17  f1-class_18  \n",
       "0     0.448179     0.303797     0.081081  \n",
       "1     0.538182     0.285714     0.112676  \n",
       "2     0.578723     0.313725     0.156863  \n",
       "3     0.606635     0.260870     0.200000  \n",
       "4     0.571429     0.100000     0.242424  \n",
       "5     0.563218     0.054054     0.206897  \n",
       "6     0.545455     0.000000     0.230769  \n",
       "7     0.520000     0.000000     0.160000  \n",
       "8     0.468085     0.000000     0.173913  "
      ]
     },
     "execution_count": 181,
     "metadata": {},
     "output_type": "execute_result"
    }
   ],
   "source": [
    "from sklearn.metrics import f1_score\n",
    "\n",
    "ths = np.linspace(0.1, 0.5, 9)\n",
    "\n",
    "df_ths = pd.DataFrame({'threshold' : ths}\n",
    ")\n",
    "\n",
    "for cl in range(19):\n",
    "    col = pd.DataFrame({f'f1-class_{cl}': [f1_score(y_true[:,cl], (y_pred[:,cl] > th)*1.) for th in ths]          \n",
    "                       })\n",
    "    df_ths=pd.concat([df_ths,col],axis=\"columns\")\n",
    "\n",
    "df_ths.style.highlight_max(color = 'lightgreen', axis = 0)\n",
    "df_ths"
   ]
  },
  {
   "cell_type": "code",
   "execution_count": 196,
   "metadata": {},
   "outputs": [
    {
     "data": {
      "text/plain": [
       "array([0.1 , 0.15, 0.5 , 0.35, 0.2 , 0.35, 0.25, 0.1 , 0.15, 0.15, 0.25,\n",
       "       0.35, 0.15, 0.1 , 0.1 , 0.2 , 0.25, 0.2 , 0.3 ])"
      ]
     },
     "execution_count": 196,
     "metadata": {},
     "output_type": "execute_result"
    }
   ],
   "source": [
    "argmax_index=df_ths.iloc[:,1:].idxmax(axis=0)\n",
    "class_thresholds = df_ths.threshold[argmax_index].values\n",
    "class_thresholds"
   ]
  },
  {
   "cell_type": "code",
   "execution_count": 199,
   "metadata": {},
   "outputs": [
    {
     "data": {
      "text/plain": [
       "0.5289968652037618"
      ]
     },
     "execution_count": 199,
     "metadata": {},
     "output_type": "execute_result"
    }
   ],
   "source": [
    "f1_score(y_true, (y_pred > class_thresholds)*1., average=\"micro\")"
   ]
  },
  {
   "cell_type": "code",
   "execution_count": 200,
   "metadata": {},
   "outputs": [
    {
     "data": {
      "text/plain": [
       "0.5228241429297649"
      ]
     },
     "execution_count": 200,
     "metadata": {},
     "output_type": "execute_result"
    }
   ],
   "source": [
    "f1_score(y_true, (y_pred > class_thresholds)*1., average=\"weighted\")"
   ]
  },
  {
   "cell_type": "code",
   "execution_count": 94,
   "metadata": {},
   "outputs": [],
   "source": [
    "y_true = np.array(y_true)"
   ]
  },
  {
   "cell_type": "code",
   "execution_count": 100,
   "metadata": {},
   "outputs": [
    {
     "data": {
      "text/plain": [
       "(980,)"
      ]
     },
     "execution_count": 100,
     "metadata": {},
     "output_type": "execute_result"
    }
   ],
   "source": [
    "y_true[:,3].shape"
   ]
  },
  {
   "cell_type": "code",
   "execution_count": 99,
   "metadata": {},
   "outputs": [
    {
     "data": {
      "text/plain": [
       "(980,)"
      ]
     },
     "execution_count": 99,
     "metadata": {},
     "output_type": "execute_result"
    }
   ],
   "source": [
    "y_pred[:,3].shape"
   ]
  },
  {
   "cell_type": "code",
   "execution_count": 121,
   "metadata": {},
   "outputs": [
    {
     "data": {
      "text/html": [
       "<div>\n",
       "<style scoped>\n",
       "    .dataframe tbody tr th:only-of-type {\n",
       "        vertical-align: middle;\n",
       "    }\n",
       "\n",
       "    .dataframe tbody tr th {\n",
       "        vertical-align: top;\n",
       "    }\n",
       "\n",
       "    .dataframe thead th {\n",
       "        text-align: right;\n",
       "    }\n",
       "</style>\n",
       "<table border=\"1\" class=\"dataframe\">\n",
       "  <thead>\n",
       "    <tr style=\"text-align: right;\">\n",
       "      <th></th>\n",
       "      <th>count</th>\n",
       "      <th>id</th>\n",
       "      <th>name</th>\n",
       "      <th>weight</th>\n",
       "    </tr>\n",
       "  </thead>\n",
       "  <tbody>\n",
       "    <tr>\n",
       "      <th>18</th>\n",
       "      <td>97986</td>\n",
       "      <td>18</td>\n",
       "      <td>Drama</td>\n",
       "      <td>0.238746</td>\n",
       "    </tr>\n",
       "    <tr>\n",
       "      <th>35</th>\n",
       "      <td>64547</td>\n",
       "      <td>35</td>\n",
       "      <td>Comedy</td>\n",
       "      <td>0.362429</td>\n",
       "    </tr>\n",
       "    <tr>\n",
       "      <th>99</th>\n",
       "      <td>50363</td>\n",
       "      <td>99</td>\n",
       "      <td>Documentary</td>\n",
       "      <td>0.464502</td>\n",
       "    </tr>\n",
       "    <tr>\n",
       "      <th>10749</th>\n",
       "      <td>25850</td>\n",
       "      <td>10749</td>\n",
       "      <td>Romance</td>\n",
       "      <td>0.904980</td>\n",
       "    </tr>\n",
       "    <tr>\n",
       "      <th>28</th>\n",
       "      <td>23946</td>\n",
       "      <td>28</td>\n",
       "      <td>Action</td>\n",
       "      <td>0.976937</td>\n",
       "    </tr>\n",
       "    <tr>\n",
       "      <th>53</th>\n",
       "      <td>23580</td>\n",
       "      <td>53</td>\n",
       "      <td>Thriller</td>\n",
       "      <td>0.992101</td>\n",
       "    </tr>\n",
       "    <tr>\n",
       "      <th>27</th>\n",
       "      <td>21383</td>\n",
       "      <td>27</td>\n",
       "      <td>Horror</td>\n",
       "      <td>1.094034</td>\n",
       "    </tr>\n",
       "  </tbody>\n",
       "</table>\n",
       "</div>"
      ],
      "text/plain": [
       "       count     id         name    weight\n",
       "18     97986     18        Drama  0.238746\n",
       "35     64547     35       Comedy  0.362429\n",
       "99     50363     99  Documentary  0.464502\n",
       "10749  25850  10749      Romance  0.904980\n",
       "28     23946     28       Action  0.976937\n",
       "53     23580     53     Thriller  0.992101\n",
       "27     21383     27       Horror  1.094034"
      ]
     },
     "execution_count": 121,
     "metadata": {},
     "output_type": "execute_result"
    }
   ],
   "source": [
    "#df_genre.sort_values(by=\"count\",ascending=False)[:7]"
   ]
  },
  {
   "cell_type": "code",
   "execution_count": 145,
   "metadata": {},
   "outputs": [
    {
     "data": {
      "text/plain": [
       "dict_values([0, 1, 2, 3, 4, 5, 6, 7, 8, 9, 10, 11, 12, 13, 14, 15, 16, 17, 18])"
      ]
     },
     "execution_count": 145,
     "metadata": {},
     "output_type": "execute_result"
    }
   ],
   "source": [
    "#valid_generator.class_indices.keys()"
   ]
  },
  {
   "cell_type": "code",
   "execution_count": 149,
   "metadata": {},
   "outputs": [
    {
     "data": {
      "text/html": [
       "<div>\n",
       "<style scoped>\n",
       "    .dataframe tbody tr th:only-of-type {\n",
       "        vertical-align: middle;\n",
       "    }\n",
       "\n",
       "    .dataframe tbody tr th {\n",
       "        vertical-align: top;\n",
       "    }\n",
       "\n",
       "    .dataframe thead th {\n",
       "        text-align: right;\n",
       "    }\n",
       "</style>\n",
       "<table border=\"1\" class=\"dataframe\">\n",
       "  <thead>\n",
       "    <tr style=\"text-align: right;\">\n",
       "      <th></th>\n",
       "      <th>count</th>\n",
       "      <th>id</th>\n",
       "      <th>name</th>\n",
       "      <th>weight</th>\n",
       "    </tr>\n",
       "  </thead>\n",
       "  <tbody>\n",
       "    <tr>\n",
       "      <th>18</th>\n",
       "      <td>97986</td>\n",
       "      <td>18</td>\n",
       "      <td>Drama</td>\n",
       "      <td>0.238746</td>\n",
       "    </tr>\n",
       "    <tr>\n",
       "      <th>35</th>\n",
       "      <td>64547</td>\n",
       "      <td>35</td>\n",
       "      <td>Comedy</td>\n",
       "      <td>0.362429</td>\n",
       "    </tr>\n",
       "    <tr>\n",
       "      <th>99</th>\n",
       "      <td>50363</td>\n",
       "      <td>99</td>\n",
       "      <td>Documentary</td>\n",
       "      <td>0.464502</td>\n",
       "    </tr>\n",
       "    <tr>\n",
       "      <th>10749</th>\n",
       "      <td>25850</td>\n",
       "      <td>10749</td>\n",
       "      <td>Romance</td>\n",
       "      <td>0.904980</td>\n",
       "    </tr>\n",
       "    <tr>\n",
       "      <th>28</th>\n",
       "      <td>23946</td>\n",
       "      <td>28</td>\n",
       "      <td>Action</td>\n",
       "      <td>0.976937</td>\n",
       "    </tr>\n",
       "    <tr>\n",
       "      <th>53</th>\n",
       "      <td>23580</td>\n",
       "      <td>53</td>\n",
       "      <td>Thriller</td>\n",
       "      <td>0.992101</td>\n",
       "    </tr>\n",
       "    <tr>\n",
       "      <th>27</th>\n",
       "      <td>21383</td>\n",
       "      <td>27</td>\n",
       "      <td>Horror</td>\n",
       "      <td>1.094034</td>\n",
       "    </tr>\n",
       "  </tbody>\n",
       "</table>\n",
       "</div>"
      ],
      "text/plain": [
       "       count     id         name    weight\n",
       "18     97986     18        Drama  0.238746\n",
       "35     64547     35       Comedy  0.362429\n",
       "99     50363     99  Documentary  0.464502\n",
       "10749  25850  10749      Romance  0.904980\n",
       "28     23946     28       Action  0.976937\n",
       "53     23580     53     Thriller  0.992101\n",
       "27     21383     27       Horror  1.094034"
      ]
     },
     "metadata": {},
     "output_type": "display_data"
    },
    {
     "data": {
      "text/plain": [
       "{3: 'Drama',\n",
       " 4: 'Horror',\n",
       " 5: 'Action',\n",
       " 6: 'Comedy',\n",
       " 9: 'Thriller',\n",
       " 11: 'Documentary',\n",
       " 15: 'Romance'}"
      ]
     },
     "metadata": {},
     "output_type": "display_data"
    }
   ],
   "source": [
    "top_n_genre_ids = df_genre.sort_values(by=\"count\",ascending=False)[:7]\n",
    "display(top_n_genre_ids)\n",
    "top_n_genre_col_pos = {i:map_gender[str(e)] for i,e in enumerate(list(valid_generator.class_indices.keys())) if e in top_n_genre_ids.values}\n",
    "display(top_n_genre_col_pos)\n",
    "#mask_top_n_genre_ids = [(e in top_n_genre_ids.values) for e in list(valid_generator.class_indices.keys())]\n",
    "#mask_top_n_genre_ids"
   ]
  },
  {
   "cell_type": "code",
   "execution_count": 109,
   "metadata": {},
   "outputs": [],
   "source": [
    "#https://scikit-learn.org/stable/auto_examples/model_selection/plot_roc.html\n",
    "from sklearn.metrics import roc_curve, auc\n",
    "from scipy import interp\n",
    "import matplotlib.pyplot as plt\n",
    "from itertools import cycle\n",
    "\n",
    "# Compute ROC curve and ROC area for each class\n",
    "fpr = dict()\n",
    "tpr = dict()\n",
    "roc_auc = dict()\n",
    "n_classes=19\n",
    "for i in range(n_classes):\n",
    "    fpr[i], tpr[i], _ = roc_curve(y_true[:, i], \n",
    "                                  y_pred[:, i])\n",
    "    roc_auc[i] = auc(fpr[i], tpr[i])\n",
    "\n",
    "# Compute micro-average ROC curve and ROC area\n",
    "fpr[\"micro\"], tpr[\"micro\"], _ = roc_curve(y_true.ravel(), y_pred.ravel())\n",
    "roc_auc[\"micro\"] = auc(fpr[\"micro\"], tpr[\"micro\"])"
   ]
  },
  {
   "cell_type": "code",
   "execution_count": 152,
   "metadata": {},
   "outputs": [
    {
     "data": {
      "image/png": "[encoded data removed]",
      "text/plain": [
       "<Figure size 1080x1080 with 1 Axes>"
      ]
     },
     "metadata": {
      "needs_background": "light"
     },
     "output_type": "display_data"
    }
   ],
   "source": [
    "lw = 2\n",
    "# First aggregate all false positive rates\n",
    "all_fpr = np.unique(np.concatenate([fpr[i] for i in range(n_classes)]))\n",
    "\n",
    "# Then interpolate all ROC curves at this points\n",
    "mean_tpr = np.zeros_like(all_fpr)\n",
    "for i in range(n_classes):\n",
    "    mean_tpr += interp(all_fpr, fpr[i], tpr[i])\n",
    "\n",
    "# Finally average it and compute AUC\n",
    "mean_tpr /= n_classes\n",
    "\n",
    "fpr[\"macro\"] = all_fpr\n",
    "tpr[\"macro\"] = mean_tpr\n",
    "roc_auc[\"macro\"] = auc(fpr[\"macro\"], tpr[\"macro\"])\n",
    "\n",
    "# Plot all ROC curves\n",
    "plt.figure(figsize=(15,15))\n",
    "plt.plot(fpr[\"micro\"], tpr[\"micro\"],\n",
    "         label='micro-average ROC curve (area = {0:0.2f})'\n",
    "               ''.format(roc_auc[\"micro\"]),\n",
    "         color='deeppink', linestyle=':', linewidth=4)\n",
    "\n",
    "plt.plot(fpr[\"macro\"], tpr[\"macro\"],\n",
    "         label='macro-average ROC curve (area = {0:0.2f})'\n",
    "               ''.format(roc_auc[\"macro\"]),\n",
    "         color='navy', linestyle=':', linewidth=4)\n",
    "\n",
    "colors = cycle(['aqua', 'darkorange', 'cornflowerblue', 'b', 'g', 'r', 'c', 'm', 'y', 'k'])\n",
    "\n",
    "for i, color in zip(top_n_genre_col_pos.keys(), colors):#zip(range(n_classes), colors):\n",
    "    plt.plot(fpr[i], tpr[i], color=color, lw=lw,\n",
    "             label='ROC curve of class {0} (area = {1:0.2f})'\n",
    "             #''.format(map_gender[str(i)], roc_auc[i]))\n",
    "             ''.format(top_n_genre_col_pos[i], roc_auc[i]))\n",
    "\n",
    "plt.plot([0, 1], [0, 1], 'k--', lw=lw)\n",
    "plt.xlim([0.0, 1.0])\n",
    "plt.ylim([0.0, 1.05])\n",
    "plt.xlabel('False Positive Rate')\n",
    "plt.ylabel('True Positive Rate')\n",
    "plt.title('Receiver operating characteristic to multi-class')\n",
    "plt.legend(loc=\"lower right\")\n",
    "plt.show()"
   ]
  },
  {
   "cell_type": "code",
   "execution_count": 124,
   "metadata": {},
   "outputs": [
    {
     "data": {
      "text/html": [
       "<div>\n",
       "<style scoped>\n",
       "    .dataframe tbody tr th:only-of-type {\n",
       "        vertical-align: middle;\n",
       "    }\n",
       "\n",
       "    .dataframe tbody tr th {\n",
       "        vertical-align: top;\n",
       "    }\n",
       "\n",
       "    .dataframe thead th {\n",
       "        text-align: right;\n",
       "    }\n",
       "</style>\n",
       "<table border=\"1\" class=\"dataframe\">\n",
       "  <thead>\n",
       "    <tr style=\"text-align: right;\">\n",
       "      <th></th>\n",
       "      <th>count</th>\n",
       "      <th>id</th>\n",
       "      <th>name</th>\n",
       "      <th>weight</th>\n",
       "    </tr>\n",
       "  </thead>\n",
       "  <tbody>\n",
       "    <tr>\n",
       "      <th>18</th>\n",
       "      <td>97986</td>\n",
       "      <td>18</td>\n",
       "      <td>Drama</td>\n",
       "      <td>0.238746</td>\n",
       "    </tr>\n",
       "    <tr>\n",
       "      <th>35</th>\n",
       "      <td>64547</td>\n",
       "      <td>35</td>\n",
       "      <td>Comedy</td>\n",
       "      <td>0.362429</td>\n",
       "    </tr>\n",
       "    <tr>\n",
       "      <th>99</th>\n",
       "      <td>50363</td>\n",
       "      <td>99</td>\n",
       "      <td>Documentary</td>\n",
       "      <td>0.464502</td>\n",
       "    </tr>\n",
       "    <tr>\n",
       "      <th>10749</th>\n",
       "      <td>25850</td>\n",
       "      <td>10749</td>\n",
       "      <td>Romance</td>\n",
       "      <td>0.904980</td>\n",
       "    </tr>\n",
       "    <tr>\n",
       "      <th>28</th>\n",
       "      <td>23946</td>\n",
       "      <td>28</td>\n",
       "      <td>Action</td>\n",
       "      <td>0.976937</td>\n",
       "    </tr>\n",
       "    <tr>\n",
       "      <th>53</th>\n",
       "      <td>23580</td>\n",
       "      <td>53</td>\n",
       "      <td>Thriller</td>\n",
       "      <td>0.992101</td>\n",
       "    </tr>\n",
       "    <tr>\n",
       "      <th>27</th>\n",
       "      <td>21383</td>\n",
       "      <td>27</td>\n",
       "      <td>Horror</td>\n",
       "      <td>1.094034</td>\n",
       "    </tr>\n",
       "  </tbody>\n",
       "</table>\n",
       "</div>"
      ],
      "text/plain": [
       "       count     id         name    weight\n",
       "18     97986     18        Drama  0.238746\n",
       "35     64547     35       Comedy  0.362429\n",
       "99     50363     99  Documentary  0.464502\n",
       "10749  25850  10749      Romance  0.904980\n",
       "28     23946     28       Action  0.976937\n",
       "53     23580     53     Thriller  0.992101\n",
       "27     21383     27       Horror  1.094034"
      ]
     },
     "execution_count": 124,
     "metadata": {},
     "output_type": "execute_result"
    }
   ],
   "source": [
    "# f1 "
   ]
  },
  {
   "cell_type": "code",
   "execution_count": 133,
   "metadata": {},
   "outputs": [
    {
     "data": {
      "text/plain": [
       "[False,\n",
       " False,\n",
       " False,\n",
       " True,\n",
       " True,\n",
       " True,\n",
       " True,\n",
       " False,\n",
       " False,\n",
       " True,\n",
       " False,\n",
       " True,\n",
       " False,\n",
       " False,\n",
       " False,\n",
       " True,\n",
       " False,\n",
       " False,\n",
       " False]"
      ]
     },
     "execution_count": 133,
     "metadata": {},
     "output_type": "execute_result"
    }
   ],
   "source": []
  }
 ],
 "metadata": {
  "kernelspec": {
   "display_name": "Python [conda env:AIDA2]",
   "language": "python",
   "name": "conda-env-AIDA2-py"
  },
  "language_info": {
   "codemirror_mode": {
    "name": "ipython",
    "version": 3
   },
   "file_extension": ".py",
   "mimetype": "text/x-python",
   "name": "python",
   "nbconvert_exporter": "python",
   "pygments_lexer": "ipython3",
   "version": "3.8.5"
  }
 },
 "nbformat": 4,
 "nbformat_minor": 4
}
