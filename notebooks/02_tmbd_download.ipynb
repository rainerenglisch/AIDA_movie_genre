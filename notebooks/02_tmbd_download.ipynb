{
 "cells": [
  {
   "cell_type": "code",
   "execution_count": 4,
   "metadata": {},
   "outputs": [
    {
     "ename": "ModuleNotFoundError",
     "evalue": "No module named 'src'",
     "output_type": "error",
     "traceback": [
      "\u001b[0;31m-------------------\u001b[0m",
      "\u001b[0;31mModuleNotFoundError\u001b[0mTraceback (most recent call last)",
      "\u001b[0;32m<ipython-input-4-8023820ecade>\u001b[0m in \u001b[0;36m<module>\u001b[0;34m\u001b[0m\n\u001b[1;32m     10\u001b[0m \u001b[0;32mimport\u001b[0m \u001b[0mfastparquet\u001b[0m \u001b[0;32mas\u001b[0m \u001b[0mfp\u001b[0m\u001b[0;34m\u001b[0m\u001b[0;34m\u001b[0m\u001b[0m\n\u001b[1;32m     11\u001b[0m \u001b[0;32mimport\u001b[0m \u001b[0msys\u001b[0m\u001b[0;34m\u001b[0m\u001b[0;34m\u001b[0m\u001b[0m\n\u001b[0;32m---> 12\u001b[0;31m \u001b[0;32mimport\u001b[0m \u001b[0msrc\u001b[0m\u001b[0;34m.\u001b[0m\u001b[0mhelper\u001b[0m\u001b[0;34m.\u001b[0m\u001b[0mhelper\u001b[0m \u001b[0;32mas\u001b[0m \u001b[0mhlp\u001b[0m\u001b[0;34m\u001b[0m\u001b[0;34m\u001b[0m\u001b[0m\n\u001b[0m",
      "\u001b[0;31mModuleNotFoundError\u001b[0m: No module named 'src'"
     ]
    }
   ],
   "source": [
    "import pandas as pd\n",
    "import numpy as np\n",
    "import tmdbsimple as tmdb\n",
    "import json\n",
    "import requests\n",
    "import tqdm\n",
    "import re\n",
    "import multiprocessing\n",
    "import glob\n",
    "import fastparquet as fp\n",
    "import sys\n",
    "import src.helper.helper as hlp"
   ]
  },
  {
   "cell_type": "markdown",
   "metadata": {},
   "source": [
    "# Helper functions"
   ]
  },
  {
   "cell_type": "code",
   "execution_count": 2,
   "metadata": {},
   "outputs": [],
   "source": [
    "def load_movie_details(df):\n",
    "    for idx, row in df.iterrows():\n",
    "        purl, gl = get_movie_data(row[\"id\"])\n",
    "        df.loc[idx, \"poster_url\"] = purl\n",
    "        df.loc[idx, \"genre_id\"] = str(gl)\n",
    "    return df\n",
    "\n",
    "\n",
    "def get_movie_data(mid: int):\n",
    "    try:\n",
    "        m = tmdb.Movies(mid).info()\n",
    "    except Exception as e:\n",
    "        print(f\"Error loading movie {mid}, Exception: {sys.exc_info()}\")\n",
    "        return None, None\n",
    "\n",
    "    # Get poster url\n",
    "    if m['poster_path'] != None:\n",
    "        p_url = f\"{POSTER_URI}{tmdb.Movies(mid).info()['poster_path']}\"\n",
    "    else:\n",
    "        p_url = None\n",
    "\n",
    "    # Get genres\n",
    "    if m['genres'] != None:\n",
    "        gl = [gid[\"id\"] for gid in m['genres']]\n",
    "    else:\n",
    "        gl = None\n",
    "\n",
    "    return p_url, gl\n",
    "\n",
    "\n",
    "def parallelize_dataframe(df, func):\n",
    "    num_cores = multiprocessing.cpu_count()-1  #leave one free to not freeze machine\n",
    "    num_partitions = num_cores #number of partitions to split dataframe\n",
    "    df_split = np.array_split(df, num_partitions)\n",
    "    pool = multiprocessing.Pool(num_cores)\n",
    "    df = pd.concat(pool.map(func, df_split))\n",
    "    pool.close()\n",
    "    pool.join()\n",
    "    return df"
   ]
  },
  {
   "cell_type": "markdown",
   "metadata": {},
   "source": [
    "# Config"
   ]
  },
  {
   "cell_type": "code",
   "execution_count": 3,
   "metadata": {},
   "outputs": [],
   "source": [
    "MOVIE_URI = \"https://www.themoviedb.org/movie/\"\n",
    "#POSTER_URI = \"https://www.themoviedb.org/t/p/w600_and_h900_bestv2/\"\n",
    "POSTER_URI = \"https://www.themoviedb.org/t/p/w500/\"\n",
    "LOGO_URI = \"https://www.themoviedb.org/t/p/w500/\"\n",
    "\n",
    "FILE_DIR = \"./\"\n",
    "DATA_DIR = FILE_DIR + \"../data/raw/\"\n",
    "POSTER_DIR = DATA_DIR + \"posters/\""
   ]
  },
  {
   "cell_type": "markdown",
   "metadata": {},
   "source": [
    "# Init"
   ]
  },
  {
   "cell_type": "code",
   "execution_count": 4,
   "metadata": {},
   "outputs": [],
   "source": [
    "# Open TDB session\n",
    "tmdb.API_KEY = '3df59d9cab79276062740d50a0fbe11a'\n",
    "tmdb.REQUESTS_SESSION = requests.Session()\n",
    "\n",
    "# Display options\n",
    "pd.set_option('display.max_colwidth', None)"
   ]
  },
  {
   "cell_type": "markdown",
   "metadata": {},
   "source": [
    "# Preprocessing"
   ]
  },
  {
   "cell_type": "markdown",
   "metadata": {},
   "source": [
    "## Load all movies from file"
   ]
  },
  {
   "cell_type": "code",
   "execution_count": 5,
   "metadata": {},
   "outputs": [],
   "source": [
    "# Load movies from file\n",
    "movies = []\n",
    "for line in open(DATA_DIR + 'tmdb_movie_ids_03_10_2021.json', 'r'):\n",
    "    movies.append(json.loads(line))\n",
    "df = pd.json_normalize(movies)"
   ]
  },
  {
   "cell_type": "markdown",
   "metadata": {},
   "source": [
    "## Fetch additional movie information from TDB"
   ]
  },
  {
   "cell_type": "code",
   "execution_count": 6,
   "metadata": {},
   "outputs": [],
   "source": [
    "# Add movie url\n",
    "df[\"url\"] = df[\"id\"].map(lambda mid: f\"{MOVIE_URI}{mid}\")"
   ]
  },
  {
   "cell_type": "code",
   "execution_count": 7,
   "metadata": {},
   "outputs": [
    {
     "name": "stderr",
     "output_type": "stream",
     "text": [
      "  0%|          | 0/14 [00:00<?, ?it/s]"
     ]
    },
    {
     "name": "stdout",
     "output_type": "stream",
     "text": [
      "Error loading movie 631286, Exception: (<class 'requests.exceptions.HTTPError'>, HTTPError('404 Client Error: Not Found for url: https://api.themoviedb.org/3/movie/631286?api_key=3df59d9cab79276062740d50a0fbe11a'), <traceback object at 0x7f511c796cd0>)\n"
     ]
    },
    {
     "name": "stderr",
     "output_type": "stream",
     "text": [
      "  7%|▋         | 1/14 [02:08<27:51, 128.57s/it]"
     ]
    },
    {
     "name": "stdout",
     "output_type": "stream",
     "text": [
      "Error loading movie 653930, Exception: (<class 'requests.exceptions.HTTPError'>, HTTPError('404 Client Error: Not Found for url: https://api.themoviedb.org/3/movie/653930?api_key=3df59d9cab79276062740d50a0fbe11a'), <traceback object at 0x7f51110cb280>)\n",
      "Error loading movie 646113, Exception: (<class 'requests.exceptions.HTTPError'>, HTTPError('404 Client Error: Not Found for url: https://api.themoviedb.org/3/movie/646113?api_key=3df59d9cab79276062740d50a0fbe11a'), <traceback object at 0x7f51110efaf0>)\n"
     ]
    },
    {
     "name": "stderr",
     "output_type": "stream",
     "text": [
      " 29%|██▊       | 4/14 [12:41<30:14, 181.49s/it]"
     ]
    },
    {
     "name": "stdout",
     "output_type": "stream",
     "text": [
      "Error loading movie 686849, Exception: (<class 'requests.exceptions.HTTPError'>, HTTPError('404 Client Error: Not Found for url: https://api.themoviedb.org/3/movie/686849?api_key=3df59d9cab79276062740d50a0fbe11a'), <traceback object at 0x7f5053143e60>)\n"
     ]
    },
    {
     "name": "stderr",
     "output_type": "stream",
     "text": [
      " 43%|████▎     | 6/14 [19:36<25:55, 194.38s/it]"
     ]
    },
    {
     "name": "stdout",
     "output_type": "stream",
     "text": [
      "Error loading movie 716622, Exception: (<class 'requests.exceptions.HTTPError'>, HTTPError('404 Client Error: Not Found for url: https://api.themoviedb.org/3/movie/716622?api_key=3df59d9cab79276062740d50a0fbe11a'), <traceback object at 0x7f5052715f50>)\n",
      "Error loading movie 716643, Exception: (<class 'requests.exceptions.HTTPError'>, HTTPError('404 Client Error: Not Found for url: https://api.themoviedb.org/3/movie/716643?api_key=3df59d9cab79276062740d50a0fbe11a'), <traceback object at 0x7f5052718f50>)\n",
      "Error loading movie 716645, Exception: (<class 'requests.exceptions.HTTPError'>, HTTPError('404 Client Error: Not Found for url: https://api.themoviedb.org/3/movie/716645?api_key=3df59d9cab79276062740d50a0fbe11a'), <traceback object at 0x7f50527176e0>)\n",
      "Error loading movie 716647, Exception: (<class 'requests.exceptions.HTTPError'>, HTTPError('404 Client Error: Not Found for url: https://api.themoviedb.org/3/movie/716647?api_key=3df59d9cab79276062740d50a0fbe11a'), <traceback object at 0x7f5052718730>)\n",
      "Error loading movie 710601, Exception: (<class 'requests.exceptions.HTTPError'>, HTTPError('404 Client Error: Not Found for url: https://api.themoviedb.org/3/movie/710601?api_key=3df59d9cab79276062740d50a0fbe11a'), <traceback object at 0x7f5052707e60>)\n",
      "Error loading movie 717706, Exception: (<class 'requests.exceptions.HTTPError'>, HTTPError('404 Client Error: Not Found for url: https://api.themoviedb.org/3/movie/717706?api_key=3df59d9cab79276062740d50a0fbe11a'), <traceback object at 0x7f512f6d0c30>)\n",
      "Error loading movie 717713, Exception: (<class 'requests.exceptions.HTTPError'>, HTTPError('404 Client Error: Not Found for url: https://api.themoviedb.org/3/movie/717713?api_key=3df59d9cab79276062740d50a0fbe11a'), <traceback object at 0x7f50527033c0>)\n",
      "Error loading movie 717715, Exception: (<class 'requests.exceptions.HTTPError'>, HTTPError('404 Client Error: Not Found for url: https://api.themoviedb.org/3/movie/717715?api_key=3df59d9cab79276062740d50a0fbe11a'), <traceback object at 0x7f5052703410>)\n",
      "Error loading movie 717719, Exception: (<class 'requests.exceptions.HTTPError'>, HTTPError('404 Client Error: Not Found for url: https://api.themoviedb.org/3/movie/717719?api_key=3df59d9cab79276062740d50a0fbe11a'), <traceback object at 0x7f50527036e0>)\n"
     ]
    },
    {
     "name": "stderr",
     "output_type": "stream",
     "text": [
      " 50%|█████     | 7/14 [23:06<23:14, 199.24s/it]"
     ]
    },
    {
     "name": "stdout",
     "output_type": "stream",
     "text": [
      "Error loading movie 721101, Exception: (<class 'requests.exceptions.HTTPError'>, HTTPError('404 Client Error: Not Found for url: https://api.themoviedb.org/3/movie/721101?api_key=3df59d9cab79276062740d50a0fbe11a'), <traceback object at 0x7f5051b8b780>)\n"
     ]
    },
    {
     "name": "stderr",
     "output_type": "stream",
     "text": [
      " 64%|██████▍   | 9/14 [29:52<16:44, 200.95s/it]"
     ]
    },
    {
     "name": "stdout",
     "output_type": "stream",
     "text": [
      "Error loading movie 750024, Exception: (<class 'requests.exceptions.HTTPError'>, HTTPError('404 Client Error: Not Found for url: https://api.themoviedb.org/3/movie/750024?api_key=3df59d9cab79276062740d50a0fbe11a'), <traceback object at 0x7f505147e4b0>)\n"
     ]
    },
    {
     "name": "stderr",
     "output_type": "stream",
     "text": [
      " 71%|███████▏  | 10/14 [33:09<13:18, 199.64s/it]"
     ]
    },
    {
     "name": "stdout",
     "output_type": "stream",
     "text": [
      "Error loading movie 758843, Exception: (<class 'requests.exceptions.HTTPError'>, HTTPError('404 Client Error: Not Found for url: https://api.themoviedb.org/3/movie/758843?api_key=3df59d9cab79276062740d50a0fbe11a'), <traceback object at 0x7f50523be730>)\n"
     ]
    },
    {
     "name": "stderr",
     "output_type": "stream",
     "text": [
      " 79%|███████▊  | 11/14 [36:24<09:54, 198.32s/it]"
     ]
    },
    {
     "name": "stdout",
     "output_type": "stream",
     "text": [
      "Error loading movie 776424, Exception: (<class 'requests.exceptions.HTTPError'>, HTTPError('404 Client Error: Not Found for url: https://api.themoviedb.org/3/movie/776424?api_key=3df59d9cab79276062740d50a0fbe11a'), <traceback object at 0x7f505200a960>)\n"
     ]
    },
    {
     "name": "stderr",
     "output_type": "stream",
     "text": [
      " 86%|████████▌ | 12/14 [39:39<06:34, 197.31s/it]"
     ]
    },
    {
     "name": "stdout",
     "output_type": "stream",
     "text": [
      "Error loading movie 792737, Exception: (<class 'requests.exceptions.HTTPError'>, HTTPError('404 Client Error: Not Found for url: https://api.themoviedb.org/3/movie/792737?api_key=3df59d9cab79276062740d50a0fbe11a'), <traceback object at 0x7f5051ccd140>)\n",
      "Error loading movie 784233, Exception: (<class 'requests.exceptions.HTTPError'>, HTTPError('404 Client Error: Not Found for url: https://api.themoviedb.org/3/movie/784233?api_key=3df59d9cab79276062740d50a0fbe11a'), <traceback object at 0x7f5051cce690>)\n",
      "Error loading movie 784244, Exception: (<class 'requests.exceptions.HTTPError'>, HTTPError('404 Client Error: Not Found for url: https://api.themoviedb.org/3/movie/784244?api_key=3df59d9cab79276062740d50a0fbe11a'), <traceback object at 0x7f5051cce7d0>)\n",
      "Error loading movie 788856, Exception: (<class 'requests.exceptions.HTTPError'>, HTTPError('404 Client Error: Not Found for url: https://api.themoviedb.org/3/movie/788856?api_key=3df59d9cab79276062740d50a0fbe11a'), <traceback object at 0x7f5051cdad70>)\n",
      "Error loading movie 789980, Exception: (<class 'requests.exceptions.HTTPError'>, HTTPError('404 Client Error: Not Found for url: https://api.themoviedb.org/3/movie/789980?api_key=3df59d9cab79276062740d50a0fbe11a'), <traceback object at 0x7f5051cdb730>)\n",
      "Error loading movie 792340, Exception: (<class 'requests.exceptions.HTTPError'>, HTTPError('404 Client Error: Not Found for url: https://api.themoviedb.org/3/movie/792340?api_key=3df59d9cab79276062740d50a0fbe11a'), <traceback object at 0x7f5051cdc640>)\n",
      "Error loading movie 793428, Exception: (<class 'requests.exceptions.HTTPError'>, HTTPError('404 Client Error: Not Found for url: https://api.themoviedb.org/3/movie/793428?api_key=3df59d9cab79276062740d50a0fbe11a'), <traceback object at 0x7f5051ce1b90>)\n"
     ]
    },
    {
     "name": "stderr",
     "output_type": "stream",
     "text": [
      " 93%|█████████▎| 13/14 [42:51<03:15, 195.80s/it]"
     ]
    },
    {
     "name": "stdout",
     "output_type": "stream",
     "text": [
      "Error loading movie 794749, Exception: (<class 'requests.exceptions.HTTPError'>, HTTPError('404 Client Error: Not Found for url: https://api.themoviedb.org/3/movie/794749?api_key=3df59d9cab79276062740d50a0fbe11a'), <traceback object at 0x7f5050fd6dc0>)\n",
      "Error loading movie 799120, Exception: (<class 'requests.exceptions.HTTPError'>, HTTPError('404 Client Error: Not Found for url: https://api.themoviedb.org/3/movie/799120?api_key=3df59d9cab79276062740d50a0fbe11a'), <traceback object at 0x7f5050fcb410>)\n",
      "Error loading movie 803541, Exception: (<class 'requests.exceptions.HTTPError'>, HTTPError('404 Client Error: Not Found for url: https://api.themoviedb.org/3/movie/803541?api_key=3df59d9cab79276062740d50a0fbe11a'), <traceback object at 0x7f5050f4f140>)\n",
      "Error loading movie 803560, Exception: (<class 'requests.exceptions.HTTPError'>, HTTPError('404 Client Error: Not Found for url: https://api.themoviedb.org/3/movie/803560?api_key=3df59d9cab79276062740d50a0fbe11a'), <traceback object at 0x7f5050f4f3c0>)\n",
      "Error loading movie 803716, Exception: (<class 'requests.exceptions.HTTPError'>, HTTPError('404 Client Error: Not Found for url: https://api.themoviedb.org/3/movie/803716?api_key=3df59d9cab79276062740d50a0fbe11a'), <traceback object at 0x7f5050f55640>)\n",
      "Error loading movie 803717, Exception: (<class 'requests.exceptions.HTTPError'>, HTTPError('404 Client Error: Not Found for url: https://api.themoviedb.org/3/movie/803717?api_key=3df59d9cab79276062740d50a0fbe11a'), <traceback object at 0x7f5050f55e10>)\n",
      "Error loading movie 803740, Exception: (<class 'requests.exceptions.HTTPError'>, HTTPError('404 Client Error: Not Found for url: https://api.themoviedb.org/3/movie/803740?api_key=3df59d9cab79276062740d50a0fbe11a'), <traceback object at 0x7f5050f60460>)\n",
      "Error loading movie 803765, Exception: (<class 'requests.exceptions.HTTPError'>, HTTPError('404 Client Error: Not Found for url: https://api.themoviedb.org/3/movie/803765?api_key=3df59d9cab79276062740d50a0fbe11a'), <traceback object at 0x7f5050fb90a0>)\n",
      "Error loading movie 803806, Exception: (<class 'requests.exceptions.HTTPError'>, HTTPError('404 Client Error: Not Found for url: https://api.themoviedb.org/3/movie/803806?api_key=3df59d9cab79276062740d50a0fbe11a'), <traceback object at 0x7f5050f400f0>)\n",
      "Error loading movie 803813, Exception: (<class 'requests.exceptions.HTTPError'>, HTTPError('404 Client Error: Not Found for url: https://api.themoviedb.org/3/movie/803813?api_key=3df59d9cab79276062740d50a0fbe11a'), <traceback object at 0x7f5050f667d0>)\n",
      "Error loading movie 803814, Exception: (<class 'requests.exceptions.HTTPError'>, HTTPError('404 Client Error: Not Found for url: https://api.themoviedb.org/3/movie/803814?api_key=3df59d9cab79276062740d50a0fbe11a'), <traceback object at 0x7f5050f40c30>)\n",
      "Error loading movie 803818, Exception: (<class 'requests.exceptions.HTTPError'>, HTTPError('404 Client Error: Not Found for url: https://api.themoviedb.org/3/movie/803818?api_key=3df59d9cab79276062740d50a0fbe11a'), <traceback object at 0x7f5050f6a0f0>)\n",
      "Error loading movie 803819, Exception: (<class 'requests.exceptions.HTTPError'>, HTTPError('404 Client Error: Not Found for url: https://api.themoviedb.org/3/movie/803819?api_key=3df59d9cab79276062740d50a0fbe11a'), <traceback object at 0x7f5050f6a230>)\n",
      "Error loading movie 803831, Exception: (<class 'requests.exceptions.HTTPError'>, HTTPError('404 Client Error: Not Found for url: https://api.themoviedb.org/3/movie/803831?api_key=3df59d9cab79276062740d50a0fbe11a'), <traceback object at 0x7f5050f6b9b0>)\n",
      "Error loading movie 803857, Exception: (<class 'requests.exceptions.HTTPError'>, HTTPError('404 Client Error: Not Found for url: https://api.themoviedb.org/3/movie/803857?api_key=3df59d9cab79276062740d50a0fbe11a'), <traceback object at 0x7f5050f6b050>)\n",
      "Error loading movie 803887, Exception: (<class 'requests.exceptions.HTTPError'>, HTTPError('404 Client Error: Not Found for url: https://api.themoviedb.org/3/movie/803887?api_key=3df59d9cab79276062740d50a0fbe11a'), <traceback object at 0x7f5050fba7d0>)\n",
      "Error loading movie 803902, Exception: (<class 'requests.exceptions.HTTPError'>, HTTPError('404 Client Error: Not Found for url: https://api.themoviedb.org/3/movie/803902?api_key=3df59d9cab79276062740d50a0fbe11a'), <traceback object at 0x7f5050f701e0>)\n",
      "Error loading movie 799639, Exception: (<class 'requests.exceptions.HTTPError'>, HTTPError('404 Client Error: Not Found for url: https://api.themoviedb.org/3/movie/799639?api_key=3df59d9cab79276062740d50a0fbe11a'), <traceback object at 0x7f5050f69d70>)\n",
      "Error loading movie 804089, Exception: (<class 'requests.exceptions.HTTPError'>, HTTPError('404 Client Error: Not Found for url: https://api.themoviedb.org/3/movie/804089?api_key=3df59d9cab79276062740d50a0fbe11a'), <traceback object at 0x7f5050f70370>)\n",
      "Error loading movie 804109, Exception: (<class 'requests.exceptions.HTTPError'>, HTTPError('404 Client Error: Not Found for url: https://api.themoviedb.org/3/movie/804109?api_key=3df59d9cab79276062740d50a0fbe11a'), <traceback object at 0x7f5050f70b90>)\n",
      "Error loading movie 801606, Exception: (<class 'requests.exceptions.HTTPError'>, HTTPError('404 Client Error: Not Found for url: https://api.themoviedb.org/3/movie/801606?api_key=3df59d9cab79276062740d50a0fbe11a'), <traceback object at 0x7f5050f6d320>)\n",
      "Error loading movie 801607, Exception: (<class 'requests.exceptions.HTTPError'>, HTTPError('404 Client Error: Not Found for url: https://api.themoviedb.org/3/movie/801607?api_key=3df59d9cab79276062740d50a0fbe11a'), <traceback object at 0x7f5050f6d320>)\n",
      "Error loading movie 801610, Exception: (<class 'requests.exceptions.HTTPError'>, HTTPError('404 Client Error: Not Found for url: https://api.themoviedb.org/3/movie/801610?api_key=3df59d9cab79276062740d50a0fbe11a'), <traceback object at 0x7f5050f6d320>)\n",
      "Error loading movie 801611, Exception: (<class 'requests.exceptions.HTTPError'>, HTTPError('404 Client Error: Not Found for url: https://api.themoviedb.org/3/movie/801611?api_key=3df59d9cab79276062740d50a0fbe11a'), <traceback object at 0x7f5050f6d320>)\n",
      "Error loading movie 801612, Exception: (<class 'requests.exceptions.HTTPError'>, HTTPError('404 Client Error: Not Found for url: https://api.themoviedb.org/3/movie/801612?api_key=3df59d9cab79276062740d50a0fbe11a'), <traceback object at 0x7f5050f6d460>)\n",
      "Error loading movie 801614, Exception: (<class 'requests.exceptions.HTTPError'>, HTTPError('404 Client Error: Not Found for url: https://api.themoviedb.org/3/movie/801614?api_key=3df59d9cab79276062740d50a0fbe11a'), <traceback object at 0x7f5050f6d960>)\n",
      "Error loading movie 801615, Exception: (<class 'requests.exceptions.HTTPError'>, HTTPError('404 Client Error: Not Found for url: https://api.themoviedb.org/3/movie/801615?api_key=3df59d9cab79276062740d50a0fbe11a'), <traceback object at 0x7f5050f6de10>)\n",
      "Error loading movie 801617, Exception: (<class 'requests.exceptions.HTTPError'>, HTTPError('404 Client Error: Not Found for url: https://api.themoviedb.org/3/movie/801617?api_key=3df59d9cab79276062740d50a0fbe11a'), <traceback object at 0x7f5050f6dd20>)\n",
      "Error loading movie 801618, Exception: (<class 'requests.exceptions.HTTPError'>, HTTPError('404 Client Error: Not Found for url: https://api.themoviedb.org/3/movie/801618?api_key=3df59d9cab79276062740d50a0fbe11a'), <traceback object at 0x7f5050f6ddc0>)\n",
      "Error loading movie 800734, Exception: (<class 'requests.exceptions.HTTPError'>, HTTPError('404 Client Error: Not Found for url: https://api.themoviedb.org/3/movie/800734?api_key=3df59d9cab79276062740d50a0fbe11a'), <traceback object at 0x7f5050f6d780>)\n",
      "Error loading movie 797285, Exception: (<class 'requests.exceptions.HTTPError'>, HTTPError('404 Client Error: Not Found for url: https://api.themoviedb.org/3/movie/797285?api_key=3df59d9cab79276062740d50a0fbe11a'), <traceback object at 0x7f5050f66be0>)\n",
      "Error loading movie 804250, Exception: (<class 'requests.exceptions.HTTPError'>, HTTPError('404 Client Error: Not Found for url: https://api.themoviedb.org/3/movie/804250?api_key=3df59d9cab79276062740d50a0fbe11a'), <traceback object at 0x7f5050f700f0>)\n",
      "Error loading movie 801678, Exception: (<class 'requests.exceptions.HTTPError'>, HTTPError('404 Client Error: Not Found for url: https://api.themoviedb.org/3/movie/801678?api_key=3df59d9cab79276062740d50a0fbe11a'), <traceback object at 0x7f5050f6de10>)\n",
      "Error loading movie 804259, Exception: (<class 'requests.exceptions.HTTPError'>, HTTPError('404 Client Error: Not Found for url: https://api.themoviedb.org/3/movie/804259?api_key=3df59d9cab79276062740d50a0fbe11a'), <traceback object at 0x7f5050f69870>)\n",
      "Error loading movie 804265, Exception: (<class 'requests.exceptions.HTTPError'>, HTTPError('404 Client Error: Not Found for url: https://api.themoviedb.org/3/movie/804265?api_key=3df59d9cab79276062740d50a0fbe11a'), <traceback object at 0x7f5050f700f0>)\n",
      "Error loading movie 801720, Exception: (<class 'requests.exceptions.HTTPError'>, HTTPError('404 Client Error: Not Found for url: https://api.themoviedb.org/3/movie/801720?api_key=3df59d9cab79276062740d50a0fbe11a'), <traceback object at 0x7f5050f6d780>)\n",
      "Error loading movie 798242, Exception: (<class 'requests.exceptions.HTTPError'>, HTTPError('404 Client Error: Not Found for url: https://api.themoviedb.org/3/movie/798242?api_key=3df59d9cab79276062740d50a0fbe11a'), <traceback object at 0x7f5050f6eaf0>)\n",
      "Error loading movie 798244, Exception: (<class 'requests.exceptions.HTTPError'>, HTTPError('404 Client Error: Not Found for url: https://api.themoviedb.org/3/movie/798244?api_key=3df59d9cab79276062740d50a0fbe11a'), <traceback object at 0x7f5050f6eaa0>)\n",
      "Error loading movie 798245, Exception: (<class 'requests.exceptions.HTTPError'>, HTTPError('404 Client Error: Not Found for url: https://api.themoviedb.org/3/movie/798245?api_key=3df59d9cab79276062740d50a0fbe11a'), <traceback object at 0x7f5050f6eaa0>)\n",
      "Error loading movie 798246, Exception: (<class 'requests.exceptions.HTTPError'>, HTTPError('404 Client Error: Not Found for url: https://api.themoviedb.org/3/movie/798246?api_key=3df59d9cab79276062740d50a0fbe11a'), <traceback object at 0x7f5050f6eaa0>)\n"
     ]
    },
    {
     "name": "stderr",
     "output_type": "stream",
     "text": [
      "100%|██████████| 14/14 [45:22<00:00, 194.47s/it]\n"
     ]
    },
    {
     "data": {
      "text/html": [
       "<div>\n",
       "<style scoped>\n",
       "    .dataframe tbody tr th:only-of-type {\n",
       "        vertical-align: middle;\n",
       "    }\n",
       "\n",
       "    .dataframe tbody tr th {\n",
       "        vertical-align: top;\n",
       "    }\n",
       "\n",
       "    .dataframe thead th {\n",
       "        text-align: right;\n",
       "    }\n",
       "</style>\n",
       "<table border=\"1\" class=\"dataframe\">\n",
       "  <thead>\n",
       "    <tr style=\"text-align: right;\">\n",
       "      <th></th>\n",
       "      <th>adult</th>\n",
       "      <th>id</th>\n",
       "      <th>original_title</th>\n",
       "      <th>popularity</th>\n",
       "      <th>video</th>\n",
       "      <th>url</th>\n",
       "      <th>poster_url</th>\n",
       "      <th>genre_id</th>\n",
       "    </tr>\n",
       "  </thead>\n",
       "  <tbody>\n",
       "    <tr>\n",
       "      <th>450000</th>\n",
       "      <td>False</td>\n",
       "      <td>629166</td>\n",
       "      <td>Puștiul</td>\n",
       "      <td>0.6</td>\n",
       "      <td>False</td>\n",
       "      <td>https://www.themoviedb.org/movie/629166</td>\n",
       "      <td>https://www.themoviedb.org/t/p/w500//dNAgdPkfEqrjNtb8WtenklP129Z.jpg</td>\n",
       "      <td>[18]</td>\n",
       "    </tr>\n",
       "    <tr>\n",
       "      <th>450001</th>\n",
       "      <td>False</td>\n",
       "      <td>629167</td>\n",
       "      <td>The Disconnect</td>\n",
       "      <td>0.6</td>\n",
       "      <td>False</td>\n",
       "      <td>https://www.themoviedb.org/movie/629167</td>\n",
       "      <td>None</td>\n",
       "      <td>[]</td>\n",
       "    </tr>\n",
       "    <tr>\n",
       "      <th>450002</th>\n",
       "      <td>False</td>\n",
       "      <td>629169</td>\n",
       "      <td>Podkova</td>\n",
       "      <td>0.6</td>\n",
       "      <td>False</td>\n",
       "      <td>https://www.themoviedb.org/movie/629169</td>\n",
       "      <td>None</td>\n",
       "      <td>[35]</td>\n",
       "    </tr>\n",
       "    <tr>\n",
       "      <th>450003</th>\n",
       "      <td>False</td>\n",
       "      <td>629170</td>\n",
       "      <td>An Act of Love</td>\n",
       "      <td>0.6</td>\n",
       "      <td>False</td>\n",
       "      <td>https://www.themoviedb.org/movie/629170</td>\n",
       "      <td>None</td>\n",
       "      <td>[]</td>\n",
       "    </tr>\n",
       "    <tr>\n",
       "      <th>450004</th>\n",
       "      <td>False</td>\n",
       "      <td>629171</td>\n",
       "      <td>Konec milování</td>\n",
       "      <td>0.6</td>\n",
       "      <td>False</td>\n",
       "      <td>https://www.themoviedb.org/movie/629171</td>\n",
       "      <td>None</td>\n",
       "      <td>[18]</td>\n",
       "    </tr>\n",
       "  </tbody>\n",
       "</table>\n",
       "</div>"
      ],
      "text/plain": [
       "        adult      id  original_title  popularity  video  \\\n",
       "450000  False  629166         Puștiul         0.6  False   \n",
       "450001  False  629167  The Disconnect         0.6  False   \n",
       "450002  False  629169         Podkova         0.6  False   \n",
       "450003  False  629170  An Act of Love         0.6  False   \n",
       "450004  False  629171  Konec milování         0.6  False   \n",
       "\n",
       "                                            url  \\\n",
       "450000  https://www.themoviedb.org/movie/629166   \n",
       "450001  https://www.themoviedb.org/movie/629167   \n",
       "450002  https://www.themoviedb.org/movie/629169   \n",
       "450003  https://www.themoviedb.org/movie/629170   \n",
       "450004  https://www.themoviedb.org/movie/629171   \n",
       "\n",
       "                                                                  poster_url  \\\n",
       "450000  https://www.themoviedb.org/t/p/w500//dNAgdPkfEqrjNtb8WtenklP129Z.jpg   \n",
       "450001                                                                  None   \n",
       "450002                                                                  None   \n",
       "450003                                                                  None   \n",
       "450004                                                                  None   \n",
       "\n",
       "       genre_id  \n",
       "450000     [18]  \n",
       "450001       []  \n",
       "450002     [35]  \n",
       "450003       []  \n",
       "450004     [18]  "
      ]
     },
     "execution_count": 7,
     "metadata": {},
     "output_type": "execute_result"
    }
   ],
   "source": [
    "# Add poster url and genres\n",
    "l_df = []\n",
    "split_size = 10000\n",
    "start_count = 45\n",
    "end_count = (len(df) // split_size) + 1\n",
    "\n",
    "for i in tqdm.tqdm(range(start_count, end_count)):\n",
    "    s = i * split_size\n",
    "    e = ((i + 1) * split_size) - 1\n",
    "    if e > len(df):\n",
    "        e = len(df) - 1\n",
    "\n",
    "    df_tmp = df[s:e++1].copy()\n",
    "    df_tmp = parallelize_dataframe(df_tmp, load_movie_details)\n",
    "    l_df.append(df_tmp)\n",
    "    df_tmp.to_parquet(DATA_DIR + f'df_{s}_{e}.parquet.gzip', compression='gzip')\n",
    "\n",
    "# Put it together\n",
    "df = pd.concat(l_df)\n",
    "df.isna().sum()\n",
    "df.head()"
   ]
  },
  {
   "cell_type": "markdown",
   "metadata": {},
   "source": [
    "## Merge files to one file"
   ]
  },
  {
   "cell_type": "code",
   "execution_count": 8,
   "metadata": {},
   "outputs": [],
   "source": [
    "# Load all existing files and merge them\n",
    "l_df = []\n",
    "l_file = glob.glob(DATA_DIR + \"df*.parquet.gzip\")\n",
    "for file_path in l_file:\n",
    "    pf = fp.ParquetFile(file_path)\n",
    "    l_df.append(pf.to_pandas())\n",
    "df = pd.concat(l_df)\n",
    "\n",
    "# Save into one fle\n",
    "df.to_parquet(DATA_DIR + f'df.parquet.gzip', compression='gzip')"
   ]
  },
  {
   "cell_type": "code",
   "execution_count": 13,
   "metadata": {},
   "outputs": [
    {
     "data": {
      "text/plain": [
       "' OLD CODE\\n# Load some moviees from db\\nmids = [75, 3924, 31975]\\nfor mid in mids:\\n    mi = tmdb.Movies(mid).info()\\n    try:\\n        print(mi[\\'id\\'])\\n        print(mi[\\'poster_path\\'])\\n        print(\",\".join([str(gid[\"id\"]) for gid in mi[\\'genres\\']]))\\n        print([gid[\"id\"] for gid in mi[\\'genres\\']])\\n        display(mi)\\n    except Exception as e:\\n        pass\\n\\n# Get all Generes for movies\\nd_genres = tmdb.Genres().movie_list()\\ndisplay(d_genres[\\'genres\\'])\\ngenre_ids = [gid[\"id\"] for gid in d_genres[\\'genres\\']]\\n\\n# Get all movies\\ntmdb.Discover().movie(with_genres=genre_ids)\\n'"
      ]
     },
     "execution_count": 13,
     "metadata": {},
     "output_type": "execute_result"
    }
   ],
   "source": [
    "''' OLD CODE\n",
    "# Load some moviees from db\n",
    "mids = [75, 3924, 31975]\n",
    "for mid in mids:\n",
    "    mi = tmdb.Movies(mid).info()\n",
    "    try:\n",
    "        print(mi['id'])\n",
    "        print(mi['poster_path'])\n",
    "        print(\",\".join([str(gid[\"id\"]) for gid in mi['genres']]))\n",
    "        print([gid[\"id\"] for gid in mi['genres']])\n",
    "        display(mi)\n",
    "    except Exception as e:\n",
    "        pass\n",
    "\n",
    "# Get all Generes for movies\n",
    "d_genres = tmdb.Genres().movie_list()\n",
    "display(d_genres['genres'])\n",
    "genre_ids = [gid[\"id\"] for gid in d_genres['genres']]\n",
    "\n",
    "# Get all movies\n",
    "tmdb.Discover().movie(with_genres=genre_ids)\n",
    "'''"
   ]
  },
  {
   "cell_type": "code",
   "execution_count": null,
   "metadata": {},
   "outputs": [],
   "source": []
  }
 ],
 "metadata": {
  "kernelspec": {
   "display_name": "Python 3",
   "language": "python",
   "name": "python3"
  },
  "language_info": {
   "codemirror_mode": {
    "name": "ipython",
    "version": 3
   },
   "file_extension": ".py",
   "mimetype": "text/x-python",
   "name": "python",
   "nbconvert_exporter": "python",
   "pygments_lexer": "ipython3",
   "version": "3.7.9"
  }
 },
 "nbformat": 4,
 "nbformat_minor": 4
}
