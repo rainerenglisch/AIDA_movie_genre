{
 "cells": [
  {
   "cell_type": "code",
   "execution_count": 1,
   "metadata": {},
   "outputs": [],
   "source": [
    "import pandas as pd\n",
    "import numpy as np\n",
    "import tmdbsimple as tmdb\n",
    "import json\n",
    "import requests\n",
    "import tqdm\n",
    "import re\n",
    "import multiprocessing"
   ]
  },
  {
   "cell_type": "markdown",
   "metadata": {},
   "source": [
    "# Helper functions"
   ]
  },
  {
   "cell_type": "code",
   "execution_count": 2,
   "metadata": {},
   "outputs": [],
   "source": [
    "def load_movie_details(df):\n",
    "    for idx, row in df.iterrows():\n",
    "        purl, gl = get_movie_data(row[\"id\"])\n",
    "        df.loc[idx, \"poster_url\"] = purl\n",
    "        df.loc[idx, \"genre_id\"] = str(gl)\n",
    "    return df\n",
    "\n",
    "\n",
    "def get_movie_data(mid: int):\n",
    "    m = tmdb.Movies(mid).info()\n",
    "\n",
    "    # Get poster url\n",
    "    if m['poster_path'] != None:\n",
    "        p_url = f\"{POSTER_URI}{tmdb.Movies(mid).info()['poster_path']}\"\n",
    "    else:\n",
    "        p_url = None\n",
    "\n",
    "    # Get genres\n",
    "    if m['genres'] != None:\n",
    "        gl = [gid[\"id\"] for gid in m['genres']]\n",
    "    else:\n",
    "        gl = None\n",
    "\n",
    "    return p_url, gl\n",
    "\n",
    "\n",
    "def parallelize_dataframe(df, func):\n",
    "    num_cores = multiprocessing.cpu_count()-1  #leave one free to not freeze machine\n",
    "    num_partitions = num_cores #number of partitions to split dataframe\n",
    "    df_split = np.array_split(df, num_partitions)\n",
    "    pool = multiprocessing.Pool(num_cores)\n",
    "    df = pd.concat(pool.map(func, df_split))\n",
    "    pool.close()\n",
    "    pool.join()\n",
    "    return df"
   ]
  },
  {
   "cell_type": "markdown",
   "metadata": {},
   "source": [
    "# Config"
   ]
  },
  {
   "cell_type": "code",
   "execution_count": 3,
   "metadata": {},
   "outputs": [],
   "source": [
    "MOVIE_URI = \"https://www.themoviedb.org/movie/\"\n",
    "#POSTER_URI = \"https://www.themoviedb.org/t/p/w600_and_h900_bestv2/\"\n",
    "POSTER_URI = \"https://www.themoviedb.org/t/p/w500/\"\n",
    "LOGO_URI = \"https://www.themoviedb.org/t/p/w500/\"\n",
    "\n",
    "FILE_DIR = \"./\"\n",
    "DATA_DIR = FILE_DIR + \"data/\"\n",
    "POSTER_DIR = DATA_DIR + \"posters/\""
   ]
  },
  {
   "cell_type": "markdown",
   "metadata": {},
   "source": [
    "# Init"
   ]
  },
  {
   "cell_type": "code",
   "execution_count": 4,
   "metadata": {},
   "outputs": [],
   "source": [
    "# Open TDB session\n",
    "tmdb.API_KEY = '3df59d9cab79276062740d50a0fbe11a'\n",
    "tmdb.REQUESTS_SESSION = requests.Session()\n",
    "\n",
    "# Display options\n",
    "pd.set_option('display.max_colwidth', None)"
   ]
  },
  {
   "cell_type": "markdown",
   "metadata": {},
   "source": [
    "# Preprocessing"
   ]
  },
  {
   "cell_type": "markdown",
   "metadata": {},
   "source": [
    "## Load all movies from file"
   ]
  },
  {
   "cell_type": "code",
   "execution_count": 5,
   "metadata": {},
   "outputs": [],
   "source": [
    "# Load movies from file\n",
    "movies = []\n",
    "for line in open(DATA_DIR + 'tmdb_movie_ids_03_10_2021.json', 'r'):\n",
    "    movies.append(json.loads(line))\n",
    "df = pd.json_normalize(movies)"
   ]
  },
  {
   "cell_type": "markdown",
   "metadata": {},
   "source": [
    "## Fetch additional movie information from TDB"
   ]
  },
  {
   "cell_type": "code",
   "execution_count": 6,
   "metadata": {},
   "outputs": [],
   "source": [
    "# Add movie url\n",
    "df[\"url\"] = df[\"id\"].map(lambda mid: f\"{MOVIE_URI}{mid}\")"
   ]
  },
  {
   "cell_type": "code",
   "execution_count": null,
   "metadata": {},
   "outputs": [
    {
     "name": "stderr",
     "output_type": "stream",
     "text": [
      " 42%|████▏     | 25/59 [1:20:38<1:55:00, 202.97s/it]"
     ]
    }
   ],
   "source": [
    "# Add poster url and genres\n",
    "split_size = 10000\n",
    "count = 0\n",
    "l_df = []\n",
    "for i in tqdm.tqdm(range(0, len(df), split_size), total=len(df)//split_size+1):\n",
    "    s = count*split_size\n",
    "    e = ((count+1)*split_size) - 1\n",
    "    if e > len(df):\n",
    "        e = len(df) - 1\n",
    "\n",
    "    df_tmp = df[s:e++1].copy()\n",
    "    df_tmp = parallelize_dataframe(df_tmp, load_movie_details)\n",
    "    l_df.append(df_tmp)\n",
    "    df_tmp.to_parquet(DATA_DIR + f'df_{s}_{e}.parquet.gzip', compression='gzip')\n",
    "    count += 1\n",
    "\n",
    "# Put it together\n",
    "df = pd.concat(l_df)\n",
    "df.isna().sum()\n",
    "df.head()"
   ]
  },
  {
   "cell_type": "markdown",
   "metadata": {},
   "source": [
    "## Save movie dataframe to file"
   ]
  },
  {
   "cell_type": "code",
   "execution_count": null,
   "metadata": {},
   "outputs": [],
   "source": [
    "df.to_parquet(DATA_DIR + f'df.parquet.gzip', compression='gzip')"
   ]
  },
  {
   "cell_type": "code",
   "execution_count": null,
   "metadata": {},
   "outputs": [],
   "source": [
    "'''\n",
    "%time\n",
    "# Create poster url\n",
    "df = parallelize_dataframe(df, load_movie_details)\n",
    "\n",
    "display(df.isna().sum())\n",
    "display(df.head())\n",
    "'''"
   ]
  },
  {
   "cell_type": "code",
   "execution_count": null,
   "metadata": {},
   "outputs": [],
   "source": [
    "df.to_parquet(DATA_DIR + 'df.parquet.gzip', compression='gzip')"
   ]
  },
  {
   "cell_type": "code",
   "execution_count": null,
   "metadata": {},
   "outputs": [],
   "source": [
    "# Load Genres from db\n",
    "mids = [75, 3924, 31975]\n",
    "for mid in mids:\n",
    "    mi = tmdb.Movies(mid).info()\n",
    "    try:\n",
    "        print(mi['id'])\n",
    "        print(mi['poster_path'])\n",
    "        print(\",\".join([str(gid[\"id\"]) for gid in mi['genres']]))\n",
    "        print([gid[\"id\"] for gid in mi['genres']])\n",
    "        display(mi)\n",
    "    except Exception as e:\n",
    "        pass\n"
   ]
  },
  {
   "cell_type": "code",
   "execution_count": null,
   "metadata": {},
   "outputs": [],
   "source": [
    "df"
   ]
  },
  {
   "cell_type": "code",
   "execution_count": null,
   "metadata": {},
   "outputs": [],
   "source": [
    "# Get all Generes for movies\n",
    "d_genres = tmdb.Genres().movie_list()\n",
    "display(d_genres['genres'])\n",
    "genre_ids = [gid[\"id\"] for gid in d_genres['genres']]"
   ]
  },
  {
   "cell_type": "code",
   "execution_count": null,
   "metadata": {},
   "outputs": [],
   "source": [
    "# Get all movies\n",
    "tmdb.Discover().movie(with_genres=genre_ids)"
   ]
  },
  {
   "cell_type": "code",
   "execution_count": null,
   "metadata": {},
   "outputs": [],
   "source": []
  }
 ],
 "metadata": {
  "kernelspec": {
   "display_name": "Python 3",
   "language": "python",
   "name": "python3"
  },
  "language_info": {
   "codemirror_mode": {
    "name": "ipython",
    "version": 3
   },
   "file_extension": ".py",
   "mimetype": "text/x-python",
   "name": "python",
   "nbconvert_exporter": "python",
   "pygments_lexer": "ipython3",
   "version": "3.7.7"
  }
 },
 "nbformat": 4,
 "nbformat_minor": 4
}
