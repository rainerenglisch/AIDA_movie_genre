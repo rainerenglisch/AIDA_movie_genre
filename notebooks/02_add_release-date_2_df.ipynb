{
 "cells": [
  {
   "cell_type": "markdown",
   "metadata": {},
   "source": [
    "# Add movie release date to existing dataframe"
   ]
  },
  {
   "cell_type": "code",
   "execution_count": 1,
   "metadata": {},
   "outputs": [
    {
     "name": "stderr",
     "output_type": "stream",
     "text": [
      "In /home/ths/miniconda3/envs/aida/lib/python3.7/site-packages/matplotlib/mpl-data/stylelib/_classic_test.mplstyle: \n",
      "The text.latex.preview rcparam was deprecated in Matplotlib 3.3 and will be removed two minor releases later.\n",
      "In /home/ths/miniconda3/envs/aida/lib/python3.7/site-packages/matplotlib/mpl-data/stylelib/_classic_test.mplstyle: \n",
      "The mathtext.fallback_to_cm rcparam was deprecated in Matplotlib 3.3 and will be removed two minor releases later.\n",
      "In /home/ths/miniconda3/envs/aida/lib/python3.7/site-packages/matplotlib/mpl-data/stylelib/_classic_test.mplstyle: Support for setting the 'mathtext.fallback_to_cm' rcParam is deprecated since 3.3 and will be removed two minor releases later; use 'mathtext.fallback : 'cm' instead.\n",
      "In /home/ths/miniconda3/envs/aida/lib/python3.7/site-packages/matplotlib/mpl-data/stylelib/_classic_test.mplstyle: \n",
      "The validate_bool_maybe_none function was deprecated in Matplotlib 3.3 and will be removed two minor releases later.\n",
      "In /home/ths/miniconda3/envs/aida/lib/python3.7/site-packages/matplotlib/mpl-data/stylelib/_classic_test.mplstyle: \n",
      "The savefig.jpeg_quality rcparam was deprecated in Matplotlib 3.3 and will be removed two minor releases later.\n",
      "In /home/ths/miniconda3/envs/aida/lib/python3.7/site-packages/matplotlib/mpl-data/stylelib/_classic_test.mplstyle: \n",
      "The keymap.all_axes rcparam was deprecated in Matplotlib 3.3 and will be removed two minor releases later.\n",
      "In /home/ths/miniconda3/envs/aida/lib/python3.7/site-packages/matplotlib/mpl-data/stylelib/_classic_test.mplstyle: \n",
      "The animation.avconv_path rcparam was deprecated in Matplotlib 3.3 and will be removed two minor releases later.\n",
      "In /home/ths/miniconda3/envs/aida/lib/python3.7/site-packages/matplotlib/mpl-data/stylelib/_classic_test.mplstyle: \n",
      "The animation.avconv_args rcparam was deprecated in Matplotlib 3.3 and will be removed two minor releases later.\n"
     ]
    }
   ],
   "source": [
    "import pandas as pd\n",
    "import numpy as np\n",
    "import tmdbsimple as tmdb\n",
    "import json\n",
    "import requests\n",
    "import tqdm\n",
    "import re\n",
    "#import multiprocessing\n",
    "import ray\n",
    "import glob\n",
    "import fastparquet as fp\n",
    "import sys\n",
    "import src.helper.helper as hlp\n",
    "import src.helper.secret as sec"
   ]
  },
  {
   "cell_type": "markdown",
   "metadata": {},
   "source": [
    "# Helper functions"
   ]
  },
  {
   "cell_type": "code",
   "execution_count": 2,
   "metadata": {},
   "outputs": [],
   "source": [
    "def load_movie_details(df):\n",
    "    for idx, row in df.iterrows():\n",
    "        p_rd = get_movie_data(row[\"id\"])\n",
    "        df.loc[idx, \"release_date\"] = p_rd\n",
    "    return df\n",
    "\n",
    "def get_movie_data(mid: int):\n",
    "    try:\n",
    "        m = tmdb.Movies(mid).info()\n",
    "    except Exception as e:\n",
    "        print(f\"Error loading movie {mid}, Exception: {sys.exc_info()}\")\n",
    "        return None, None\n",
    "\n",
    "    # Get poster url\n",
    "    if m['release_date'] != None:\n",
    "        try:\n",
    "            p_rd = pd.Timestamp(tmdb.Movies(mid).info()['release_date'])\n",
    "        except Exception as e:\n",
    "            print(f\"No valid Timestamp for movie {mid}, release date set to None\")\n",
    "            p_rd = None\n",
    "    else:\n",
    "        print(f\"Release date not set for movie {mid}\")\n",
    "        p_rd = None\n",
    "\n",
    "    return p_rd\n",
    "\n",
    "\n",
    "def parallelize_dataframe(df, func):\n",
    "    num_cores = multiprocessing.cpu_count()-1  #leave one free to not freeze machine\n",
    "    num_partitions = num_cores #number of partitions to split dataframe\n",
    "    df_split = np.array_split(df, num_partitions)\n",
    "    pool = multiprocessing.Pool(num_cores)\n",
    "    df = pd.concat(pool.map(func, df_split))\n",
    "    pool.close()\n",
    "    pool.join()\n",
    "    return df"
   ]
  },
  {
   "cell_type": "markdown",
   "metadata": {},
   "source": [
    "## Example movie details dataset"
   ]
  },
  {
   "cell_type": "code",
   "execution_count": 3,
   "metadata": {
    "jupyter": {
     "source_hidden": true
    },
    "tags": []
   },
   "outputs": [],
   "source": [
    "example_movie_details = {'adult': False,\n",
    " 'backdrop_path': '/ELsTifJ2lu4vsMhoHeZ5EnncHw.jpg',\n",
    " 'belongs_to_collection': None,\n",
    " 'budget': 70000000,\n",
    " 'genres': [{'id': 35, 'name': 'Comedy'},\n",
    "  {'id': 14, 'name': 'Fantasy'},\n",
    "  {'id': 878, 'name': 'Science Fiction'}],\n",
    " 'homepage': 'https://www.warnerbros.com/movies/mars-attacks/',\n",
    " 'id': 75,\n",
    " 'imdb_id': 'tt0116996',\n",
    " 'original_language': 'en',\n",
    " 'original_title': 'Mars Attacks!',\n",
    " 'overview': \"'We come in peace' is not what those green men from Mars mean when they invade our planet, armed with irresistible weapons and a cruel sense of humor.  This star studded cast must play victim to the alien’s fun and games in this comedy homage to science fiction films of the '50s and '60s.\",\n",
    " 'popularity': 21.773,\n",
    " 'poster_path': '/hll4O5vSAfnZDb6JbnP06GPtz7b.jpg',\n",
    " 'production_companies': [{'id': 8601,\n",
    "   'logo_path': None,\n",
    "   'name': 'Tim Burton Productions',\n",
    "   'origin_country': ''},\n",
    "  {'id': 174,\n",
    "   'logo_path': '/ky0xOc5OrhzkZ1N6KyUxacfQsCk.png',\n",
    "   'name': 'Warner Bros. Pictures',\n",
    "   'origin_country': 'US'}],\n",
    " 'production_countries': [{'iso_3166_1': 'US',\n",
    "   'name': 'United States of America'}],\n",
    " 'release_date': '1996-12-12',\n",
    " 'revenue': 101371017,\n",
    " 'runtime': 106,\n",
    " 'spoken_languages': [{'english_name': 'English',\n",
    "   'iso_639_1': 'en',\n",
    "   'name': 'English'},\n",
    "  {'english_name': 'French', 'iso_639_1': 'fr', 'name': 'Français'}],\n",
    " 'status': 'Released',\n",
    " 'tagline': \"Nice planet. We'll take it!\",\n",
    " 'title': 'Mars Attacks!',\n",
    " 'video': False,\n",
    " 'vote_average': 6.3,\n",
    " 'vote_count': 3948}"
   ]
  },
  {
   "cell_type": "markdown",
   "metadata": {},
   "source": [
    "# Config"
   ]
  },
  {
   "cell_type": "code",
   "execution_count": 4,
   "metadata": {},
   "outputs": [],
   "source": [
    "MOVIE_URI = \"https://www.themoviedb.org/movie/\"\n",
    "\n",
    "FILE_DIR = \"./\"\n",
    "DATA_DIR_RAW = FILE_DIR + \"../data/raw/\"\n",
    "DATA_DIR_INTERIM = FILE_DIR + \"../data/interim/\"\n",
    "\n",
    "VERSION_ID_OUT = \"v2\"\n",
    "FILE_PATH_DF_IN = DATA_DIR_INTERIM + \"df_cleaned_v1.gzip\"\n",
    "FILE_PATH_DF_OUT = DATA_DIR_INTERIM + f\"df_cleaned_{VERSION_ID_OUT}.gzip\""
   ]
  },
  {
   "cell_type": "markdown",
   "metadata": {},
   "source": [
    "# Init"
   ]
  },
  {
   "cell_type": "code",
   "execution_count": 5,
   "metadata": {},
   "outputs": [],
   "source": [
    "# Open TDB session\n",
    "tmdb.API_KEY = sec.TMDB_API_KEY\n",
    "tmdb.REQUESTS_SESSION = requests.Session()\n",
    "\n",
    "# Display options\n",
    "pd.set_option('display.max_colwidth', None)"
   ]
  },
  {
   "cell_type": "markdown",
   "metadata": {},
   "source": [
    "# Processing"
   ]
  },
  {
   "cell_type": "markdown",
   "metadata": {},
   "source": [
    "## Load dataframe to add the release date"
   ]
  },
  {
   "cell_type": "code",
   "execution_count": 6,
   "metadata": {},
   "outputs": [],
   "source": [
    "# Load dataframe to change\n",
    "df = pd.read_parquet(FILE_PATH_DF_IN)"
   ]
  },
  {
   "cell_type": "markdown",
   "metadata": {},
   "source": [
    "## Fetch and set release date"
   ]
  },
  {
   "cell_type": "code",
   "execution_count": 7,
   "metadata": {},
   "outputs": [
    {
     "name": "stderr",
     "output_type": "stream",
     "text": [
      "2021-03-15 12:56:17,695\tINFO resource_spec.py:231 -- Starting Ray with 13.87 GiB memory available for workers and up to 6.94 GiB for objects. You can adjust these settings with ray.init(memory=<bytes>, object_store_memory=<bytes>).\n",
      "2021-03-15 12:56:18,147\tINFO services.py:1193 -- View the Ray dashboard at \u001b[1m\u001b[32mlocalhost:8266\u001b[39m\u001b[22m\n",
      "  0%|          | 0/29 [00:00<?, ?it/s]\n"
     ]
    },
    {
     "ename": "AttributeError",
     "evalue": "'ray._raylet.ObjectRef' object has no attribute 'to_parquet'",
     "output_type": "error",
     "traceback": [
      "\u001b[0;31m--------------------------------\u001b[0m",
      "\u001b[0;31mAttributeError\u001b[0mTraceback (most recent call last)",
      "\u001b[0;32m<ipython-input-7-f1a36b45b78c>\u001b[0m in \u001b[0;36m<module>\u001b[0;34m\u001b[0m\n\u001b[1;32m     17\u001b[0m     \u001b[0;31m#df_tmp = parallelize_dataframe(df_tmp, load_movie_details)\u001b[0m\u001b[0;34m\u001b[0m\u001b[0;34m\u001b[0m\u001b[0;34m\u001b[0m\u001b[0m\n\u001b[1;32m     18\u001b[0m     \u001b[0;31m#l_df.append(df_tmp)\u001b[0m\u001b[0;34m\u001b[0m\u001b[0;34m\u001b[0m\u001b[0;34m\u001b[0m\u001b[0m\n\u001b[0;32m---> 19\u001b[0;31m     \u001b[0mdf_tmp\u001b[0m\u001b[0;34m.\u001b[0m\u001b[0mto_parquet\u001b[0m\u001b[0;34m(\u001b[0m\u001b[0mDATA_DIR_RAW\u001b[0m \u001b[0;34m+\u001b[0m \u001b[0;34mf'df_{s}_{e}_{VERSION_ID_OUT}.gzip'\u001b[0m\u001b[0;34m,\u001b[0m \u001b[0mcompression\u001b[0m\u001b[0;34m=\u001b[0m\u001b[0;34m'gzip'\u001b[0m\u001b[0;34m)\u001b[0m\u001b[0;34m\u001b[0m\u001b[0;34m\u001b[0m\u001b[0m\n\u001b[0m\u001b[1;32m     20\u001b[0m \u001b[0;34m\u001b[0m\u001b[0m\n\u001b[1;32m     21\u001b[0m \u001b[0;31m# Put it together\u001b[0m\u001b[0;34m\u001b[0m\u001b[0;34m\u001b[0m\u001b[0;34m\u001b[0m\u001b[0m\n",
      "\u001b[0;31mAttributeError\u001b[0m: 'ray._raylet.ObjectRef' object has no attribute 'to_parquet'"
     ]
    },
    {
     "name": "stdout",
     "output_type": "stream",
     "text": [
      "\u001b[2m\u001b[36m(pid=693695)\u001b[0m Error loading movie 537250, Exception: (<class 'tmdbsimple.base.APIKeyError'>, APIKeyError(), <traceback object at 0x7f1e16df6550>)\n"
     ]
    },
    {
     "name": "stderr",
     "output_type": "stream",
     "text": [
      "2021-03-15 12:56:24,649\tERROR worker.py:1074 -- Possible unhandled error from worker: \u001b[36mray::__main__.load_movie_details()\u001b[39m (pid=693695, ip=192.168.2.114)\n",
      "  File \"python/ray/_raylet.pyx\", line 479, in ray._raylet.execute_task\n",
      "  File \"<ipython-input-2-c3439134cb78>\", line 5, in load_movie_details\n",
      "  File \"/home/ths/miniconda3/envs/aida/lib/python3.7/site-packages/pandas/core/indexing.py\", line 670, in __setitem__\n",
      "    iloc._setitem_with_indexer(indexer, value)\n",
      "  File \"/home/ths/miniconda3/envs/aida/lib/python3.7/site-packages/pandas/core/indexing.py\", line 1601, in _setitem_with_indexer\n",
      "    self._setitem_with_indexer(new_indexer, value)\n",
      "  File \"/home/ths/miniconda3/envs/aida/lib/python3.7/site-packages/pandas/core/indexing.py\", line 1667, in _setitem_with_indexer\n",
      "    \"cannot set using a multi-index \"\n",
      "ValueError: cannot set using a multi-index selection indexer with a different length than the value\n"
     ]
    }
   ],
   "source": [
    "# Add release date \n",
    "#ray.init()\n",
    "\n",
    "l_df = []\n",
    "split_size = 1000\n",
    "start_count = 0\n",
    "end_count = (len(df) // split_size) + 1\n",
    "\n",
    "for i in tqdm.tqdm(range(start_count, end_count)):\n",
    "    s = i * split_size\n",
    "    e = ((i + 1) * split_size) - 1\n",
    "    if e > len(df):\n",
    "        e = len(df) - 1\n",
    "\n",
    "    df_tmp = df[s:e++1].copy()\n",
    "    df_tmp = parallelize_dataframe(df_tmp, load_movie_details)\n",
    "    l_df.append(df_tmp)\n",
    "    df_tmp.to_parquet(DATA_DIR_RAW + f'df_{s}_{e}_{VERSION_ID_OUT}.gzip', compression='gzip')\n",
    "\n",
    "# Put it together\n",
    "df = pd.concat(l_df)\n",
    "df.isna().sum()\n",
    "df.head()"
   ]
  },
  {
   "cell_type": "markdown",
   "metadata": {},
   "source": [
    "## Merge files to one file"
   ]
  },
  {
   "cell_type": "code",
   "execution_count": null,
   "metadata": {},
   "outputs": [],
   "source": [
    "# Load all existing files and merge them\n",
    "l_df = []\n",
    "l_file = glob.glob(DATA_DIR_RAW + f\"df*_{VERSION_ID_OUT}.gzip\")\n",
    "for file_path in l_file:\n",
    "    pf = fp.ParquetFile(file_path)\n",
    "    l_df.append(pf.to_pandas())\n",
    "df = pd.concat(l_df)\n",
    "\n",
    "# Save into one flea\n",
    "df.to_parquet(FILE_PATH_DF_OUT, compression='gzip')"
   ]
  },
  {
   "cell_type": "code",
   "execution_count": 1,
   "metadata": {},
   "outputs": [
    {
     "name": "stderr",
     "output_type": "stream",
     "text": [
      "2021-03-15 12:50:49,691\tINFO resource_spec.py:231 -- Starting Ray with 14.11 GiB memory available for workers and up to 7.07 GiB for objects. You can adjust these settings with ray.init(memory=<bytes>, object_store_memory=<bytes>).\n",
      "2021-03-15 12:50:50,081\tINFO services.py:1193 -- View the Ray dashboard at \u001b[1m\u001b[32mlocalhost:8266\u001b[39m\u001b[22m\n"
     ]
    },
    {
     "data": {
      "text/plain": [
       "{'node_ip_address': '192.168.2.114',\n",
       " 'raylet_ip_address': '192.168.2.114',\n",
       " 'redis_address': '192.168.2.114:6379',\n",
       " 'object_store_address': '/tmp/ray/session_2021-03-15_12-50-49_690548_691453/sockets/plasma_store',\n",
       " 'raylet_socket_name': '/tmp/ray/session_2021-03-15_12-50-49_690548_691453/sockets/raylet',\n",
       " 'webui_url': 'localhost:8266',\n",
       " 'session_dir': '/tmp/ray/session_2021-03-15_12-50-49_690548_691453'}"
      ]
     },
     "execution_count": 1,
     "metadata": {},
     "output_type": "execute_result"
    }
   ],
   "source": [
    "import ray\n",
    "import time\n",
    "ray.init()"
   ]
  },
  {
   "cell_type": "code",
   "execution_count": 2,
   "metadata": {},
   "outputs": [
    {
     "name": "stdout",
     "output_type": "stream",
     "text": [
      "[0, 1, 2, 3, 4, 5, 6, 7, 8, 9, 10, 11, 12, 13, 14, 15, 16, 17, 18, 19, 20, 21, 22, 23, 24, 25, 26, 27, 28, 29, 30, 31, 32, 33, 34, 35, 36, 37, 38, 39]\n"
     ]
    }
   ],
   "source": [
    "@ray.remote\n",
    "def f(i):\n",
    "    time.sleep(1)\n",
    "    return i\n",
    "futures = [f.remote(i) for i in range(40)]\n",
    "print(ray.get(futures))"
   ]
  },
  {
   "cell_type": "code",
   "execution_count": null,
   "metadata": {},
   "outputs": [],
   "source": []
  }
 ],
 "metadata": {
  "kernelspec": {
   "display_name": "Python 3",
   "language": "python",
   "name": "python3"
  },
  "language_info": {
   "codemirror_mode": {
    "name": "ipython",
    "version": 3
   },
   "file_extension": ".py",
   "mimetype": "text/x-python",
   "name": "python",
   "nbconvert_exporter": "python",
   "pygments_lexer": "ipython3",
   "version": "3.7.7"
  }
 },
 "nbformat": 4,
 "nbformat_minor": 4
}
