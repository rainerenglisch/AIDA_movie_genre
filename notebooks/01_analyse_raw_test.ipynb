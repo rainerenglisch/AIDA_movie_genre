{
 "metadata": {
  "language_info": {
   "codemirror_mode": {
    "name": "ipython",
    "version": 3
   },
   "file_extension": ".py",
   "mimetype": "text/x-python",
   "name": "python",
   "nbconvert_exporter": "python",
   "pygments_lexer": "ipython3",
   "version": "3.8.8-final"
  },
  "orig_nbformat": 2,
  "kernelspec": {
   "name": "python3",
   "display_name": "Python 3.8.8 64-bit ('aida_pro': conda)",
   "metadata": {
    "interpreter": {
     "hash": "6d29e069e955b1b6a88d9229fe76a20b44327016bc4846623cf15be91831d8a6"
    }
   }
  }
 },
 "nbformat": 4,
 "nbformat_minor": 2,
 "cells": [
  {
   "cell_type": "code",
   "execution_count": 1,
   "metadata": {},
   "outputs": [
    {
     "output_type": "execute_result",
     "data": {
      "text/plain": [
       "        adult      id                                     original_title  \\\n",
       "380003  False  537250                         ¿Por qué ya no me quieres?   \n",
       "380010  False  537266                                            Success   \n",
       "380017  False  537274                                  Предел возможного   \n",
       "380020  False  537277                                                 母親   \n",
       "380022  False  537281                                   1+1=3 Ora Tinjon   \n",
       "...       ...     ...                                                ...   \n",
       "19993   False   31788  Bill Hicks Live: Satirist, Social Critic, Stan...   \n",
       "19994   False   31789                                       Pédale douce   \n",
       "19995   False   31791                        Opeth: The Roundhouse Tapes   \n",
       "19996   False   31792                    Ozzy Osbourne: Bark at the Moon   \n",
       "19999   False   31795                              Sarah Brightman: Diva   \n",
       "\n",
       "        popularity  video                                      url  \\\n",
       "380003       1.400  False  https://www.themoviedb.org/movie/537250   \n",
       "380010       0.600  False  https://www.themoviedb.org/movie/537266   \n",
       "380017       0.620  False  https://www.themoviedb.org/movie/537274   \n",
       "380020       0.600  False  https://www.themoviedb.org/movie/537277   \n",
       "380022       0.600  False  https://www.themoviedb.org/movie/537281   \n",
       "...            ...    ...                                      ...   \n",
       "19993        5.355  False   https://www.themoviedb.org/movie/31788   \n",
       "19994        6.775  False   https://www.themoviedb.org/movie/31789   \n",
       "19995        5.698   True   https://www.themoviedb.org/movie/31791   \n",
       "19996        3.115  False   https://www.themoviedb.org/movie/31792   \n",
       "19999        2.923  False   https://www.themoviedb.org/movie/31795   \n",
       "\n",
       "                                               poster_url  genre_id  \\\n",
       "380003  https://www.themoviedb.org/t/p/w500//8Y0aOxqSe...  [80, 18]   \n",
       "380010  https://www.themoviedb.org/t/p/w500//tJMm1JJUe...      [18]   \n",
       "380017  https://www.themoviedb.org/t/p/w500//h9aXCUZ6g...      [18]   \n",
       "380020  https://www.themoviedb.org/t/p/w500//3Ogn8SWj2...      [18]   \n",
       "380022  https://www.themoviedb.org/t/p/w500//47yYJPL2q...      [18]   \n",
       "...                                                   ...       ...   \n",
       "19993   https://www.themoviedb.org/t/p/w500//lz2poVfHS...      [35]   \n",
       "19994   https://www.themoviedb.org/t/p/w500//xYFrGGsmK...      [35]   \n",
       "19995   https://www.themoviedb.org/t/p/w500//YaCzP9wPJ...   [10402]   \n",
       "19996   https://www.themoviedb.org/t/p/w500//vG0QdyICu...   [10402]   \n",
       "19999   https://www.themoviedb.org/t/p/w500//nURFkGVZ0...   [10402]   \n",
       "\n",
       "        poster_exists     genre_ids2  genre_id_count  \n",
       "380003           True  [Crime,Drama]               2  \n",
       "380010           True        [Drama]               1  \n",
       "380017           True        [Drama]               1  \n",
       "380020           True        [Drama]               1  \n",
       "380022           True        [Drama]               1  \n",
       "...               ...            ...             ...  \n",
       "19993            True       [Comedy]               1  \n",
       "19994            True       [Comedy]               1  \n",
       "19995            True        [Music]               1  \n",
       "19996            True        [Music]               1  \n",
       "19999            True        [Music]               1  \n",
       "\n",
       "[281541 rows x 11 columns]"
      ],
      "text/html": "<div>\n<style scoped>\n    .dataframe tbody tr th:only-of-type {\n        vertical-align: middle;\n    }\n\n    .dataframe tbody tr th {\n        vertical-align: top;\n    }\n\n    .dataframe thead th {\n        text-align: right;\n    }\n</style>\n<table border=\"1\" class=\"dataframe\">\n  <thead>\n    <tr style=\"text-align: right;\">\n      <th></th>\n      <th>adult</th>\n      <th>id</th>\n      <th>original_title</th>\n      <th>popularity</th>\n      <th>video</th>\n      <th>url</th>\n      <th>poster_url</th>\n      <th>genre_id</th>\n      <th>poster_exists</th>\n      <th>genre_ids2</th>\n      <th>genre_id_count</th>\n    </tr>\n  </thead>\n  <tbody>\n    <tr>\n      <th>380003</th>\n      <td>False</td>\n      <td>537250</td>\n      <td>¿Por qué ya no me quieres?</td>\n      <td>1.400</td>\n      <td>False</td>\n      <td>https://www.themoviedb.org/movie/537250</td>\n      <td>https://www.themoviedb.org/t/p/w500//8Y0aOxqSe...</td>\n      <td>[80, 18]</td>\n      <td>True</td>\n      <td>[Crime,Drama]</td>\n      <td>2</td>\n    </tr>\n    <tr>\n      <th>380010</th>\n      <td>False</td>\n      <td>537266</td>\n      <td>Success</td>\n      <td>0.600</td>\n      <td>False</td>\n      <td>https://www.themoviedb.org/movie/537266</td>\n      <td>https://www.themoviedb.org/t/p/w500//tJMm1JJUe...</td>\n      <td>[18]</td>\n      <td>True</td>\n      <td>[Drama]</td>\n      <td>1</td>\n    </tr>\n    <tr>\n      <th>380017</th>\n      <td>False</td>\n      <td>537274</td>\n      <td>Предел возможного</td>\n      <td>0.620</td>\n      <td>False</td>\n      <td>https://www.themoviedb.org/movie/537274</td>\n      <td>https://www.themoviedb.org/t/p/w500//h9aXCUZ6g...</td>\n      <td>[18]</td>\n      <td>True</td>\n      <td>[Drama]</td>\n      <td>1</td>\n    </tr>\n    <tr>\n      <th>380020</th>\n      <td>False</td>\n      <td>537277</td>\n      <td>母親</td>\n      <td>0.600</td>\n      <td>False</td>\n      <td>https://www.themoviedb.org/movie/537277</td>\n      <td>https://www.themoviedb.org/t/p/w500//3Ogn8SWj2...</td>\n      <td>[18]</td>\n      <td>True</td>\n      <td>[Drama]</td>\n      <td>1</td>\n    </tr>\n    <tr>\n      <th>380022</th>\n      <td>False</td>\n      <td>537281</td>\n      <td>1+1=3 Ora Tinjon</td>\n      <td>0.600</td>\n      <td>False</td>\n      <td>https://www.themoviedb.org/movie/537281</td>\n      <td>https://www.themoviedb.org/t/p/w500//47yYJPL2q...</td>\n      <td>[18]</td>\n      <td>True</td>\n      <td>[Drama]</td>\n      <td>1</td>\n    </tr>\n    <tr>\n      <th>...</th>\n      <td>...</td>\n      <td>...</td>\n      <td>...</td>\n      <td>...</td>\n      <td>...</td>\n      <td>...</td>\n      <td>...</td>\n      <td>...</td>\n      <td>...</td>\n      <td>...</td>\n      <td>...</td>\n    </tr>\n    <tr>\n      <th>19993</th>\n      <td>False</td>\n      <td>31788</td>\n      <td>Bill Hicks Live: Satirist, Social Critic, Stan...</td>\n      <td>5.355</td>\n      <td>False</td>\n      <td>https://www.themoviedb.org/movie/31788</td>\n      <td>https://www.themoviedb.org/t/p/w500//lz2poVfHS...</td>\n      <td>[35]</td>\n      <td>True</td>\n      <td>[Comedy]</td>\n      <td>1</td>\n    </tr>\n    <tr>\n      <th>19994</th>\n      <td>False</td>\n      <td>31789</td>\n      <td>Pédale douce</td>\n      <td>6.775</td>\n      <td>False</td>\n      <td>https://www.themoviedb.org/movie/31789</td>\n      <td>https://www.themoviedb.org/t/p/w500//xYFrGGsmK...</td>\n      <td>[35]</td>\n      <td>True</td>\n      <td>[Comedy]</td>\n      <td>1</td>\n    </tr>\n    <tr>\n      <th>19995</th>\n      <td>False</td>\n      <td>31791</td>\n      <td>Opeth: The Roundhouse Tapes</td>\n      <td>5.698</td>\n      <td>True</td>\n      <td>https://www.themoviedb.org/movie/31791</td>\n      <td>https://www.themoviedb.org/t/p/w500//YaCzP9wPJ...</td>\n      <td>[10402]</td>\n      <td>True</td>\n      <td>[Music]</td>\n      <td>1</td>\n    </tr>\n    <tr>\n      <th>19996</th>\n      <td>False</td>\n      <td>31792</td>\n      <td>Ozzy Osbourne: Bark at the Moon</td>\n      <td>3.115</td>\n      <td>False</td>\n      <td>https://www.themoviedb.org/movie/31792</td>\n      <td>https://www.themoviedb.org/t/p/w500//vG0QdyICu...</td>\n      <td>[10402]</td>\n      <td>True</td>\n      <td>[Music]</td>\n      <td>1</td>\n    </tr>\n    <tr>\n      <th>19999</th>\n      <td>False</td>\n      <td>31795</td>\n      <td>Sarah Brightman: Diva</td>\n      <td>2.923</td>\n      <td>False</td>\n      <td>https://www.themoviedb.org/movie/31795</td>\n      <td>https://www.themoviedb.org/t/p/w500//nURFkGVZ0...</td>\n      <td>[10402]</td>\n      <td>True</td>\n      <td>[Music]</td>\n      <td>1</td>\n    </tr>\n  </tbody>\n</table>\n<p>281541 rows × 11 columns</p>\n</div>"
     },
     "metadata": {},
     "execution_count": 1
    }
   ],
   "source": [
    "import pandas as pd\n",
    "import numpy as np\n",
    "import matplotlib.pyplot as plt\n",
    "import seaborn as sns\n",
    "from ast import literal_eval\n",
    "#!pip install pandas pyarrow\n",
    "import pyarrow\n",
    "\n",
    "import glob\n",
    "\n",
    "import pyarrow.parquet as pq\n",
    "movies = pq.read_table(source=\"../data/interim/df_cleaned_v1.gzip\").to_pandas()\n",
    "movies"
   ]
  },
  {
   "cell_type": "code",
   "execution_count": 2,
   "metadata": {},
   "outputs": [
    {
     "output_type": "execute_result",
     "data": {
      "text/plain": [
       "[28, 18, 53, 80, 9648]              1\n",
       "[80, 10751, 12, 35]                 1\n",
       "[28, 16, 80, 18, 10749, 878]        1\n",
       "[18, 12, 10749, 36]                 1\n",
       "[12, 27, 28, 36]                    1\n",
       "                                ...  \n",
       "[27]                             7913\n",
       "[10402]                         10305\n",
       "[35]                            27139\n",
       "[18]                            41802\n",
       "[99]                            41926\n",
       "Name: genre_id, Length: 9142, dtype: int64"
      ]
     },
     "metadata": {},
     "execution_count": 2
    }
   ],
   "source": [
    "movies.genre_id.value_counts(ascending=True)"
   ]
  },
  {
   "cell_type": "code",
   "execution_count": 3,
   "metadata": {},
   "outputs": [],
   "source": [
    "from sklearn.model_selection import train_test_split\n",
    "\n",
    "y= movies.genre_id\n",
    "traincomple, test= train_test_split(movies , test_size=0.20, random_state=42, shuffle=True)"
   ]
  },
  {
   "cell_type": "code",
   "execution_count": 4,
   "metadata": {},
   "outputs": [
    {
     "output_type": "execute_result",
     "data": {
      "text/plain": [
       "(225232, 11)"
      ]
     },
     "metadata": {},
     "execution_count": 4
    }
   ],
   "source": [
    "traincomple.shape"
   ]
  },
  {
   "cell_type": "code",
   "execution_count": 5,
   "metadata": {},
   "outputs": [
    {
     "output_type": "execute_result",
     "data": {
      "text/plain": [
       "(56309, 11)"
      ]
     },
     "metadata": {},
     "execution_count": 5
    }
   ],
   "source": [
    "test.shape"
   ]
  },
  {
   "cell_type": "code",
   "execution_count": 6,
   "metadata": {},
   "outputs": [],
   "source": [
    "\n",
    "#Train complete again splitted for validatopn propose 60 train 20 validation 20 test \n",
    "\n",
    "train_, val= train_test_split(traincomple , test_size=0.20, random_state=42, shuffle=True)"
   ]
  },
  {
   "cell_type": "code",
   "execution_count": 7,
   "metadata": {},
   "outputs": [
    {
     "output_type": "execute_result",
     "data": {
      "text/plain": [
       "(180185, 11)"
      ]
     },
     "metadata": {},
     "execution_count": 7
    }
   ],
   "source": [
    "train_.shape"
   ]
  },
  {
   "cell_type": "code",
   "execution_count": 8,
   "metadata": {},
   "outputs": [
    {
     "output_type": "execute_result",
     "data": {
      "text/plain": [
       "(45047, 11)"
      ]
     },
     "metadata": {},
     "execution_count": 8
    }
   ],
   "source": [
    "val.shape\n"
   ]
  },
  {
   "cell_type": "code",
   "execution_count": 9,
   "metadata": {
    "tags": []
   },
   "outputs": [
    {
     "output_type": "stream",
     "name": "stderr",
     "text": [
      "/Users/cenriquez/opt/anaconda3/envs/aida_pro/lib/python3.8/site-packages/pandas/core/generic.py:5494: SettingWithCopyWarning: \nA value is trying to be set on a copy of a slice from a DataFrame.\nTry using .loc[row_indexer,col_indexer] = value instead\n\nSee the caveats in the documentation: https://pandas.pydata.org/pandas-docs/stable/user_guide/indexing.html#returning-a-view-versus-a-copy\n  self[name] = value\n"
     ]
    }
   ],
   "source": [
    "\n",
    "from ast import literal_eval\n",
    "\n",
    "#train_.genre_ids2=train_.genre_ids2.apply(literal_eval)\n",
    "\n",
    "def testme(x):\n",
    "    tmp=\"\".join(x).replace(\"'\", \"\")\n",
    "   # print([y for y in tmp.split(\",\")])\n",
    "    return [y for y in tmp.split(\",\")]\n",
    "  \n",
    "   \n",
    "\n",
    "train_.genre_ids2=train_.genre_ids2.apply(testme)"
   ]
  },
  {
   "cell_type": "code",
   "execution_count": 10,
   "metadata": {},
   "outputs": [
    {
     "output_type": "execute_result",
     "data": {
      "text/plain": [
       "        adult      id                    original_title  popularity  video  \\\n",
       "384117  False  542566  Bambaşka: Başka Bir Aşk Hikayesi       0.600  False   \n",
       "352937  False  504761           Trekking the Great Wall       2.845  False   \n",
       "362443  False  515959               Anna & the Asteroid       0.603  False   \n",
       "72518   False  107414                    Foolin' Around       0.775  False   \n",
       "156948  False  267196                   Clara Immerwahr       1.400  False   \n",
       "\n",
       "                                            url  \\\n",
       "384117  https://www.themoviedb.org/movie/542566   \n",
       "352937  https://www.themoviedb.org/movie/504761   \n",
       "362443  https://www.themoviedb.org/movie/515959   \n",
       "72518   https://www.themoviedb.org/movie/107414   \n",
       "156948  https://www.themoviedb.org/movie/267196   \n",
       "\n",
       "                                               poster_url     genre_id  \\\n",
       "384117  https://www.themoviedb.org/t/p/w500//6QxlnrKak...      [10749]   \n",
       "352937  https://www.themoviedb.org/t/p/w500//3KB8N5kk7...         [99]   \n",
       "362443  https://www.themoviedb.org/t/p/w500//3A91CmXCg...    [18, 878]   \n",
       "72518   https://www.themoviedb.org/t/p/w500//zCItqBggj...  [35, 10749]   \n",
       "156948  https://www.themoviedb.org/t/p/w500//uq64pQJUu...     [18, 36]   \n",
       "\n",
       "        poster_exists                genre_ids2  genre_id_count  \n",
       "384117           True                 [Romance]               1  \n",
       "352937           True             [Documentary]               1  \n",
       "362443           True  [Drama, Science Fiction]               2  \n",
       "72518            True         [Comedy, Romance]               2  \n",
       "156948           True          [Drama, History]               2  "
      ],
      "text/html": "<div>\n<style scoped>\n    .dataframe tbody tr th:only-of-type {\n        vertical-align: middle;\n    }\n\n    .dataframe tbody tr th {\n        vertical-align: top;\n    }\n\n    .dataframe thead th {\n        text-align: right;\n    }\n</style>\n<table border=\"1\" class=\"dataframe\">\n  <thead>\n    <tr style=\"text-align: right;\">\n      <th></th>\n      <th>adult</th>\n      <th>id</th>\n      <th>original_title</th>\n      <th>popularity</th>\n      <th>video</th>\n      <th>url</th>\n      <th>poster_url</th>\n      <th>genre_id</th>\n      <th>poster_exists</th>\n      <th>genre_ids2</th>\n      <th>genre_id_count</th>\n    </tr>\n  </thead>\n  <tbody>\n    <tr>\n      <th>384117</th>\n      <td>False</td>\n      <td>542566</td>\n      <td>Bambaşka: Başka Bir Aşk Hikayesi</td>\n      <td>0.600</td>\n      <td>False</td>\n      <td>https://www.themoviedb.org/movie/542566</td>\n      <td>https://www.themoviedb.org/t/p/w500//6QxlnrKak...</td>\n      <td>[10749]</td>\n      <td>True</td>\n      <td>[Romance]</td>\n      <td>1</td>\n    </tr>\n    <tr>\n      <th>352937</th>\n      <td>False</td>\n      <td>504761</td>\n      <td>Trekking the Great Wall</td>\n      <td>2.845</td>\n      <td>False</td>\n      <td>https://www.themoviedb.org/movie/504761</td>\n      <td>https://www.themoviedb.org/t/p/w500//3KB8N5kk7...</td>\n      <td>[99]</td>\n      <td>True</td>\n      <td>[Documentary]</td>\n      <td>1</td>\n    </tr>\n    <tr>\n      <th>362443</th>\n      <td>False</td>\n      <td>515959</td>\n      <td>Anna &amp; the Asteroid</td>\n      <td>0.603</td>\n      <td>False</td>\n      <td>https://www.themoviedb.org/movie/515959</td>\n      <td>https://www.themoviedb.org/t/p/w500//3A91CmXCg...</td>\n      <td>[18, 878]</td>\n      <td>True</td>\n      <td>[Drama, Science Fiction]</td>\n      <td>2</td>\n    </tr>\n    <tr>\n      <th>72518</th>\n      <td>False</td>\n      <td>107414</td>\n      <td>Foolin' Around</td>\n      <td>0.775</td>\n      <td>False</td>\n      <td>https://www.themoviedb.org/movie/107414</td>\n      <td>https://www.themoviedb.org/t/p/w500//zCItqBggj...</td>\n      <td>[35, 10749]</td>\n      <td>True</td>\n      <td>[Comedy, Romance]</td>\n      <td>2</td>\n    </tr>\n    <tr>\n      <th>156948</th>\n      <td>False</td>\n      <td>267196</td>\n      <td>Clara Immerwahr</td>\n      <td>1.400</td>\n      <td>False</td>\n      <td>https://www.themoviedb.org/movie/267196</td>\n      <td>https://www.themoviedb.org/t/p/w500//uq64pQJUu...</td>\n      <td>[18, 36]</td>\n      <td>True</td>\n      <td>[Drama, History]</td>\n      <td>2</td>\n    </tr>\n  </tbody>\n</table>\n</div>"
     },
     "metadata": {},
     "execution_count": 10
    }
   ],
   "source": [
    "train_.head(5)"
   ]
  },
  {
   "cell_type": "code",
   "execution_count": 11,
   "metadata": {},
   "outputs": [
    {
     "output_type": "stream",
     "name": "stderr",
     "text": [
      "<ipython-input-11-c51bf1552f9f>:5: SettingWithCopyWarning: \nA value is trying to be set on a copy of a slice from a DataFrame.\nTry using .loc[row_indexer,col_indexer] = value instead\n\nSee the caveats in the documentation: https://pandas.pydata.org/pandas-docs/stable/user_guide/indexing.html#returning-a-view-versus-a-copy\n  train_['path_image']=train_['poster_url'].apply(lambda x: get_path_colab(x))\n"
     ]
    },
    {
     "output_type": "execute_result",
     "data": {
      "text/plain": [
       "(298910, 12)"
      ]
     },
     "metadata": {},
     "execution_count": 11
    }
   ],
   "source": [
    "def get_path_colab(x):\n",
    "\n",
    " filename_=x.rsplit('/', 1)[-1]\n",
    " return  filename_\n",
    "train_['path_image']=train_['poster_url'].apply(lambda x: get_path_colab(x))\n",
    "\n",
    "\n",
    "\n",
    "train_explode=train_.explode('genre_ids2')\n",
    "train_explode.shape"
   ]
  },
  {
   "cell_type": "code",
   "execution_count": 12,
   "metadata": {},
   "outputs": [
    {
     "output_type": "execute_result",
     "data": {
      "text/plain": [
       "Index(['adult', 'id', 'original_title', 'popularity', 'video', 'url',\n",
       "       'poster_url', 'genre_id', 'poster_exists', 'genre_ids2',\n",
       "       'genre_id_count', 'path_image', 'x0_Action', 'x0_Adventure',\n",
       "       'x0_Animation', 'x0_Comedy', 'x0_Crime', 'x0_Documentary', 'x0_Drama',\n",
       "       'x0_Family', 'x0_Fantasy', 'x0_History', 'x0_Horror', 'x0_Music',\n",
       "       'x0_Mystery', 'x0_Romance', 'x0_Science Fiction', 'x0_TV Movie',\n",
       "       'x0_Thriller', 'x0_War', 'x0_Western'],\n",
       "      dtype='object')"
      ]
     },
     "metadata": {},
     "execution_count": 12
    }
   ],
   "source": [
    "from sklearn.preprocessing import OneHotEncoder\n",
    "ohe= OneHotEncoder(sparse=False, handle_unknown=\"ignore\").fit(train_explode[['genre_ids2']])\n",
    "ohe_class=pd.DataFrame(ohe.transform(train_explode[['genre_ids2']]),columns=ohe.get_feature_names())\n",
    "train_explode.reset_index(drop=True, inplace=True)\n",
    "movies_class = pd.concat([train_explode, ohe_class], axis=1)\n",
    "movies_class.columns"
   ]
  },
  {
   "cell_type": "code",
   "execution_count": 13,
   "metadata": {},
   "outputs": [],
   "source": [
    "#movies_class.isnull().sum()"
   ]
  },
  {
   "cell_type": "code",
   "execution_count": 14,
   "metadata": {},
   "outputs": [
    {
     "output_type": "execute_result",
     "data": {
      "text/plain": [
       "   id  x0_Action  x0_Adventure  x0_Animation  x0_Comedy  x0_Crime  \\\n",
       "0   2        0.0           0.0           0.0        1.0       1.0   \n",
       "1   5        0.0           0.0           0.0        1.0       1.0   \n",
       "2   6        1.0           0.0           0.0        0.0       1.0   \n",
       "3   8        0.0           0.0           0.0        0.0       0.0   \n",
       "4  11        1.0           1.0           0.0        0.0       0.0   \n",
       "\n",
       "   x0_Documentary  x0_Drama  x0_Family  x0_Fantasy  x0_History  x0_Horror  \\\n",
       "0             0.0       1.0        0.0         0.0         0.0        0.0   \n",
       "1             0.0       0.0        0.0         0.0         0.0        0.0   \n",
       "2             0.0       0.0        0.0         0.0         0.0        0.0   \n",
       "3             1.0       0.0        0.0         0.0         0.0        0.0   \n",
       "4             0.0       0.0        0.0         0.0         0.0        0.0   \n",
       "\n",
       "   x0_Music  x0_Mystery  x0_Romance  x0_Science Fiction  x0_TV Movie  \\\n",
       "0       0.0         0.0         0.0                 0.0          0.0   \n",
       "1       0.0         0.0         0.0                 0.0          0.0   \n",
       "2       0.0         0.0         0.0                 0.0          0.0   \n",
       "3       0.0         0.0         0.0                 0.0          0.0   \n",
       "4       0.0         0.0         0.0                 1.0          0.0   \n",
       "\n",
       "   x0_Thriller  x0_War  x0_Western  \n",
       "0          0.0     0.0         0.0  \n",
       "1          0.0     0.0         0.0  \n",
       "2          1.0     0.0         0.0  \n",
       "3          0.0     0.0         0.0  \n",
       "4          0.0     0.0         0.0  "
      ],
      "text/html": "<div>\n<style scoped>\n    .dataframe tbody tr th:only-of-type {\n        vertical-align: middle;\n    }\n\n    .dataframe tbody tr th {\n        vertical-align: top;\n    }\n\n    .dataframe thead th {\n        text-align: right;\n    }\n</style>\n<table border=\"1\" class=\"dataframe\">\n  <thead>\n    <tr style=\"text-align: right;\">\n      <th></th>\n      <th>id</th>\n      <th>x0_Action</th>\n      <th>x0_Adventure</th>\n      <th>x0_Animation</th>\n      <th>x0_Comedy</th>\n      <th>x0_Crime</th>\n      <th>x0_Documentary</th>\n      <th>x0_Drama</th>\n      <th>x0_Family</th>\n      <th>x0_Fantasy</th>\n      <th>x0_History</th>\n      <th>x0_Horror</th>\n      <th>x0_Music</th>\n      <th>x0_Mystery</th>\n      <th>x0_Romance</th>\n      <th>x0_Science Fiction</th>\n      <th>x0_TV Movie</th>\n      <th>x0_Thriller</th>\n      <th>x0_War</th>\n      <th>x0_Western</th>\n    </tr>\n  </thead>\n  <tbody>\n    <tr>\n      <th>0</th>\n      <td>2</td>\n      <td>0.0</td>\n      <td>0.0</td>\n      <td>0.0</td>\n      <td>1.0</td>\n      <td>1.0</td>\n      <td>0.0</td>\n      <td>1.0</td>\n      <td>0.0</td>\n      <td>0.0</td>\n      <td>0.0</td>\n      <td>0.0</td>\n      <td>0.0</td>\n      <td>0.0</td>\n      <td>0.0</td>\n      <td>0.0</td>\n      <td>0.0</td>\n      <td>0.0</td>\n      <td>0.0</td>\n      <td>0.0</td>\n    </tr>\n    <tr>\n      <th>1</th>\n      <td>5</td>\n      <td>0.0</td>\n      <td>0.0</td>\n      <td>0.0</td>\n      <td>1.0</td>\n      <td>1.0</td>\n      <td>0.0</td>\n      <td>0.0</td>\n      <td>0.0</td>\n      <td>0.0</td>\n      <td>0.0</td>\n      <td>0.0</td>\n      <td>0.0</td>\n      <td>0.0</td>\n      <td>0.0</td>\n      <td>0.0</td>\n      <td>0.0</td>\n      <td>0.0</td>\n      <td>0.0</td>\n      <td>0.0</td>\n    </tr>\n    <tr>\n      <th>2</th>\n      <td>6</td>\n      <td>1.0</td>\n      <td>0.0</td>\n      <td>0.0</td>\n      <td>0.0</td>\n      <td>1.0</td>\n      <td>0.0</td>\n      <td>0.0</td>\n      <td>0.0</td>\n      <td>0.0</td>\n      <td>0.0</td>\n      <td>0.0</td>\n      <td>0.0</td>\n      <td>0.0</td>\n      <td>0.0</td>\n      <td>0.0</td>\n      <td>0.0</td>\n      <td>1.0</td>\n      <td>0.0</td>\n      <td>0.0</td>\n    </tr>\n    <tr>\n      <th>3</th>\n      <td>8</td>\n      <td>0.0</td>\n      <td>0.0</td>\n      <td>0.0</td>\n      <td>0.0</td>\n      <td>0.0</td>\n      <td>1.0</td>\n      <td>0.0</td>\n      <td>0.0</td>\n      <td>0.0</td>\n      <td>0.0</td>\n      <td>0.0</td>\n      <td>0.0</td>\n      <td>0.0</td>\n      <td>0.0</td>\n      <td>0.0</td>\n      <td>0.0</td>\n      <td>0.0</td>\n      <td>0.0</td>\n      <td>0.0</td>\n    </tr>\n    <tr>\n      <th>4</th>\n      <td>11</td>\n      <td>1.0</td>\n      <td>1.0</td>\n      <td>0.0</td>\n      <td>0.0</td>\n      <td>0.0</td>\n      <td>0.0</td>\n      <td>0.0</td>\n      <td>0.0</td>\n      <td>0.0</td>\n      <td>0.0</td>\n      <td>0.0</td>\n      <td>0.0</td>\n      <td>0.0</td>\n      <td>0.0</td>\n      <td>1.0</td>\n      <td>0.0</td>\n      <td>0.0</td>\n      <td>0.0</td>\n      <td>0.0</td>\n    </tr>\n  </tbody>\n</table>\n</div>"
     },
     "metadata": {},
     "execution_count": 14
    }
   ],
   "source": [
    "genre_col=['x0_Action', 'x0_Adventure',\n",
    "       'x0_Animation', 'x0_Comedy', 'x0_Crime', 'x0_Documentary', 'x0_Drama',\n",
    "       'x0_Family', 'x0_Fantasy', 'x0_History', 'x0_Horror', 'x0_Music',\n",
    "       'x0_Mystery', 'x0_Romance', 'x0_Science Fiction', 'x0_TV Movie',\n",
    "       'x0_Thriller', 'x0_War', 'x0_Western' ]\n",
    "b1=movies_class[['id']+genre_col].groupby(\"id\").sum().reset_index()\n",
    "b1.head(5)"
   ]
  },
  {
   "cell_type": "code",
   "execution_count": 15,
   "metadata": {},
   "outputs": [
    {
     "output_type": "execute_result",
     "data": {
      "text/plain": [
       "(180185, 31)"
      ]
     },
     "metadata": {},
     "execution_count": 15
    }
   ],
   "source": [
    "b2=pd.merge(train_, b1 ,on=\"id\")\n",
    "b2.shape\n",
    "#180185"
   ]
  },
  {
   "cell_type": "code",
   "execution_count": 16,
   "metadata": {},
   "outputs": [
    {
     "output_type": "execute_result",
     "data": {
      "text/plain": [
       "Index(['adult', 'id', 'original_title', 'popularity', 'video', 'url',\n",
       "       'poster_url', 'genre_id', 'poster_exists', 'genre_ids2',\n",
       "       'genre_id_count', 'path_image', 'x0_Action', 'x0_Adventure',\n",
       "       'x0_Animation', 'x0_Comedy', 'x0_Crime', 'x0_Documentary', 'x0_Drama',\n",
       "       'x0_Family', 'x0_Fantasy', 'x0_History', 'x0_Horror', 'x0_Music',\n",
       "       'x0_Mystery', 'x0_Romance', 'x0_Science Fiction', 'x0_TV Movie',\n",
       "       'x0_Thriller', 'x0_War', 'x0_Western'],\n",
       "      dtype='object')"
      ]
     },
     "metadata": {},
     "execution_count": 16
    }
   ],
   "source": [
    "b2.columns"
   ]
  },
  {
   "cell_type": "code",
   "execution_count": 17,
   "metadata": {},
   "outputs": [
    {
     "output_type": "stream",
     "name": "stderr",
     "text": [
      "/Users/cenriquez/opt/anaconda3/envs/aida_pro/lib/python3.8/site-packages/pandas/core/generic.py:5494: SettingWithCopyWarning: \nA value is trying to be set on a copy of a slice from a DataFrame.\nTry using .loc[row_indexer,col_indexer] = value instead\n\nSee the caveats in the documentation: https://pandas.pydata.org/pandas-docs/stable/user_guide/indexing.html#returning-a-view-versus-a-copy\n  self[name] = value\n<ipython-input-17-a119c2bd0001>:5: SettingWithCopyWarning: \nA value is trying to be set on a copy of a slice from a DataFrame.\nTry using .loc[row_indexer,col_indexer] = value instead\n\nSee the caveats in the documentation: https://pandas.pydata.org/pandas-docs/stable/user_guide/indexing.html#returning-a-view-versus-a-copy\n  test['path_image']=test['poster_url'].apply(lambda x: get_path_colab(x))\n"
     ]
    },
    {
     "output_type": "execute_result",
     "data": {
      "text/plain": [
       "(56309, 31)"
      ]
     },
     "metadata": {},
     "execution_count": 17
    }
   ],
   "source": [
    "################### test###################\n",
    "\n",
    "test.genre_ids2=test.genre_ids2.apply(testme)\n",
    "\n",
    "test['path_image']=test['poster_url'].apply(lambda x: get_path_colab(x))\n",
    "\n",
    "test_explode=test.explode('genre_ids2')\n",
    "ohe= OneHotEncoder(sparse=False, handle_unknown=\"ignore\").fit(test_explode[['genre_ids2']])\n",
    "ohe_class=pd.DataFrame(ohe.transform(test_explode[['genre_ids2']]),columns=ohe.get_feature_names())\n",
    "test_explode.reset_index(drop=True, inplace=True)\n",
    "movies_class_test = pd.concat([test_explode, ohe_class], axis=1)\n",
    "movies_class_test\n",
    "\n",
    "b1_test=movies_class_test[['id']+genre_col].groupby(\"id\").sum().reset_index()\n",
    "b2_test=pd.merge(test, b1_test ,on=\"id\")\n",
    "b2_test.shape\n",
    "#56309\n"
   ]
  },
  {
   "cell_type": "code",
   "execution_count": 18,
   "metadata": {},
   "outputs": [
    {
     "output_type": "execute_result",
     "data": {
      "text/plain": [
       "       adult      id                   original_title  popularity  video  \\\n",
       "0      False  101441  Eric van Sauers: De Ware Liefde       1.376  False   \n",
       "1      False  404255      Murder in Greenwich Village       0.600  False   \n",
       "2      False  498154                      懲役太郎　まむしの兄弟       1.090  False   \n",
       "3      False   48895                          시실리 2km       2.390  False   \n",
       "4      False  153374           La Colt era il suo Dio       0.600  False   \n",
       "...      ...     ...                              ...         ...    ...   \n",
       "56304  False  253371                   Os Cosmonautas       0.600  False   \n",
       "56305  False   34152                         Crooklyn       9.356  False   \n",
       "56306  False  502904                  China Gold Rush       0.600  False   \n",
       "56307  False  416438                 Electric Blue 19       0.957   True   \n",
       "56308  False  508459                 My African Diary       0.600  False   \n",
       "\n",
       "                                           url  \\\n",
       "0      https://www.themoviedb.org/movie/101441   \n",
       "1                                         None   \n",
       "2      https://www.themoviedb.org/movie/498154   \n",
       "3       https://www.themoviedb.org/movie/48895   \n",
       "4      https://www.themoviedb.org/movie/153374   \n",
       "...                                        ...   \n",
       "56304  https://www.themoviedb.org/movie/253371   \n",
       "56305   https://www.themoviedb.org/movie/34152   \n",
       "56306  https://www.themoviedb.org/movie/502904   \n",
       "56307                                     None   \n",
       "56308  https://www.themoviedb.org/movie/508459   \n",
       "\n",
       "                                              poster_url           genre_id  \\\n",
       "0      https://www.themoviedb.org/t/p/w500//pybt3y2pw...               [35]   \n",
       "1      https://www.themoviedb.org/t/p/w500//la4XQjT5O...  [9648, 10749, 35]   \n",
       "2      https://www.themoviedb.org/t/p/w500//ArlNbUFYk...           [35, 28]   \n",
       "3      https://www.themoviedb.org/t/p/w500//djl6k3Qki...           [35, 27]   \n",
       "4      https://www.themoviedb.org/t/p/w500//e5cs61Tmy...               [37]   \n",
       "...                                                  ...                ...   \n",
       "56304  https://www.themoviedb.org/t/p/w500//jHeAb6vJP...          [35, 878]   \n",
       "56305  https://www.themoviedb.org/t/p/w500//iFqe07F78...           [35, 18]   \n",
       "56306  https://www.themoviedb.org/t/p/w500//3HjSVVHXZ...               [99]   \n",
       "56307  https://www.themoviedb.org/t/p/w500//h7BC1ZPMY...               [99]   \n",
       "56308  https://www.themoviedb.org/t/p/w500//aZ0p0sZWm...           [18, 99]   \n",
       "\n",
       "       poster_exists                  genre_ids2  ...  x0_History x0_Horror  \\\n",
       "0               True                    [Comedy]  ...         0.0       0.0   \n",
       "1               True  [Mystery, Romance, Comedy]  ...         0.0       0.0   \n",
       "2               True            [Comedy, Action]  ...         0.0       0.0   \n",
       "3               True            [Comedy, Horror]  ...         0.0       1.0   \n",
       "4               True                   [Western]  ...         0.0       0.0   \n",
       "...              ...                         ...  ...         ...       ...   \n",
       "56304           True   [Comedy, Science Fiction]  ...         0.0       0.0   \n",
       "56305           True             [Comedy, Drama]  ...         0.0       0.0   \n",
       "56306           True               [Documentary]  ...         0.0       0.0   \n",
       "56307           True               [Documentary]  ...         0.0       0.0   \n",
       "56308           True        [Drama, Documentary]  ...         0.0       0.0   \n",
       "\n",
       "       x0_Music  x0_Mystery  x0_Romance  x0_Science Fiction  x0_TV Movie  \\\n",
       "0           0.0         0.0         0.0                 0.0          0.0   \n",
       "1           0.0         1.0         1.0                 0.0          0.0   \n",
       "2           0.0         0.0         0.0                 0.0          0.0   \n",
       "3           0.0         0.0         0.0                 0.0          0.0   \n",
       "4           0.0         0.0         0.0                 0.0          0.0   \n",
       "...         ...         ...         ...                 ...          ...   \n",
       "56304       0.0         0.0         0.0                 1.0          0.0   \n",
       "56305       0.0         0.0         0.0                 0.0          0.0   \n",
       "56306       0.0         0.0         0.0                 0.0          0.0   \n",
       "56307       0.0         0.0         0.0                 0.0          0.0   \n",
       "56308       0.0         0.0         0.0                 0.0          0.0   \n",
       "\n",
       "       x0_Thriller  x0_War  x0_Western  \n",
       "0              0.0     0.0         0.0  \n",
       "1              0.0     0.0         0.0  \n",
       "2              0.0     0.0         0.0  \n",
       "3              0.0     0.0         0.0  \n",
       "4              0.0     0.0         1.0  \n",
       "...            ...     ...         ...  \n",
       "56304          0.0     0.0         0.0  \n",
       "56305          0.0     0.0         0.0  \n",
       "56306          0.0     0.0         0.0  \n",
       "56307          0.0     0.0         0.0  \n",
       "56308          0.0     0.0         0.0  \n",
       "\n",
       "[56309 rows x 31 columns]"
      ],
      "text/html": "<div>\n<style scoped>\n    .dataframe tbody tr th:only-of-type {\n        vertical-align: middle;\n    }\n\n    .dataframe tbody tr th {\n        vertical-align: top;\n    }\n\n    .dataframe thead th {\n        text-align: right;\n    }\n</style>\n<table border=\"1\" class=\"dataframe\">\n  <thead>\n    <tr style=\"text-align: right;\">\n      <th></th>\n      <th>adult</th>\n      <th>id</th>\n      <th>original_title</th>\n      <th>popularity</th>\n      <th>video</th>\n      <th>url</th>\n      <th>poster_url</th>\n      <th>genre_id</th>\n      <th>poster_exists</th>\n      <th>genre_ids2</th>\n      <th>...</th>\n      <th>x0_History</th>\n      <th>x0_Horror</th>\n      <th>x0_Music</th>\n      <th>x0_Mystery</th>\n      <th>x0_Romance</th>\n      <th>x0_Science Fiction</th>\n      <th>x0_TV Movie</th>\n      <th>x0_Thriller</th>\n      <th>x0_War</th>\n      <th>x0_Western</th>\n    </tr>\n  </thead>\n  <tbody>\n    <tr>\n      <th>0</th>\n      <td>False</td>\n      <td>101441</td>\n      <td>Eric van Sauers: De Ware Liefde</td>\n      <td>1.376</td>\n      <td>False</td>\n      <td>https://www.themoviedb.org/movie/101441</td>\n      <td>https://www.themoviedb.org/t/p/w500//pybt3y2pw...</td>\n      <td>[35]</td>\n      <td>True</td>\n      <td>[Comedy]</td>\n      <td>...</td>\n      <td>0.0</td>\n      <td>0.0</td>\n      <td>0.0</td>\n      <td>0.0</td>\n      <td>0.0</td>\n      <td>0.0</td>\n      <td>0.0</td>\n      <td>0.0</td>\n      <td>0.0</td>\n      <td>0.0</td>\n    </tr>\n    <tr>\n      <th>1</th>\n      <td>False</td>\n      <td>404255</td>\n      <td>Murder in Greenwich Village</td>\n      <td>0.600</td>\n      <td>False</td>\n      <td>None</td>\n      <td>https://www.themoviedb.org/t/p/w500//la4XQjT5O...</td>\n      <td>[9648, 10749, 35]</td>\n      <td>True</td>\n      <td>[Mystery, Romance, Comedy]</td>\n      <td>...</td>\n      <td>0.0</td>\n      <td>0.0</td>\n      <td>0.0</td>\n      <td>1.0</td>\n      <td>1.0</td>\n      <td>0.0</td>\n      <td>0.0</td>\n      <td>0.0</td>\n      <td>0.0</td>\n      <td>0.0</td>\n    </tr>\n    <tr>\n      <th>2</th>\n      <td>False</td>\n      <td>498154</td>\n      <td>懲役太郎　まむしの兄弟</td>\n      <td>1.090</td>\n      <td>False</td>\n      <td>https://www.themoviedb.org/movie/498154</td>\n      <td>https://www.themoviedb.org/t/p/w500//ArlNbUFYk...</td>\n      <td>[35, 28]</td>\n      <td>True</td>\n      <td>[Comedy, Action]</td>\n      <td>...</td>\n      <td>0.0</td>\n      <td>0.0</td>\n      <td>0.0</td>\n      <td>0.0</td>\n      <td>0.0</td>\n      <td>0.0</td>\n      <td>0.0</td>\n      <td>0.0</td>\n      <td>0.0</td>\n      <td>0.0</td>\n    </tr>\n    <tr>\n      <th>3</th>\n      <td>False</td>\n      <td>48895</td>\n      <td>시실리 2km</td>\n      <td>2.390</td>\n      <td>False</td>\n      <td>https://www.themoviedb.org/movie/48895</td>\n      <td>https://www.themoviedb.org/t/p/w500//djl6k3Qki...</td>\n      <td>[35, 27]</td>\n      <td>True</td>\n      <td>[Comedy, Horror]</td>\n      <td>...</td>\n      <td>0.0</td>\n      <td>1.0</td>\n      <td>0.0</td>\n      <td>0.0</td>\n      <td>0.0</td>\n      <td>0.0</td>\n      <td>0.0</td>\n      <td>0.0</td>\n      <td>0.0</td>\n      <td>0.0</td>\n    </tr>\n    <tr>\n      <th>4</th>\n      <td>False</td>\n      <td>153374</td>\n      <td>La Colt era il suo Dio</td>\n      <td>0.600</td>\n      <td>False</td>\n      <td>https://www.themoviedb.org/movie/153374</td>\n      <td>https://www.themoviedb.org/t/p/w500//e5cs61Tmy...</td>\n      <td>[37]</td>\n      <td>True</td>\n      <td>[Western]</td>\n      <td>...</td>\n      <td>0.0</td>\n      <td>0.0</td>\n      <td>0.0</td>\n      <td>0.0</td>\n      <td>0.0</td>\n      <td>0.0</td>\n      <td>0.0</td>\n      <td>0.0</td>\n      <td>0.0</td>\n      <td>1.0</td>\n    </tr>\n    <tr>\n      <th>...</th>\n      <td>...</td>\n      <td>...</td>\n      <td>...</td>\n      <td>...</td>\n      <td>...</td>\n      <td>...</td>\n      <td>...</td>\n      <td>...</td>\n      <td>...</td>\n      <td>...</td>\n      <td>...</td>\n      <td>...</td>\n      <td>...</td>\n      <td>...</td>\n      <td>...</td>\n      <td>...</td>\n      <td>...</td>\n      <td>...</td>\n      <td>...</td>\n      <td>...</td>\n      <td>...</td>\n    </tr>\n    <tr>\n      <th>56304</th>\n      <td>False</td>\n      <td>253371</td>\n      <td>Os Cosmonautas</td>\n      <td>0.600</td>\n      <td>False</td>\n      <td>https://www.themoviedb.org/movie/253371</td>\n      <td>https://www.themoviedb.org/t/p/w500//jHeAb6vJP...</td>\n      <td>[35, 878]</td>\n      <td>True</td>\n      <td>[Comedy, Science Fiction]</td>\n      <td>...</td>\n      <td>0.0</td>\n      <td>0.0</td>\n      <td>0.0</td>\n      <td>0.0</td>\n      <td>0.0</td>\n      <td>1.0</td>\n      <td>0.0</td>\n      <td>0.0</td>\n      <td>0.0</td>\n      <td>0.0</td>\n    </tr>\n    <tr>\n      <th>56305</th>\n      <td>False</td>\n      <td>34152</td>\n      <td>Crooklyn</td>\n      <td>9.356</td>\n      <td>False</td>\n      <td>https://www.themoviedb.org/movie/34152</td>\n      <td>https://www.themoviedb.org/t/p/w500//iFqe07F78...</td>\n      <td>[35, 18]</td>\n      <td>True</td>\n      <td>[Comedy, Drama]</td>\n      <td>...</td>\n      <td>0.0</td>\n      <td>0.0</td>\n      <td>0.0</td>\n      <td>0.0</td>\n      <td>0.0</td>\n      <td>0.0</td>\n      <td>0.0</td>\n      <td>0.0</td>\n      <td>0.0</td>\n      <td>0.0</td>\n    </tr>\n    <tr>\n      <th>56306</th>\n      <td>False</td>\n      <td>502904</td>\n      <td>China Gold Rush</td>\n      <td>0.600</td>\n      <td>False</td>\n      <td>https://www.themoviedb.org/movie/502904</td>\n      <td>https://www.themoviedb.org/t/p/w500//3HjSVVHXZ...</td>\n      <td>[99]</td>\n      <td>True</td>\n      <td>[Documentary]</td>\n      <td>...</td>\n      <td>0.0</td>\n      <td>0.0</td>\n      <td>0.0</td>\n      <td>0.0</td>\n      <td>0.0</td>\n      <td>0.0</td>\n      <td>0.0</td>\n      <td>0.0</td>\n      <td>0.0</td>\n      <td>0.0</td>\n    </tr>\n    <tr>\n      <th>56307</th>\n      <td>False</td>\n      <td>416438</td>\n      <td>Electric Blue 19</td>\n      <td>0.957</td>\n      <td>True</td>\n      <td>None</td>\n      <td>https://www.themoviedb.org/t/p/w500//h7BC1ZPMY...</td>\n      <td>[99]</td>\n      <td>True</td>\n      <td>[Documentary]</td>\n      <td>...</td>\n      <td>0.0</td>\n      <td>0.0</td>\n      <td>0.0</td>\n      <td>0.0</td>\n      <td>0.0</td>\n      <td>0.0</td>\n      <td>0.0</td>\n      <td>0.0</td>\n      <td>0.0</td>\n      <td>0.0</td>\n    </tr>\n    <tr>\n      <th>56308</th>\n      <td>False</td>\n      <td>508459</td>\n      <td>My African Diary</td>\n      <td>0.600</td>\n      <td>False</td>\n      <td>https://www.themoviedb.org/movie/508459</td>\n      <td>https://www.themoviedb.org/t/p/w500//aZ0p0sZWm...</td>\n      <td>[18, 99]</td>\n      <td>True</td>\n      <td>[Drama, Documentary]</td>\n      <td>...</td>\n      <td>0.0</td>\n      <td>0.0</td>\n      <td>0.0</td>\n      <td>0.0</td>\n      <td>0.0</td>\n      <td>0.0</td>\n      <td>0.0</td>\n      <td>0.0</td>\n      <td>0.0</td>\n      <td>0.0</td>\n    </tr>\n  </tbody>\n</table>\n<p>56309 rows × 31 columns</p>\n</div>"
     },
     "metadata": {},
     "execution_count": 18
    }
   ],
   "source": [
    "b2_test"
   ]
  },
  {
   "cell_type": "code",
   "execution_count": 19,
   "metadata": {},
   "outputs": [
    {
     "output_type": "stream",
     "name": "stderr",
     "text": [
      "/Users/cenriquez/opt/anaconda3/envs/aida_pro/lib/python3.8/site-packages/pandas/core/generic.py:5494: SettingWithCopyWarning: \nA value is trying to be set on a copy of a slice from a DataFrame.\nTry using .loc[row_indexer,col_indexer] = value instead\n\nSee the caveats in the documentation: https://pandas.pydata.org/pandas-docs/stable/user_guide/indexing.html#returning-a-view-versus-a-copy\n  self[name] = value\n<ipython-input-19-0c9027f5bc82>:8: SettingWithCopyWarning: \nA value is trying to be set on a copy of a slice from a DataFrame.\nTry using .loc[row_indexer,col_indexer] = value instead\n\nSee the caveats in the documentation: https://pandas.pydata.org/pandas-docs/stable/user_guide/indexing.html#returning-a-view-versus-a-copy\n  val['path_image']=val['poster_url'].apply(lambda x: get_path_colab(x))\n"
     ]
    },
    {
     "output_type": "execute_result",
     "data": {
      "text/plain": [
       "(45047, 31)"
      ]
     },
     "metadata": {},
     "execution_count": 19
    }
   ],
   "source": [
    "########Validation ########\n",
    "\n",
    "################### test###################\n",
    "\n",
    "\n",
    "val.genre_ids2=val.genre_ids2.apply(testme)\n",
    "\n",
    "val['path_image']=val['poster_url'].apply(lambda x: get_path_colab(x))\n",
    "\n",
    "val_explode=val.explode('genre_ids2')\n",
    "ohe= OneHotEncoder(sparse=False, handle_unknown=\"ignore\").fit(val_explode[['genre_ids2']])\n",
    "ohe_class=pd.DataFrame(ohe.transform(val_explode[['genre_ids2']]),columns=ohe.get_feature_names())\n",
    "val_explode.reset_index(drop=True, inplace=True)\n",
    "movies_class_val = pd.concat([val_explode, ohe_class], axis=1)\n",
    "movies_class_val\n",
    "\n",
    "b1_val=movies_class_val[['id']+genre_col].groupby(\"id\").sum().reset_index()\n",
    "b2_val=pd.merge(val, b1_val ,on=\"id\")\n",
    "b2_val.shape\n",
    "\n",
    "#45047"
   ]
  },
  {
   "cell_type": "code",
   "execution_count": null,
   "metadata": {},
   "outputs": [],
   "source": [
    "b2.to_parquet(\"../data/interim/df_train_v2.gzip\", compression='gzip')\n",
    "b2_test.to_parquet(\"../data/interim/df_test_v2.gzip\", compression='gzip')\n",
    "b2_val.to_parquet(\"../data/interim/df_val_v2.gzip\", compression='gzip')"
   ]
  }
 ]
}