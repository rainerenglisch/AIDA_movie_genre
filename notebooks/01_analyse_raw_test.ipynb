{
 "metadata": {
  "language_info": {
   "codemirror_mode": {
    "name": "ipython",
    "version": 3
   },
   "file_extension": ".py",
   "mimetype": "text/x-python",
   "name": "python",
   "nbconvert_exporter": "python",
   "pygments_lexer": "ipython3",
   "version": "3.8.8-final"
  },
  "orig_nbformat": 2,
  "kernelspec": {
   "name": "python3",
   "display_name": "Python 3.8.8 64-bit ('aida_pro': conda)",
   "metadata": {
    "interpreter": {
     "hash": "6d29e069e955b1b6a88d9229fe76a20b44327016bc4846623cf15be91831d8a6"
    }
   }
  }
 },
 "nbformat": 4,
 "nbformat_minor": 2,
 "cells": [
  {
   "cell_type": "code",
   "execution_count": 224,
   "metadata": {},
   "outputs": [
    {
     "output_type": "execute_result",
     "data": {
      "text/plain": [
       "        adult      id                                     original_title  \\\n",
       "380003  False  537250                         ¿Por qué ya no me quieres?   \n",
       "380010  False  537266                                            Success   \n",
       "380017  False  537274                                  Предел возможного   \n",
       "380020  False  537277                                                 母親   \n",
       "380022  False  537281                                   1+1=3 Ora Tinjon   \n",
       "...       ...     ...                                                ...   \n",
       "19993   False   31788  Bill Hicks Live: Satirist, Social Critic, Stan...   \n",
       "19994   False   31789                                       Pédale douce   \n",
       "19995   False   31791                        Opeth: The Roundhouse Tapes   \n",
       "19996   False   31792                    Ozzy Osbourne: Bark at the Moon   \n",
       "19999   False   31795                              Sarah Brightman: Diva   \n",
       "\n",
       "        popularity  video                                      url  \\\n",
       "380003       1.400  False  https://www.themoviedb.org/movie/537250   \n",
       "380010       0.600  False  https://www.themoviedb.org/movie/537266   \n",
       "380017       0.620  False  https://www.themoviedb.org/movie/537274   \n",
       "380020       0.600  False  https://www.themoviedb.org/movie/537277   \n",
       "380022       0.600  False  https://www.themoviedb.org/movie/537281   \n",
       "...            ...    ...                                      ...   \n",
       "19993        5.355  False   https://www.themoviedb.org/movie/31788   \n",
       "19994        6.775  False   https://www.themoviedb.org/movie/31789   \n",
       "19995        5.698   True   https://www.themoviedb.org/movie/31791   \n",
       "19996        3.115  False   https://www.themoviedb.org/movie/31792   \n",
       "19999        2.923  False   https://www.themoviedb.org/movie/31795   \n",
       "\n",
       "                                               poster_url  genre_id  \\\n",
       "380003  https://www.themoviedb.org/t/p/w500//8Y0aOxqSe...  [80, 18]   \n",
       "380010  https://www.themoviedb.org/t/p/w500//tJMm1JJUe...      [18]   \n",
       "380017  https://www.themoviedb.org/t/p/w500//h9aXCUZ6g...      [18]   \n",
       "380020  https://www.themoviedb.org/t/p/w500//3Ogn8SWj2...      [18]   \n",
       "380022  https://www.themoviedb.org/t/p/w500//47yYJPL2q...      [18]   \n",
       "...                                                   ...       ...   \n",
       "19993   https://www.themoviedb.org/t/p/w500//lz2poVfHS...      [35]   \n",
       "19994   https://www.themoviedb.org/t/p/w500//xYFrGGsmK...      [35]   \n",
       "19995   https://www.themoviedb.org/t/p/w500//YaCzP9wPJ...   [10402]   \n",
       "19996   https://www.themoviedb.org/t/p/w500//vG0QdyICu...   [10402]   \n",
       "19999   https://www.themoviedb.org/t/p/w500//nURFkGVZ0...   [10402]   \n",
       "\n",
       "        poster_exists     genre_ids2  genre_id_count  \n",
       "380003           True  [Crime,Drama]               2  \n",
       "380010           True        [Drama]               1  \n",
       "380017           True        [Drama]               1  \n",
       "380020           True        [Drama]               1  \n",
       "380022           True        [Drama]               1  \n",
       "...               ...            ...             ...  \n",
       "19993            True       [Comedy]               1  \n",
       "19994            True       [Comedy]               1  \n",
       "19995            True        [Music]               1  \n",
       "19996            True        [Music]               1  \n",
       "19999            True        [Music]               1  \n",
       "\n",
       "[281541 rows x 11 columns]"
      ],
      "text/html": "<div>\n<style scoped>\n    .dataframe tbody tr th:only-of-type {\n        vertical-align: middle;\n    }\n\n    .dataframe tbody tr th {\n        vertical-align: top;\n    }\n\n    .dataframe thead th {\n        text-align: right;\n    }\n</style>\n<table border=\"1\" class=\"dataframe\">\n  <thead>\n    <tr style=\"text-align: right;\">\n      <th></th>\n      <th>adult</th>\n      <th>id</th>\n      <th>original_title</th>\n      <th>popularity</th>\n      <th>video</th>\n      <th>url</th>\n      <th>poster_url</th>\n      <th>genre_id</th>\n      <th>poster_exists</th>\n      <th>genre_ids2</th>\n      <th>genre_id_count</th>\n    </tr>\n  </thead>\n  <tbody>\n    <tr>\n      <th>380003</th>\n      <td>False</td>\n      <td>537250</td>\n      <td>¿Por qué ya no me quieres?</td>\n      <td>1.400</td>\n      <td>False</td>\n      <td>https://www.themoviedb.org/movie/537250</td>\n      <td>https://www.themoviedb.org/t/p/w500//8Y0aOxqSe...</td>\n      <td>[80, 18]</td>\n      <td>True</td>\n      <td>[Crime,Drama]</td>\n      <td>2</td>\n    </tr>\n    <tr>\n      <th>380010</th>\n      <td>False</td>\n      <td>537266</td>\n      <td>Success</td>\n      <td>0.600</td>\n      <td>False</td>\n      <td>https://www.themoviedb.org/movie/537266</td>\n      <td>https://www.themoviedb.org/t/p/w500//tJMm1JJUe...</td>\n      <td>[18]</td>\n      <td>True</td>\n      <td>[Drama]</td>\n      <td>1</td>\n    </tr>\n    <tr>\n      <th>380017</th>\n      <td>False</td>\n      <td>537274</td>\n      <td>Предел возможного</td>\n      <td>0.620</td>\n      <td>False</td>\n      <td>https://www.themoviedb.org/movie/537274</td>\n      <td>https://www.themoviedb.org/t/p/w500//h9aXCUZ6g...</td>\n      <td>[18]</td>\n      <td>True</td>\n      <td>[Drama]</td>\n      <td>1</td>\n    </tr>\n    <tr>\n      <th>380020</th>\n      <td>False</td>\n      <td>537277</td>\n      <td>母親</td>\n      <td>0.600</td>\n      <td>False</td>\n      <td>https://www.themoviedb.org/movie/537277</td>\n      <td>https://www.themoviedb.org/t/p/w500//3Ogn8SWj2...</td>\n      <td>[18]</td>\n      <td>True</td>\n      <td>[Drama]</td>\n      <td>1</td>\n    </tr>\n    <tr>\n      <th>380022</th>\n      <td>False</td>\n      <td>537281</td>\n      <td>1+1=3 Ora Tinjon</td>\n      <td>0.600</td>\n      <td>False</td>\n      <td>https://www.themoviedb.org/movie/537281</td>\n      <td>https://www.themoviedb.org/t/p/w500//47yYJPL2q...</td>\n      <td>[18]</td>\n      <td>True</td>\n      <td>[Drama]</td>\n      <td>1</td>\n    </tr>\n    <tr>\n      <th>...</th>\n      <td>...</td>\n      <td>...</td>\n      <td>...</td>\n      <td>...</td>\n      <td>...</td>\n      <td>...</td>\n      <td>...</td>\n      <td>...</td>\n      <td>...</td>\n      <td>...</td>\n      <td>...</td>\n    </tr>\n    <tr>\n      <th>19993</th>\n      <td>False</td>\n      <td>31788</td>\n      <td>Bill Hicks Live: Satirist, Social Critic, Stan...</td>\n      <td>5.355</td>\n      <td>False</td>\n      <td>https://www.themoviedb.org/movie/31788</td>\n      <td>https://www.themoviedb.org/t/p/w500//lz2poVfHS...</td>\n      <td>[35]</td>\n      <td>True</td>\n      <td>[Comedy]</td>\n      <td>1</td>\n    </tr>\n    <tr>\n      <th>19994</th>\n      <td>False</td>\n      <td>31789</td>\n      <td>Pédale douce</td>\n      <td>6.775</td>\n      <td>False</td>\n      <td>https://www.themoviedb.org/movie/31789</td>\n      <td>https://www.themoviedb.org/t/p/w500//xYFrGGsmK...</td>\n      <td>[35]</td>\n      <td>True</td>\n      <td>[Comedy]</td>\n      <td>1</td>\n    </tr>\n    <tr>\n      <th>19995</th>\n      <td>False</td>\n      <td>31791</td>\n      <td>Opeth: The Roundhouse Tapes</td>\n      <td>5.698</td>\n      <td>True</td>\n      <td>https://www.themoviedb.org/movie/31791</td>\n      <td>https://www.themoviedb.org/t/p/w500//YaCzP9wPJ...</td>\n      <td>[10402]</td>\n      <td>True</td>\n      <td>[Music]</td>\n      <td>1</td>\n    </tr>\n    <tr>\n      <th>19996</th>\n      <td>False</td>\n      <td>31792</td>\n      <td>Ozzy Osbourne: Bark at the Moon</td>\n      <td>3.115</td>\n      <td>False</td>\n      <td>https://www.themoviedb.org/movie/31792</td>\n      <td>https://www.themoviedb.org/t/p/w500//vG0QdyICu...</td>\n      <td>[10402]</td>\n      <td>True</td>\n      <td>[Music]</td>\n      <td>1</td>\n    </tr>\n    <tr>\n      <th>19999</th>\n      <td>False</td>\n      <td>31795</td>\n      <td>Sarah Brightman: Diva</td>\n      <td>2.923</td>\n      <td>False</td>\n      <td>https://www.themoviedb.org/movie/31795</td>\n      <td>https://www.themoviedb.org/t/p/w500//nURFkGVZ0...</td>\n      <td>[10402]</td>\n      <td>True</td>\n      <td>[Music]</td>\n      <td>1</td>\n    </tr>\n  </tbody>\n</table>\n<p>281541 rows × 11 columns</p>\n</div>"
     },
     "metadata": {},
     "execution_count": 224
    }
   ],
   "source": [
    "import pandas as pd\n",
    "import numpy as np\n",
    "import matplotlib.pyplot as plt\n",
    "import seaborn as sns\n",
    "from ast import literal_eval\n",
    "#!pip install pandas pyarrow\n",
    "import pyarrow\n",
    "\n",
    "import glob\n",
    "\n",
    "import pyarrow.parquet as pq\n",
    "movies = pq.read_table(source=\"../data/interim/df_cleaned_v1.gzip\").to_pandas()\n",
    "movies"
   ]
  },
  {
   "cell_type": "code",
   "execution_count": 225,
   "metadata": {},
   "outputs": [
    {
     "output_type": "execute_result",
     "data": {
      "text/plain": [
       "[9648, 27, 18, 10770]            1\n",
       "[16, 18, 27, 53]                 1\n",
       "[10770, 10751, 10749, 35]        1\n",
       "[14, 27, 18, 53]                 1\n",
       "[14, 10770, 12]                  1\n",
       "                             ...  \n",
       "[27]                          7913\n",
       "[10402]                      10305\n",
       "[35]                         27139\n",
       "[18]                         41802\n",
       "[99]                         41926\n",
       "Name: genre_id, Length: 9142, dtype: int64"
      ]
     },
     "metadata": {},
     "execution_count": 225
    }
   ],
   "source": [
    "movies.genre_id.value_counts(ascending=True)"
   ]
  },
  {
   "cell_type": "code",
   "execution_count": 226,
   "metadata": {},
   "outputs": [],
   "source": [
    "from sklearn.model_selection import train_test_split\n",
    "\n",
    "y= movies.genre_id\n",
    "traincomple, test= train_test_split(movies , test_size=0.20, random_state=42, shuffle=True)"
   ]
  },
  {
   "cell_type": "code",
   "execution_count": 227,
   "metadata": {},
   "outputs": [
    {
     "output_type": "execute_result",
     "data": {
      "text/plain": [
       "(225232, 11)"
      ]
     },
     "metadata": {},
     "execution_count": 227
    }
   ],
   "source": [
    "traincomple.shape"
   ]
  },
  {
   "cell_type": "code",
   "execution_count": 228,
   "metadata": {},
   "outputs": [
    {
     "output_type": "execute_result",
     "data": {
      "text/plain": [
       "(56309, 11)"
      ]
     },
     "metadata": {},
     "execution_count": 228
    }
   ],
   "source": [
    "test.shape"
   ]
  },
  {
   "cell_type": "code",
   "execution_count": 229,
   "metadata": {},
   "outputs": [],
   "source": [
    "\n",
    "#Train complete again splitted for validatopn propose 60 train 20 validation 20 test \n",
    "\n",
    "train_, val= train_test_split(traincomple , test_size=0.20, random_state=42, shuffle=True)"
   ]
  },
  {
   "cell_type": "code",
   "execution_count": 230,
   "metadata": {},
   "outputs": [
    {
     "output_type": "execute_result",
     "data": {
      "text/plain": [
       "(180185, 11)"
      ]
     },
     "metadata": {},
     "execution_count": 230
    }
   ],
   "source": [
    "train_.shape"
   ]
  },
  {
   "cell_type": "code",
   "execution_count": 231,
   "metadata": {},
   "outputs": [
    {
     "output_type": "execute_result",
     "data": {
      "text/plain": [
       "(45047, 11)"
      ]
     },
     "metadata": {},
     "execution_count": 231
    }
   ],
   "source": [
    "val.shape"
   ]
  },
  {
   "cell_type": "code",
   "execution_count": 233,
   "metadata": {
    "tags": []
   },
   "outputs": [
    {
     "output_type": "stream",
     "name": "stderr",
     "text": [
      "/Users/cenriquez/opt/anaconda3/envs/aida_pro/lib/python3.8/site-packages/pandas/core/generic.py:5494: SettingWithCopyWarning: \nA value is trying to be set on a copy of a slice from a DataFrame.\nTry using .loc[row_indexer,col_indexer] = value instead\n\nSee the caveats in the documentation: https://pandas.pydata.org/pandas-docs/stable/user_guide/indexing.html#returning-a-view-versus-a-copy\n  self[name] = value\n"
     ]
    }
   ],
   "source": [
    "\n",
    "from ast import literal_eval\n",
    "\n",
    "#train_.genre_ids2=train_.genre_ids2.apply(literal_eval)\n",
    "\n",
    "def testme(x):\n",
    "    tmp=\"\".join(x).replace(\"'\", \"\")\n",
    "   # print([y for y in tmp.split(\",\")])\n",
    "    return [y for y in tmp.split(\",\")]\n",
    "  \n",
    "   \n",
    "\n",
    "train_.genre_ids2=train_.genre_ids2.apply(testme)"
   ]
  },
  {
   "cell_type": "code",
   "execution_count": 234,
   "metadata": {},
   "outputs": [
    {
     "output_type": "execute_result",
     "data": {
      "text/plain": [
       "        adult      id                                     original_title  \\\n",
       "384117  False  542566                   Bambaşka: Başka Bir Aşk Hikayesi   \n",
       "352937  False  504761                            Trekking the Great Wall   \n",
       "362443  False  515959                                Anna & the Asteroid   \n",
       "72518   False  107414                                     Foolin' Around   \n",
       "156948  False  267196                                    Clara Immerwahr   \n",
       "...       ...     ...                                                ...   \n",
       "93976   False  149737                                   California 90420   \n",
       "354844  False  507055  I.R.S. Records Presents The Best of The Cuttin...   \n",
       "375652  False  532064                                        Oye Salomé!   \n",
       "330451  False  476418                                   Of Sheep and Men   \n",
       "195118  False  311017                                        Ghost Train   \n",
       "\n",
       "        popularity  video                                      url  \\\n",
       "384117       0.600  False  https://www.themoviedb.org/movie/542566   \n",
       "352937       2.845  False  https://www.themoviedb.org/movie/504761   \n",
       "362443       0.603  False  https://www.themoviedb.org/movie/515959   \n",
       "72518        0.775  False  https://www.themoviedb.org/movie/107414   \n",
       "156948       1.400  False  https://www.themoviedb.org/movie/267196   \n",
       "...            ...    ...                                      ...   \n",
       "93976        0.600  False  https://www.themoviedb.org/movie/149737   \n",
       "354844       0.600  False  https://www.themoviedb.org/movie/507055   \n",
       "375652       0.600  False  https://www.themoviedb.org/movie/532064   \n",
       "330451       1.098  False  https://www.themoviedb.org/movie/476418   \n",
       "195118       1.579  False  https://www.themoviedb.org/movie/311017   \n",
       "\n",
       "                                               poster_url      genre_id  \\\n",
       "384117  https://www.themoviedb.org/t/p/w500//6QxlnrKak...       [10749]   \n",
       "352937  https://www.themoviedb.org/t/p/w500//3KB8N5kk7...          [99]   \n",
       "362443  https://www.themoviedb.org/t/p/w500//3A91CmXCg...     [18, 878]   \n",
       "72518   https://www.themoviedb.org/t/p/w500//zCItqBggj...   [35, 10749]   \n",
       "156948  https://www.themoviedb.org/t/p/w500//uq64pQJUu...      [18, 36]   \n",
       "...                                                   ...           ...   \n",
       "93976   https://www.themoviedb.org/t/p/w500//22zsOH6V7...          [99]   \n",
       "354844  https://www.themoviedb.org/t/p/w500//7fQpaZ3Qf...   [10402, 99]   \n",
       "375652  https://www.themoviedb.org/t/p/w500//2uliXFljq...   [35, 10402]   \n",
       "330451  https://www.themoviedb.org/t/p/w500//uBFyJk1bA...          [99]   \n",
       "195118  https://www.themoviedb.org/t/p/w500//86xzxnRYc...  [14, 27, 18]   \n",
       "\n",
       "        poster_exists                genre_ids2  genre_id_count  \n",
       "384117           True                 [Romance]               1  \n",
       "352937           True             [Documentary]               1  \n",
       "362443           True  [Drama, Science Fiction]               2  \n",
       "72518            True         [Comedy, Romance]               2  \n",
       "156948           True          [Drama, History]               2  \n",
       "...               ...                       ...             ...  \n",
       "93976            True             [Documentary]               1  \n",
       "354844           True      [Music, Documentary]               2  \n",
       "375652           True           [Comedy, Music]               2  \n",
       "330451           True             [Documentary]               1  \n",
       "195118           True  [Fantasy, Horror, Drama]               3  \n",
       "\n",
       "[180185 rows x 11 columns]"
      ],
      "text/html": "<div>\n<style scoped>\n    .dataframe tbody tr th:only-of-type {\n        vertical-align: middle;\n    }\n\n    .dataframe tbody tr th {\n        vertical-align: top;\n    }\n\n    .dataframe thead th {\n        text-align: right;\n    }\n</style>\n<table border=\"1\" class=\"dataframe\">\n  <thead>\n    <tr style=\"text-align: right;\">\n      <th></th>\n      <th>adult</th>\n      <th>id</th>\n      <th>original_title</th>\n      <th>popularity</th>\n      <th>video</th>\n      <th>url</th>\n      <th>poster_url</th>\n      <th>genre_id</th>\n      <th>poster_exists</th>\n      <th>genre_ids2</th>\n      <th>genre_id_count</th>\n    </tr>\n  </thead>\n  <tbody>\n    <tr>\n      <th>384117</th>\n      <td>False</td>\n      <td>542566</td>\n      <td>Bambaşka: Başka Bir Aşk Hikayesi</td>\n      <td>0.600</td>\n      <td>False</td>\n      <td>https://www.themoviedb.org/movie/542566</td>\n      <td>https://www.themoviedb.org/t/p/w500//6QxlnrKak...</td>\n      <td>[10749]</td>\n      <td>True</td>\n      <td>[Romance]</td>\n      <td>1</td>\n    </tr>\n    <tr>\n      <th>352937</th>\n      <td>False</td>\n      <td>504761</td>\n      <td>Trekking the Great Wall</td>\n      <td>2.845</td>\n      <td>False</td>\n      <td>https://www.themoviedb.org/movie/504761</td>\n      <td>https://www.themoviedb.org/t/p/w500//3KB8N5kk7...</td>\n      <td>[99]</td>\n      <td>True</td>\n      <td>[Documentary]</td>\n      <td>1</td>\n    </tr>\n    <tr>\n      <th>362443</th>\n      <td>False</td>\n      <td>515959</td>\n      <td>Anna &amp; the Asteroid</td>\n      <td>0.603</td>\n      <td>False</td>\n      <td>https://www.themoviedb.org/movie/515959</td>\n      <td>https://www.themoviedb.org/t/p/w500//3A91CmXCg...</td>\n      <td>[18, 878]</td>\n      <td>True</td>\n      <td>[Drama, Science Fiction]</td>\n      <td>2</td>\n    </tr>\n    <tr>\n      <th>72518</th>\n      <td>False</td>\n      <td>107414</td>\n      <td>Foolin' Around</td>\n      <td>0.775</td>\n      <td>False</td>\n      <td>https://www.themoviedb.org/movie/107414</td>\n      <td>https://www.themoviedb.org/t/p/w500//zCItqBggj...</td>\n      <td>[35, 10749]</td>\n      <td>True</td>\n      <td>[Comedy, Romance]</td>\n      <td>2</td>\n    </tr>\n    <tr>\n      <th>156948</th>\n      <td>False</td>\n      <td>267196</td>\n      <td>Clara Immerwahr</td>\n      <td>1.400</td>\n      <td>False</td>\n      <td>https://www.themoviedb.org/movie/267196</td>\n      <td>https://www.themoviedb.org/t/p/w500//uq64pQJUu...</td>\n      <td>[18, 36]</td>\n      <td>True</td>\n      <td>[Drama, History]</td>\n      <td>2</td>\n    </tr>\n    <tr>\n      <th>...</th>\n      <td>...</td>\n      <td>...</td>\n      <td>...</td>\n      <td>...</td>\n      <td>...</td>\n      <td>...</td>\n      <td>...</td>\n      <td>...</td>\n      <td>...</td>\n      <td>...</td>\n      <td>...</td>\n    </tr>\n    <tr>\n      <th>93976</th>\n      <td>False</td>\n      <td>149737</td>\n      <td>California 90420</td>\n      <td>0.600</td>\n      <td>False</td>\n      <td>https://www.themoviedb.org/movie/149737</td>\n      <td>https://www.themoviedb.org/t/p/w500//22zsOH6V7...</td>\n      <td>[99]</td>\n      <td>True</td>\n      <td>[Documentary]</td>\n      <td>1</td>\n    </tr>\n    <tr>\n      <th>354844</th>\n      <td>False</td>\n      <td>507055</td>\n      <td>I.R.S. Records Presents The Best of The Cuttin...</td>\n      <td>0.600</td>\n      <td>False</td>\n      <td>https://www.themoviedb.org/movie/507055</td>\n      <td>https://www.themoviedb.org/t/p/w500//7fQpaZ3Qf...</td>\n      <td>[10402, 99]</td>\n      <td>True</td>\n      <td>[Music, Documentary]</td>\n      <td>2</td>\n    </tr>\n    <tr>\n      <th>375652</th>\n      <td>False</td>\n      <td>532064</td>\n      <td>Oye Salomé!</td>\n      <td>0.600</td>\n      <td>False</td>\n      <td>https://www.themoviedb.org/movie/532064</td>\n      <td>https://www.themoviedb.org/t/p/w500//2uliXFljq...</td>\n      <td>[35, 10402]</td>\n      <td>True</td>\n      <td>[Comedy, Music]</td>\n      <td>2</td>\n    </tr>\n    <tr>\n      <th>330451</th>\n      <td>False</td>\n      <td>476418</td>\n      <td>Of Sheep and Men</td>\n      <td>1.098</td>\n      <td>False</td>\n      <td>https://www.themoviedb.org/movie/476418</td>\n      <td>https://www.themoviedb.org/t/p/w500//uBFyJk1bA...</td>\n      <td>[99]</td>\n      <td>True</td>\n      <td>[Documentary]</td>\n      <td>1</td>\n    </tr>\n    <tr>\n      <th>195118</th>\n      <td>False</td>\n      <td>311017</td>\n      <td>Ghost Train</td>\n      <td>1.579</td>\n      <td>False</td>\n      <td>https://www.themoviedb.org/movie/311017</td>\n      <td>https://www.themoviedb.org/t/p/w500//86xzxnRYc...</td>\n      <td>[14, 27, 18]</td>\n      <td>True</td>\n      <td>[Fantasy, Horror, Drama]</td>\n      <td>3</td>\n    </tr>\n  </tbody>\n</table>\n<p>180185 rows × 11 columns</p>\n</div>"
     },
     "metadata": {},
     "execution_count": 234
    }
   ],
   "source": [
    "train_.head(5)"
   ]
  },
  {
   "cell_type": "code",
   "execution_count": 235,
   "metadata": {},
   "outputs": [
    {
     "output_type": "execute_result",
     "data": {
      "text/plain": [
       "        adult      id                    original_title  popularity  video  \\\n",
       "384117  False  542566  Bambaşka: Başka Bir Aşk Hikayesi       0.600  False   \n",
       "352937  False  504761           Trekking the Great Wall       2.845  False   \n",
       "362443  False  515959               Anna & the Asteroid       0.603  False   \n",
       "362443  False  515959               Anna & the Asteroid       0.603  False   \n",
       "72518   False  107414                    Foolin' Around       0.775  False   \n",
       "\n",
       "                                            url  \\\n",
       "384117  https://www.themoviedb.org/movie/542566   \n",
       "352937  https://www.themoviedb.org/movie/504761   \n",
       "362443  https://www.themoviedb.org/movie/515959   \n",
       "362443  https://www.themoviedb.org/movie/515959   \n",
       "72518   https://www.themoviedb.org/movie/107414   \n",
       "\n",
       "                                               poster_url     genre_id  \\\n",
       "384117  https://www.themoviedb.org/t/p/w500//6QxlnrKak...      [10749]   \n",
       "352937  https://www.themoviedb.org/t/p/w500//3KB8N5kk7...         [99]   \n",
       "362443  https://www.themoviedb.org/t/p/w500//3A91CmXCg...    [18, 878]   \n",
       "362443  https://www.themoviedb.org/t/p/w500//3A91CmXCg...    [18, 878]   \n",
       "72518   https://www.themoviedb.org/t/p/w500//zCItqBggj...  [35, 10749]   \n",
       "\n",
       "        poster_exists       genre_ids2  genre_id_count  \n",
       "384117           True          Romance               1  \n",
       "352937           True      Documentary               1  \n",
       "362443           True            Drama               2  \n",
       "362443           True  Science Fiction               2  \n",
       "72518            True           Comedy               2  "
      ],
      "text/html": "<div>\n<style scoped>\n    .dataframe tbody tr th:only-of-type {\n        vertical-align: middle;\n    }\n\n    .dataframe tbody tr th {\n        vertical-align: top;\n    }\n\n    .dataframe thead th {\n        text-align: right;\n    }\n</style>\n<table border=\"1\" class=\"dataframe\">\n  <thead>\n    <tr style=\"text-align: right;\">\n      <th></th>\n      <th>adult</th>\n      <th>id</th>\n      <th>original_title</th>\n      <th>popularity</th>\n      <th>video</th>\n      <th>url</th>\n      <th>poster_url</th>\n      <th>genre_id</th>\n      <th>poster_exists</th>\n      <th>genre_ids2</th>\n      <th>genre_id_count</th>\n    </tr>\n  </thead>\n  <tbody>\n    <tr>\n      <th>384117</th>\n      <td>False</td>\n      <td>542566</td>\n      <td>Bambaşka: Başka Bir Aşk Hikayesi</td>\n      <td>0.600</td>\n      <td>False</td>\n      <td>https://www.themoviedb.org/movie/542566</td>\n      <td>https://www.themoviedb.org/t/p/w500//6QxlnrKak...</td>\n      <td>[10749]</td>\n      <td>True</td>\n      <td>Romance</td>\n      <td>1</td>\n    </tr>\n    <tr>\n      <th>352937</th>\n      <td>False</td>\n      <td>504761</td>\n      <td>Trekking the Great Wall</td>\n      <td>2.845</td>\n      <td>False</td>\n      <td>https://www.themoviedb.org/movie/504761</td>\n      <td>https://www.themoviedb.org/t/p/w500//3KB8N5kk7...</td>\n      <td>[99]</td>\n      <td>True</td>\n      <td>Documentary</td>\n      <td>1</td>\n    </tr>\n    <tr>\n      <th>362443</th>\n      <td>False</td>\n      <td>515959</td>\n      <td>Anna &amp; the Asteroid</td>\n      <td>0.603</td>\n      <td>False</td>\n      <td>https://www.themoviedb.org/movie/515959</td>\n      <td>https://www.themoviedb.org/t/p/w500//3A91CmXCg...</td>\n      <td>[18, 878]</td>\n      <td>True</td>\n      <td>Drama</td>\n      <td>2</td>\n    </tr>\n    <tr>\n      <th>362443</th>\n      <td>False</td>\n      <td>515959</td>\n      <td>Anna &amp; the Asteroid</td>\n      <td>0.603</td>\n      <td>False</td>\n      <td>https://www.themoviedb.org/movie/515959</td>\n      <td>https://www.themoviedb.org/t/p/w500//3A91CmXCg...</td>\n      <td>[18, 878]</td>\n      <td>True</td>\n      <td>Science Fiction</td>\n      <td>2</td>\n    </tr>\n    <tr>\n      <th>72518</th>\n      <td>False</td>\n      <td>107414</td>\n      <td>Foolin' Around</td>\n      <td>0.775</td>\n      <td>False</td>\n      <td>https://www.themoviedb.org/movie/107414</td>\n      <td>https://www.themoviedb.org/t/p/w500//zCItqBggj...</td>\n      <td>[35, 10749]</td>\n      <td>True</td>\n      <td>Comedy</td>\n      <td>2</td>\n    </tr>\n  </tbody>\n</table>\n</div>"
     },
     "metadata": {},
     "execution_count": 235
    }
   ],
   "source": [
    "\n",
    "train_=train_.explode('genre_ids2')\n",
    "train_.head(5)"
   ]
  },
  {
   "cell_type": "code",
   "execution_count": 236,
   "metadata": {},
   "outputs": [
    {
     "output_type": "execute_result",
     "data": {
      "text/plain": [
       "        adult      id                    original_title  popularity  video  \\\n",
       "0       False  542566  Bambaşka: Başka Bir Aşk Hikayesi       0.600  False   \n",
       "1       False  504761           Trekking the Great Wall       2.845  False   \n",
       "2       False  515959               Anna & the Asteroid       0.603  False   \n",
       "3       False  515959               Anna & the Asteroid       0.603  False   \n",
       "4       False  107414                    Foolin' Around       0.775  False   \n",
       "...       ...     ...                               ...         ...    ...   \n",
       "298905  False  532064                       Oye Salomé!       0.600  False   \n",
       "298906  False  476418                  Of Sheep and Men       1.098  False   \n",
       "298907  False  311017                       Ghost Train       1.579  False   \n",
       "298908  False  311017                       Ghost Train       1.579  False   \n",
       "298909  False  311017                       Ghost Train       1.579  False   \n",
       "\n",
       "                                            url  \\\n",
       "0       https://www.themoviedb.org/movie/542566   \n",
       "1       https://www.themoviedb.org/movie/504761   \n",
       "2       https://www.themoviedb.org/movie/515959   \n",
       "3       https://www.themoviedb.org/movie/515959   \n",
       "4       https://www.themoviedb.org/movie/107414   \n",
       "...                                         ...   \n",
       "298905  https://www.themoviedb.org/movie/532064   \n",
       "298906  https://www.themoviedb.org/movie/476418   \n",
       "298907  https://www.themoviedb.org/movie/311017   \n",
       "298908  https://www.themoviedb.org/movie/311017   \n",
       "298909  https://www.themoviedb.org/movie/311017   \n",
       "\n",
       "                                               poster_url      genre_id  \\\n",
       "0       https://www.themoviedb.org/t/p/w500//6QxlnrKak...       [10749]   \n",
       "1       https://www.themoviedb.org/t/p/w500//3KB8N5kk7...          [99]   \n",
       "2       https://www.themoviedb.org/t/p/w500//3A91CmXCg...     [18, 878]   \n",
       "3       https://www.themoviedb.org/t/p/w500//3A91CmXCg...     [18, 878]   \n",
       "4       https://www.themoviedb.org/t/p/w500//zCItqBggj...   [35, 10749]   \n",
       "...                                                   ...           ...   \n",
       "298905  https://www.themoviedb.org/t/p/w500//2uliXFljq...   [35, 10402]   \n",
       "298906  https://www.themoviedb.org/t/p/w500//uBFyJk1bA...          [99]   \n",
       "298907  https://www.themoviedb.org/t/p/w500//86xzxnRYc...  [14, 27, 18]   \n",
       "298908  https://www.themoviedb.org/t/p/w500//86xzxnRYc...  [14, 27, 18]   \n",
       "298909  https://www.themoviedb.org/t/p/w500//86xzxnRYc...  [14, 27, 18]   \n",
       "\n",
       "        poster_exists       genre_ids2  ...  x0_History  x0_Horror  x0_Music  \\\n",
       "0                True          Romance  ...         0.0        0.0       0.0   \n",
       "1                True      Documentary  ...         0.0        0.0       0.0   \n",
       "2                True            Drama  ...         0.0        0.0       0.0   \n",
       "3                True  Science Fiction  ...         0.0        0.0       0.0   \n",
       "4                True           Comedy  ...         0.0        0.0       0.0   \n",
       "...               ...              ...  ...         ...        ...       ...   \n",
       "298905           True            Music  ...         0.0        0.0       1.0   \n",
       "298906           True      Documentary  ...         0.0        0.0       0.0   \n",
       "298907           True          Fantasy  ...         0.0        0.0       0.0   \n",
       "298908           True           Horror  ...         0.0        1.0       0.0   \n",
       "298909           True            Drama  ...         0.0        0.0       0.0   \n",
       "\n",
       "        x0_Mystery  x0_Romance  x0_Science Fiction  x0_TV Movie  x0_Thriller  \\\n",
       "0              0.0         1.0                 0.0          0.0          0.0   \n",
       "1              0.0         0.0                 0.0          0.0          0.0   \n",
       "2              0.0         0.0                 0.0          0.0          0.0   \n",
       "3              0.0         0.0                 1.0          0.0          0.0   \n",
       "4              0.0         0.0                 0.0          0.0          0.0   \n",
       "...            ...         ...                 ...          ...          ...   \n",
       "298905         0.0         0.0                 0.0          0.0          0.0   \n",
       "298906         0.0         0.0                 0.0          0.0          0.0   \n",
       "298907         0.0         0.0                 0.0          0.0          0.0   \n",
       "298908         0.0         0.0                 0.0          0.0          0.0   \n",
       "298909         0.0         0.0                 0.0          0.0          0.0   \n",
       "\n",
       "        x0_War  x0_Western  \n",
       "0          0.0         0.0  \n",
       "1          0.0         0.0  \n",
       "2          0.0         0.0  \n",
       "3          0.0         0.0  \n",
       "4          0.0         0.0  \n",
       "...        ...         ...  \n",
       "298905     0.0         0.0  \n",
       "298906     0.0         0.0  \n",
       "298907     0.0         0.0  \n",
       "298908     0.0         0.0  \n",
       "298909     0.0         0.0  \n",
       "\n",
       "[298910 rows x 30 columns]"
      ],
      "text/html": "<div>\n<style scoped>\n    .dataframe tbody tr th:only-of-type {\n        vertical-align: middle;\n    }\n\n    .dataframe tbody tr th {\n        vertical-align: top;\n    }\n\n    .dataframe thead th {\n        text-align: right;\n    }\n</style>\n<table border=\"1\" class=\"dataframe\">\n  <thead>\n    <tr style=\"text-align: right;\">\n      <th></th>\n      <th>adult</th>\n      <th>id</th>\n      <th>original_title</th>\n      <th>popularity</th>\n      <th>video</th>\n      <th>url</th>\n      <th>poster_url</th>\n      <th>genre_id</th>\n      <th>poster_exists</th>\n      <th>genre_ids2</th>\n      <th>...</th>\n      <th>x0_History</th>\n      <th>x0_Horror</th>\n      <th>x0_Music</th>\n      <th>x0_Mystery</th>\n      <th>x0_Romance</th>\n      <th>x0_Science Fiction</th>\n      <th>x0_TV Movie</th>\n      <th>x0_Thriller</th>\n      <th>x0_War</th>\n      <th>x0_Western</th>\n    </tr>\n  </thead>\n  <tbody>\n    <tr>\n      <th>0</th>\n      <td>False</td>\n      <td>542566</td>\n      <td>Bambaşka: Başka Bir Aşk Hikayesi</td>\n      <td>0.600</td>\n      <td>False</td>\n      <td>https://www.themoviedb.org/movie/542566</td>\n      <td>https://www.themoviedb.org/t/p/w500//6QxlnrKak...</td>\n      <td>[10749]</td>\n      <td>True</td>\n      <td>Romance</td>\n      <td>...</td>\n      <td>0.0</td>\n      <td>0.0</td>\n      <td>0.0</td>\n      <td>0.0</td>\n      <td>1.0</td>\n      <td>0.0</td>\n      <td>0.0</td>\n      <td>0.0</td>\n      <td>0.0</td>\n      <td>0.0</td>\n    </tr>\n    <tr>\n      <th>1</th>\n      <td>False</td>\n      <td>504761</td>\n      <td>Trekking the Great Wall</td>\n      <td>2.845</td>\n      <td>False</td>\n      <td>https://www.themoviedb.org/movie/504761</td>\n      <td>https://www.themoviedb.org/t/p/w500//3KB8N5kk7...</td>\n      <td>[99]</td>\n      <td>True</td>\n      <td>Documentary</td>\n      <td>...</td>\n      <td>0.0</td>\n      <td>0.0</td>\n      <td>0.0</td>\n      <td>0.0</td>\n      <td>0.0</td>\n      <td>0.0</td>\n      <td>0.0</td>\n      <td>0.0</td>\n      <td>0.0</td>\n      <td>0.0</td>\n    </tr>\n    <tr>\n      <th>2</th>\n      <td>False</td>\n      <td>515959</td>\n      <td>Anna &amp; the Asteroid</td>\n      <td>0.603</td>\n      <td>False</td>\n      <td>https://www.themoviedb.org/movie/515959</td>\n      <td>https://www.themoviedb.org/t/p/w500//3A91CmXCg...</td>\n      <td>[18, 878]</td>\n      <td>True</td>\n      <td>Drama</td>\n      <td>...</td>\n      <td>0.0</td>\n      <td>0.0</td>\n      <td>0.0</td>\n      <td>0.0</td>\n      <td>0.0</td>\n      <td>0.0</td>\n      <td>0.0</td>\n      <td>0.0</td>\n      <td>0.0</td>\n      <td>0.0</td>\n    </tr>\n    <tr>\n      <th>3</th>\n      <td>False</td>\n      <td>515959</td>\n      <td>Anna &amp; the Asteroid</td>\n      <td>0.603</td>\n      <td>False</td>\n      <td>https://www.themoviedb.org/movie/515959</td>\n      <td>https://www.themoviedb.org/t/p/w500//3A91CmXCg...</td>\n      <td>[18, 878]</td>\n      <td>True</td>\n      <td>Science Fiction</td>\n      <td>...</td>\n      <td>0.0</td>\n      <td>0.0</td>\n      <td>0.0</td>\n      <td>0.0</td>\n      <td>0.0</td>\n      <td>1.0</td>\n      <td>0.0</td>\n      <td>0.0</td>\n      <td>0.0</td>\n      <td>0.0</td>\n    </tr>\n    <tr>\n      <th>4</th>\n      <td>False</td>\n      <td>107414</td>\n      <td>Foolin' Around</td>\n      <td>0.775</td>\n      <td>False</td>\n      <td>https://www.themoviedb.org/movie/107414</td>\n      <td>https://www.themoviedb.org/t/p/w500//zCItqBggj...</td>\n      <td>[35, 10749]</td>\n      <td>True</td>\n      <td>Comedy</td>\n      <td>...</td>\n      <td>0.0</td>\n      <td>0.0</td>\n      <td>0.0</td>\n      <td>0.0</td>\n      <td>0.0</td>\n      <td>0.0</td>\n      <td>0.0</td>\n      <td>0.0</td>\n      <td>0.0</td>\n      <td>0.0</td>\n    </tr>\n    <tr>\n      <th>...</th>\n      <td>...</td>\n      <td>...</td>\n      <td>...</td>\n      <td>...</td>\n      <td>...</td>\n      <td>...</td>\n      <td>...</td>\n      <td>...</td>\n      <td>...</td>\n      <td>...</td>\n      <td>...</td>\n      <td>...</td>\n      <td>...</td>\n      <td>...</td>\n      <td>...</td>\n      <td>...</td>\n      <td>...</td>\n      <td>...</td>\n      <td>...</td>\n      <td>...</td>\n      <td>...</td>\n    </tr>\n    <tr>\n      <th>298905</th>\n      <td>False</td>\n      <td>532064</td>\n      <td>Oye Salomé!</td>\n      <td>0.600</td>\n      <td>False</td>\n      <td>https://www.themoviedb.org/movie/532064</td>\n      <td>https://www.themoviedb.org/t/p/w500//2uliXFljq...</td>\n      <td>[35, 10402]</td>\n      <td>True</td>\n      <td>Music</td>\n      <td>...</td>\n      <td>0.0</td>\n      <td>0.0</td>\n      <td>1.0</td>\n      <td>0.0</td>\n      <td>0.0</td>\n      <td>0.0</td>\n      <td>0.0</td>\n      <td>0.0</td>\n      <td>0.0</td>\n      <td>0.0</td>\n    </tr>\n    <tr>\n      <th>298906</th>\n      <td>False</td>\n      <td>476418</td>\n      <td>Of Sheep and Men</td>\n      <td>1.098</td>\n      <td>False</td>\n      <td>https://www.themoviedb.org/movie/476418</td>\n      <td>https://www.themoviedb.org/t/p/w500//uBFyJk1bA...</td>\n      <td>[99]</td>\n      <td>True</td>\n      <td>Documentary</td>\n      <td>...</td>\n      <td>0.0</td>\n      <td>0.0</td>\n      <td>0.0</td>\n      <td>0.0</td>\n      <td>0.0</td>\n      <td>0.0</td>\n      <td>0.0</td>\n      <td>0.0</td>\n      <td>0.0</td>\n      <td>0.0</td>\n    </tr>\n    <tr>\n      <th>298907</th>\n      <td>False</td>\n      <td>311017</td>\n      <td>Ghost Train</td>\n      <td>1.579</td>\n      <td>False</td>\n      <td>https://www.themoviedb.org/movie/311017</td>\n      <td>https://www.themoviedb.org/t/p/w500//86xzxnRYc...</td>\n      <td>[14, 27, 18]</td>\n      <td>True</td>\n      <td>Fantasy</td>\n      <td>...</td>\n      <td>0.0</td>\n      <td>0.0</td>\n      <td>0.0</td>\n      <td>0.0</td>\n      <td>0.0</td>\n      <td>0.0</td>\n      <td>0.0</td>\n      <td>0.0</td>\n      <td>0.0</td>\n      <td>0.0</td>\n    </tr>\n    <tr>\n      <th>298908</th>\n      <td>False</td>\n      <td>311017</td>\n      <td>Ghost Train</td>\n      <td>1.579</td>\n      <td>False</td>\n      <td>https://www.themoviedb.org/movie/311017</td>\n      <td>https://www.themoviedb.org/t/p/w500//86xzxnRYc...</td>\n      <td>[14, 27, 18]</td>\n      <td>True</td>\n      <td>Horror</td>\n      <td>...</td>\n      <td>0.0</td>\n      <td>1.0</td>\n      <td>0.0</td>\n      <td>0.0</td>\n      <td>0.0</td>\n      <td>0.0</td>\n      <td>0.0</td>\n      <td>0.0</td>\n      <td>0.0</td>\n      <td>0.0</td>\n    </tr>\n    <tr>\n      <th>298909</th>\n      <td>False</td>\n      <td>311017</td>\n      <td>Ghost Train</td>\n      <td>1.579</td>\n      <td>False</td>\n      <td>https://www.themoviedb.org/movie/311017</td>\n      <td>https://www.themoviedb.org/t/p/w500//86xzxnRYc...</td>\n      <td>[14, 27, 18]</td>\n      <td>True</td>\n      <td>Drama</td>\n      <td>...</td>\n      <td>0.0</td>\n      <td>0.0</td>\n      <td>0.0</td>\n      <td>0.0</td>\n      <td>0.0</td>\n      <td>0.0</td>\n      <td>0.0</td>\n      <td>0.0</td>\n      <td>0.0</td>\n      <td>0.0</td>\n    </tr>\n  </tbody>\n</table>\n<p>298910 rows × 30 columns</p>\n</div>"
     },
     "metadata": {},
     "execution_count": 236
    }
   ],
   "source": [
    "from sklearn.preprocessing import OneHotEncoder\n",
    "ohe= OneHotEncoder(sparse=False, handle_unknown=\"ignore\").fit(train_[['genre_ids2']])\n",
    "ohe_class=pd.DataFrame(ohe.transform(train_[['genre_ids2']]),columns=ohe.get_feature_names())\n",
    "train_.reset_index(drop=True, inplace=True)\n",
    "movies_class = pd.concat([train_, ohe_class], axis=1)\n",
    "movies_class"
   ]
  },
  {
   "cell_type": "code",
   "execution_count": 237,
   "metadata": {},
   "outputs": [
    {
     "output_type": "execute_result",
     "data": {
      "text/plain": [
       "adult                     0\n",
       "id                        0\n",
       "original_title            0\n",
       "popularity                0\n",
       "video                     0\n",
       "url                   14438\n",
       "poster_url                0\n",
       "genre_id                  0\n",
       "poster_exists             0\n",
       "genre_ids2                0\n",
       "genre_id_count            0\n",
       "x0_Action                 0\n",
       "x0_Adventure              0\n",
       "x0_Animation              0\n",
       "x0_Comedy                 0\n",
       "x0_Crime                  0\n",
       "x0_Documentary            0\n",
       "x0_Drama                  0\n",
       "x0_Family                 0\n",
       "x0_Fantasy                0\n",
       "x0_History                0\n",
       "x0_Horror                 0\n",
       "x0_Music                  0\n",
       "x0_Mystery                0\n",
       "x0_Romance                0\n",
       "x0_Science Fiction        0\n",
       "x0_TV Movie               0\n",
       "x0_Thriller               0\n",
       "x0_War                    0\n",
       "x0_Western                0\n",
       "dtype: int64"
      ]
     },
     "metadata": {},
     "execution_count": 237
    }
   ],
   "source": [
    "#movies_class.isnull().sum()"
   ]
  },
  {
   "cell_type": "code",
   "execution_count": 240,
   "metadata": {},
   "outputs": [
    {
     "output_type": "execute_result",
     "data": {
      "text/plain": [
       "0         https://www.themoviedb.org/t/p/w500//6QxlnrKak...\n",
       "1         https://www.themoviedb.org/t/p/w500//3KB8N5kk7...\n",
       "2         https://www.themoviedb.org/t/p/w500//3A91CmXCg...\n",
       "3         https://www.themoviedb.org/t/p/w500//3A91CmXCg...\n",
       "4         https://www.themoviedb.org/t/p/w500//zCItqBggj...\n",
       "                                ...                        \n",
       "298905    https://www.themoviedb.org/t/p/w500//2uliXFljq...\n",
       "298906    https://www.themoviedb.org/t/p/w500//uBFyJk1bA...\n",
       "298907    https://www.themoviedb.org/t/p/w500//86xzxnRYc...\n",
       "298908    https://www.themoviedb.org/t/p/w500//86xzxnRYc...\n",
       "298909    https://www.themoviedb.org/t/p/w500//86xzxnRYc...\n",
       "Name: poster_url, Length: 298910, dtype: object"
      ]
     },
     "metadata": {},
     "execution_count": 240
    }
   ],
   "source": [
    "\n",
    "def get_path_colab(x):\n",
    "\n",
    " filename_=x.rsplit('/', 1)[-1]\n",
    " return  filename_\n",
    "movies_class['path_image']=movies_class['poster_url'].apply(lambda x: get_path_colab(x))\n",
    "movies_class.poster_url.apply(lambda x: x )"
   ]
  },
  {
   "cell_type": "code",
   "execution_count": 241,
   "metadata": {},
   "outputs": [
    {
     "output_type": "execute_result",
     "data": {
      "text/plain": [
       "        adult      id                    original_title  popularity  video  \\\n",
       "0       False  542566  Bambaşka: Başka Bir Aşk Hikayesi       0.600  False   \n",
       "1       False  504761           Trekking the Great Wall       2.845  False   \n",
       "2       False  515959               Anna & the Asteroid       0.603  False   \n",
       "3       False  515959               Anna & the Asteroid       0.603  False   \n",
       "4       False  107414                    Foolin' Around       0.775  False   \n",
       "...       ...     ...                               ...         ...    ...   \n",
       "298905  False  532064                       Oye Salomé!       0.600  False   \n",
       "298906  False  476418                  Of Sheep and Men       1.098  False   \n",
       "298907  False  311017                       Ghost Train       1.579  False   \n",
       "298908  False  311017                       Ghost Train       1.579  False   \n",
       "298909  False  311017                       Ghost Train       1.579  False   \n",
       "\n",
       "                                            url  \\\n",
       "0       https://www.themoviedb.org/movie/542566   \n",
       "1       https://www.themoviedb.org/movie/504761   \n",
       "2       https://www.themoviedb.org/movie/515959   \n",
       "3       https://www.themoviedb.org/movie/515959   \n",
       "4       https://www.themoviedb.org/movie/107414   \n",
       "...                                         ...   \n",
       "298905  https://www.themoviedb.org/movie/532064   \n",
       "298906  https://www.themoviedb.org/movie/476418   \n",
       "298907  https://www.themoviedb.org/movie/311017   \n",
       "298908  https://www.themoviedb.org/movie/311017   \n",
       "298909  https://www.themoviedb.org/movie/311017   \n",
       "\n",
       "                                               poster_url      genre_id  \\\n",
       "0       https://www.themoviedb.org/t/p/w500//6QxlnrKak...       [10749]   \n",
       "1       https://www.themoviedb.org/t/p/w500//3KB8N5kk7...          [99]   \n",
       "2       https://www.themoviedb.org/t/p/w500//3A91CmXCg...     [18, 878]   \n",
       "3       https://www.themoviedb.org/t/p/w500//3A91CmXCg...     [18, 878]   \n",
       "4       https://www.themoviedb.org/t/p/w500//zCItqBggj...   [35, 10749]   \n",
       "...                                                   ...           ...   \n",
       "298905  https://www.themoviedb.org/t/p/w500//2uliXFljq...   [35, 10402]   \n",
       "298906  https://www.themoviedb.org/t/p/w500//uBFyJk1bA...          [99]   \n",
       "298907  https://www.themoviedb.org/t/p/w500//86xzxnRYc...  [14, 27, 18]   \n",
       "298908  https://www.themoviedb.org/t/p/w500//86xzxnRYc...  [14, 27, 18]   \n",
       "298909  https://www.themoviedb.org/t/p/w500//86xzxnRYc...  [14, 27, 18]   \n",
       "\n",
       "        poster_exists       genre_ids2  ...  x0_Horror  x0_Music  x0_Mystery  \\\n",
       "0                True          Romance  ...        0.0       0.0         0.0   \n",
       "1                True      Documentary  ...        0.0       0.0         0.0   \n",
       "2                True            Drama  ...        0.0       0.0         0.0   \n",
       "3                True  Science Fiction  ...        0.0       0.0         0.0   \n",
       "4                True           Comedy  ...        0.0       0.0         0.0   \n",
       "...               ...              ...  ...        ...       ...         ...   \n",
       "298905           True            Music  ...        0.0       1.0         0.0   \n",
       "298906           True      Documentary  ...        0.0       0.0         0.0   \n",
       "298907           True          Fantasy  ...        0.0       0.0         0.0   \n",
       "298908           True           Horror  ...        1.0       0.0         0.0   \n",
       "298909           True            Drama  ...        0.0       0.0         0.0   \n",
       "\n",
       "        x0_Romance  x0_Science Fiction  x0_TV Movie  x0_Thriller  x0_War  \\\n",
       "0              1.0                 0.0          0.0          0.0     0.0   \n",
       "1              0.0                 0.0          0.0          0.0     0.0   \n",
       "2              0.0                 0.0          0.0          0.0     0.0   \n",
       "3              0.0                 1.0          0.0          0.0     0.0   \n",
       "4              0.0                 0.0          0.0          0.0     0.0   \n",
       "...            ...                 ...          ...          ...     ...   \n",
       "298905         0.0                 0.0          0.0          0.0     0.0   \n",
       "298906         0.0                 0.0          0.0          0.0     0.0   \n",
       "298907         0.0                 0.0          0.0          0.0     0.0   \n",
       "298908         0.0                 0.0          0.0          0.0     0.0   \n",
       "298909         0.0                 0.0          0.0          0.0     0.0   \n",
       "\n",
       "        x0_Western                       path_image  \n",
       "0              0.0  6QxlnrKakl1JdvYmFo6GfQIdywl.jpg  \n",
       "1              0.0  3KB8N5kk7kJyhuNgZoE2CxXIt6E.jpg  \n",
       "2              0.0  3A91CmXCgSFbyXki9IEWSkAG4hH.jpg  \n",
       "3              0.0  3A91CmXCgSFbyXki9IEWSkAG4hH.jpg  \n",
       "4              0.0  zCItqBggjaVhDnvALuXyCHDnSKc.jpg  \n",
       "...            ...                              ...  \n",
       "298905         0.0  2uliXFljqPrkLfcxgTx1OyU8Mp2.jpg  \n",
       "298906         0.0  uBFyJk1bA92FO5NKYArBKAwUX2i.jpg  \n",
       "298907         0.0  86xzxnRYcT56VoaWp47Dmm4FaNH.jpg  \n",
       "298908         0.0  86xzxnRYcT56VoaWp47Dmm4FaNH.jpg  \n",
       "298909         0.0  86xzxnRYcT56VoaWp47Dmm4FaNH.jpg  \n",
       "\n",
       "[298910 rows x 31 columns]"
      ],
      "text/html": "<div>\n<style scoped>\n    .dataframe tbody tr th:only-of-type {\n        vertical-align: middle;\n    }\n\n    .dataframe tbody tr th {\n        vertical-align: top;\n    }\n\n    .dataframe thead th {\n        text-align: right;\n    }\n</style>\n<table border=\"1\" class=\"dataframe\">\n  <thead>\n    <tr style=\"text-align: right;\">\n      <th></th>\n      <th>adult</th>\n      <th>id</th>\n      <th>original_title</th>\n      <th>popularity</th>\n      <th>video</th>\n      <th>url</th>\n      <th>poster_url</th>\n      <th>genre_id</th>\n      <th>poster_exists</th>\n      <th>genre_ids2</th>\n      <th>...</th>\n      <th>x0_Horror</th>\n      <th>x0_Music</th>\n      <th>x0_Mystery</th>\n      <th>x0_Romance</th>\n      <th>x0_Science Fiction</th>\n      <th>x0_TV Movie</th>\n      <th>x0_Thriller</th>\n      <th>x0_War</th>\n      <th>x0_Western</th>\n      <th>path_image</th>\n    </tr>\n  </thead>\n  <tbody>\n    <tr>\n      <th>0</th>\n      <td>False</td>\n      <td>542566</td>\n      <td>Bambaşka: Başka Bir Aşk Hikayesi</td>\n      <td>0.600</td>\n      <td>False</td>\n      <td>https://www.themoviedb.org/movie/542566</td>\n      <td>https://www.themoviedb.org/t/p/w500//6QxlnrKak...</td>\n      <td>[10749]</td>\n      <td>True</td>\n      <td>Romance</td>\n      <td>...</td>\n      <td>0.0</td>\n      <td>0.0</td>\n      <td>0.0</td>\n      <td>1.0</td>\n      <td>0.0</td>\n      <td>0.0</td>\n      <td>0.0</td>\n      <td>0.0</td>\n      <td>0.0</td>\n      <td>6QxlnrKakl1JdvYmFo6GfQIdywl.jpg</td>\n    </tr>\n    <tr>\n      <th>1</th>\n      <td>False</td>\n      <td>504761</td>\n      <td>Trekking the Great Wall</td>\n      <td>2.845</td>\n      <td>False</td>\n      <td>https://www.themoviedb.org/movie/504761</td>\n      <td>https://www.themoviedb.org/t/p/w500//3KB8N5kk7...</td>\n      <td>[99]</td>\n      <td>True</td>\n      <td>Documentary</td>\n      <td>...</td>\n      <td>0.0</td>\n      <td>0.0</td>\n      <td>0.0</td>\n      <td>0.0</td>\n      <td>0.0</td>\n      <td>0.0</td>\n      <td>0.0</td>\n      <td>0.0</td>\n      <td>0.0</td>\n      <td>3KB8N5kk7kJyhuNgZoE2CxXIt6E.jpg</td>\n    </tr>\n    <tr>\n      <th>2</th>\n      <td>False</td>\n      <td>515959</td>\n      <td>Anna &amp; the Asteroid</td>\n      <td>0.603</td>\n      <td>False</td>\n      <td>https://www.themoviedb.org/movie/515959</td>\n      <td>https://www.themoviedb.org/t/p/w500//3A91CmXCg...</td>\n      <td>[18, 878]</td>\n      <td>True</td>\n      <td>Drama</td>\n      <td>...</td>\n      <td>0.0</td>\n      <td>0.0</td>\n      <td>0.0</td>\n      <td>0.0</td>\n      <td>0.0</td>\n      <td>0.0</td>\n      <td>0.0</td>\n      <td>0.0</td>\n      <td>0.0</td>\n      <td>3A91CmXCgSFbyXki9IEWSkAG4hH.jpg</td>\n    </tr>\n    <tr>\n      <th>3</th>\n      <td>False</td>\n      <td>515959</td>\n      <td>Anna &amp; the Asteroid</td>\n      <td>0.603</td>\n      <td>False</td>\n      <td>https://www.themoviedb.org/movie/515959</td>\n      <td>https://www.themoviedb.org/t/p/w500//3A91CmXCg...</td>\n      <td>[18, 878]</td>\n      <td>True</td>\n      <td>Science Fiction</td>\n      <td>...</td>\n      <td>0.0</td>\n      <td>0.0</td>\n      <td>0.0</td>\n      <td>0.0</td>\n      <td>1.0</td>\n      <td>0.0</td>\n      <td>0.0</td>\n      <td>0.0</td>\n      <td>0.0</td>\n      <td>3A91CmXCgSFbyXki9IEWSkAG4hH.jpg</td>\n    </tr>\n    <tr>\n      <th>4</th>\n      <td>False</td>\n      <td>107414</td>\n      <td>Foolin' Around</td>\n      <td>0.775</td>\n      <td>False</td>\n      <td>https://www.themoviedb.org/movie/107414</td>\n      <td>https://www.themoviedb.org/t/p/w500//zCItqBggj...</td>\n      <td>[35, 10749]</td>\n      <td>True</td>\n      <td>Comedy</td>\n      <td>...</td>\n      <td>0.0</td>\n      <td>0.0</td>\n      <td>0.0</td>\n      <td>0.0</td>\n      <td>0.0</td>\n      <td>0.0</td>\n      <td>0.0</td>\n      <td>0.0</td>\n      <td>0.0</td>\n      <td>zCItqBggjaVhDnvALuXyCHDnSKc.jpg</td>\n    </tr>\n    <tr>\n      <th>...</th>\n      <td>...</td>\n      <td>...</td>\n      <td>...</td>\n      <td>...</td>\n      <td>...</td>\n      <td>...</td>\n      <td>...</td>\n      <td>...</td>\n      <td>...</td>\n      <td>...</td>\n      <td>...</td>\n      <td>...</td>\n      <td>...</td>\n      <td>...</td>\n      <td>...</td>\n      <td>...</td>\n      <td>...</td>\n      <td>...</td>\n      <td>...</td>\n      <td>...</td>\n      <td>...</td>\n    </tr>\n    <tr>\n      <th>298905</th>\n      <td>False</td>\n      <td>532064</td>\n      <td>Oye Salomé!</td>\n      <td>0.600</td>\n      <td>False</td>\n      <td>https://www.themoviedb.org/movie/532064</td>\n      <td>https://www.themoviedb.org/t/p/w500//2uliXFljq...</td>\n      <td>[35, 10402]</td>\n      <td>True</td>\n      <td>Music</td>\n      <td>...</td>\n      <td>0.0</td>\n      <td>1.0</td>\n      <td>0.0</td>\n      <td>0.0</td>\n      <td>0.0</td>\n      <td>0.0</td>\n      <td>0.0</td>\n      <td>0.0</td>\n      <td>0.0</td>\n      <td>2uliXFljqPrkLfcxgTx1OyU8Mp2.jpg</td>\n    </tr>\n    <tr>\n      <th>298906</th>\n      <td>False</td>\n      <td>476418</td>\n      <td>Of Sheep and Men</td>\n      <td>1.098</td>\n      <td>False</td>\n      <td>https://www.themoviedb.org/movie/476418</td>\n      <td>https://www.themoviedb.org/t/p/w500//uBFyJk1bA...</td>\n      <td>[99]</td>\n      <td>True</td>\n      <td>Documentary</td>\n      <td>...</td>\n      <td>0.0</td>\n      <td>0.0</td>\n      <td>0.0</td>\n      <td>0.0</td>\n      <td>0.0</td>\n      <td>0.0</td>\n      <td>0.0</td>\n      <td>0.0</td>\n      <td>0.0</td>\n      <td>uBFyJk1bA92FO5NKYArBKAwUX2i.jpg</td>\n    </tr>\n    <tr>\n      <th>298907</th>\n      <td>False</td>\n      <td>311017</td>\n      <td>Ghost Train</td>\n      <td>1.579</td>\n      <td>False</td>\n      <td>https://www.themoviedb.org/movie/311017</td>\n      <td>https://www.themoviedb.org/t/p/w500//86xzxnRYc...</td>\n      <td>[14, 27, 18]</td>\n      <td>True</td>\n      <td>Fantasy</td>\n      <td>...</td>\n      <td>0.0</td>\n      <td>0.0</td>\n      <td>0.0</td>\n      <td>0.0</td>\n      <td>0.0</td>\n      <td>0.0</td>\n      <td>0.0</td>\n      <td>0.0</td>\n      <td>0.0</td>\n      <td>86xzxnRYcT56VoaWp47Dmm4FaNH.jpg</td>\n    </tr>\n    <tr>\n      <th>298908</th>\n      <td>False</td>\n      <td>311017</td>\n      <td>Ghost Train</td>\n      <td>1.579</td>\n      <td>False</td>\n      <td>https://www.themoviedb.org/movie/311017</td>\n      <td>https://www.themoviedb.org/t/p/w500//86xzxnRYc...</td>\n      <td>[14, 27, 18]</td>\n      <td>True</td>\n      <td>Horror</td>\n      <td>...</td>\n      <td>1.0</td>\n      <td>0.0</td>\n      <td>0.0</td>\n      <td>0.0</td>\n      <td>0.0</td>\n      <td>0.0</td>\n      <td>0.0</td>\n      <td>0.0</td>\n      <td>0.0</td>\n      <td>86xzxnRYcT56VoaWp47Dmm4FaNH.jpg</td>\n    </tr>\n    <tr>\n      <th>298909</th>\n      <td>False</td>\n      <td>311017</td>\n      <td>Ghost Train</td>\n      <td>1.579</td>\n      <td>False</td>\n      <td>https://www.themoviedb.org/movie/311017</td>\n      <td>https://www.themoviedb.org/t/p/w500//86xzxnRYc...</td>\n      <td>[14, 27, 18]</td>\n      <td>True</td>\n      <td>Drama</td>\n      <td>...</td>\n      <td>0.0</td>\n      <td>0.0</td>\n      <td>0.0</td>\n      <td>0.0</td>\n      <td>0.0</td>\n      <td>0.0</td>\n      <td>0.0</td>\n      <td>0.0</td>\n      <td>0.0</td>\n      <td>86xzxnRYcT56VoaWp47Dmm4FaNH.jpg</td>\n    </tr>\n  </tbody>\n</table>\n<p>298910 rows × 31 columns</p>\n</div>"
     },
     "metadata": {},
     "execution_count": 241
    }
   ],
   "source": [
    "movies_class"
   ]
  },
  {
   "cell_type": "code",
   "execution_count": 242,
   "metadata": {},
   "outputs": [
    {
     "output_type": "stream",
     "name": "stderr",
     "text": [
      "/Users/cenriquez/opt/anaconda3/envs/aida_pro/lib/python3.8/site-packages/pandas/core/generic.py:5494: SettingWithCopyWarning: \nA value is trying to be set on a copy of a slice from a DataFrame.\nTry using .loc[row_indexer,col_indexer] = value instead\n\nSee the caveats in the documentation: https://pandas.pydata.org/pandas-docs/stable/user_guide/indexing.html#returning-a-view-versus-a-copy\n  self[name] = value\n"
     ]
    },
    {
     "output_type": "execute_result",
     "data": {
      "text/plain": [
       "       adult      id                   original_title  popularity  video  \\\n",
       "0      False  101441  Eric van Sauers: De Ware Liefde       1.376  False   \n",
       "1      False  404255      Murder in Greenwich Village       0.600  False   \n",
       "2      False  404255      Murder in Greenwich Village       0.600  False   \n",
       "3      False  404255      Murder in Greenwich Village       0.600  False   \n",
       "4      False  498154                      懲役太郎　まむしの兄弟       1.090  False   \n",
       "...      ...     ...                              ...         ...    ...   \n",
       "93371  False   34152                         Crooklyn       9.356  False   \n",
       "93372  False  502904                  China Gold Rush       0.600  False   \n",
       "93373  False  416438                 Electric Blue 19       0.957   True   \n",
       "93374  False  508459                 My African Diary       0.600  False   \n",
       "93375  False  508459                 My African Diary       0.600  False   \n",
       "\n",
       "                                           url  \\\n",
       "0      https://www.themoviedb.org/movie/101441   \n",
       "1                                         None   \n",
       "2                                         None   \n",
       "3                                         None   \n",
       "4      https://www.themoviedb.org/movie/498154   \n",
       "...                                        ...   \n",
       "93371   https://www.themoviedb.org/movie/34152   \n",
       "93372  https://www.themoviedb.org/movie/502904   \n",
       "93373                                     None   \n",
       "93374  https://www.themoviedb.org/movie/508459   \n",
       "93375  https://www.themoviedb.org/movie/508459   \n",
       "\n",
       "                                              poster_url           genre_id  \\\n",
       "0      https://www.themoviedb.org/t/p/w500//pybt3y2pw...               [35]   \n",
       "1      https://www.themoviedb.org/t/p/w500//la4XQjT5O...  [9648, 10749, 35]   \n",
       "2      https://www.themoviedb.org/t/p/w500//la4XQjT5O...  [9648, 10749, 35]   \n",
       "3      https://www.themoviedb.org/t/p/w500//la4XQjT5O...  [9648, 10749, 35]   \n",
       "4      https://www.themoviedb.org/t/p/w500//ArlNbUFYk...           [35, 28]   \n",
       "...                                                  ...                ...   \n",
       "93371  https://www.themoviedb.org/t/p/w500//iFqe07F78...           [35, 18]   \n",
       "93372  https://www.themoviedb.org/t/p/w500//3HjSVVHXZ...               [99]   \n",
       "93373  https://www.themoviedb.org/t/p/w500//h7BC1ZPMY...               [99]   \n",
       "93374  https://www.themoviedb.org/t/p/w500//aZ0p0sZWm...           [18, 99]   \n",
       "93375  https://www.themoviedb.org/t/p/w500//aZ0p0sZWm...           [18, 99]   \n",
       "\n",
       "       poster_exists   genre_ids2  ...  x0_History  x0_Horror  x0_Music  \\\n",
       "0               True       Comedy  ...         0.0        0.0       0.0   \n",
       "1               True      Mystery  ...         0.0        0.0       0.0   \n",
       "2               True      Romance  ...         0.0        0.0       0.0   \n",
       "3               True       Comedy  ...         0.0        0.0       0.0   \n",
       "4               True       Comedy  ...         0.0        0.0       0.0   \n",
       "...              ...          ...  ...         ...        ...       ...   \n",
       "93371           True        Drama  ...         0.0        0.0       0.0   \n",
       "93372           True  Documentary  ...         0.0        0.0       0.0   \n",
       "93373           True  Documentary  ...         0.0        0.0       0.0   \n",
       "93374           True        Drama  ...         0.0        0.0       0.0   \n",
       "93375           True  Documentary  ...         0.0        0.0       0.0   \n",
       "\n",
       "       x0_Mystery  x0_Romance  x0_Science Fiction  x0_TV Movie  x0_Thriller  \\\n",
       "0             0.0         0.0                 0.0          0.0          0.0   \n",
       "1             1.0         0.0                 0.0          0.0          0.0   \n",
       "2             0.0         1.0                 0.0          0.0          0.0   \n",
       "3             0.0         0.0                 0.0          0.0          0.0   \n",
       "4             0.0         0.0                 0.0          0.0          0.0   \n",
       "...           ...         ...                 ...          ...          ...   \n",
       "93371         0.0         0.0                 0.0          0.0          0.0   \n",
       "93372         0.0         0.0                 0.0          0.0          0.0   \n",
       "93373         0.0         0.0                 0.0          0.0          0.0   \n",
       "93374         0.0         0.0                 0.0          0.0          0.0   \n",
       "93375         0.0         0.0                 0.0          0.0          0.0   \n",
       "\n",
       "       x0_War  x0_Western  \n",
       "0         0.0         0.0  \n",
       "1         0.0         0.0  \n",
       "2         0.0         0.0  \n",
       "3         0.0         0.0  \n",
       "4         0.0         0.0  \n",
       "...       ...         ...  \n",
       "93371     0.0         0.0  \n",
       "93372     0.0         0.0  \n",
       "93373     0.0         0.0  \n",
       "93374     0.0         0.0  \n",
       "93375     0.0         0.0  \n",
       "\n",
       "[93376 rows x 30 columns]"
      ],
      "text/html": "<div>\n<style scoped>\n    .dataframe tbody tr th:only-of-type {\n        vertical-align: middle;\n    }\n\n    .dataframe tbody tr th {\n        vertical-align: top;\n    }\n\n    .dataframe thead th {\n        text-align: right;\n    }\n</style>\n<table border=\"1\" class=\"dataframe\">\n  <thead>\n    <tr style=\"text-align: right;\">\n      <th></th>\n      <th>adult</th>\n      <th>id</th>\n      <th>original_title</th>\n      <th>popularity</th>\n      <th>video</th>\n      <th>url</th>\n      <th>poster_url</th>\n      <th>genre_id</th>\n      <th>poster_exists</th>\n      <th>genre_ids2</th>\n      <th>...</th>\n      <th>x0_History</th>\n      <th>x0_Horror</th>\n      <th>x0_Music</th>\n      <th>x0_Mystery</th>\n      <th>x0_Romance</th>\n      <th>x0_Science Fiction</th>\n      <th>x0_TV Movie</th>\n      <th>x0_Thriller</th>\n      <th>x0_War</th>\n      <th>x0_Western</th>\n    </tr>\n  </thead>\n  <tbody>\n    <tr>\n      <th>0</th>\n      <td>False</td>\n      <td>101441</td>\n      <td>Eric van Sauers: De Ware Liefde</td>\n      <td>1.376</td>\n      <td>False</td>\n      <td>https://www.themoviedb.org/movie/101441</td>\n      <td>https://www.themoviedb.org/t/p/w500//pybt3y2pw...</td>\n      <td>[35]</td>\n      <td>True</td>\n      <td>Comedy</td>\n      <td>...</td>\n      <td>0.0</td>\n      <td>0.0</td>\n      <td>0.0</td>\n      <td>0.0</td>\n      <td>0.0</td>\n      <td>0.0</td>\n      <td>0.0</td>\n      <td>0.0</td>\n      <td>0.0</td>\n      <td>0.0</td>\n    </tr>\n    <tr>\n      <th>1</th>\n      <td>False</td>\n      <td>404255</td>\n      <td>Murder in Greenwich Village</td>\n      <td>0.600</td>\n      <td>False</td>\n      <td>None</td>\n      <td>https://www.themoviedb.org/t/p/w500//la4XQjT5O...</td>\n      <td>[9648, 10749, 35]</td>\n      <td>True</td>\n      <td>Mystery</td>\n      <td>...</td>\n      <td>0.0</td>\n      <td>0.0</td>\n      <td>0.0</td>\n      <td>1.0</td>\n      <td>0.0</td>\n      <td>0.0</td>\n      <td>0.0</td>\n      <td>0.0</td>\n      <td>0.0</td>\n      <td>0.0</td>\n    </tr>\n    <tr>\n      <th>2</th>\n      <td>False</td>\n      <td>404255</td>\n      <td>Murder in Greenwich Village</td>\n      <td>0.600</td>\n      <td>False</td>\n      <td>None</td>\n      <td>https://www.themoviedb.org/t/p/w500//la4XQjT5O...</td>\n      <td>[9648, 10749, 35]</td>\n      <td>True</td>\n      <td>Romance</td>\n      <td>...</td>\n      <td>0.0</td>\n      <td>0.0</td>\n      <td>0.0</td>\n      <td>0.0</td>\n      <td>1.0</td>\n      <td>0.0</td>\n      <td>0.0</td>\n      <td>0.0</td>\n      <td>0.0</td>\n      <td>0.0</td>\n    </tr>\n    <tr>\n      <th>3</th>\n      <td>False</td>\n      <td>404255</td>\n      <td>Murder in Greenwich Village</td>\n      <td>0.600</td>\n      <td>False</td>\n      <td>None</td>\n      <td>https://www.themoviedb.org/t/p/w500//la4XQjT5O...</td>\n      <td>[9648, 10749, 35]</td>\n      <td>True</td>\n      <td>Comedy</td>\n      <td>...</td>\n      <td>0.0</td>\n      <td>0.0</td>\n      <td>0.0</td>\n      <td>0.0</td>\n      <td>0.0</td>\n      <td>0.0</td>\n      <td>0.0</td>\n      <td>0.0</td>\n      <td>0.0</td>\n      <td>0.0</td>\n    </tr>\n    <tr>\n      <th>4</th>\n      <td>False</td>\n      <td>498154</td>\n      <td>懲役太郎　まむしの兄弟</td>\n      <td>1.090</td>\n      <td>False</td>\n      <td>https://www.themoviedb.org/movie/498154</td>\n      <td>https://www.themoviedb.org/t/p/w500//ArlNbUFYk...</td>\n      <td>[35, 28]</td>\n      <td>True</td>\n      <td>Comedy</td>\n      <td>...</td>\n      <td>0.0</td>\n      <td>0.0</td>\n      <td>0.0</td>\n      <td>0.0</td>\n      <td>0.0</td>\n      <td>0.0</td>\n      <td>0.0</td>\n      <td>0.0</td>\n      <td>0.0</td>\n      <td>0.0</td>\n    </tr>\n    <tr>\n      <th>...</th>\n      <td>...</td>\n      <td>...</td>\n      <td>...</td>\n      <td>...</td>\n      <td>...</td>\n      <td>...</td>\n      <td>...</td>\n      <td>...</td>\n      <td>...</td>\n      <td>...</td>\n      <td>...</td>\n      <td>...</td>\n      <td>...</td>\n      <td>...</td>\n      <td>...</td>\n      <td>...</td>\n      <td>...</td>\n      <td>...</td>\n      <td>...</td>\n      <td>...</td>\n      <td>...</td>\n    </tr>\n    <tr>\n      <th>93371</th>\n      <td>False</td>\n      <td>34152</td>\n      <td>Crooklyn</td>\n      <td>9.356</td>\n      <td>False</td>\n      <td>https://www.themoviedb.org/movie/34152</td>\n      <td>https://www.themoviedb.org/t/p/w500//iFqe07F78...</td>\n      <td>[35, 18]</td>\n      <td>True</td>\n      <td>Drama</td>\n      <td>...</td>\n      <td>0.0</td>\n      <td>0.0</td>\n      <td>0.0</td>\n      <td>0.0</td>\n      <td>0.0</td>\n      <td>0.0</td>\n      <td>0.0</td>\n      <td>0.0</td>\n      <td>0.0</td>\n      <td>0.0</td>\n    </tr>\n    <tr>\n      <th>93372</th>\n      <td>False</td>\n      <td>502904</td>\n      <td>China Gold Rush</td>\n      <td>0.600</td>\n      <td>False</td>\n      <td>https://www.themoviedb.org/movie/502904</td>\n      <td>https://www.themoviedb.org/t/p/w500//3HjSVVHXZ...</td>\n      <td>[99]</td>\n      <td>True</td>\n      <td>Documentary</td>\n      <td>...</td>\n      <td>0.0</td>\n      <td>0.0</td>\n      <td>0.0</td>\n      <td>0.0</td>\n      <td>0.0</td>\n      <td>0.0</td>\n      <td>0.0</td>\n      <td>0.0</td>\n      <td>0.0</td>\n      <td>0.0</td>\n    </tr>\n    <tr>\n      <th>93373</th>\n      <td>False</td>\n      <td>416438</td>\n      <td>Electric Blue 19</td>\n      <td>0.957</td>\n      <td>True</td>\n      <td>None</td>\n      <td>https://www.themoviedb.org/t/p/w500//h7BC1ZPMY...</td>\n      <td>[99]</td>\n      <td>True</td>\n      <td>Documentary</td>\n      <td>...</td>\n      <td>0.0</td>\n      <td>0.0</td>\n      <td>0.0</td>\n      <td>0.0</td>\n      <td>0.0</td>\n      <td>0.0</td>\n      <td>0.0</td>\n      <td>0.0</td>\n      <td>0.0</td>\n      <td>0.0</td>\n    </tr>\n    <tr>\n      <th>93374</th>\n      <td>False</td>\n      <td>508459</td>\n      <td>My African Diary</td>\n      <td>0.600</td>\n      <td>False</td>\n      <td>https://www.themoviedb.org/movie/508459</td>\n      <td>https://www.themoviedb.org/t/p/w500//aZ0p0sZWm...</td>\n      <td>[18, 99]</td>\n      <td>True</td>\n      <td>Drama</td>\n      <td>...</td>\n      <td>0.0</td>\n      <td>0.0</td>\n      <td>0.0</td>\n      <td>0.0</td>\n      <td>0.0</td>\n      <td>0.0</td>\n      <td>0.0</td>\n      <td>0.0</td>\n      <td>0.0</td>\n      <td>0.0</td>\n    </tr>\n    <tr>\n      <th>93375</th>\n      <td>False</td>\n      <td>508459</td>\n      <td>My African Diary</td>\n      <td>0.600</td>\n      <td>False</td>\n      <td>https://www.themoviedb.org/movie/508459</td>\n      <td>https://www.themoviedb.org/t/p/w500//aZ0p0sZWm...</td>\n      <td>[18, 99]</td>\n      <td>True</td>\n      <td>Documentary</td>\n      <td>...</td>\n      <td>0.0</td>\n      <td>0.0</td>\n      <td>0.0</td>\n      <td>0.0</td>\n      <td>0.0</td>\n      <td>0.0</td>\n      <td>0.0</td>\n      <td>0.0</td>\n      <td>0.0</td>\n      <td>0.0</td>\n    </tr>\n  </tbody>\n</table>\n<p>93376 rows × 30 columns</p>\n</div>"
     },
     "metadata": {},
     "execution_count": 242
    }
   ],
   "source": [
    "################### test###################\n",
    "\n",
    "test.genre_ids2=test.genre_ids2.apply(testme)\n",
    "test=test.explode('genre_ids2')\n",
    "ohe= OneHotEncoder(sparse=False, handle_unknown=\"ignore\").fit(test[['genre_ids2']])\n",
    "ohe_class=pd.DataFrame(ohe.transform(test[['genre_ids2']]),columns=ohe.get_feature_names())\n",
    "test.reset_index(drop=True, inplace=True)\n",
    "movies_class_test = pd.concat([test, ohe_class], axis=1)\n",
    "movies_class_test"
   ]
  },
  {
   "cell_type": "code",
   "execution_count": 243,
   "metadata": {},
   "outputs": [
    {
     "output_type": "stream",
     "name": "stderr",
     "text": [
      "/Users/cenriquez/opt/anaconda3/envs/aida_pro/lib/python3.8/site-packages/pandas/core/generic.py:5494: SettingWithCopyWarning: \nA value is trying to be set on a copy of a slice from a DataFrame.\nTry using .loc[row_indexer,col_indexer] = value instead\n\nSee the caveats in the documentation: https://pandas.pydata.org/pandas-docs/stable/user_guide/indexing.html#returning-a-view-versus-a-copy\n  self[name] = value\n"
     ]
    },
    {
     "output_type": "execute_result",
     "data": {
      "text/plain": [
       "       adult      id                                     original_title  \\\n",
       "0      False   28191                                 One Exciting Night   \n",
       "1      False   70946  Les Gens en maillot de bain ne sont pas (forcé...   \n",
       "2      False  798707  Pandémie planétaire, une Chine pas au-dessus d...   \n",
       "3      False  222666                                 Gola profonda nera   \n",
       "4      False  752304                         Happy Birthday, Mr. Zombie   \n",
       "...      ...     ...                                                ...   \n",
       "74662  False  463317                                             Barood   \n",
       "74663  False  463317                                             Barood   \n",
       "74664  False  529243                                    Tout conte fait   \n",
       "74665  False  780025                         Pepino - Das kleine Wunder   \n",
       "74666  False  688990                              Ο δρόμος προς τη δόξα   \n",
       "\n",
       "       popularity  video                                      url  \\\n",
       "0           2.211  False   https://www.themoviedb.org/movie/28191   \n",
       "1           1.057  False   https://www.themoviedb.org/movie/70946   \n",
       "2           1.361  False  https://www.themoviedb.org/movie/798707   \n",
       "3           4.823  False  https://www.themoviedb.org/movie/222666   \n",
       "4           0.600  False  https://www.themoviedb.org/movie/752304   \n",
       "...           ...    ...                                      ...   \n",
       "74662       1.595  False  https://www.themoviedb.org/movie/463317   \n",
       "74663       1.595  False  https://www.themoviedb.org/movie/463317   \n",
       "74664       0.600  False  https://www.themoviedb.org/movie/529243   \n",
       "74665       0.600  False  https://www.themoviedb.org/movie/780025   \n",
       "74666       0.600  False  https://www.themoviedb.org/movie/688990   \n",
       "\n",
       "                                              poster_url  genre_id  \\\n",
       "0      https://www.themoviedb.org/t/p/w500//zJtFdjTXY...    [9648]   \n",
       "1      https://www.themoviedb.org/t/p/w500//5pvW8H92B...      [35]   \n",
       "2      https://www.themoviedb.org/t/p/w500//tlDGqaTjz...      [99]   \n",
       "3      https://www.themoviedb.org/t/p/w500//koyRXdLie...      [53]   \n",
       "4      https://www.themoviedb.org/t/p/w500//9vyRuH1If...  [35, 27]   \n",
       "...                                                  ...       ...   \n",
       "74662  https://www.themoviedb.org/t/p/w500//9G1ykFHsx...  [18, 28]   \n",
       "74663  https://www.themoviedb.org/t/p/w500//9G1ykFHsx...  [18, 28]   \n",
       "74664  https://www.themoviedb.org/t/p/w500//qwABBd4tX...      [16]   \n",
       "74665  https://www.themoviedb.org/t/p/w500//rAw8cu1qJ...   [10751]   \n",
       "74666  https://www.themoviedb.org/t/p/w500//2HGoaUn83...      [18]   \n",
       "\n",
       "       poster_exists   genre_ids2  ...  x0_History  x0_Horror  x0_Music  \\\n",
       "0               True      Mystery  ...         0.0        0.0       0.0   \n",
       "1               True       Comedy  ...         0.0        0.0       0.0   \n",
       "2               True  Documentary  ...         0.0        0.0       0.0   \n",
       "3               True     Thriller  ...         0.0        0.0       0.0   \n",
       "4               True       Comedy  ...         0.0        0.0       0.0   \n",
       "...              ...          ...  ...         ...        ...       ...   \n",
       "74662           True        Drama  ...         0.0        0.0       0.0   \n",
       "74663           True       Action  ...         0.0        0.0       0.0   \n",
       "74664           True    Animation  ...         0.0        0.0       0.0   \n",
       "74665           True       Family  ...         0.0        0.0       0.0   \n",
       "74666           True        Drama  ...         0.0        0.0       0.0   \n",
       "\n",
       "       x0_Mystery  x0_Romance  x0_Science Fiction  x0_TV Movie  x0_Thriller  \\\n",
       "0             1.0         0.0                 0.0          0.0          0.0   \n",
       "1             0.0         0.0                 0.0          0.0          0.0   \n",
       "2             0.0         0.0                 0.0          0.0          0.0   \n",
       "3             0.0         0.0                 0.0          0.0          1.0   \n",
       "4             0.0         0.0                 0.0          0.0          0.0   \n",
       "...           ...         ...                 ...          ...          ...   \n",
       "74662         0.0         0.0                 0.0          0.0          0.0   \n",
       "74663         0.0         0.0                 0.0          0.0          0.0   \n",
       "74664         0.0         0.0                 0.0          0.0          0.0   \n",
       "74665         0.0         0.0                 0.0          0.0          0.0   \n",
       "74666         0.0         0.0                 0.0          0.0          0.0   \n",
       "\n",
       "       x0_War  x0_Western  \n",
       "0         0.0         0.0  \n",
       "1         0.0         0.0  \n",
       "2         0.0         0.0  \n",
       "3         0.0         0.0  \n",
       "4         0.0         0.0  \n",
       "...       ...         ...  \n",
       "74662     0.0         0.0  \n",
       "74663     0.0         0.0  \n",
       "74664     0.0         0.0  \n",
       "74665     0.0         0.0  \n",
       "74666     0.0         0.0  \n",
       "\n",
       "[74667 rows x 30 columns]"
      ],
      "text/html": "<div>\n<style scoped>\n    .dataframe tbody tr th:only-of-type {\n        vertical-align: middle;\n    }\n\n    .dataframe tbody tr th {\n        vertical-align: top;\n    }\n\n    .dataframe thead th {\n        text-align: right;\n    }\n</style>\n<table border=\"1\" class=\"dataframe\">\n  <thead>\n    <tr style=\"text-align: right;\">\n      <th></th>\n      <th>adult</th>\n      <th>id</th>\n      <th>original_title</th>\n      <th>popularity</th>\n      <th>video</th>\n      <th>url</th>\n      <th>poster_url</th>\n      <th>genre_id</th>\n      <th>poster_exists</th>\n      <th>genre_ids2</th>\n      <th>...</th>\n      <th>x0_History</th>\n      <th>x0_Horror</th>\n      <th>x0_Music</th>\n      <th>x0_Mystery</th>\n      <th>x0_Romance</th>\n      <th>x0_Science Fiction</th>\n      <th>x0_TV Movie</th>\n      <th>x0_Thriller</th>\n      <th>x0_War</th>\n      <th>x0_Western</th>\n    </tr>\n  </thead>\n  <tbody>\n    <tr>\n      <th>0</th>\n      <td>False</td>\n      <td>28191</td>\n      <td>One Exciting Night</td>\n      <td>2.211</td>\n      <td>False</td>\n      <td>https://www.themoviedb.org/movie/28191</td>\n      <td>https://www.themoviedb.org/t/p/w500//zJtFdjTXY...</td>\n      <td>[9648]</td>\n      <td>True</td>\n      <td>Mystery</td>\n      <td>...</td>\n      <td>0.0</td>\n      <td>0.0</td>\n      <td>0.0</td>\n      <td>1.0</td>\n      <td>0.0</td>\n      <td>0.0</td>\n      <td>0.0</td>\n      <td>0.0</td>\n      <td>0.0</td>\n      <td>0.0</td>\n    </tr>\n    <tr>\n      <th>1</th>\n      <td>False</td>\n      <td>70946</td>\n      <td>Les Gens en maillot de bain ne sont pas (forcé...</td>\n      <td>1.057</td>\n      <td>False</td>\n      <td>https://www.themoviedb.org/movie/70946</td>\n      <td>https://www.themoviedb.org/t/p/w500//5pvW8H92B...</td>\n      <td>[35]</td>\n      <td>True</td>\n      <td>Comedy</td>\n      <td>...</td>\n      <td>0.0</td>\n      <td>0.0</td>\n      <td>0.0</td>\n      <td>0.0</td>\n      <td>0.0</td>\n      <td>0.0</td>\n      <td>0.0</td>\n      <td>0.0</td>\n      <td>0.0</td>\n      <td>0.0</td>\n    </tr>\n    <tr>\n      <th>2</th>\n      <td>False</td>\n      <td>798707</td>\n      <td>Pandémie planétaire, une Chine pas au-dessus d...</td>\n      <td>1.361</td>\n      <td>False</td>\n      <td>https://www.themoviedb.org/movie/798707</td>\n      <td>https://www.themoviedb.org/t/p/w500//tlDGqaTjz...</td>\n      <td>[99]</td>\n      <td>True</td>\n      <td>Documentary</td>\n      <td>...</td>\n      <td>0.0</td>\n      <td>0.0</td>\n      <td>0.0</td>\n      <td>0.0</td>\n      <td>0.0</td>\n      <td>0.0</td>\n      <td>0.0</td>\n      <td>0.0</td>\n      <td>0.0</td>\n      <td>0.0</td>\n    </tr>\n    <tr>\n      <th>3</th>\n      <td>False</td>\n      <td>222666</td>\n      <td>Gola profonda nera</td>\n      <td>4.823</td>\n      <td>False</td>\n      <td>https://www.themoviedb.org/movie/222666</td>\n      <td>https://www.themoviedb.org/t/p/w500//koyRXdLie...</td>\n      <td>[53]</td>\n      <td>True</td>\n      <td>Thriller</td>\n      <td>...</td>\n      <td>0.0</td>\n      <td>0.0</td>\n      <td>0.0</td>\n      <td>0.0</td>\n      <td>0.0</td>\n      <td>0.0</td>\n      <td>0.0</td>\n      <td>1.0</td>\n      <td>0.0</td>\n      <td>0.0</td>\n    </tr>\n    <tr>\n      <th>4</th>\n      <td>False</td>\n      <td>752304</td>\n      <td>Happy Birthday, Mr. Zombie</td>\n      <td>0.600</td>\n      <td>False</td>\n      <td>https://www.themoviedb.org/movie/752304</td>\n      <td>https://www.themoviedb.org/t/p/w500//9vyRuH1If...</td>\n      <td>[35, 27]</td>\n      <td>True</td>\n      <td>Comedy</td>\n      <td>...</td>\n      <td>0.0</td>\n      <td>0.0</td>\n      <td>0.0</td>\n      <td>0.0</td>\n      <td>0.0</td>\n      <td>0.0</td>\n      <td>0.0</td>\n      <td>0.0</td>\n      <td>0.0</td>\n      <td>0.0</td>\n    </tr>\n    <tr>\n      <th>...</th>\n      <td>...</td>\n      <td>...</td>\n      <td>...</td>\n      <td>...</td>\n      <td>...</td>\n      <td>...</td>\n      <td>...</td>\n      <td>...</td>\n      <td>...</td>\n      <td>...</td>\n      <td>...</td>\n      <td>...</td>\n      <td>...</td>\n      <td>...</td>\n      <td>...</td>\n      <td>...</td>\n      <td>...</td>\n      <td>...</td>\n      <td>...</td>\n      <td>...</td>\n      <td>...</td>\n    </tr>\n    <tr>\n      <th>74662</th>\n      <td>False</td>\n      <td>463317</td>\n      <td>Barood</td>\n      <td>1.595</td>\n      <td>False</td>\n      <td>https://www.themoviedb.org/movie/463317</td>\n      <td>https://www.themoviedb.org/t/p/w500//9G1ykFHsx...</td>\n      <td>[18, 28]</td>\n      <td>True</td>\n      <td>Drama</td>\n      <td>...</td>\n      <td>0.0</td>\n      <td>0.0</td>\n      <td>0.0</td>\n      <td>0.0</td>\n      <td>0.0</td>\n      <td>0.0</td>\n      <td>0.0</td>\n      <td>0.0</td>\n      <td>0.0</td>\n      <td>0.0</td>\n    </tr>\n    <tr>\n      <th>74663</th>\n      <td>False</td>\n      <td>463317</td>\n      <td>Barood</td>\n      <td>1.595</td>\n      <td>False</td>\n      <td>https://www.themoviedb.org/movie/463317</td>\n      <td>https://www.themoviedb.org/t/p/w500//9G1ykFHsx...</td>\n      <td>[18, 28]</td>\n      <td>True</td>\n      <td>Action</td>\n      <td>...</td>\n      <td>0.0</td>\n      <td>0.0</td>\n      <td>0.0</td>\n      <td>0.0</td>\n      <td>0.0</td>\n      <td>0.0</td>\n      <td>0.0</td>\n      <td>0.0</td>\n      <td>0.0</td>\n      <td>0.0</td>\n    </tr>\n    <tr>\n      <th>74664</th>\n      <td>False</td>\n      <td>529243</td>\n      <td>Tout conte fait</td>\n      <td>0.600</td>\n      <td>False</td>\n      <td>https://www.themoviedb.org/movie/529243</td>\n      <td>https://www.themoviedb.org/t/p/w500//qwABBd4tX...</td>\n      <td>[16]</td>\n      <td>True</td>\n      <td>Animation</td>\n      <td>...</td>\n      <td>0.0</td>\n      <td>0.0</td>\n      <td>0.0</td>\n      <td>0.0</td>\n      <td>0.0</td>\n      <td>0.0</td>\n      <td>0.0</td>\n      <td>0.0</td>\n      <td>0.0</td>\n      <td>0.0</td>\n    </tr>\n    <tr>\n      <th>74665</th>\n      <td>False</td>\n      <td>780025</td>\n      <td>Pepino - Das kleine Wunder</td>\n      <td>0.600</td>\n      <td>False</td>\n      <td>https://www.themoviedb.org/movie/780025</td>\n      <td>https://www.themoviedb.org/t/p/w500//rAw8cu1qJ...</td>\n      <td>[10751]</td>\n      <td>True</td>\n      <td>Family</td>\n      <td>...</td>\n      <td>0.0</td>\n      <td>0.0</td>\n      <td>0.0</td>\n      <td>0.0</td>\n      <td>0.0</td>\n      <td>0.0</td>\n      <td>0.0</td>\n      <td>0.0</td>\n      <td>0.0</td>\n      <td>0.0</td>\n    </tr>\n    <tr>\n      <th>74666</th>\n      <td>False</td>\n      <td>688990</td>\n      <td>Ο δρόμος προς τη δόξα</td>\n      <td>0.600</td>\n      <td>False</td>\n      <td>https://www.themoviedb.org/movie/688990</td>\n      <td>https://www.themoviedb.org/t/p/w500//2HGoaUn83...</td>\n      <td>[18]</td>\n      <td>True</td>\n      <td>Drama</td>\n      <td>...</td>\n      <td>0.0</td>\n      <td>0.0</td>\n      <td>0.0</td>\n      <td>0.0</td>\n      <td>0.0</td>\n      <td>0.0</td>\n      <td>0.0</td>\n      <td>0.0</td>\n      <td>0.0</td>\n      <td>0.0</td>\n    </tr>\n  </tbody>\n</table>\n<p>74667 rows × 30 columns</p>\n</div>"
     },
     "metadata": {},
     "execution_count": 243
    }
   ],
   "source": [
    "########Validation ########\n",
    "\n",
    "################### test###################\n",
    "\n",
    "val.genre_ids2=val.genre_ids2.apply(testme)\n",
    "val=val.explode('genre_ids2')\n",
    "ohe= OneHotEncoder(sparse=False, handle_unknown=\"ignore\").fit(val[['genre_ids2']])\n",
    "ohe_class=pd.DataFrame(ohe.transform(val[['genre_ids2']]),columns=ohe.get_feature_names())\n",
    "val.reset_index(drop=True, inplace=True)\n",
    "movies_class_val= pd.concat([val, ohe_class], axis=1)\n",
    "movies_class_val"
   ]
  },
  {
   "cell_type": "code",
   "execution_count": null,
   "metadata": {},
   "outputs": [],
   "source": []
  }
 ]
}