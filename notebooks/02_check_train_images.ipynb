{
 "cells": [
  {
   "cell_type": "code",
   "execution_count": 1,
   "metadata": {},
   "outputs": [],
   "source": [
    "import pandas as pd\n",
    "import fastparquet as fp\n",
    "import urllib.request\n",
    "from urllib.parse import urlparse\n",
    "import os\n",
    "import sys\n",
    "import tqdm\n",
    "import src.helper.helper as hlp\n",
    "import re"
   ]
  },
  {
   "cell_type": "code",
   "execution_count": 2,
   "metadata": {},
   "outputs": [],
   "source": [
    "# Config\n",
    "FILE_DIR = \"./\"\n",
    "RAW_DATA_DIR = FILE_DIR + \"../data/raw/\"\n",
    "INTERIM_DATA_DIR = FILE_DIR + \"../data/interim/\"\n",
    "POSTER_DIR = RAW_DATA_DIR + \"posters/\""
   ]
  },
  {
   "cell_type": "code",
   "execution_count": 3,
   "metadata": {},
   "outputs": [],
   "source": [
    "# Helper function\n",
    "def check_image_exists(df):\n",
    "    l_check_res = []\n",
    "    for idx, row in df.iterrows():\n",
    "        pfname = re.findall(\"\\w+.jpg\", row.poster_url)\n",
    "        l_check_res.append(pfname[0] in l_files)\n",
    "\n",
    "    return pd.DataFrame(l_check_res, columns=[\"image_exists\"])"
   ]
  },
  {
   "cell_type": "code",
   "execution_count": 4,
   "metadata": {},
   "outputs": [],
   "source": [
    "# Read dataframe to check\n",
    "df = pd.read_parquet(INTERIM_DATA_DIR + 'df_train_v1.gzip')\n",
    "\n",
    "# Load names of stored files\n",
    "l_files = os.listdir(POSTER_DIR)\n",
    "\n",
    "# Check, if referenced file is present on the computer\n",
    "df_check_res = hlp.parallelize_dataframe(df, check_image_exists)"
   ]
  },
  {
   "cell_type": "code",
   "execution_count": 5,
   "metadata": {},
   "outputs": [
    {
     "data": {
      "text/plain": [
       "image_exists\n",
       "True            444481\n",
       "False               44\n",
       "dtype: int64"
      ]
     },
     "execution_count": 5,
     "metadata": {},
     "output_type": "execute_result"
    }
   ],
   "source": [
    "df_check_res.value_counts()"
   ]
  },
  {
   "cell_type": "code",
   "execution_count": 6,
   "metadata": {},
   "outputs": [
    {
     "data": {
      "text/plain": [
       "(444525, 28)"
      ]
     },
     "execution_count": 6,
     "metadata": {},
     "output_type": "execute_result"
    }
   ],
   "source": [
    "df.shape"
   ]
  },
  {
   "cell_type": "code",
   "execution_count": null,
   "metadata": {},
   "outputs": [],
   "source": []
  }
 ],
 "metadata": {
  "kernelspec": {
   "display_name": "Python 3",
   "language": "python",
   "name": "python3"
  },
  "language_info": {
   "codemirror_mode": {
    "name": "ipython",
    "version": 3
   },
   "file_extension": ".py",
   "mimetype": "text/x-python",
   "name": "python",
   "nbconvert_exporter": "python",
   "pygments_lexer": "ipython3",
   "version": "3.7.7"
  }
 },
 "nbformat": 4,
 "nbformat_minor": 5
}
