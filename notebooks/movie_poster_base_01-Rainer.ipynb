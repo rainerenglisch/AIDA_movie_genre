{
 "cells": [
  {
   "cell_type": "markdown",
   "metadata": {
    "id": "kJCMwRx9_4rN"
   },
   "source": [
    "# Baseline (01)"
   ]
  },
  {
   "cell_type": "markdown",
   "metadata": {
    "id": "M7yzKetZAK3s"
   },
   "source": [
    "# Imports"
   ]
  },
  {
   "cell_type": "code",
   "execution_count": 1,
   "metadata": {
    "colab": {
     "base_uri": "https://localhost:8080/"
    },
    "id": "eUJzrRQ4_3a9",
    "outputId": "da86ecfb-ca85-46fe-cdc4-6f4e3c236b61"
   },
   "outputs": [
    {
     "name": "stdout",
     "output_type": "stream",
     "text": [
      "  Running command git clone -q http://github.com/snowdd1/wcs.git /tmp/pip-req-build-vt_porwt\n"
     ]
    }
   ],
   "source": [
    "!pip install \"git+http://github.com/snowdd1/wcs.git\" >/dev/null"
   ]
  },
  {
   "cell_type": "code",
   "execution_count": 2,
   "metadata": {
    "id": "iLciMje9AOmB"
   },
   "outputs": [],
   "source": [
    "import pandas as pd\n",
    "import numpy as np\n",
    "import os\n",
    "\n",
    "import tensorflow as tf\n",
    "\n",
    "from tensorflow import keras\n",
    "from tensorflow.keras import layers\n",
    "from tensorflow.keras.preprocessing.image import ImageDataGenerator\n",
    "\n",
    "from wcs.google import google_drive_share\n",
    "import pandas as pd\n",
    "import urllib.request\n",
    "from urllib.parse import urlparse\n",
    "import os\n",
    "import warnings\n",
    "warnings.simplefilter(action='ignore')"
   ]
  },
  {
   "cell_type": "code",
   "execution_count": 3,
   "metadata": {},
   "outputs": [],
   "source": [
    "\n",
    "os.environ[\"CUDA_VISIBLE_DEVICES\"] = \"-1\""
   ]
  },
  {
   "cell_type": "code",
   "execution_count": 4,
   "metadata": {},
   "outputs": [],
   "source": [
    "#config = tf.ConfigProto()\n",
    "#config.gpu_options.allow_growth = True\n",
    "#config = ConfigProto()\n",
    "#tf.config.gpu_options.allow_growth = True\n",
    "#session = InteractiveSession(config=config)"
   ]
  },
  {
   "cell_type": "raw",
   "metadata": {},
   "source": [
    "print(f\"\\n{'Tensorflow supports CUDA!' if tf.test.is_built_with_cuda() else 'Tensorflow does not supports CUDA!'}\")\n",
    "# Check GPU of computer\n",
    "gpus = tf.config.list_physical_devices('GPU')\n",
    "print(f\"{f'Physical GPU Device: {gpus}' if gpus else 'No GPU available'}\")\n",
    "if gpus:\n",
    "    # Restrict TensorFlow to only allocate 6GB of memory on the first GPU\n",
    "    try:\n",
    "        mem_lim = 2*1024  # 6GB\n",
    "        tf.config.experimental.set_virtual_device_configuration(\n",
    "            gpus[0],\n",
    "            [tf.config.experimental.VirtualDeviceConfiguration(memory_limit=mem_lim)])\n",
    "        logical_gpus = tf.config.experimental.list_logical_devices('GPU')\n",
    "        print(f\"Set memory usage to {mem_lim/1000} GB for {len(gpus)} physical GPU(s) -> {len(logical_gpus)} logical GPU(s)\")\n",
    "    except RuntimeError as e:\n",
    "        # Virtual devices must be set before GPUs have been initialized\n",
    "        print(e)\n",
    "    print(\"GPU(s) will be automatically choosen for model calculations below.\")\n",
    "else:\n",
    "    print(\"CPUs will be automatically choosen for model calculations below.\")\n",
    "print(\"\\n\\n\")"
   ]
  },
  {
   "cell_type": "markdown",
   "metadata": {
    "id": "YcfsOKfzC2N6"
   },
   "source": [
    "# Load Data"
   ]
  },
  {
   "cell_type": "code",
   "execution_count": 5,
   "metadata": {
    "id": "Kbhze12sC0xR"
   },
   "outputs": [],
   "source": [
    "data_dir_url = 'https://drive.google.com/file/d/1etygmCq28-9yWBhlFwXvFqPkcBKaq8Ow/view?usp=sharing'  # zip\n",
    "\n",
    "DATA_DIR = '../data/external/images'"
   ]
  },
  {
   "cell_type": "code",
   "execution_count": 6,
   "metadata": {
    "colab": {
     "base_uri": "https://localhost:8080/"
    },
    "id": "7SXBl6IEDTNN",
    "outputId": "99dfbd51-7690-47dd-bf79-95b908b9085d"
   },
   "outputs": [],
   "source": [
    "if not os.path.exists(DATA_DIR):\n",
    "  with open('data_dir.zip', 'wb') as f:\n",
    "    f.write( google_drive_share(data_dir_url, binaryfile=True).read() )\n",
    "\n",
    "  !unzip data_dir.zip > /dev/null"
   ]
  },
  {
   "cell_type": "markdown",
   "metadata": {
    "id": "eA1fV-j_KX0L"
   },
   "source": [
    "# Preproc"
   ]
  },
  {
   "cell_type": "code",
   "execution_count": 7,
   "metadata": {},
   "outputs": [],
   "source": [
    "def retrieveFilename(url):\n",
    "    a = urlparse(url)\n",
    "    picfilename = os.path.basename(a.path)\n",
    "    return picfilename\n"
   ]
  },
  {
   "cell_type": "code",
   "execution_count": 8,
   "metadata": {},
   "outputs": [
    {
     "data": {
      "text/html": [
       "<div>\n",
       "<style scoped>\n",
       "    .dataframe tbody tr th:only-of-type {\n",
       "        vertical-align: middle;\n",
       "    }\n",
       "\n",
       "    .dataframe tbody tr th {\n",
       "        vertical-align: top;\n",
       "    }\n",
       "\n",
       "    .dataframe thead th {\n",
       "        text-align: right;\n",
       "    }\n",
       "</style>\n",
       "<table border=\"1\" class=\"dataframe\">\n",
       "  <thead>\n",
       "    <tr style=\"text-align: right;\">\n",
       "      <th></th>\n",
       "      <th>adult</th>\n",
       "      <th>id</th>\n",
       "      <th>original_title</th>\n",
       "      <th>popularity</th>\n",
       "      <th>video</th>\n",
       "      <th>url</th>\n",
       "      <th>poster_url</th>\n",
       "      <th>genre_id</th>\n",
       "      <th>filename</th>\n",
       "    </tr>\n",
       "  </thead>\n",
       "  <tbody>\n",
       "    <tr>\n",
       "      <th>380000</th>\n",
       "      <td>False</td>\n",
       "      <td>537245</td>\n",
       "      <td>El Pescador</td>\n",
       "      <td>0.6</td>\n",
       "      <td>False</td>\n",
       "      <td>https://www.themoviedb.org/movie/537245</td>\n",
       "      <td>https://www.themoviedb.org/t/p/w500//pOOabahFF...</td>\n",
       "      <td>[]</td>\n",
       "      <td>pOOabahFFsee0ojSr3nBnUIfgD0.jpg</td>\n",
       "    </tr>\n",
       "    <tr>\n",
       "      <th>380001</th>\n",
       "      <td>False</td>\n",
       "      <td>537246</td>\n",
       "      <td>Der Herzog von Aleria</td>\n",
       "      <td>0.6</td>\n",
       "      <td>False</td>\n",
       "      <td>https://www.themoviedb.org/movie/537246</td>\n",
       "      <td>None</td>\n",
       "      <td>[18]</td>\n",
       "      <td>NaN</td>\n",
       "    </tr>\n",
       "    <tr>\n",
       "      <th>380002</th>\n",
       "      <td>False</td>\n",
       "      <td>537247</td>\n",
       "      <td>Wem nie durch Liebe Leid geschah!</td>\n",
       "      <td>0.6</td>\n",
       "      <td>False</td>\n",
       "      <td>https://www.themoviedb.org/movie/537247</td>\n",
       "      <td>None</td>\n",
       "      <td>[18]</td>\n",
       "      <td>NaN</td>\n",
       "    </tr>\n",
       "    <tr>\n",
       "      <th>380003</th>\n",
       "      <td>False</td>\n",
       "      <td>537250</td>\n",
       "      <td>¿Por qué ya no me quieres?</td>\n",
       "      <td>1.4</td>\n",
       "      <td>False</td>\n",
       "      <td>https://www.themoviedb.org/movie/537250</td>\n",
       "      <td>https://www.themoviedb.org/t/p/w500//8Y0aOxqSe...</td>\n",
       "      <td>[80, 18]</td>\n",
       "      <td>8Y0aOxqSetK3hXKPFDTrHwu6dWa.jpg</td>\n",
       "    </tr>\n",
       "    <tr>\n",
       "      <th>380004</th>\n",
       "      <td>False</td>\n",
       "      <td>537251</td>\n",
       "      <td>民暴の帝王</td>\n",
       "      <td>0.6</td>\n",
       "      <td>False</td>\n",
       "      <td>https://www.themoviedb.org/movie/537251</td>\n",
       "      <td>https://www.themoviedb.org/t/p/w500//5ayhYaAfg...</td>\n",
       "      <td>[]</td>\n",
       "      <td>5ayhYaAfgXfthbdZYn2MnkxGOew.jpg</td>\n",
       "    </tr>\n",
       "  </tbody>\n",
       "</table>\n",
       "</div>"
      ],
      "text/plain": [
       "        adult      id                     original_title  popularity  video  \\\n",
       "380000  False  537245                        El Pescador         0.6  False   \n",
       "380001  False  537246              Der Herzog von Aleria         0.6  False   \n",
       "380002  False  537247  Wem nie durch Liebe Leid geschah!         0.6  False   \n",
       "380003  False  537250         ¿Por qué ya no me quieres?         1.4  False   \n",
       "380004  False  537251                              民暴の帝王         0.6  False   \n",
       "\n",
       "                                            url  \\\n",
       "380000  https://www.themoviedb.org/movie/537245   \n",
       "380001  https://www.themoviedb.org/movie/537246   \n",
       "380002  https://www.themoviedb.org/movie/537247   \n",
       "380003  https://www.themoviedb.org/movie/537250   \n",
       "380004  https://www.themoviedb.org/movie/537251   \n",
       "\n",
       "                                               poster_url  genre_id  \\\n",
       "380000  https://www.themoviedb.org/t/p/w500//pOOabahFF...        []   \n",
       "380001                                               None      [18]   \n",
       "380002                                               None      [18]   \n",
       "380003  https://www.themoviedb.org/t/p/w500//8Y0aOxqSe...  [80, 18]   \n",
       "380004  https://www.themoviedb.org/t/p/w500//5ayhYaAfg...        []   \n",
       "\n",
       "                               filename  \n",
       "380000  pOOabahFFsee0ojSr3nBnUIfgD0.jpg  \n",
       "380001                              NaN  \n",
       "380002                              NaN  \n",
       "380003  8Y0aOxqSetK3hXKPFDTrHwu6dWa.jpg  \n",
       "380004  5ayhYaAfgXfthbdZYn2MnkxGOew.jpg  "
      ]
     },
     "execution_count": 8,
     "metadata": {},
     "output_type": "execute_result"
    }
   ],
   "source": [
    "df = pd.read_parquet(\"../data/raw/df.parquet.gzip\")\n",
    "df[\"filename\"] = df.loc[~df[\"poster_url\"].isnull(),\"poster_url\"].apply(retrieveFilename)\n",
    "df.head()"
   ]
  },
  {
   "cell_type": "code",
   "execution_count": 9,
   "metadata": {
    "id": "8_BuIw95JD0D"
   },
   "outputs": [],
   "source": [
    "#df = pd.read_csv('data/movies.csv')"
   ]
  },
  {
   "cell_type": "code",
   "execution_count": 10,
   "metadata": {
    "colab": {
     "base_uri": "https://localhost:8080/"
    },
    "id": "acVfQ8KqKlaI",
    "outputId": "3c6ca6d8-23f7-491e-c4fa-28fded642c13"
   },
   "outputs": [
    {
     "name": "stdout",
     "output_type": "stream",
     "text": [
      "len of df: 267974\n"
     ]
    }
   ],
   "source": [
    "# use only mot null rows\n",
    "df = df.dropna()\n",
    "# set data path to basename of the file\n",
    "#df['data_path'] = df['poster_path'].apply(lambda x: x.split('/')[-1])\n",
    "# remove rows with empty genre_id list and set correct list type\n",
    "df['genre_id'] = df['genre_id'].apply(lambda x: np.nan if len(eval(x)) == 0 else x)\n",
    "df = df.dropna()\n",
    "df['genre_id'] = df['genre_id'].apply(lambda x: eval(x))\n",
    "\n",
    "print(f'len of df: {len(df)}')"
   ]
  },
  {
   "cell_type": "code",
   "execution_count": 11,
   "metadata": {},
   "outputs": [
    {
     "data": {
      "text/html": [
       "<div>\n",
       "<style scoped>\n",
       "    .dataframe tbody tr th:only-of-type {\n",
       "        vertical-align: middle;\n",
       "    }\n",
       "\n",
       "    .dataframe tbody tr th {\n",
       "        vertical-align: top;\n",
       "    }\n",
       "\n",
       "    .dataframe thead th {\n",
       "        text-align: right;\n",
       "    }\n",
       "</style>\n",
       "<table border=\"1\" class=\"dataframe\">\n",
       "  <thead>\n",
       "    <tr style=\"text-align: right;\">\n",
       "      <th></th>\n",
       "      <th>adult</th>\n",
       "      <th>id</th>\n",
       "      <th>original_title</th>\n",
       "      <th>popularity</th>\n",
       "      <th>video</th>\n",
       "      <th>url</th>\n",
       "      <th>poster_url</th>\n",
       "      <th>genre_id</th>\n",
       "      <th>filename</th>\n",
       "    </tr>\n",
       "  </thead>\n",
       "  <tbody>\n",
       "    <tr>\n",
       "      <th>380003</th>\n",
       "      <td>False</td>\n",
       "      <td>537250</td>\n",
       "      <td>¿Por qué ya no me quieres?</td>\n",
       "      <td>1.40</td>\n",
       "      <td>False</td>\n",
       "      <td>https://www.themoviedb.org/movie/537250</td>\n",
       "      <td>https://www.themoviedb.org/t/p/w500//8Y0aOxqSe...</td>\n",
       "      <td>[80, 18]</td>\n",
       "      <td>8Y0aOxqSetK3hXKPFDTrHwu6dWa.jpg</td>\n",
       "    </tr>\n",
       "    <tr>\n",
       "      <th>380010</th>\n",
       "      <td>False</td>\n",
       "      <td>537266</td>\n",
       "      <td>Success</td>\n",
       "      <td>0.60</td>\n",
       "      <td>False</td>\n",
       "      <td>https://www.themoviedb.org/movie/537266</td>\n",
       "      <td>https://www.themoviedb.org/t/p/w500//tJMm1JJUe...</td>\n",
       "      <td>[18]</td>\n",
       "      <td>tJMm1JJUeWOLb4nPDBD6sZvFYU3.jpg</td>\n",
       "    </tr>\n",
       "    <tr>\n",
       "      <th>380017</th>\n",
       "      <td>False</td>\n",
       "      <td>537274</td>\n",
       "      <td>Предел возможного</td>\n",
       "      <td>0.62</td>\n",
       "      <td>False</td>\n",
       "      <td>https://www.themoviedb.org/movie/537274</td>\n",
       "      <td>https://www.themoviedb.org/t/p/w500//h9aXCUZ6g...</td>\n",
       "      <td>[18]</td>\n",
       "      <td>h9aXCUZ6gj6V5NFv8a31J1OiDjq.jpg</td>\n",
       "    </tr>\n",
       "    <tr>\n",
       "      <th>380020</th>\n",
       "      <td>False</td>\n",
       "      <td>537277</td>\n",
       "      <td>母親</td>\n",
       "      <td>0.60</td>\n",
       "      <td>False</td>\n",
       "      <td>https://www.themoviedb.org/movie/537277</td>\n",
       "      <td>https://www.themoviedb.org/t/p/w500//3Ogn8SWj2...</td>\n",
       "      <td>[18]</td>\n",
       "      <td>3Ogn8SWj29GpGHNSIkMYiKZdeBL.jpg</td>\n",
       "    </tr>\n",
       "    <tr>\n",
       "      <th>380022</th>\n",
       "      <td>False</td>\n",
       "      <td>537281</td>\n",
       "      <td>1+1=3 Ora Tinjon</td>\n",
       "      <td>0.60</td>\n",
       "      <td>False</td>\n",
       "      <td>https://www.themoviedb.org/movie/537281</td>\n",
       "      <td>https://www.themoviedb.org/t/p/w500//47yYJPL2q...</td>\n",
       "      <td>[18]</td>\n",
       "      <td>47yYJPL2qU9LNQ2rTMs7p3RtfR7.jpg</td>\n",
       "    </tr>\n",
       "  </tbody>\n",
       "</table>\n",
       "</div>"
      ],
      "text/plain": [
       "        adult      id              original_title  popularity  video  \\\n",
       "380003  False  537250  ¿Por qué ya no me quieres?        1.40  False   \n",
       "380010  False  537266                     Success        0.60  False   \n",
       "380017  False  537274           Предел возможного        0.62  False   \n",
       "380020  False  537277                          母親        0.60  False   \n",
       "380022  False  537281            1+1=3 Ora Tinjon        0.60  False   \n",
       "\n",
       "                                            url  \\\n",
       "380003  https://www.themoviedb.org/movie/537250   \n",
       "380010  https://www.themoviedb.org/movie/537266   \n",
       "380017  https://www.themoviedb.org/movie/537274   \n",
       "380020  https://www.themoviedb.org/movie/537277   \n",
       "380022  https://www.themoviedb.org/movie/537281   \n",
       "\n",
       "                                               poster_url  genre_id  \\\n",
       "380003  https://www.themoviedb.org/t/p/w500//8Y0aOxqSe...  [80, 18]   \n",
       "380010  https://www.themoviedb.org/t/p/w500//tJMm1JJUe...      [18]   \n",
       "380017  https://www.themoviedb.org/t/p/w500//h9aXCUZ6g...      [18]   \n",
       "380020  https://www.themoviedb.org/t/p/w500//3Ogn8SWj2...      [18]   \n",
       "380022  https://www.themoviedb.org/t/p/w500//47yYJPL2q...      [18]   \n",
       "\n",
       "                               filename  \n",
       "380003  8Y0aOxqSetK3hXKPFDTrHwu6dWa.jpg  \n",
       "380010  tJMm1JJUeWOLb4nPDBD6sZvFYU3.jpg  \n",
       "380017  h9aXCUZ6gj6V5NFv8a31J1OiDjq.jpg  \n",
       "380020  3Ogn8SWj29GpGHNSIkMYiKZdeBL.jpg  \n",
       "380022  47yYJPL2qU9LNQ2rTMs7p3RtfR7.jpg  "
      ]
     },
     "execution_count": 11,
     "metadata": {},
     "output_type": "execute_result"
    }
   ],
   "source": [
    "df.head()"
   ]
  },
  {
   "cell_type": "markdown",
   "metadata": {
    "id": "v1ChqgNRK0py"
   },
   "source": [
    " Create ImageGenerators"
   ]
  },
  {
   "cell_type": "code",
   "execution_count": 12,
   "metadata": {
    "colab": {
     "base_uri": "https://localhost:8080/"
    },
    "id": "tz11Ruq2KyQs",
    "outputId": "5a2226fa-b3be-48c6-c8f7-8742ad91e5a3"
   },
   "outputs": [
    {
     "name": "stdout",
     "output_type": "stream",
     "text": [
      "Found 192488 validated image filenames belonging to 19 classes.\n",
      "Found 21387 validated image filenames belonging to 19 classes.\n"
     ]
    }
   ],
   "source": [
    "datagen = ImageDataGenerator(rescale=1 / 255., validation_split=0.1)\n",
    "\n",
    "train_generator = datagen.flow_from_dataframe(\n",
    "    dataframe=df,\n",
    "    directory=DATA_DIR,\n",
    "    x_col=\"filename\",\n",
    "    y_col=\"genre_id\",\n",
    "    batch_size=32,\n",
    "    seed=42,\n",
    "    shuffle=True,\n",
    "    class_mode=\"categorical\",    \n",
    "    target_size=(299, 299),\n",
    "    subset='training',\n",
    "    validate_filenames=True\n",
    ")\n",
    "\n",
    "valid_generator = datagen.flow_from_dataframe(\n",
    "    dataframe=df,\n",
    "    directory=DATA_DIR,\n",
    "    x_col=\"filename\",\n",
    "    y_col=\"genre_id\",\n",
    "    batch_size=32,\n",
    "    seed=42,\n",
    "    shuffle=True,\n",
    "    class_mode=\"categorical\",\n",
    "    target_size=(299, 299),\n",
    "    subset='validation',\n",
    "    validate_filenames=True\n",
    ")"
   ]
  },
  {
   "cell_type": "code",
   "execution_count": 13,
   "metadata": {
    "colab": {
     "base_uri": "https://localhost:8080/"
    },
    "id": "1a6YhAuOLWFC",
    "outputId": "24a7047d-a2e2-46ef-c7b9-040110cb16de"
   },
   "outputs": [
    {
     "name": "stdout",
     "output_type": "stream",
     "text": [
      "{12: 0, 14: 1, 16: 2, 18: 3, 27: 4, 28: 5, 35: 6, 36: 7, 37: 8, 53: 9, 80: 10, 99: 11, 878: 12, 9648: 13, 10402: 14, 10749: 15, 10751: 16, 10752: 17, 10770: 18}\n",
      "length: 19\n"
     ]
    }
   ],
   "source": [
    "# show class indicies\n",
    "print(train_generator.class_indices)\n",
    "print('length:', len(train_generator.class_indices))\n"
   ]
  },
  {
   "cell_type": "code",
   "execution_count": null,
   "metadata": {},
   "outputs": [],
   "source": []
  },
  {
   "cell_type": "code",
   "execution_count": 14,
   "metadata": {},
   "outputs": [
    {
     "data": {
      "text/plain": [
       "{12: 1.8201379050551538,\n",
       " 14: 2.3873523093447906,\n",
       " 16: 1.2595452291563363,\n",
       " 18: 0.23875715761221894,\n",
       " 27: 1.0941426662104918,\n",
       " 28: 0.976952256204232,\n",
       " 35: 0.3624541454023912,\n",
       " 36: 3.3418158308211607,\n",
       " 37: 5.32697008915732,\n",
       " 53: 0.9921990089728138,\n",
       " 80: 1.4069428487328732,\n",
       " 99: 0.464520760663522,\n",
       " 878: 2.2661809987968757,\n",
       " 9648: 2.589777798492246,\n",
       " 10402: 1.1858711861512974,\n",
       " 10749: 0.9050347232826176,\n",
       " 10751: 1.6533144393738215,\n",
       " 10752: 4.401891370005447,\n",
       " 10770: 2.5843424976890477}"
      ]
     },
     "metadata": {},
     "output_type": "display_data"
    },
    {
     "data": {
      "text/plain": [
       "{0: 1.8201379050551538,\n",
       " 1: 2.3873523093447906,\n",
       " 2: 1.2595452291563363,\n",
       " 3: 0.23875715761221894,\n",
       " 4: 1.0941426662104918,\n",
       " 5: 0.976952256204232,\n",
       " 6: 0.3624541454023912,\n",
       " 7: 3.3418158308211607,\n",
       " 8: 5.32697008915732,\n",
       " 9: 0.9921990089728138,\n",
       " 10: 1.4069428487328732,\n",
       " 11: 0.464520760663522,\n",
       " 12: 2.2661809987968757,\n",
       " 13: 2.589777798492246,\n",
       " 14: 1.1858711861512974,\n",
       " 15: 0.9050347232826176,\n",
       " 16: 1.6533144393738215,\n",
       " 17: 4.401891370005447,\n",
       " 18: 2.5843424976890477}"
      ]
     },
     "execution_count": 14,
     "metadata": {},
     "output_type": "execute_result"
    }
   ],
   "source": [
    "#https://datascience.stackexchange.com/questions/13490/how-to-set-class-weights-for-imbalanced-classes-in-keras\n",
    "from sklearn.utils import class_weight\n",
    "#In order to calculate the class weight do the following\n",
    "\n",
    "class_weights = class_weight.compute_class_weight('balanced',list(train_generator.class_indices.keys()), df.genre_id.explode())\n",
    "                                                 #np.unique(y_train),\n",
    "                                                 #y_train)\n",
    "class_weights_genre_id = dict(zip(list(train_generator.class_indices), class_weights))\n",
    "display(class_weights_genre_id)\n",
    "class_weights = dict(zip(list(range(len(class_weights))), class_weights))\n",
    "class_weights"
   ]
  },
  {
   "cell_type": "code",
   "execution_count": 15,
   "metadata": {},
   "outputs": [
    {
     "data": {
      "text/html": [
       "<div>\n",
       "<style scoped>\n",
       "    .dataframe tbody tr th:only-of-type {\n",
       "        vertical-align: middle;\n",
       "    }\n",
       "\n",
       "    .dataframe tbody tr th {\n",
       "        vertical-align: top;\n",
       "    }\n",
       "\n",
       "    .dataframe thead th {\n",
       "        text-align: right;\n",
       "    }\n",
       "</style>\n",
       "<table border=\"1\" class=\"dataframe\">\n",
       "  <thead>\n",
       "    <tr style=\"text-align: right;\">\n",
       "      <th></th>\n",
       "      <th>count</th>\n",
       "      <th>id</th>\n",
       "      <th>name</th>\n",
       "      <th>weight</th>\n",
       "    </tr>\n",
       "  </thead>\n",
       "  <tbody>\n",
       "    <tr>\n",
       "      <th>37</th>\n",
       "      <td>4392</td>\n",
       "      <td>37</td>\n",
       "      <td>Western</td>\n",
       "      <td>5.326970</td>\n",
       "    </tr>\n",
       "    <tr>\n",
       "      <th>10752</th>\n",
       "      <td>5315</td>\n",
       "      <td>10752</td>\n",
       "      <td>War</td>\n",
       "      <td>4.401891</td>\n",
       "    </tr>\n",
       "    <tr>\n",
       "      <th>36</th>\n",
       "      <td>7001</td>\n",
       "      <td>36</td>\n",
       "      <td>History</td>\n",
       "      <td>3.341816</td>\n",
       "    </tr>\n",
       "    <tr>\n",
       "      <th>9648</th>\n",
       "      <td>9034</td>\n",
       "      <td>9648</td>\n",
       "      <td>Mystery</td>\n",
       "      <td>2.589778</td>\n",
       "    </tr>\n",
       "    <tr>\n",
       "      <th>10770</th>\n",
       "      <td>9053</td>\n",
       "      <td>10770</td>\n",
       "      <td>TV Movie</td>\n",
       "      <td>2.584342</td>\n",
       "    </tr>\n",
       "    <tr>\n",
       "      <th>14</th>\n",
       "      <td>9800</td>\n",
       "      <td>14</td>\n",
       "      <td>Fantasy</td>\n",
       "      <td>2.387352</td>\n",
       "    </tr>\n",
       "    <tr>\n",
       "      <th>878</th>\n",
       "      <td>10324</td>\n",
       "      <td>878</td>\n",
       "      <td>Science Fiction</td>\n",
       "      <td>2.266181</td>\n",
       "    </tr>\n",
       "    <tr>\n",
       "      <th>12</th>\n",
       "      <td>12854</td>\n",
       "      <td>12</td>\n",
       "      <td>Adventure</td>\n",
       "      <td>1.820138</td>\n",
       "    </tr>\n",
       "    <tr>\n",
       "      <th>10751</th>\n",
       "      <td>14151</td>\n",
       "      <td>10751</td>\n",
       "      <td>Family</td>\n",
       "      <td>1.653314</td>\n",
       "    </tr>\n",
       "    <tr>\n",
       "      <th>80</th>\n",
       "      <td>16629</td>\n",
       "      <td>80</td>\n",
       "      <td>Crime</td>\n",
       "      <td>1.406943</td>\n",
       "    </tr>\n",
       "    <tr>\n",
       "      <th>16</th>\n",
       "      <td>18575</td>\n",
       "      <td>16</td>\n",
       "      <td>Animation</td>\n",
       "      <td>1.259545</td>\n",
       "    </tr>\n",
       "    <tr>\n",
       "      <th>10402</th>\n",
       "      <td>19729</td>\n",
       "      <td>10402</td>\n",
       "      <td>Music</td>\n",
       "      <td>1.185871</td>\n",
       "    </tr>\n",
       "    <tr>\n",
       "      <th>27</th>\n",
       "      <td>21383</td>\n",
       "      <td>27</td>\n",
       "      <td>Horror</td>\n",
       "      <td>1.094143</td>\n",
       "    </tr>\n",
       "    <tr>\n",
       "      <th>53</th>\n",
       "      <td>23580</td>\n",
       "      <td>53</td>\n",
       "      <td>Thriller</td>\n",
       "      <td>0.992199</td>\n",
       "    </tr>\n",
       "    <tr>\n",
       "      <th>28</th>\n",
       "      <td>23948</td>\n",
       "      <td>28</td>\n",
       "      <td>Action</td>\n",
       "      <td>0.976952</td>\n",
       "    </tr>\n",
       "    <tr>\n",
       "      <th>10749</th>\n",
       "      <td>25851</td>\n",
       "      <td>10749</td>\n",
       "      <td>Romance</td>\n",
       "      <td>0.905035</td>\n",
       "    </tr>\n",
       "    <tr>\n",
       "      <th>99</th>\n",
       "      <td>50366</td>\n",
       "      <td>99</td>\n",
       "      <td>Documentary</td>\n",
       "      <td>0.464521</td>\n",
       "    </tr>\n",
       "    <tr>\n",
       "      <th>35</th>\n",
       "      <td>64549</td>\n",
       "      <td>35</td>\n",
       "      <td>Comedy</td>\n",
       "      <td>0.362454</td>\n",
       "    </tr>\n",
       "    <tr>\n",
       "      <th>18</th>\n",
       "      <td>97991</td>\n",
       "      <td>18</td>\n",
       "      <td>Drama</td>\n",
       "      <td>0.238757</td>\n",
       "    </tr>\n",
       "  </tbody>\n",
       "</table>\n",
       "</div>"
      ],
      "text/plain": [
       "       count     id             name    weight\n",
       "37      4392     37          Western  5.326970\n",
       "10752   5315  10752              War  4.401891\n",
       "36      7001     36          History  3.341816\n",
       "9648    9034   9648          Mystery  2.589778\n",
       "10770   9053  10770         TV Movie  2.584342\n",
       "14      9800     14          Fantasy  2.387352\n",
       "878    10324    878  Science Fiction  2.266181\n",
       "12     12854     12        Adventure  1.820138\n",
       "10751  14151  10751           Family  1.653314\n",
       "80     16629     80            Crime  1.406943\n",
       "16     18575     16        Animation  1.259545\n",
       "10402  19729  10402            Music  1.185871\n",
       "27     21383     27           Horror  1.094143\n",
       "53     23580     53         Thriller  0.992199\n",
       "28     23948     28           Action  0.976952\n",
       "10749  25851  10749          Romance  0.905035\n",
       "99     50366     99      Documentary  0.464521\n",
       "35     64549     35           Comedy  0.362454\n",
       "18     97991     18            Drama  0.238757"
      ]
     },
     "execution_count": 15,
     "metadata": {},
     "output_type": "execute_result"
    }
   ],
   "source": [
    "map_gender={\"28\":\"Action\",\n",
    "\"12\":\"Adventure\",\n",
    "\"16\":\"Animation\",\n",
    "\"35\":\"Comedy\",\n",
    "\"80\":\"Crime\",\n",
    "\"99\":\"Documentary\",\n",
    "\"18\":\"Drama\",\n",
    "\"10751\":\"Family\",\n",
    "\"14\":\"Fantasy\",\n",
    "\"36\":\t\"History\",\n",
    "\"27\":\"Horror\",\n",
    "\"10402\"\t:\"Music\",\n",
    "\"9648\":\"Mystery\",\n",
    "\"10749\":\"Romance\",\n",
    "\"878\"\t:\"Science Fiction\",\n",
    "\"10770\":\"TV Movie\",\n",
    "\"53\":\"Thriller\",\n",
    "\"10752\":\"War\",\n",
    "\"37\":\"Western\"}\n",
    "\n",
    "series_genre_id_counts = df.genre_id.explode().value_counts()\n",
    "series_genre_id_counts\n",
    "df_genre = pd.DataFrame(series_genre_id_counts)\n",
    "df_genre[\"id\"] = df_genre.index\n",
    "df_genre.rename(columns={\"genre_id\" : \"count\"},inplace=True)\n",
    "df_genre[\"name\"] = df_genre[\"id\"].apply(lambda x : map_gender[str(x)])\n",
    "df_genre[\"weight\"] = df_genre[\"id\"].apply(lambda x : class_weights_genre_id[x])\n",
    "df_genre.sort_values(by=\"count\")"
   ]
  },
  {
   "cell_type": "code",
   "execution_count": null,
   "metadata": {},
   "outputs": [],
   "source": []
  },
  {
   "cell_type": "markdown",
   "metadata": {
    "id": "cPXBrisCLgl2"
   },
   "source": [
    "# Simple Model"
   ]
  },
  {
   "cell_type": "raw",
   "metadata": {
    "id": "SL2yeEslLcMe"
   },
   "source": [
    "model = keras.Sequential(\n",
    "    [\n",
    "      layers.Conv2D(32, (3, 3), padding='same', input_shape=(299, 299, 3)),\n",
    "      layers.Activation('relu'),\n",
    "      layers.Conv2D(32, (3, 3)),\n",
    "      layers.Activation('relu'),\n",
    "      layers.MaxPooling2D(pool_size=(2, 2)),\n",
    "      layers.Dropout(0.25),\n",
    "      layers.Conv2D(64, (3, 3), padding='same'),\n",
    "      layers.Activation('relu'),\n",
    "      layers.Conv2D(64, (3, 3)),\n",
    "      layers.Activation('relu'),\n",
    "      layers.MaxPooling2D(pool_size=(2, 2)),\n",
    "      layers.Dropout(0.25),\n",
    "      layers.Flatten(),\n",
    "      layers.Dense(512),\n",
    "      layers.Activation('relu'),\n",
    "      layers.Dropout(0.5),\n",
    "      layers.Dense(len(train_generator.class_indices), activation='sigmoid')\n",
    "    ]\n",
    ")\n",
    "\n",
    "\n",
    "#model.compile(optimizer='adam', loss=\"binary_crossentropy\", metrics=[\"accuracy\"])"
   ]
  },
  {
   "cell_type": "code",
   "execution_count": 16,
   "metadata": {},
   "outputs": [],
   "source": [
    "model = keras.Sequential(\n",
    "    [ \n",
    "        layers.Conv2D(32, (3, 3), padding='same', input_shape=(299, 299, 3)),\n",
    "        layers.Activation('relu'),\n",
    "        layers.Conv2D(64, (3, 3), activation='relu'),\n",
    "        layers.MaxPooling2D(pool_size=(2, 2)),\n",
    "        layers.Dropout(0.25),\n",
    "        layers.Conv2D(128, kernel_size=(3, 3), activation='relu'),\n",
    "        layers.Conv2D(64, (3, 3), activation='relu'),\n",
    "        layers.MaxPooling2D(pool_size=(2, 2)),\n",
    "        layers.Dropout(0.25),\n",
    "        layers.Flatten(),\n",
    "        layers.Dense(128, activation='relu'),\n",
    "        layers.Dropout(0.5),\n",
    "        layers.Dense(len(train_generator.class_indices), activation='sigmoid')\n",
    "        #layers.Dense(len(train_generator.class_indices), activation='softmax')\n",
    "\n",
    "    ])"
   ]
  },
  {
   "cell_type": "code",
   "execution_count": 17,
   "metadata": {},
   "outputs": [],
   "source": [
    "model.compile(optimizer='adam', loss=\"binary_crossentropy\", metrics=[\"accuracy\"])"
   ]
  },
  {
   "cell_type": "markdown",
   "metadata": {
    "id": "vIRDrzYqM_Vw"
   },
   "source": [
    "# Train"
   ]
  },
  {
   "cell_type": "code",
   "execution_count": null,
   "metadata": {
    "colab": {
     "base_uri": "https://localhost:8080/"
    },
    "id": "-6NBrltEM2Xy",
    "outputId": "a8f613e4-3e5c-462d-d787-c60e8e55a53f"
   },
   "outputs": [
    {
     "name": "stdout",
     "output_type": "stream",
     "text": [
      "Epoch 1/10\n",
      "  16/1430 [..............................] - ETA: 3:26:07 - loss: 0.4653 - accuracy: 0.0938"
     ]
    }
   ],
   "source": [
    "history = model.fit(\n",
    "    train_generator,\n",
    "    validation_data=valid_generator,\n",
    "    epochs=10,\n",
    "    steps_per_epoch=1430,\n",
    "    class_weight = class_weights\n",
    ")"
   ]
  },
  {
   "cell_type": "code",
   "execution_count": null,
   "metadata": {
    "id": "Jah0S5tcNKDV"
   },
   "outputs": [],
   "source": [
    "#num_samples // batch_size\n",
    "183069 / 32 / 4"
   ]
  },
  {
   "cell_type": "code",
   "execution_count": null,
   "metadata": {},
   "outputs": [],
   "source": []
  }
 ],
 "metadata": {
  "accelerator": "GPU",
  "colab": {
   "collapsed_sections": [],
   "name": "movie_poster_base_01.ipynb",
   "provenance": []
  },
  "kernelspec": {
   "display_name": "Python [conda env:AIDA2]",
   "language": "python",
   "name": "conda-env-AIDA2-py"
  },
  "language_info": {
   "codemirror_mode": {
    "name": "ipython",
    "version": 3
   },
   "file_extension": ".py",
   "mimetype": "text/x-python",
   "name": "python",
   "nbconvert_exporter": "python",
   "pygments_lexer": "ipython3",
   "version": "3.8.8"
  }
 },
 "nbformat": 4,
 "nbformat_minor": 4
}
