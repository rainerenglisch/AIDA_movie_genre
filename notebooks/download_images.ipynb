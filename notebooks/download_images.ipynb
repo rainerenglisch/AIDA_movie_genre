{
 "cells": [
  {
   "cell_type": "code",
   "execution_count": null,
   "id": "previous-surge",
   "metadata": {},
   "outputs": [],
   "source": []
  },
  {
   "cell_type": "code",
   "execution_count": 3,
   "id": "australian-participant",
   "metadata": {},
   "outputs": [],
   "source": [
    "import urllib.request\n",
    "from urllib.parse import urlparse\n",
    "import os\n",
    "\n",
    "PICTURE_DIR = \"../data/external/images/\"\n",
    "\n",
    "def saveFilesFromDF(df):\n",
    "    for idx, row in df.iterrows():\n",
    "        if row[\"poster_url\"] != None:\n",
    "            url = row[\"poster_url\"]\n",
    "            a = urlparse(url)\n",
    "            picfilename = os.path.basename(a.path)\n",
    "            #print(row[\"poster_url\"])\n",
    "            resource = urllib.request.urlretrieve(row[\"poster_url\"], PICTURE_DIR + picfilename)\n"
   ]
  },
  {
   "cell_type": "code",
   "execution_count": null,
   "id": "convinced-diversity",
   "metadata": {},
   "outputs": [
    {
     "name": "stdout",
     "output_type": "stream",
     "text": [
      "b'../data/raw/'\n",
      "b'df_50000_59999.parquet.gzip'\n"
     ]
    }
   ],
   "source": [
    "import pandas as pd\n",
    "DATA_DIR = \"../data/raw/\"\n",
    "\n",
    "import os\n",
    "\n",
    "directory = os.fsencode(DATA_DIR)\n",
    "\n",
    "print(directory)\n",
    "for file in os.listdir(directory):\n",
    "     print(file)   \n",
    "     filename = os.fsdecode(file)\n",
    "     if filename.endswith(\".gzip\"): \n",
    "        full_filename =  os.path.join(directory, file)\n",
    "        full_filename = os.fsdecode(full_filename)\n",
    "        df_movies = pd.read_parquet(full_filename)\n",
    "        saveFilesFromDF(df_movies)\n",
    "        continue\n",
    "     else:\n",
    "        continue\n",
    "            \n",
    "#file1 = DATA_DIR + \"interim/df_0_9999.parquet.gzip\"\n",
    "#df_movies = pd.read_parquet(file1)"
   ]
  }
 ],
 "metadata": {
  "kernelspec": {
   "display_name": "Python [conda env:AIDA2] *",
   "language": "python",
   "name": "conda-env-AIDA2-py"
  },
  "language_info": {
   "codemirror_mode": {
    "name": "ipython",
    "version": 3
   },
   "file_extension": ".py",
   "mimetype": "text/x-python",
   "name": "python",
   "nbconvert_exporter": "python",
   "pygments_lexer": "ipython3",
   "version": "3.8.8"
  }
 },
 "nbformat": 4,
 "nbformat_minor": 5
}
