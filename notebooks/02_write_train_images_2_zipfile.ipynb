{
 "cells": [
  {
   "cell_type": "code",
   "execution_count": 1,
   "metadata": {},
   "outputs": [],
   "source": [
    "import pandas as pd\n",
    "import fastparquet as fp\n",
    "import urllib.request\n",
    "from urllib.parse import urlparse\n",
    "import os\n",
    "import sys\n",
    "import tqdm\n",
    "import src.helper.helper as hlp\n",
    "import re\n",
    "import zipfile as zip"
   ]
  },
  {
   "cell_type": "code",
   "execution_count": 2,
   "metadata": {},
   "outputs": [],
   "source": [
    "# Config\n",
    "FILE_DIR = \"./\"\n",
    "RAW_DATA_DIR = FILE_DIR + \"../data/raw/\"\n",
    "INTERIM_DATA_DIR = FILE_DIR + \"../data/interim/\"\n",
    "POSTER_DIR = RAW_DATA_DIR + \"posters/\"\n",
    "\n",
    "DF_FNAME = 'df_train_v1.gzip'\n",
    "\n",
    "# Display options\n",
    "pd.set_option('display.max_colwidth', None)"
   ]
  },
  {
   "cell_type": "code",
   "execution_count": 3,
   "metadata": {},
   "outputs": [],
   "source": [
    "# Helper function\n",
    "def check_image_exists(df):\n",
    "    l_check_res = []\n",
    "    for idx, row in df.iterrows():\n",
    "        pfname = re.findall(\"\\w+.jpg\", row.poster_url)\n",
    "        l_check_res.append(pfname[0] in l_files)\n",
    "\n",
    "    return pd.DataFrame(l_check_res, columns=[\"image_exists\"])"
   ]
  },
  {
   "cell_type": "code",
   "execution_count": 4,
   "metadata": {},
   "outputs": [],
   "source": [
    "# Read dataframe to check\n",
    "df = pd.read_parquet(INTERIM_DATA_DIR + DF_FNAME)"
   ]
  },
  {
   "cell_type": "code",
   "execution_count": 41,
   "metadata": {},
   "outputs": [],
   "source": [
    "# Load names of stored files\n",
    "l_files = os.listdir(POSTER_DIR)\n",
    "\n",
    "# Check, if referenced file is present on the computer\n",
    "#df_check_res = hlp.parallelize_dataframe(df, check_image_exists)\n",
    "df_check_res = check_image_exists(df)"
   ]
  },
  {
   "cell_type": "code",
   "execution_count": 42,
   "metadata": {},
   "outputs": [
    {
     "data": {
      "text/plain": [
       "image_exists\n",
       "True            18383\n",
       "False               4\n",
       "dtype: int64"
      ]
     },
     "execution_count": 42,
     "metadata": {},
     "output_type": "execute_result"
    }
   ],
   "source": [
    "df_check_res.value_counts()"
   ]
  },
  {
   "cell_type": "code",
   "execution_count": 43,
   "metadata": {},
   "outputs": [
    {
     "data": {
      "text/html": [
       "<div>\n",
       "<style scoped>\n",
       "    .dataframe tbody tr th:only-of-type {\n",
       "        vertical-align: middle;\n",
       "    }\n",
       "\n",
       "    .dataframe tbody tr th {\n",
       "        vertical-align: top;\n",
       "    }\n",
       "\n",
       "    .dataframe thead th {\n",
       "        text-align: right;\n",
       "    }\n",
       "</style>\n",
       "<table border=\"1\" class=\"dataframe\">\n",
       "  <thead>\n",
       "    <tr style=\"text-align: right;\">\n",
       "      <th></th>\n",
       "      <th>image_exists</th>\n",
       "    </tr>\n",
       "  </thead>\n",
       "  <tbody>\n",
       "    <tr>\n",
       "      <th>0</th>\n",
       "      <td>True</td>\n",
       "    </tr>\n",
       "    <tr>\n",
       "      <th>1</th>\n",
       "      <td>True</td>\n",
       "    </tr>\n",
       "    <tr>\n",
       "      <th>2</th>\n",
       "      <td>True</td>\n",
       "    </tr>\n",
       "    <tr>\n",
       "      <th>3</th>\n",
       "      <td>True</td>\n",
       "    </tr>\n",
       "    <tr>\n",
       "      <th>4</th>\n",
       "      <td>True</td>\n",
       "    </tr>\n",
       "    <tr>\n",
       "      <th>...</th>\n",
       "      <td>...</td>\n",
       "    </tr>\n",
       "    <tr>\n",
       "      <th>18382</th>\n",
       "      <td>True</td>\n",
       "    </tr>\n",
       "    <tr>\n",
       "      <th>18383</th>\n",
       "      <td>True</td>\n",
       "    </tr>\n",
       "    <tr>\n",
       "      <th>18384</th>\n",
       "      <td>True</td>\n",
       "    </tr>\n",
       "    <tr>\n",
       "      <th>18385</th>\n",
       "      <td>True</td>\n",
       "    </tr>\n",
       "    <tr>\n",
       "      <th>18386</th>\n",
       "      <td>True</td>\n",
       "    </tr>\n",
       "  </tbody>\n",
       "</table>\n",
       "<p>18387 rows × 1 columns</p>\n",
       "</div>"
      ],
      "text/plain": [
       "       image_exists\n",
       "0              True\n",
       "1              True\n",
       "2              True\n",
       "3              True\n",
       "4              True\n",
       "...             ...\n",
       "18382          True\n",
       "18383          True\n",
       "18384          True\n",
       "18385          True\n",
       "18386          True\n",
       "\n",
       "[18387 rows x 1 columns]"
      ]
     },
     "execution_count": 43,
     "metadata": {},
     "output_type": "execute_result"
    }
   ],
   "source": [
    "df_check_res"
   ]
  },
  {
   "cell_type": "code",
   "execution_count": 6,
   "metadata": {},
   "outputs": [
    {
     "data": {
      "text/plain": [
       "(18387, 26)"
      ]
     },
     "execution_count": 6,
     "metadata": {},
     "output_type": "execute_result"
    }
   ],
   "source": [
    "df.shape"
   ]
  },
  {
   "cell_type": "code",
   "execution_count": 44,
   "metadata": {},
   "outputs": [
    {
     "name": "stderr",
     "output_type": "stream",
     "text": [
      " 41%|████      | 7544/18387 [00:05<00:35, 308.22it/s] /home/ths/miniconda3/envs/aida/lib/python3.7/zipfile.py:1506: UserWarning: Duplicate name: '../data/raw/posters/1BbQEjbhDNSCs61UwaiY8EoPPiF.jpg'\n",
      "  return self._open_to_write(zinfo, force_zip64=force_zip64)\n",
      " 42%|████▏     | 7803/18387 [00:09<01:05, 162.08it/s]/home/ths/miniconda3/envs/aida/lib/python3.7/zipfile.py:1506: UserWarning: Duplicate name: '../data/raw/posters/9zC6iWBtpg9Tiv5v8zcF8nXkWuN.jpg'\n",
      "  return self._open_to_write(zinfo, force_zip64=force_zip64)\n",
      "/home/ths/miniconda3/envs/aida/lib/python3.7/zipfile.py:1506: UserWarning: Duplicate name: '../data/raw/posters/5yIy1lRNXnadnMfLp0TaGqGf8mJ.jpg'\n",
      "  return self._open_to_write(zinfo, force_zip64=force_zip64)\n",
      " 84%|████████▍ | 15420/18387 [03:08<00:35, 83.22it/s]/home/ths/miniconda3/envs/aida/lib/python3.7/zipfile.py:1506: UserWarning: Duplicate name: '../data/raw/posters/e7CUI63PPIooocA8zsnVSOMIuUI.jpg'\n",
      "  return self._open_to_write(zinfo, force_zip64=force_zip64)\n",
      "100%|█████████▉| 18383/18387 [04:20<00:00, 70.63it/s]\n"
     ]
    }
   ],
   "source": [
    "#Write training posters to zip file\n",
    "with zip.ZipFile(INTERIM_DATA_DIR + 'posters_train_v1.zip', 'w') as myzip:\n",
    "    for idx, row in tqdm.tqdm(df.loc[df_check_res.image_exists == True].iterrows(), total=len(df)):\n",
    "        pfname = re.findall(\"\\w+.jpg\", row.poster_url)\n",
    "        myzip.write(POSTER_DIR + pfname[0])"
   ]
  },
  {
   "cell_type": "code",
   "execution_count": 47,
   "metadata": {},
   "outputs": [],
   "source": [
    "# Write corrected training file\n",
    "df.loc[df_check_res.image_exists == True].to_parquet(INTERIM_DATA_DIR + DF_FNAME, compression='gzip')"
   ]
  },
  {
   "cell_type": "code",
   "execution_count": null,
   "metadata": {},
   "outputs": [],
   "source": []
  }
 ],
 "metadata": {
  "kernelspec": {
   "display_name": "Python 3",
   "language": "python",
   "name": "python3"
  },
  "language_info": {
   "codemirror_mode": {
    "name": "ipython",
    "version": 3
   },
   "file_extension": ".py",
   "mimetype": "text/x-python",
   "name": "python",
   "nbconvert_exporter": "python",
   "pygments_lexer": "ipython3",
   "version": "3.7.7"
  }
 },
 "nbformat": 4,
 "nbformat_minor": 5
}
