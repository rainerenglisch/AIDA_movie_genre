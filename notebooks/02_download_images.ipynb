{
 "cells": [
  {
   "cell_type": "code",
   "execution_count": 1,
   "metadata": {},
   "outputs": [],
   "source": [
    "import pandas as pd\n",
    "import fastparquet as fp\n",
    "import urllib.request\n",
    "from urllib.parse import urlparse\n",
    "import os\n",
    "import sys\n",
    "import tqdm"
   ]
  },
  {
   "cell_type": "code",
   "execution_count": 2,
   "metadata": {},
   "outputs": [],
   "source": [
    "# Config\n",
    "FILE_DIR = \"./\"\n",
    "DATA_DIR = FILE_DIR + \"../data/raw/\"\n",
    "POSTER_DIR = DATA_DIR + \"posters/\""
   ]
  },
  {
   "cell_type": "code",
   "execution_count": 3,
   "metadata": {},
   "outputs": [],
   "source": [
    "# Helper function\n",
    "def saveFilesFromDF(df):\n",
    "    l_not_loaded = []\n",
    "    for idx, row in tqdm.tqdm(df.iterrows(), total=len(df)):\n",
    "        if row[\"poster_url\"] != None:\n",
    "            url = row[\"poster_url\"]\n",
    "            a = urlparse(url)\n",
    "            picfilename = os.path.basename(a.path)\n",
    "            #print(row[\"poster_url\"])\n",
    "            try:\n",
    "                resource = urllib.request.urlretrieve(row[\"poster_url\"], POSTER_DIR + picfilename)\n",
    "            except Exception:\n",
    "                print(f\"Couldn't load poster id: {row.id}, {sys.exc_info()}\")\n",
    "                l_not_loaded.append(row.id)\n",
    "    return l_not_loaded"
   ]
  },
  {
   "cell_type": "code",
   "execution_count": null,
   "metadata": {},
   "outputs": [],
   "source": [
    "# Load posters\n",
    "start_count = 10206\n",
    "df = pd.read_parquet(DATA_DIR + 'df.parquet.gzip')\n",
    "log = saveFilesFromDF(df[start_count:])\n",
    "log"
   ]
  }
 ],
 "metadata": {
  "kernelspec": {
   "display_name": "Python 3",
   "language": "python",
   "name": "python3"
  },
  "language_info": {
   "codemirror_mode": {
    "name": "ipython",
    "version": 3
   },
   "file_extension": ".py",
   "mimetype": "text/x-python",
   "name": "python",
   "nbconvert_exporter": "python",
   "pygments_lexer": "ipython3",
   "version": "3.7.7"
  }
 },
 "nbformat": 4,
 "nbformat_minor": 5
}
