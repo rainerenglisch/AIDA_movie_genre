{
 "cells": [
  {
   "cell_type": "markdown",
   "metadata": {},
   "source": [
    "# Add movie release date to existing dataframe\n",
    "Release dates are merged to the already existing file \"df_clean_v1.gzip\", that means\n",
    "only release dates for processable movies are fetched."
   ]
  },
  {
   "cell_type": "code",
   "execution_count": 8,
   "metadata": {},
   "outputs": [],
   "source": [
    "import pandas as pd\n",
    "import numpy as np\n",
    "import tmdbsimple as tmdb\n",
    "import json\n",
    "import requests\n",
    "import tqdm\n",
    "import re\n",
    "import multiprocessing\n",
    "import glob\n",
    "import fastparquet as fp\n",
    "import sys\n",
    "import src.helper.helper as hlp\n",
    "import src.helper.secret as sec"
   ]
  },
  {
   "cell_type": "markdown",
   "metadata": {},
   "source": [
    "# Helper functions"
   ]
  },
  {
   "cell_type": "code",
   "execution_count": 9,
   "metadata": {},
   "outputs": [],
   "source": [
    "def load_movie_details(df):\n",
    "    for idx, row in df.iterrows():\n",
    "        p_rd = get_movie_data(row[\"id\"])\n",
    "        df.loc[idx, \"release_date\"] = p_rd\n",
    "    return df\n",
    "\n",
    "def get_movie_data(mid: int):\n",
    "    try:\n",
    "        m = tmdb.Movies(mid).info()\n",
    "    except Exception as e:\n",
    "        print(f\"Error loading movie {mid}, Exception: {sys.exc_info()}\")\n",
    "        return None, None\n",
    "\n",
    "    # Get poster url\n",
    "    if m['release_date'] != None:\n",
    "        try:\n",
    "            p_rd = pd.Timestamp(tmdb.Movies(mid).info()['release_date'])\n",
    "        except Exception as e:\n",
    "            print(f\"No valid Timestamp for movie {mid}, release date set to None\")\n",
    "            p_rd = None\n",
    "    else:\n",
    "        print(f\"Release date not set for movie {mid}\")\n",
    "        p_rd = None\n",
    "\n",
    "    return p_rd\n",
    "\n",
    "\n",
    "def parallelize_dataframe(df, func):\n",
    "    num_cores = multiprocessing.cpu_count()-1  #leave one free to not freeze machine\n",
    "    num_partitions = num_cores #number of partitions to split dataframe\n",
    "    df_split = np.array_split(df, num_partitions)\n",
    "    pool = multiprocessing.Pool(num_cores)\n",
    "    df = pd.concat(pool.map(func, df_split))\n",
    "    pool.close()\n",
    "    pool.join()\n",
    "    return df"
   ]
  },
  {
   "cell_type": "markdown",
   "metadata": {},
   "source": [
    "## Example movie details dataset"
   ]
  },
  {
   "cell_type": "code",
   "execution_count": 10,
   "metadata": {
    "jupyter": {
     "source_hidden": true
    },
    "tags": []
   },
   "outputs": [],
   "source": [
    "example_movie_details = {'adult': False,\n",
    " 'backdrop_path': '/ELsTifJ2lu4vsMhoHeZ5EnncHw.jpg',\n",
    " 'belongs_to_collection': None,\n",
    " 'budget': 70000000,\n",
    " 'genres': [{'id': 35, 'name': 'Comedy'},\n",
    "  {'id': 14, 'name': 'Fantasy'},\n",
    "  {'id': 878, 'name': 'Science Fiction'}],\n",
    " 'homepage': 'https://www.warnerbros.com/movies/mars-attacks/',\n",
    " 'id': 75,\n",
    " 'imdb_id': 'tt0116996',\n",
    " 'original_language': 'en',\n",
    " 'original_title': 'Mars Attacks!',\n",
    " 'overview': \"'We come in peace' is not what those green men from Mars mean when they invade our planet, armed with irresistible weapons and a cruel sense of humor.  This star studded cast must play victim to the alien’s fun and games in this comedy homage to science fiction films of the '50s and '60s.\",\n",
    " 'popularity': 21.773,\n",
    " 'poster_path': '/hll4O5vSAfnZDb6JbnP06GPtz7b.jpg',\n",
    " 'production_companies': [{'id': 8601,\n",
    "   'logo_path': None,\n",
    "   'name': 'Tim Burton Productions',\n",
    "   'origin_country': ''},\n",
    "  {'id': 174,\n",
    "   'logo_path': '/ky0xOc5OrhzkZ1N6KyUxacfQsCk.png',\n",
    "   'name': 'Warner Bros. Pictures',\n",
    "   'origin_country': 'US'}],\n",
    " 'production_countries': [{'iso_3166_1': 'US',\n",
    "   'name': 'United States of America'}],\n",
    " 'release_date': '1996-12-12',\n",
    " 'revenue': 101371017,\n",
    " 'runtime': 106,\n",
    " 'spoken_languages': [{'english_name': 'English',\n",
    "   'iso_639_1': 'en',\n",
    "   'name': 'English'},\n",
    "  {'english_name': 'French', 'iso_639_1': 'fr', 'name': 'Français'}],\n",
    " 'status': 'Released',\n",
    " 'tagline': \"Nice planet. We'll take it!\",\n",
    " 'title': 'Mars Attacks!',\n",
    " 'video': False,\n",
    " 'vote_average': 6.3,\n",
    " 'vote_count': 3948}"
   ]
  },
  {
   "cell_type": "markdown",
   "metadata": {},
   "source": [
    "# Config"
   ]
  },
  {
   "cell_type": "code",
   "execution_count": 16,
   "metadata": {},
   "outputs": [],
   "source": [
    "MOVIE_URI = \"https://www.themoviedb.org/movie/\"\n",
    "\n",
    "FILE_DIR = \"./\"\n",
    "DATA_DIR_RAW = FILE_DIR + \"../data/raw/\"\n",
    "DATA_DIR_INTERIM = FILE_DIR + \"../data/interim/\"\n",
    "\n",
    "VERSION_ID_OUT = \"v2\"\n",
    "FILE_PATH_DF_IN = DATA_DIR_INTERIM + \"df_cleaned_v1.gzip\"\n",
    "FILE_PATH_DF_OUT = DATA_DIR_INTERIM + f\"df_cleaned_{VERSION_ID_OUT}.gzip\""
   ]
  },
  {
   "cell_type": "markdown",
   "metadata": {},
   "source": [
    "# Init"
   ]
  },
  {
   "cell_type": "code",
   "execution_count": 12,
   "metadata": {},
   "outputs": [],
   "source": [
    "# Open TDB session\n",
    "tmdb.API_KEY = sec.TMDB_API_KEY\n",
    "tmdb.REQUESTS_SESSION = requests.Session()\n",
    "\n",
    "# Display options\n",
    "pd.set_option('display.max_colwidth', None)"
   ]
  },
  {
   "cell_type": "markdown",
   "metadata": {},
   "source": [
    "# Processing"
   ]
  },
  {
   "cell_type": "markdown",
   "metadata": {},
   "source": [
    "## Load dataframe to add the release date"
   ]
  },
  {
   "cell_type": "code",
   "execution_count": 6,
   "metadata": {},
   "outputs": [],
   "source": [
    "# Load dataframe to change\n",
    "df = pd.read_parquet(FILE_PATH_DF_IN)"
   ]
  },
  {
   "cell_type": "markdown",
   "metadata": {},
   "source": [
    "## Fetch and set release date"
   ]
  },
  {
   "cell_type": "code",
   "execution_count": null,
   "metadata": {},
   "outputs": [],
   "source": [
    "# Add release date\n",
    "\n",
    "l_df = []\n",
    "split_size = 1000\n",
    "start_count = 0\n",
    "end_count = (len(df) // split_size) + 1\n",
    "\n",
    "for i in tqdm.tqdm(range(start_count, end_count)):\n",
    "    s = i * split_size\n",
    "    e = ((i + 1) * split_size) - 1\n",
    "    if e > len(df):\n",
    "        e = len(df) - 1\n",
    "\n",
    "    df_tmp = df[s:e++1].copy()\n",
    "    df_tmp = parallelize_dataframe(df_tmp, load_movie_details)\n",
    "    l_df.append(df_tmp)\n",
    "    df_tmp.to_parquet(DATA_DIR_RAW + f'df_{s}_{e}_{VERSION_ID_OUT}.gzip', compression='gzip')\n",
    "\n",
    "# Put it together\n",
    "df = pd.concat(l_df)\n",
    "df.isna().sum()\n",
    "df.head()"
   ]
  },
  {
   "cell_type": "markdown",
   "metadata": {},
   "source": [
    "## Merge files to one file"
   ]
  },
  {
   "cell_type": "code",
   "execution_count": 18,
   "metadata": {},
   "outputs": [],
   "source": [
    "# Load all existing files and merge them\n",
    "l_df = []\n",
    "l_file = glob.glob(DATA_DIR_RAW + f\"df_*_{VERSION_ID_OUT}.gzip\")\n",
    "for file_path in l_file:\n",
    "    pf = fp.ParquetFile(file_path)\n",
    "    l_df.append(pf.to_pandas())\n",
    "df = pd.concat(l_df)\n",
    "\n",
    "# Save into one flea\n",
    "df.to_parquet(FILE_PATH_DF_OUT, compression='gzip')"
   ]
  },
  {
   "cell_type": "code",
   "execution_count": 20,
   "metadata": {},
   "outputs": [
    {
     "data": {
      "text/html": [
       "<div>\n",
       "<style scoped>\n",
       "    .dataframe tbody tr th:only-of-type {\n",
       "        vertical-align: middle;\n",
       "    }\n",
       "\n",
       "    .dataframe tbody tr th {\n",
       "        vertical-align: top;\n",
       "    }\n",
       "\n",
       "    .dataframe thead th {\n",
       "        text-align: right;\n",
       "    }\n",
       "</style>\n",
       "<table border=\"1\" class=\"dataframe\">\n",
       "  <thead>\n",
       "    <tr style=\"text-align: right;\">\n",
       "      <th></th>\n",
       "      <th>adult</th>\n",
       "      <th>id</th>\n",
       "      <th>original_title</th>\n",
       "      <th>popularity</th>\n",
       "      <th>video</th>\n",
       "      <th>url</th>\n",
       "      <th>poster_url</th>\n",
       "      <th>genre_id</th>\n",
       "      <th>poster_exists</th>\n",
       "      <th>genre_ids2</th>\n",
       "      <th>genre_id_count</th>\n",
       "      <th>release_date</th>\n",
       "    </tr>\n",
       "  </thead>\n",
       "  <tbody>\n",
       "    <tr>\n",
       "      <th>465871</th>\n",
       "      <td>False</td>\n",
       "      <td>649583</td>\n",
       "      <td>The Grass Ceiling</td>\n",
       "      <td>0.600</td>\n",
       "      <td>False</td>\n",
       "      <td>https://www.themoviedb.org/movie/649583</td>\n",
       "      <td>https://www.themoviedb.org/t/p/w500//koxKUUCOE15D6cd2IW1CBnqfJu1.jpg</td>\n",
       "      <td>[99]</td>\n",
       "      <td>True</td>\n",
       "      <td>[Documentary]</td>\n",
       "      <td>1</td>\n",
       "      <td>2019-11-16</td>\n",
       "    </tr>\n",
       "    <tr>\n",
       "      <th>465872</th>\n",
       "      <td>False</td>\n",
       "      <td>649584</td>\n",
       "      <td>Alleycats</td>\n",
       "      <td>1.029</td>\n",
       "      <td>False</td>\n",
       "      <td>https://www.themoviedb.org/movie/649584</td>\n",
       "      <td>https://www.themoviedb.org/t/p/w500//e7u2toV4ZqKszvVY9I3bUmJMgma.jpg</td>\n",
       "      <td>[28, 16]</td>\n",
       "      <td>True</td>\n",
       "      <td>[Action,Animation]</td>\n",
       "      <td>2</td>\n",
       "      <td>2017-11-15</td>\n",
       "    </tr>\n",
       "    <tr>\n",
       "      <th>465874</th>\n",
       "      <td>False</td>\n",
       "      <td>649586</td>\n",
       "      <td>Качалка</td>\n",
       "      <td>0.600</td>\n",
       "      <td>False</td>\n",
       "      <td>https://www.themoviedb.org/movie/649586</td>\n",
       "      <td>https://www.themoviedb.org/t/p/w500//b3w7FK12ahYSpAWqzsZJip1WYNf.jpg</td>\n",
       "      <td>[99]</td>\n",
       "      <td>True</td>\n",
       "      <td>[Documentary]</td>\n",
       "      <td>1</td>\n",
       "      <td>2020-06-17</td>\n",
       "    </tr>\n",
       "    <tr>\n",
       "      <th>465875</th>\n",
       "      <td>False</td>\n",
       "      <td>649587</td>\n",
       "      <td>Christy</td>\n",
       "      <td>0.600</td>\n",
       "      <td>False</td>\n",
       "      <td>https://www.themoviedb.org/movie/649587</td>\n",
       "      <td>https://www.themoviedb.org/t/p/w500//p7XaE0Wh7HLaxbtAu1KCWvCGvjl.jpg</td>\n",
       "      <td>[18]</td>\n",
       "      <td>True</td>\n",
       "      <td>[Drama]</td>\n",
       "      <td>1</td>\n",
       "      <td>2019-11-16</td>\n",
       "    </tr>\n",
       "    <tr>\n",
       "      <th>465876</th>\n",
       "      <td>False</td>\n",
       "      <td>649588</td>\n",
       "      <td>Rubinstein in Concert</td>\n",
       "      <td>0.600</td>\n",
       "      <td>True</td>\n",
       "      <td>https://www.themoviedb.org/movie/649588</td>\n",
       "      <td>https://www.themoviedb.org/t/p/w500//6zY6k4PcF5DMzsSTpdQO9XnCFiV.jpg</td>\n",
       "      <td>[10402]</td>\n",
       "      <td>True</td>\n",
       "      <td>[Music]</td>\n",
       "      <td>1</td>\n",
       "      <td>1973-06-01</td>\n",
       "    </tr>\n",
       "  </tbody>\n",
       "</table>\n",
       "</div>"
      ],
      "text/plain": [
       "        adult      id         original_title  popularity  video  \\\n",
       "465871  False  649583      The Grass Ceiling       0.600  False   \n",
       "465872  False  649584              Alleycats       1.029  False   \n",
       "465874  False  649586                Качалка       0.600  False   \n",
       "465875  False  649587                Christy       0.600  False   \n",
       "465876  False  649588  Rubinstein in Concert       0.600   True   \n",
       "\n",
       "                                            url  \\\n",
       "465871  https://www.themoviedb.org/movie/649583   \n",
       "465872  https://www.themoviedb.org/movie/649584   \n",
       "465874  https://www.themoviedb.org/movie/649586   \n",
       "465875  https://www.themoviedb.org/movie/649587   \n",
       "465876  https://www.themoviedb.org/movie/649588   \n",
       "\n",
       "                                                                  poster_url  \\\n",
       "465871  https://www.themoviedb.org/t/p/w500//koxKUUCOE15D6cd2IW1CBnqfJu1.jpg   \n",
       "465872  https://www.themoviedb.org/t/p/w500//e7u2toV4ZqKszvVY9I3bUmJMgma.jpg   \n",
       "465874  https://www.themoviedb.org/t/p/w500//b3w7FK12ahYSpAWqzsZJip1WYNf.jpg   \n",
       "465875  https://www.themoviedb.org/t/p/w500//p7XaE0Wh7HLaxbtAu1KCWvCGvjl.jpg   \n",
       "465876  https://www.themoviedb.org/t/p/w500//6zY6k4PcF5DMzsSTpdQO9XnCFiV.jpg   \n",
       "\n",
       "        genre_id  poster_exists          genre_ids2  genre_id_count  \\\n",
       "465871      [99]           True       [Documentary]               1   \n",
       "465872  [28, 16]           True  [Action,Animation]               2   \n",
       "465874      [99]           True       [Documentary]               1   \n",
       "465875      [18]           True             [Drama]               1   \n",
       "465876   [10402]           True             [Music]               1   \n",
       "\n",
       "       release_date  \n",
       "465871   2019-11-16  \n",
       "465872   2017-11-15  \n",
       "465874   2020-06-17  \n",
       "465875   2019-11-16  \n",
       "465876   1973-06-01  "
      ]
     },
     "execution_count": 20,
     "metadata": {},
     "output_type": "execute_result"
    }
   ],
   "source": [
    "df.head()"
   ]
  },
  {
   "cell_type": "code",
   "execution_count": null,
   "metadata": {},
   "outputs": [],
   "source": []
  }
 ],
 "metadata": {
  "kernelspec": {
   "display_name": "Python 3",
   "language": "python",
   "name": "python3"
  },
  "language_info": {
   "codemirror_mode": {
    "name": "ipython",
    "version": 3
   },
   "file_extension": ".py",
   "mimetype": "text/x-python",
   "name": "python",
   "nbconvert_exporter": "python",
   "pygments_lexer": "ipython3",
   "version": "3.7.7"
  }
 },
 "nbformat": 4,
 "nbformat_minor": 4
}
