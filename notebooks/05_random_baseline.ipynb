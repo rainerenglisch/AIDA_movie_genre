{
 "cells": [
  {
   "cell_type": "code",
   "execution_count": 1,
   "metadata": {},
   "outputs": [
    {
     "name": "stderr",
     "output_type": "stream",
     "text": [
      "In /home/ths/miniconda3/envs/aida/lib/python3.7/site-packages/matplotlib/mpl-data/stylelib/_classic_test.mplstyle: \n",
      "The text.latex.preview rcparam was deprecated in Matplotlib 3.3 and will be removed two minor releases later.\n",
      "In /home/ths/miniconda3/envs/aida/lib/python3.7/site-packages/matplotlib/mpl-data/stylelib/_classic_test.mplstyle: \n",
      "The mathtext.fallback_to_cm rcparam was deprecated in Matplotlib 3.3 and will be removed two minor releases later.\n",
      "In /home/ths/miniconda3/envs/aida/lib/python3.7/site-packages/matplotlib/mpl-data/stylelib/_classic_test.mplstyle: Support for setting the 'mathtext.fallback_to_cm' rcParam is deprecated since 3.3 and will be removed two minor releases later; use 'mathtext.fallback : 'cm' instead.\n",
      "In /home/ths/miniconda3/envs/aida/lib/python3.7/site-packages/matplotlib/mpl-data/stylelib/_classic_test.mplstyle: \n",
      "The validate_bool_maybe_none function was deprecated in Matplotlib 3.3 and will be removed two minor releases later.\n",
      "In /home/ths/miniconda3/envs/aida/lib/python3.7/site-packages/matplotlib/mpl-data/stylelib/_classic_test.mplstyle: \n",
      "The savefig.jpeg_quality rcparam was deprecated in Matplotlib 3.3 and will be removed two minor releases later.\n",
      "In /home/ths/miniconda3/envs/aida/lib/python3.7/site-packages/matplotlib/mpl-data/stylelib/_classic_test.mplstyle: \n",
      "The keymap.all_axes rcparam was deprecated in Matplotlib 3.3 and will be removed two minor releases later.\n",
      "In /home/ths/miniconda3/envs/aida/lib/python3.7/site-packages/matplotlib/mpl-data/stylelib/_classic_test.mplstyle: \n",
      "The animation.avconv_path rcparam was deprecated in Matplotlib 3.3 and will be removed two minor releases later.\n",
      "In /home/ths/miniconda3/envs/aida/lib/python3.7/site-packages/matplotlib/mpl-data/stylelib/_classic_test.mplstyle: \n",
      "The animation.avconv_args rcparam was deprecated in Matplotlib 3.3 and will be removed two minor releases later.\n"
     ]
    }
   ],
   "source": [
    "import pandas as pd\n",
    "import numpy as np\n",
    "import fastparquet as fp\n",
    "import matplotlib.pyplot as plt\n",
    "import sklearn.model_selection as skms\n",
    "import sklearn.metrics as skme\n",
    "import random\n",
    "import re\n",
    "import src.helper.helper as hlp\n",
    "import src.helper.const as const"
   ]
  },
  {
   "cell_type": "code",
   "execution_count": 2,
   "metadata": {},
   "outputs": [],
   "source": [
    "# Config\n",
    "FILE_DIR = \"./\"\n",
    "DATA_DIR = FILE_DIR + \"../data/interim/\"\n",
    "POSTER_DIR = DATA_DIR + \"posters/\""
   ]
  },
  {
   "cell_type": "code",
   "execution_count": 3,
   "metadata": {},
   "outputs": [],
   "source": [
    "# Init\n",
    "pd.set_option('display.max_colwidth', None)\n",
    "GENRE_COLS = const.GENRE_OHE_COLS"
   ]
  },
  {
   "cell_type": "code",
   "execution_count": 73,
   "metadata": {},
   "outputs": [],
   "source": [
    "# Load train-eval-test splits\n",
    "df_ori = pd.read_parquet(DATA_DIR + 'df_cleaned.gzip')\n",
    "df = pd.read_parquet(DATA_DIR + 'df_train_v1.gzip')\n",
    "df_train = pd.read_parquet(DATA_DIR + 'df_train-split_v1.gzip')\n",
    "df_eval = pd.read_parquet(DATA_DIR + 'df_eval-split_v1.gzip')\n",
    "df_test = pd.read_parquet(DATA_DIR + 'df_test-split_v1.gzip')\n",
    "\n",
    "# Set true labels\n",
    "y_true_test = df_test[GENRE_COLS].to_numpy()\n",
    "y_true_train = df_train[GENRE_COLS].to_numpy()"
   ]
  },
  {
   "cell_type": "code",
   "execution_count": 74,
   "metadata": {},
   "outputs": [],
   "source": [
    "def accuracy_score(y_test: np.array, y_pred: np.array, verbose: bool = False):\n",
    "    test = np.array(y_test, dtype=int)\n",
    "    pred = np.array(y_pred, dtype=int)\n",
    "    value = 0\n",
    "    pcount = 0\n",
    "\n",
    "    # Fetch data\n",
    "    for i in range(0, len(y_test)):\n",
    "        bws = np.bitwise_and(test[i], pred[i]).sum()\n",
    "        mas = max(test[i].sum(), pred[i].sum())\n",
    "        res = bws // mas\n",
    "        if verbose:\n",
    "            if res > 0:\n",
    "                pcount += 1\n",
    "                print(pcount, \". \", test[i], \"&\", pred[i],\n",
    "                      \"=\", bws, \"/\", mas, \"->\", res)\n",
    "        value += res\n",
    "\n",
    "    # Calc accuracy\n",
    "    acc = value / len(test)\n",
    "    if verbose:\n",
    "        print(f\"{value} / {len(test)} = {acc}\")\n",
    "    else:\n",
    "        print(acc)"
   ]
  },
  {
   "cell_type": "markdown",
   "metadata": {},
   "source": [
    "# Random Guess using one label per movie"
   ]
  },
  {
   "cell_type": "markdown",
   "metadata": {},
   "source": [
    "## Test datasets"
   ]
  },
  {
   "cell_type": "code",
   "execution_count": 71,
   "metadata": {},
   "outputs": [
    {
     "name": "stdout",
     "output_type": "stream",
     "text": [
      "0.05357628501495785\n"
     ]
    }
   ],
   "source": [
    "# Random guess using multi-classes (one label per movie)\n",
    "l_y_pred = []\n",
    "l_gen_art = []\n",
    "for i in range(0, len(df_test)):\n",
    "    gen = np.zeros(len(GENRE_COLS))\n",
    "    pos = np.random.randint(0, len(GENRE_COLS))\n",
    "    gen[pos] = 1\n",
    "    l_gen_art.append(gen)\n",
    "y_pred_test = np.array(l_gen_art)\n",
    "accuracy_score(y_true_test, y_pred_test, False)"
   ]
  },
  {
   "cell_type": "markdown",
   "metadata": {},
   "source": [
    "## Training datasets"
   ]
  },
  {
   "cell_type": "code",
   "execution_count": 75,
   "metadata": {},
   "outputs": [
    {
     "name": "stdout",
     "output_type": "stream",
     "text": [
      "0.05210812648758926\n"
     ]
    }
   ],
   "source": [
    "# Random guess using multi-classes (one label per movie)\n",
    "l_y_pred = []\n",
    "l_gen_art = []\n",
    "for i in range(0, len(df_train)):\n",
    "    gen = np.zeros(len(GENRE_COLS))\n",
    "    pos = np.random.randint(0, len(GENRE_COLS))\n",
    "    gen[pos] = 1\n",
    "    l_gen_art.append(gen)\n",
    "y_pred_train = np.array(l_gen_art)\n",
    "accuracy_score(y_true_train, y_pred_train, False)"
   ]
  },
  {
   "cell_type": "markdown",
   "metadata": {},
   "source": [
    "# Random Guess using up to 3 labels per movie"
   ]
  },
  {
   "cell_type": "markdown",
   "metadata": {},
   "source": [
    "## Test datasets"
   ]
  },
  {
   "cell_type": "code",
   "execution_count": 77,
   "metadata": {},
   "outputs": [
    {
     "name": "stdout",
     "output_type": "stream",
     "text": [
      "Number of movies holding 0 genres: 0\n",
      "Number of movies holding 1 genres: 3553\n",
      "Number of movies holding 2 genres: 124\n",
      "Number of movies holding 3 genres: 0\n",
      "Number of movies holding 4 genres: 0\n",
      "Number of movies holding 5 genres: 0\n",
      "Number of movies holding 6 genres: 0\n",
      "Number of movies holding 7 genres: 0\n",
      "Number of movies holding 8 genres: 0\n",
      "Number of movies holding 9 genres: 0\n",
      "Number of movies holding 10 genres: 0\n",
      "Number of movies holding 11 genres: 0\n",
      "Number of movies holding 12 genres: 0\n",
      "Number of movies holding 13 genres: 0\n",
      "Number of movies holding 14 genres: 0\n",
      "Number of movies holding 15 genres: 0\n",
      "Number of movies holding 16 genres: 0\n",
      "Number of movies holding 17 genres: 0\n",
      "Number of movies holding 18 genres: 0\n",
      "0.04813706826217025\n"
     ]
    }
   ],
   "source": [
    "# Random guess using multi-labels following the distribution (up to 3 labels per movie)\n",
    "l_count_gen = hlp.get_dist_of_simple_genre_combis(df_test, const.GENRE_OHE_COLS, True)\n",
    "l_gen_art = []\n",
    "np.random.seed(const.SEED)\n",
    "for num_gen, count_gen in enumerate(l_count_gen):\n",
    "    for count in range(0, count_gen):\n",
    "        gen = np.zeros(len(GENRE_COLS))\n",
    "        for i in range(0, num_gen):\n",
    "            pos = np.random.randint(0, len(GENRE_COLS))\n",
    "            gen[pos] = 1\n",
    "        l_gen_art.append(gen)\n",
    "df_tmp = pd.DataFrame(l_gen_art)\n",
    "y_pred_test = df_tmp.to_numpy()\n",
    "accuracy_score(y_true_test, y_pred_test, False)"
   ]
  },
  {
   "cell_type": "markdown",
   "metadata": {},
   "source": [
    "## Training datasets"
   ]
  },
  {
   "cell_type": "code",
   "execution_count": 76,
   "metadata": {},
   "outputs": [
    {
     "name": "stdout",
     "output_type": "stream",
     "text": [
      "Number of movies holding 0 genres: 0\n",
      "Number of movies holding 1 genres: 11382\n",
      "Number of movies holding 2 genres: 375\n",
      "Number of movies holding 3 genres: 7\n",
      "Number of movies holding 4 genres: 0\n",
      "Number of movies holding 5 genres: 0\n",
      "Number of movies holding 6 genres: 0\n",
      "Number of movies holding 7 genres: 0\n",
      "Number of movies holding 8 genres: 0\n",
      "Number of movies holding 9 genres: 0\n",
      "Number of movies holding 10 genres: 0\n",
      "Number of movies holding 11 genres: 0\n",
      "Number of movies holding 12 genres: 0\n",
      "Number of movies holding 13 genres: 0\n",
      "Number of movies holding 14 genres: 0\n",
      "Number of movies holding 15 genres: 0\n",
      "Number of movies holding 16 genres: 0\n",
      "Number of movies holding 17 genres: 0\n",
      "Number of movies holding 18 genres: 0\n",
      "0.04981298877932676\n"
     ]
    }
   ],
   "source": [
    "# Random guess using multi-labels following the distribution (up to 3 labels per movie)\n",
    "l_count_gen = hlp.get_dist_of_simple_genre_combis(df_train, const.GENRE_OHE_COLS, True)\n",
    "l_gen_art = []\n",
    "np.random.seed(const.SEED)\n",
    "for num_gen, count_gen in enumerate(l_count_gen):\n",
    "    for count in range(0, count_gen):\n",
    "        gen = np.zeros(len(GENRE_COLS))\n",
    "        for i in range(0, num_gen):\n",
    "            pos = np.random.randint(0, len(GENRE_COLS))\n",
    "            gen[pos] = 1\n",
    "        l_gen_art.append(gen)\n",
    "df_tmp = pd.DataFrame(l_gen_art)\n",
    "y_pred_train = df_tmp.to_numpy()\n",
    "accuracy_score(y_true_train, y_pred_train, False)"
   ]
  },
  {
   "cell_type": "code",
   "execution_count": null,
   "metadata": {},
   "outputs": [],
   "source": []
  }
 ],
 "metadata": {
  "kernelspec": {
   "display_name": "Python 3",
   "language": "python",
   "name": "python3"
  },
  "language_info": {
   "codemirror_mode": {
    "name": "ipython",
    "version": 3
   },
   "file_extension": ".py",
   "mimetype": "text/x-python",
   "name": "python",
   "nbconvert_exporter": "python",
   "pygments_lexer": "ipython3",
   "version": "3.7.7"
  }
 },
 "nbformat": 4,
 "nbformat_minor": 4
}
